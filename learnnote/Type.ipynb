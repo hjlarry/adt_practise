{
 "cells": [
  {
   "cell_type": "code",
   "execution_count": 29,
   "metadata": {},
   "outputs": [
    {
     "name": "stdout",
     "output_type": "stream",
     "text": [
      "True\n",
      "True\n",
      "True\n",
      "False\n",
      "True\n",
      "False\n",
      "True\n",
      "True\n"
     ]
    }
   ],
   "source": [
    "print(isinstance(int, object))\n",
    "print(isinstance(int, type))\n",
    "print(issubclass(int, object))\n",
    "print(issubclass(int, type))\n",
    "print(isinstance(object, type))\n",
    "print(issubclass(object, type))\n",
    "print(issubclass(type, object))\n",
    "print(isinstance(type, object))"
   ]
  },
  {
   "cell_type": "markdown",
   "metadata": {},
   "source": [
    "在Python的世界中，object是父子关系的顶端，所有的数据类型的父类都是它；type是类型实例关系的顶端，所有对象都是它的实例。obj.\\_\\_bases__可以查看父类"
   ]
  },
  {
   "cell_type": "code",
   "execution_count": 32,
   "metadata": {},
   "outputs": [
    {
     "data": {
      "text/plain": [
       "4406660480"
      ]
     },
     "execution_count": 32,
     "metadata": {},
     "output_type": "execute_result"
    }
   ],
   "source": [
    "id(globals())"
   ]
  },
  {
   "cell_type": "code",
   "execution_count": 33,
   "metadata": {},
   "outputs": [
    {
     "data": {
      "text/plain": [
       "4406660480"
      ]
     },
     "execution_count": 33,
     "metadata": {},
     "output_type": "execute_result"
    }
   ],
   "source": [
    "id(locals())"
   ]
  },
  {
   "cell_type": "code",
   "execution_count": 3,
   "metadata": {},
   "outputs": [
    {
     "name": "stdout",
     "output_type": "stream",
     "text": [
      "2\n",
      "11\n",
      "99\n",
      "3\n",
      "3\n",
      "3195\n",
      "3195\n"
     ]
    }
   ],
   "source": [
    "import sys\n",
    "a=-6\n",
    "b=-5\n",
    "c=256\n",
    "dd=257\n",
    "ee=258\n",
    "print(sys.getrefcount(a))\n",
    "print(sys.getrefcount(b))\n",
    "print(sys.getrefcount(c))\n",
    "print(sys.getrefcount(dd))\n",
    "print(sys.getrefcount(ee))\n",
    "e=int(1)\n",
    "import copy\n",
    "f = copy.deepcopy(e)\n",
    "print(sys.getrefcount(e))\n",
    "print(sys.getrefcount(f))"
   ]
  },
  {
   "cell_type": "markdown",
   "metadata": {},
   "source": [
    "-5至256的数做了缓存，为什么257比-6多一个引用计数？但在ipython中测试并无此问题"
   ]
  },
  {
   "cell_type": "code",
   "execution_count": 63,
   "metadata": {},
   "outputs": [
    {
     "data": {
      "text/plain": [
       "4"
      ]
     },
     "execution_count": 63,
     "metadata": {},
     "output_type": "execute_result"
    }
   ],
   "source": [
    "a,b=1,3\n",
    "eval('a + b')"
   ]
  },
  {
   "cell_type": "code",
   "execution_count": 65,
   "metadata": {},
   "outputs": [
    {
     "data": {
      "text/plain": [
       "30"
      ]
     },
     "execution_count": 65,
     "metadata": {},
     "output_type": "execute_result"
    }
   ],
   "source": [
    "g = {'a':10,'b':5}\n",
    "l = {'b':20}\n",
    "eval('a+b', g, l)"
   ]
  },
  {
   "cell_type": "markdown",
   "metadata": {},
   "source": [
    "eval和exec默认使用当前的名字空间，可以传入名字空间"
   ]
  },
  {
   "cell_type": "code",
   "execution_count": 83,
   "metadata": {},
   "outputs": [
    {
     "name": "stdout",
     "output_type": "stream",
     "text": [
      "10715086071862673209484250490600018105614048117055336074437503883703510511249361224931983788156958581275946729175531468251871452856923140435984577574698574803934567774824230985421074605062371141877954182153046474983581941267398767559165543946077062914571196477686542167660429831652624386837205668069376\n"
     ]
    },
    {
     "data": {
      "text/plain": [
       "160"
      ]
     },
     "execution_count": 83,
     "metadata": {},
     "output_type": "execute_result"
    }
   ],
   "source": [
    "x = 1<<1000\n",
    "print(x)\n",
    "sys.getsizeof(x)"
   ]
  },
  {
   "cell_type": "code",
   "execution_count": 84,
   "metadata": {},
   "outputs": [
    {
     "data": {
      "text/plain": [
       "2"
      ]
     },
     "execution_count": 84,
     "metadata": {},
     "output_type": "execute_result"
    }
   ],
   "source": [
    "6&11"
   ]
  },
  {
   "cell_type": "code",
   "execution_count": 92,
   "metadata": {},
   "outputs": [
    {
     "data": {
      "text/plain": [
       "True"
      ]
     },
     "execution_count": 92,
     "metadata": {},
     "output_type": "execute_result"
    }
   ],
   "source": [
    "'ashakklskl' is sys.intern('ashakklskl')"
   ]
  },
  {
   "cell_type": "code",
   "execution_count": 97,
   "metadata": {},
   "outputs": [
    {
     "name": "stdout",
     "output_type": "stream",
     "text": [
      "False\n",
      "True\n",
      "True\n"
     ]
    }
   ],
   "source": [
    "a = 'helloworld!'\n",
    "b = 'helloworld!'\n",
    "print(a is b)\n",
    "print(a is sys.intern(a))\n",
    "print(a is sys.intern('helloworld!'))"
   ]
  },
  {
   "cell_type": "markdown",
   "metadata": {},
   "source": [
    "池化：python中的变量实际上是名字，也是字符串实例，在不同的名字空间中如何去共享这些实例以节约内存，就是用一个字符串池来实现。"
   ]
  },
  {
   "cell_type": "code",
   "execution_count": 103,
   "metadata": {},
   "outputs": [
    {
     "name": "stdout",
     "output_type": "stream",
     "text": [
      "3\n",
      "3\n",
      "b'abc'\n",
      "bytearray(b'abcabc')\n"
     ]
    }
   ],
   "source": [
    "b = bytearray(b'abc')\n",
    "d = b'abc'\n",
    "print(len(b))\n",
    "print(len(d))\n",
    "print(d)\n",
    "print(b+d)"
   ]
  },
  {
   "cell_type": "markdown",
   "metadata": {},
   "source": [
    "bytes是一次性内存分配的，bytearray可以按需扩张也可提前分配。"
   ]
  },
  {
   "cell_type": "code",
   "execution_count": 196,
   "metadata": {},
   "outputs": [
    {
     "name": "stdout",
     "output_type": "stream",
     "text": [
      "bytearray(b'cde')\n",
      "bytearray(b'cde')\n",
      "bytearray(b'abcwefg')\n",
      "<memory at 0x106cdbf48>\n",
      "bytearray(b'abwwefg')\n"
     ]
    }
   ],
   "source": [
    "e = bytearray(b'abcdefg')\n",
    "f = e[2:5]\n",
    "print(f)\n",
    "e[3] = 0x77\n",
    "print(f)\n",
    "print(e)\n",
    "v = memoryview(e)\n",
    "x = v[2:5]\n",
    "x[0] = 0x77\n",
    "print(v)\n",
    "print(e)"
   ]
  },
  {
   "cell_type": "markdown",
   "metadata": {},
   "source": [
    "e的改变没有影响f，说明切片是字节数据的复制，使用内存视图可以修改到原数据。\n",
    "内存视图是对目标内存进行引用，它需要目标对象支持缓冲协议，能否修改要看原对象是否支持。"
   ]
  },
  {
   "cell_type": "markdown",
   "metadata": {},
   "source": [
    "- 列表的内部结构由两部分组成，保存元素数量和内存分配计数的头部，以及存储元素指针的独立数组。\n",
    "- 固定长度的数组头部结构是为实现内存复用。创建时，优先从复用区获取。被回收时若未超出复用数量限制（80），会被放回复用区而不是交还内存。每次真正需要分配和释放的是元素指针数组。\n",
    "- 元组是不可变类型，所以它的指针数组可以一次性玩成内存分配。系统会缓存复用一定长度的元组内存（含指针数组）。创建时，按所需长度提取复用，没有额外的内存分配。\n",
    "- 数组和列表、元组的本质区别在于：元素单一类型和内容嵌入。由于可指定更紧凑的数字类型，数组可以节约更多的内存。内容嵌入也避免了对象的额外开销，减少了活跃对象的数量和内存分配的次数。"
   ]
  },
  {
   "cell_type": "markdown",
   "metadata": {},
   "source": [
    "Python3.6字典实现：\n",
    "- keys.entries和values用数组按添加顺序存储主键和值引用。实际哈希表由keys.indices数组承担，通过计算主键哈希值查找合适的位置，然后在此存储主键在keys.entries的实际索引。\n",
    "- 系统分别缓存复用80个dict和keys，其中包括长度为8的entries内存。对于大量小字典而言，直接使用无须任何内存分配操作。回收时，凡内存被扩张过的都被放弃。\n",
    "- 从开放寻址法的实现方式看，它不适合处理大数据。"
   ]
  },
  {
   "cell_type": "code",
   "execution_count": 11,
   "metadata": {},
   "outputs": [
    {
     "name": "stdout",
     "output_type": "stream",
     "text": [
      "{'a': 1, 'b': 3}\n",
      "{'a': 1, 'b': 3, 'e': 9}\n",
      "{'a': 0, 'b': 0, 'e': 0}\n",
      "{'h': 1, 'i': 1} {'j': 2}\n",
      "{'a': 0, 'b': 0, 'e': 0} {'h': 1, 'i': 1, 'a': 10}\n"
     ]
    }
   ],
   "source": [
    "# 几种特殊的构建方式\n",
    "kvs = [['a', 1], ('b', 3)]\n",
    "c = dict(kvs)\n",
    "print(c)\n",
    "d = dict(c, e=9)\n",
    "print(d)\n",
    "x = dict.fromkeys(d, 0)\n",
    "print(x)\n",
    "y = dict.fromkeys(['h','i'], 1)\n",
    "z = dict.fromkeys('j', 2)\n",
    "print(y, z)\n",
    "# 如果有a，返回a的值，否则设置a\n",
    "x.setdefault('a', 10)\n",
    "y.setdefault('a', 10)\n",
    "print(x, y)"
   ]
  },
  {
   "cell_type": "markdown",
   "metadata": {},
   "source": [
    "字典没有独立的只读版本，无论传引用还是复制品都有不足，直接引用有被接收方修改内容的风险，复制品无法获知字典的变化。视图能同步读取字典的内容，却无法修改。且可选择不同粒度的内容进行传递，如此可将接收方限定为指定模式下的观察员。"
   ]
  },
  {
   "cell_type": "code",
   "execution_count": 16,
   "metadata": {},
   "outputs": [
    {
     "name": "stdout",
     "output_type": "stream",
     "text": [
      "{'a'}\n",
      "{'h', 'a', 'b', 'i'}\n",
      "{'b'}\n",
      "{'h', 'b', 'i'}\n",
      "{'a': 10, 'b': 3}\n"
     ]
    }
   ],
   "source": [
    "# 视图支持集合运算，弥补字典功能不足。\n",
    "kc = c.keys()\n",
    "ky = y.keys()\n",
    "print(kc & ky) # 交集\n",
    "print(kc | ky) # 并集\n",
    "print(kc - ky) # 差集，仅属于a，不属于b\n",
    "print(kc ^ ky) # 对称差集，仅属于a 加 仅属于b， 等于并集减交集\n",
    "ks = kc&ky\n",
    "c.update({k:y[k] for k in ks}) # 利用交集结果提取待更新内容\n",
    "print(c)"
   ]
  },
  {
   "cell_type": "markdown",
   "metadata": {},
   "source": [
    "集合：\n",
    "- 判重公式： (a is b) OR ( hash(a) == hash(b) AND a == b)\n",
    "- set 和 frozenset 内部实现相同，用数组实现的哈希表存储元素对象引用，这就要求元素必须是可哈希类型\n",
    "- 集合对象自带一个长度为8的小数组（small table），这对多数简单集合运算有益，可避免额外的内存分配。只有超出容量限制，才分配更大的数组内存（entry table）\n",
    "- 集合使用频率不及列表、字典，其内部没有采用缓存复用的策略。实现方式也决定了是无序存储，标准库也没有有序实现\n"
   ]
  },
  {
   "cell_type": "code",
   "execution_count": 17,
   "metadata": {},
   "outputs": [
    {
     "ename": "KeyError",
     "evalue": "'f'",
     "output_type": "error",
     "traceback": [
      "\u001b[0;31m---------------------------------------------------------------------------\u001b[0m",
      "\u001b[0;31mKeyError\u001b[0m                                  Traceback (most recent call last)",
      "\u001b[0;32m<ipython-input-17-56fac3380594>\u001b[0m in \u001b[0;36m<module>\u001b[0;34m()\u001b[0m\n\u001b[0;32m----> 1\u001b[0;31m \u001b[0mks\u001b[0m\u001b[0;34m.\u001b[0m\u001b[0mremove\u001b[0m\u001b[0;34m(\u001b[0m\u001b[0;34m'f'\u001b[0m\u001b[0;34m)\u001b[0m\u001b[0;34m\u001b[0m\u001b[0m\n\u001b[0m\u001b[1;32m      2\u001b[0m \u001b[0mks\u001b[0m\u001b[0;34m.\u001b[0m\u001b[0mdiscard\u001b[0m\u001b[0;34m(\u001b[0m\u001b[0;34m'f'\u001b[0m\u001b[0;34m)\u001b[0m\u001b[0;34m\u001b[0m\u001b[0m\n",
      "\u001b[0;31mKeyError\u001b[0m: 'f'"
     ]
    }
   ],
   "source": [
    "ks.remove('f') # 引发异常\n",
    "ks.discard('f') # 不引发异常"
   ]
  },
  {
   "cell_type": "code",
   "execution_count": 23,
   "metadata": {},
   "outputs": [
    {
     "name": "stdout",
     "output_type": "stream",
     "text": [
      "{<__main__.User object at 0x103b94cc0>, <__main__.User object at 0x103b94c50>}\n"
     ]
    }
   ],
   "source": [
    "class User:\n",
    "    def __init__(self, uid):\n",
    "        self.uid = uid\n",
    "        \n",
    "u1 = User(1)\n",
    "u2 = User(1)\n",
    "s = set((u1, u2))\n",
    "print(s)"
   ]
  },
  {
   "cell_type": "markdown",
   "metadata": {},
   "source": [
    "自定义对象的哈希实现是返回随机值，\\_\\_eq__仅比较自身，所以无法通过set去重，需要重载这两个方法。另外如果只重载eq方法，会发现对象是不可哈希的。"
   ]
  },
  {
   "cell_type": "code",
   "execution_count": 31,
   "metadata": {},
   "outputs": [
    {
     "name": "stdout",
     "output_type": "stream",
     "text": [
      "{<__main__.User object at 0x103babeb8>}\n"
     ]
    }
   ],
   "source": [
    "class User:\n",
    "    def __init__(self, uid, name):\n",
    "        self.uid = uid\n",
    "        self.name = name\n",
    "        \n",
    "    def __hash__(self):\n",
    "        return hash(self.uid)\n",
    "    \n",
    "    def __eq__(self, other):\n",
    "        return self.uid == other.uid\n",
    "        \n",
    "u1 = User(1, 'ss')\n",
    "u2 = User(1, 'bb')\n",
    "s = set((u1, u2))\n",
    "print(s)"
   ]
  },
  {
   "cell_type": "code",
   "execution_count": null,
   "metadata": {},
   "outputs": [],
   "source": []
  }
 ],
 "metadata": {
  "kernelspec": {
   "display_name": "Python 3",
   "language": "python",
   "name": "python3"
  },
  "language_info": {
   "codemirror_mode": {
    "name": "ipython",
    "version": 3
   },
   "file_extension": ".py",
   "mimetype": "text/x-python",
   "name": "python",
   "nbconvert_exporter": "python",
   "pygments_lexer": "ipython3",
   "version": "3.6.5"
  }
 },
 "nbformat": 4,
 "nbformat_minor": 2
}
