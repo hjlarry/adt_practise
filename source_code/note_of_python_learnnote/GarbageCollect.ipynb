{
 "cells": [
  {
   "cell_type": "markdown",
   "metadata": {},
   "source": [
    " 引用计数：  \n",
    " 每个对象头部都有一个引用计数器。引用该对象时，计数增加，反之减少，当计数归零时，立即调用回收函数清理并释放内存"
   ]
  },
  {
   "cell_type": "markdown",
   "metadata": {},
   "source": [
    "Include/object.h\n",
    "```\n",
    "/* Nothing is actually declared to be a PyObject, but every pointer to\n",
    " * a Python object can be cast to a PyObject*.  This is inheritance built\n",
    " * by hand.  Similarly every pointer to a variable-size Python object can,\n",
    " * in addition, be cast to PyVarObject*.\n",
    " */\n",
    "typedef struct _object {\n",
    "    _PyObject_HEAD_EXTRA\n",
    "    Py_ssize_t ob_refcnt;\n",
    "    struct _typeobject *ob_type;\n",
    "} PyObject;\n",
    "```\n",
    "增减计数的函数\n",
    "```\n",
    "#define Py_INCREF(op) (                         \\\n",
    "    _Py_INC_REFTOTAL  _Py_REF_DEBUG_COMMA       \\\n",
    "    ((PyObject *)(op))->ob_refcnt++)\n",
    "\n",
    "#define Py_DECREF(op)                                   \\\n",
    "    do {                                                \\\n",
    "        PyObject *_py_decref_tmp = (PyObject *)(op);    \\\n",
    "        if (_Py_DEC_REFTOTAL  _Py_REF_DEBUG_COMMA       \\\n",
    "        --(_py_decref_tmp)->ob_refcnt != 0)             \\\n",
    "            _Py_CHECK_REFCNT(_py_decref_tmp)            \\\n",
    "        else                                            \\\n",
    "            _Py_Dealloc(_py_decref_tmp);                \\\n",
    "    } while (0)\n",
    "```"
   ]
  },
  {
   "cell_type": "markdown",
   "metadata": {},
   "source": []
  }
 ],
 "metadata": {
  "kernelspec": {
   "display_name": "Python 3",
   "language": "python",
   "name": "python3"
  },
  "language_info": {
   "codemirror_mode": {
    "name": "ipython",
    "version": 3
   },
   "file_extension": ".py",
   "mimetype": "text/x-python",
   "name": "python",
   "nbconvert_exporter": "python",
   "pygments_lexer": "ipython3",
   "version": "3.6.5"
  }
 },
 "nbformat": 4,
 "nbformat_minor": 2
}
