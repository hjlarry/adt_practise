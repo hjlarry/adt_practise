{
 "cells": [
  {
   "cell_type": "markdown",
   "metadata": {},
   "source": [
    "函数由两部分组成：代码对象（func.\\_\\_code__）持有字节码和指令元数据，负责执行；函数对象则为上下文提供调用实例，并管理所需的状态数据。"
   ]
  },
  {
   "cell_type": "code",
   "execution_count": 6,
   "metadata": {},
   "outputs": [
    {
     "name": "stdout",
     "output_type": "stream",
     "text": [
      "  4           0 LOAD_FAST                0 (x)\n",
      "              2 LOAD_FAST                1 (y)\n",
      "              4 INPLACE_ADD\n",
      "              6 STORE_FAST               0 (x)\n",
      "\n",
      "  5           8 LOAD_GLOBAL              0 (print)\n",
      "             10 LOAD_FAST                0 (x)\n",
      "             12 LOAD_FAST                1 (y)\n",
      "             14 CALL_FUNCTION            2\n",
      "             16 POP_TOP\n",
      "             18 LOAD_CONST               0 (None)\n",
      "             20 RETURN_VALUE\n"
     ]
    }
   ],
   "source": [
    "import dis\n",
    "\n",
    "def test(x, y=10):\n",
    "    x += y\n",
    "    print(x,y)\n",
    "dis.dis(test)"
   ]
  },
  {
   "cell_type": "code",
   "execution_count": 8,
   "metadata": {},
   "outputs": [
    {
     "name": "stdout",
     "output_type": "stream",
     "text": [
      "          0 LOAD_FAST                0 (0)\n",
      "          2 LOAD_FAST                1 (1)\n",
      "          4 INPLACE_ADD\n",
      "          6 STORE_FAST               0 (0)\n",
      "          8 LOAD_GLOBAL              0 (0)\n",
      "         10 LOAD_FAST                0 (0)\n",
      "         12 LOAD_FAST                1 (1)\n",
      "         14 CALL_FUNCTION            2\n",
      "         16 POP_TOP\n",
      "         18 LOAD_CONST               0 (0)\n",
      "         20 RETURN_VALUE\n"
     ]
    }
   ],
   "source": [
    "dis.dis(test.__code__.co_code) # 没有元数据符号的反汇编结果"
   ]
  },
  {
   "cell_type": "code",
   "execution_count": 9,
   "metadata": {},
   "outputs": [
    {
     "data": {
      "text/plain": [
       "(10,)"
      ]
     },
     "execution_count": 9,
     "metadata": {},
     "output_type": "execute_result"
    }
   ],
   "source": [
    "test.__defaults__"
   ]
  },
  {
   "cell_type": "code",
   "execution_count": 14,
   "metadata": {},
   "outputs": [
    {
     "name": "stdout",
     "output_type": "stream",
     "text": [
      "1235 1234\n"
     ]
    }
   ],
   "source": [
    "test.__defaults__ = (1234,)\n",
    "test(1)"
   ]
  },
  {
   "cell_type": "code",
   "execution_count": 13,
   "metadata": {},
   "outputs": [
    {
     "data": {
      "text/plain": [
       "{'abn': 'sd'}"
      ]
     },
     "execution_count": 13,
     "metadata": {},
     "output_type": "execute_result"
    }
   ],
   "source": [
    "test.abn = 'sd'\n",
    "test.__dict__"
   ]
  },
  {
   "cell_type": "markdown",
   "metadata": {},
   "source": [
    "def实际上是运行期指令，以代码对象为参数，创建函数实例，并在当前上下文中与指定的名字相关联。反汇编操作会在函数实例创建后执行，目标针对\\_\\_code__，而非创建过程。"
   ]
  },
  {
   "cell_type": "code",
   "execution_count": 16,
   "metadata": {},
   "outputs": [
    {
     "name": "stdout",
     "output_type": "stream",
     "text": [
      "4400162200 4400053536\n",
      "4400164512 4400053536\n",
      "4400194016 4400053536\n"
     ]
    },
    {
     "data": {
      "text/plain": [
       "[<function __main__.make.<locals>.test>,\n",
       " <function __main__.make.<locals>.test>,\n",
       " <function __main__.make.<locals>.test>]"
      ]
     },
     "execution_count": 16,
     "metadata": {},
     "output_type": "execute_result"
    }
   ],
   "source": [
    "def make(n):\n",
    "    ret = []\n",
    "    for i in range(n):\n",
    "        def test():\n",
    "            print('hello')\n",
    "        print(id(test), id(test.__code__))\n",
    "        ret.append(test)\n",
    "    return ret\n",
    "make(3)"
   ]
  },
  {
   "cell_type": "code",
   "execution_count": 20,
   "metadata": {},
   "outputs": [
    {
     "data": {
      "text/plain": [
       "'make'"
      ]
     },
     "execution_count": 20,
     "metadata": {},
     "output_type": "execute_result"
    }
   ],
   "source": [
    "a = make\n",
    "a.__name__"
   ]
  },
  {
   "cell_type": "code",
   "execution_count": 22,
   "metadata": {},
   "outputs": [
    {
     "data": {
      "text/plain": [
       "'<lambda>'"
      ]
     },
     "execution_count": 22,
     "metadata": {},
     "output_type": "execute_result"
    }
   ],
   "source": [
    "b = lambda x,y: x+y\n",
    "b.__qualname__"
   ]
  },
  {
   "cell_type": "code",
   "execution_count": 23,
   "metadata": {},
   "outputs": [],
   "source": [
    "def test(a,b,*,c):   # c为无默认值的kwargs，必须显式命名传参\n",
    "    print(locals())"
   ]
  },
  {
   "cell_type": "code",
   "execution_count": 24,
   "metadata": {},
   "outputs": [
    {
     "ename": "TypeError",
     "evalue": "test() missing 1 required keyword-only argument: 'c'",
     "output_type": "error",
     "traceback": [
      "\u001b[0;31m---------------------------------------------------------------------------\u001b[0m",
      "\u001b[0;31mTypeError\u001b[0m                                 Traceback (most recent call last)",
      "\u001b[0;32m<ipython-input-24-59e40cf39b25>\u001b[0m in \u001b[0;36m<module>\u001b[0;34m()\u001b[0m\n\u001b[0;32m----> 1\u001b[0;31m \u001b[0mtest\u001b[0m\u001b[0;34m(\u001b[0m\u001b[0;36m1\u001b[0m\u001b[0;34m,\u001b[0m\u001b[0;36m2\u001b[0m\u001b[0;34m)\u001b[0m\u001b[0;34m\u001b[0m\u001b[0m\n\u001b[0m",
      "\u001b[0;31mTypeError\u001b[0m: test() missing 1 required keyword-only argument: 'c'"
     ]
    }
   ],
   "source": [
    "test(1,2)"
   ]
  },
  {
   "cell_type": "code",
   "execution_count": 25,
   "metadata": {},
   "outputs": [
    {
     "ename": "TypeError",
     "evalue": "test() takes 2 positional arguments but 3 were given",
     "output_type": "error",
     "traceback": [
      "\u001b[0;31m---------------------------------------------------------------------------\u001b[0m",
      "\u001b[0;31mTypeError\u001b[0m                                 Traceback (most recent call last)",
      "\u001b[0;32m<ipython-input-25-3cf409ba8ac0>\u001b[0m in \u001b[0;36m<module>\u001b[0;34m()\u001b[0m\n\u001b[0;32m----> 1\u001b[0;31m \u001b[0mtest\u001b[0m\u001b[0;34m(\u001b[0m\u001b[0;36m1\u001b[0m\u001b[0;34m,\u001b[0m\u001b[0;36m2\u001b[0m\u001b[0;34m,\u001b[0m\u001b[0;36m3\u001b[0m\u001b[0;34m)\u001b[0m\u001b[0;34m\u001b[0m\u001b[0m\n\u001b[0m",
      "\u001b[0;31mTypeError\u001b[0m: test() takes 2 positional arguments but 3 were given"
     ]
    }
   ],
   "source": [
    "test(1,2,3)"
   ]
  },
  {
   "cell_type": "code",
   "execution_count": 26,
   "metadata": {},
   "outputs": [
    {
     "name": "stdout",
     "output_type": "stream",
     "text": [
      "{'c': 3, 'b': 2, 'a': 1}\n"
     ]
    }
   ],
   "source": [
    "test(1,2,c=3)"
   ]
  },
  {
   "cell_type": "code",
   "execution_count": 27,
   "metadata": {},
   "outputs": [
    {
     "ename": "TypeError",
     "evalue": "test() takes 2 positional arguments but 3 positional arguments (and 1 keyword-only argument) were given",
     "output_type": "error",
     "traceback": [
      "\u001b[0;31m---------------------------------------------------------------------------\u001b[0m",
      "\u001b[0;31mTypeError\u001b[0m                                 Traceback (most recent call last)",
      "\u001b[0;32m<ipython-input-27-3f41aab6ba09>\u001b[0m in \u001b[0;36m<module>\u001b[0;34m()\u001b[0m\n\u001b[0;32m----> 1\u001b[0;31m \u001b[0mtest\u001b[0m\u001b[0;34m(\u001b[0m\u001b[0;36m1\u001b[0m\u001b[0;34m,\u001b[0m\u001b[0;36m2\u001b[0m\u001b[0;34m,\u001b[0m\u001b[0;36m3\u001b[0m\u001b[0;34m,\u001b[0m\u001b[0mc\u001b[0m\u001b[0;34m=\u001b[0m\u001b[0;36m4\u001b[0m\u001b[0;34m)\u001b[0m\u001b[0;34m\u001b[0m\u001b[0m\n\u001b[0m",
      "\u001b[0;31mTypeError\u001b[0m: test() takes 2 positional arguments but 3 positional arguments (and 1 keyword-only argument) were given"
     ]
    }
   ],
   "source": [
    "test(1,2,3,c=4)"
   ]
  },
  {
   "cell_type": "markdown",
   "metadata": {},
   "source": [
    "- 参数的默认值是在函数对象创建时生成的，保存在\\_\\_defaults__，为每次调用共享\n",
    "- kwargs会维持传入顺序\n",
    "- 收集参数不计入\\_\\_code__.co_argcount"
   ]
  },
  {
   "cell_type": "markdown",
   "metadata": {},
   "source": [
    "- LEGB是在运行期动态的从多个位置按顺序查找变量\n",
    "- 而赋值语句是在编译时静态绑定的，目标位置明确的，默认是当前名字空间，或用global nonlocal等关键词做外部声明"
   ]
  },
  {
   "cell_type": "code",
   "execution_count": 28,
   "metadata": {},
   "outputs": [],
   "source": [
    "def test():\n",
    "    print(id(locals()))"
   ]
  },
  {
   "cell_type": "code",
   "execution_count": 29,
   "metadata": {},
   "outputs": [
    {
     "name": "stdout",
     "output_type": "stream",
     "text": [
      "4400211144\n"
     ]
    }
   ],
   "source": [
    "test()"
   ]
  },
  {
   "cell_type": "code",
   "execution_count": 30,
   "metadata": {},
   "outputs": [
    {
     "name": "stdout",
     "output_type": "stream",
     "text": [
      "4399995928\n"
     ]
    }
   ],
   "source": [
    "test()"
   ]
  },
  {
   "cell_type": "markdown",
   "metadata": {},
   "source": [
    "函数每次调用都会新建栈帧，用于局部变量和执行过程存储。执行结束，栈帧内存被回收，同时释放相关对象。但栈帧内存并非locals名字空间。\n",
    "\n",
    "因为字典的效率不够，解释器专门划分了内存空间，用数组替代字典。函数指令执行前，先将包含参数在内的所有局部变量以及要使用的外部变量指针复制到该数组。FAST用于局部变量和参数，DEREF用于外层嵌套变量和闭包。FAST和DEREF的数组大小是统计参数和变量得出的，对应的索引值也在编译期确定，无法在运行期扩张的。\n",
    "\n",
    "函数的locals字典是按需延迟创建，并从FAST区域复制信息得来的"
   ]
  },
  {
   "cell_type": "code",
   "execution_count": 31,
   "metadata": {},
   "outputs": [
    {
     "ename": "NameError",
     "evalue": "name 'x' is not defined",
     "output_type": "error",
     "traceback": [
      "\u001b[0;31m---------------------------------------------------------------------------\u001b[0m",
      "\u001b[0;31mNameError\u001b[0m                                 Traceback (most recent call last)",
      "\u001b[0;32m<ipython-input-31-65da17d014a5>\u001b[0m in \u001b[0;36m<module>\u001b[0;34m()\u001b[0m\n\u001b[1;32m      2\u001b[0m     \u001b[0mlocals\u001b[0m\u001b[0;34m(\u001b[0m\u001b[0;34m)\u001b[0m\u001b[0;34m[\u001b[0m\u001b[0;34m'x'\u001b[0m\u001b[0;34m]\u001b[0m \u001b[0;34m=\u001b[0m \u001b[0;36m100\u001b[0m\u001b[0;34m\u001b[0m\u001b[0m\n\u001b[1;32m      3\u001b[0m     \u001b[0mprint\u001b[0m\u001b[0;34m(\u001b[0m\u001b[0mx\u001b[0m\u001b[0;34m)\u001b[0m\u001b[0;34m\u001b[0m\u001b[0m\n\u001b[0;32m----> 4\u001b[0;31m \u001b[0mtest\u001b[0m\u001b[0;34m(\u001b[0m\u001b[0;34m)\u001b[0m\u001b[0;34m\u001b[0m\u001b[0m\n\u001b[0m",
      "\u001b[0;32m<ipython-input-31-65da17d014a5>\u001b[0m in \u001b[0;36mtest\u001b[0;34m()\u001b[0m\n\u001b[1;32m      1\u001b[0m \u001b[0;32mdef\u001b[0m \u001b[0mtest\u001b[0m\u001b[0;34m(\u001b[0m\u001b[0;34m)\u001b[0m\u001b[0;34m:\u001b[0m\u001b[0;34m\u001b[0m\u001b[0m\n\u001b[1;32m      2\u001b[0m     \u001b[0mlocals\u001b[0m\u001b[0;34m(\u001b[0m\u001b[0;34m)\u001b[0m\u001b[0;34m[\u001b[0m\u001b[0;34m'x'\u001b[0m\u001b[0;34m]\u001b[0m \u001b[0;34m=\u001b[0m \u001b[0;36m100\u001b[0m\u001b[0;34m\u001b[0m\u001b[0m\n\u001b[0;32m----> 3\u001b[0;31m     \u001b[0mprint\u001b[0m\u001b[0;34m(\u001b[0m\u001b[0mx\u001b[0m\u001b[0;34m)\u001b[0m\u001b[0;34m\u001b[0m\u001b[0m\n\u001b[0m\u001b[1;32m      4\u001b[0m \u001b[0mtest\u001b[0m\u001b[0;34m(\u001b[0m\u001b[0;34m)\u001b[0m\u001b[0;34m\u001b[0m\u001b[0m\n",
      "\u001b[0;31mNameError\u001b[0m: name 'x' is not defined"
     ]
    }
   ],
   "source": [
    "def test():\n",
    "    locals()['x'] = 100  # 运行期视图创建x\n",
    "    print(x)\n",
    "test()"
   ]
  },
  {
   "cell_type": "code",
   "execution_count": 32,
   "metadata": {},
   "outputs": [
    {
     "data": {
      "text/plain": [
       "1000"
      ]
     },
     "execution_count": 32,
     "metadata": {},
     "output_type": "execute_result"
    }
   ],
   "source": [
    "globals()['yy'] = 1000\n",
    "yy"
   ]
  },
  {
   "cell_type": "markdown",
   "metadata": {},
   "source": [
    "模块是直接以字典实现名字空间，没有类似FAST的机制。"
   ]
  },
  {
   "cell_type": "code",
   "execution_count": 33,
   "metadata": {},
   "outputs": [
    {
     "name": "stdout",
     "output_type": "stream",
     "text": [
      "100\n"
     ]
    }
   ],
   "source": [
    "def test():\n",
    "    x = 100\n",
    "    locals()['x'] = 199  # 运行期试图修改locals，无法生效\n",
    "    print(locals()['x'])\n",
    "test()"
   ]
  },
  {
   "cell_type": "code",
   "execution_count": 35,
   "metadata": {},
   "outputs": [
    {
     "name": "stdout",
     "output_type": "stream",
     "text": [
      "True\n",
      "{'x': 1, 'd': {...}, 'context': 'hello'}\n",
      "{'x': 1, 'd': {...}, 'context': 'hello'}\n",
      "{'x': 999, 'd': {...}, 'context': 'hello'}\n",
      "{'x': 999, 'd': {...}, 'context': 'hello'}\n"
     ]
    }
   ],
   "source": [
    "def test():\n",
    "    x = 1\n",
    "    d = locals()\n",
    "    print(d is locals())  # 每次返回同一字典对象\n",
    "    d['context'] = 'hello'\n",
    "    print(d)  \n",
    "    x = 999  # 修改FAST时不会主动刷新locals字典\n",
    "    print(d)\n",
    "    print(locals())  # 再次调用locals触发刷新\n",
    "    print(d)\n",
    "test()"
   ]
  },
  {
   "cell_type": "markdown",
   "metadata": {},
   "source": [
    "- 函数以逻辑为核心，通过输入条件计算结果，尽可能避免持续状态\n",
    "- 方法围绕实例状态，持续展示和连续修改，方法与实例状态共同构成了封装边界"
   ]
  },
  {
   "cell_type": "code",
   "execution_count": 37,
   "metadata": {},
   "outputs": [
    {
     "name": "stdout",
     "output_type": "stream",
     "text": [
      "100\n"
     ]
    }
   ],
   "source": [
    "def test():\n",
    "    x = 100\n",
    "    return lambda: print(x)\n",
    "a = test()\n",
    "a()"
   ]
  },
  {
   "cell_type": "markdown",
   "metadata": {},
   "source": [
    "上例中的x应该属于test栈帧中，调用完test应该被销毁，但返回了一个闭包函数，构成所谓的闭包效应。\n",
    "\n",
    "闭包由两部分组成，创建过程可分为：打包环境变量；将环境变量做为参数，新建要返回的函数对象。\n",
    "\n",
    "因生命周期改变，环境变量存储由FAST转至DEREF。闭包可以是匿名函数或普通函数。"
   ]
  },
  {
   "cell_type": "code",
   "execution_count": 41,
   "metadata": {},
   "outputs": [],
   "source": [
    "def make():\n",
    "    x = 100\n",
    "    b = 1\n",
    "    def test():\n",
    "        print(x)\n",
    "    return test"
   ]
  },
  {
   "cell_type": "code",
   "execution_count": 42,
   "metadata": {},
   "outputs": [
    {
     "name": "stdout",
     "output_type": "stream",
     "text": [
      "  2           0 LOAD_CONST               1 (100)\n",
      "              2 STORE_DEREF              0 (x)\n",
      "\n",
      "  3           4 LOAD_CONST               2 (1)\n",
      "              6 STORE_FAST               0 (b)\n",
      "\n",
      "  4           8 LOAD_CLOSURE             0 (x)\n",
      "             10 BUILD_TUPLE              1\n",
      "             12 LOAD_CONST               3 (<code object test at 0x106437ed0, file \"<ipython-input-41-0431d8a3e431>\", line 4>)\n",
      "             14 LOAD_CONST               4 ('make.<locals>.test')\n",
      "             16 MAKE_FUNCTION            8\n",
      "             18 STORE_FAST               1 (test)\n",
      "\n",
      "  6          20 LOAD_FAST                1 (test)\n",
      "             22 RETURN_VALUE\n"
     ]
    }
   ],
   "source": [
    "dis.dis(make)"
   ]
  },
  {
   "cell_type": "markdown",
   "metadata": {},
   "source": [
    "2#把x存储在DEREF，8#载入闭包环境变量，16#创建函数，18#存入FAST"
   ]
  },
  {
   "cell_type": "code",
   "execution_count": 43,
   "metadata": {},
   "outputs": [],
   "source": [
    "f = make()"
   ]
  },
  {
   "cell_type": "code",
   "execution_count": 44,
   "metadata": {},
   "outputs": [
    {
     "name": "stdout",
     "output_type": "stream",
     "text": [
      "  5           0 LOAD_GLOBAL              0 (print)\n",
      "              2 LOAD_DEREF               0 (x)\n",
      "              4 CALL_FUNCTION            1\n",
      "              6 POP_TOP\n",
      "              8 LOAD_CONST               0 (None)\n",
      "             10 RETURN_VALUE\n"
     ]
    }
   ],
   "source": [
    "dis.dis(f)"
   ]
  },
  {
   "cell_type": "markdown",
   "metadata": {},
   "source": [
    "2# 环境变量x从DEREF载入"
   ]
  },
  {
   "cell_type": "code",
   "execution_count": 47,
   "metadata": {},
   "outputs": [
    {
     "data": {
      "text/plain": [
       "(<cell at 0x106451ac8: int object at 0x1041fe700>,)"
      ]
     },
     "execution_count": 47,
     "metadata": {},
     "output_type": "execute_result"
    }
   ],
   "source": [
    "f.__closure__  # 整数对象x存在这里"
   ]
  },
  {
   "cell_type": "code",
   "execution_count": 48,
   "metadata": {},
   "outputs": [
    {
     "data": {
      "text/plain": [
       "('x',)"
      ]
     },
     "execution_count": 48,
     "metadata": {},
     "output_type": "execute_result"
    }
   ],
   "source": [
    "f.__code__.co_freevars  # 当前函数引用的外部自由变量元组"
   ]
  },
  {
   "cell_type": "code",
   "execution_count": 49,
   "metadata": {},
   "outputs": [
    {
     "data": {
      "text/plain": [
       "('x',)"
      ]
     },
     "execution_count": 49,
     "metadata": {},
     "output_type": "execute_result"
    }
   ],
   "source": [
    "make.__code__.co_cellvars  # 被内部闭包函数引用的变量列表"
   ]
  },
  {
   "cell_type": "code",
   "execution_count": 54,
   "metadata": {},
   "outputs": [],
   "source": [
    "def make(n):\n",
    "    f = []\n",
    "    for i in range(n):\n",
    "        f.append(lambda:print(i))\n",
    "    return f\n",
    "a,b,c = make(3)"
   ]
  },
  {
   "cell_type": "code",
   "execution_count": 55,
   "metadata": {},
   "outputs": [
    {
     "name": "stdout",
     "output_type": "stream",
     "text": [
      "2\n"
     ]
    }
   ],
   "source": [
    "a()"
   ]
  },
  {
   "cell_type": "code",
   "execution_count": 56,
   "metadata": {},
   "outputs": [
    {
     "name": "stdout",
     "output_type": "stream",
     "text": [
      "2\n"
     ]
    }
   ],
   "source": [
    "b()"
   ]
  },
  {
   "cell_type": "code",
   "execution_count": 57,
   "metadata": {},
   "outputs": [
    {
     "name": "stdout",
     "output_type": "stream",
     "text": [
      "2\n"
     ]
    }
   ],
   "source": [
    "c()"
   ]
  },
  {
   "cell_type": "markdown",
   "metadata": {},
   "source": [
    "延迟绑定：make创建并返回3个闭包函数，附加自由变量i，make执行结束i为2，执行闭包函数时引用了i的值，则都为2"
   ]
  },
  {
   "cell_type": "markdown",
   "metadata": {},
   "source": [
    "闭包具备封装特征，可实现隐式上下文状态，减少参数。设计上，其可部分替代全局变量，或将执行环境与调用接口分离。但其对自由变量的隐式依赖会提升代码的复杂度，不便于维护和测试，且自由变量生命周期的提升，会提高内存占用。"
   ]
  },
  {
   "cell_type": "markdown",
   "metadata": {},
   "source": [
    "进程内存通常分为堆栈两类：堆可自由申请，通过指针存储自由数据。栈用于指令执行，与线程绑定。\n",
    "\n",
    "栈帧，在线程栈内存中，为函数提供参数、局部变量存储空间的一块保留地，为被调用函数提供参数和返回值内存。\n",
    "\n",
    "因解释执行，字节码指令数据使用独立的用户空间。与系统栈连续内存不同，用户栈帧由独立对象实现，以链表构成完整调用堆栈。"
   ]
  },
  {
   "cell_type": "code",
   "execution_count": 59,
   "metadata": {},
   "outputs": [
    {
     "name": "stdout",
     "output_type": "stream",
     "text": [
      "<code object A at 0x10647c270, file \"<ipython-input-59-8d382da66797>\", line 2>\n",
      "{'x': 'hello'}\n",
      "6\n"
     ]
    }
   ],
   "source": [
    "import sys\n",
    "def A():\n",
    "    x = 'hello'\n",
    "    B()\n",
    "\n",
    "def B():\n",
    "    C()\n",
    "    \n",
    "def C():\n",
    "    f = sys._getframe(2)  # 向上2级，获取栈帧\n",
    "    print(f.f_code)  # A代码对象\n",
    "    print(f.f_locals)  # 运行期获取A的名字空间\n",
    "    print(f.f_lasti)  # A最后执行指令的偏移量（以确定继续执行的位置）\n",
    "A()"
   ]
  },
  {
   "cell_type": "markdown",
   "metadata": {},
   "source": [
    "递归须承担函数调用的额外开销，类似栈帧创建等。\n",
    "\n",
    "尾递归优化: 函数A的最后动作是调用B，并直接返回B的结果，那么A的栈帧状态就无需保留，内存直接被B覆盖使用。另外，将函数调用优化为跳转指令，可大大提升执行性能。"
   ]
  },
  {
   "cell_type": "code",
   "execution_count": 60,
   "metadata": {},
   "outputs": [],
   "source": [
    "def partial(func, *part_args, **part_kwargs):  # 偏函数伪代码\n",
    "    def wrap(*call_args, **call_kwargs):\n",
    "        kwargs = part_kwargs.copy()  # 复制包装键值参数\n",
    "        kwargs.update(call_kwargs)  # 使用调用键值参数更新包装键值参数\n",
    "        return func(*part_args, *call_args, **kwargs)\n",
    "    return wrap"
   ]
  },
  {
   "cell_type": "code",
   "execution_count": null,
   "metadata": {},
   "outputs": [],
   "source": []
  }
 ],
 "metadata": {
  "kernelspec": {
   "display_name": "Python 3",
   "language": "python",
   "name": "python3"
  },
  "language_info": {
   "codemirror_mode": {
    "name": "ipython",
    "version": 3
   },
   "file_extension": ".py",
   "mimetype": "text/x-python",
   "name": "python",
   "nbconvert_exporter": "python",
   "pygments_lexer": "ipython3",
   "version": "3.6.5"
  }
 },
 "nbformat": 4,
 "nbformat_minor": 2
}
