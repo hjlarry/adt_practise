{
 "cells": [
  {
   "cell_type": "markdown",
   "metadata": {},
   "source": [
    "内存分配器：\n",
    "- 以某个阈值为界，分⼤小对象\n",
    "- 大对象直接分配内存，只小对象才使⽤用专⽤用内存分配器器\n",
    "- 在通⽤用内存分配基础上，以缓存⽅方式实现小对象快速分配\n",
    "\n",
    "python3.6中，大小对象以512字节为界，Arena为512KB，Pool为4KB。"
   ]
  },
  {
   "cell_type": "markdown",
   "metadata": {},
   "source": [
    "|Request in bytes |Size of allocated block |Size class idx|\n",
    "|-----------------|-------------------------|----------------------| \n",
    "|1-8 |8 |0|\n",
    "|9-16 |16 |1|\n",
    "|17-24 |24 |2|\n",
    "|25-32 |32 |3|\n",
    "|... |... |...|\n",
    "|497-504 |504 |62|\n",
    "|505-512 |512 |63|"
   ]
  },
  {
   "cell_type": "markdown",
   "metadata": {},
   "source": [
    "小对象按8字节对齐，分成64个不同的类别。\n",
    "\n",
    "- 向系统申请⼤块 arena 内存\n",
    "- 分成多个 pool 块(⼀级重⽤用单元)，为⼀种类别提供内存\n",
    "- 按类别，分成多个 block 块(⼆级)。可存储相同类别的⼩对象"
   ]
  },
  {
   "cell_type": "code",
   "execution_count": null,
   "metadata": {},
   "outputs": [],
   "source": []
  }
 ],
 "metadata": {
  "kernelspec": {
   "display_name": "Python 3",
   "language": "python",
   "name": "python3"
  },
  "language_info": {
   "codemirror_mode": {
    "name": "ipython",
    "version": 3
   },
   "file_extension": ".py",
   "mimetype": "text/x-python",
   "name": "python",
   "nbconvert_exporter": "python",
   "pygments_lexer": "ipython3",
   "version": "3.6.5"
  }
 },
 "nbformat": 4,
 "nbformat_minor": 2
}
