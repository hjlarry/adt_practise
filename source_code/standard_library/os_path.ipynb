{
 "cells": [
  {
   "cell_type": "markdown",
   "metadata": {},
   "source": [
    "## 路径解析"
   ]
  },
  {
   "cell_type": "code",
   "execution_count": 1,
   "metadata": {},
   "outputs": [],
   "source": [
    "import os.path\n",
    "PATHS = [\n",
    "    '/one/two/three',\n",
    "    '/one/two/three/',\n",
    "    '/',\n",
    "    '.',\n",
    "    '',\n",
    "]"
   ]
  },
  {
   "cell_type": "code",
   "execution_count": 8,
   "metadata": {},
   "outputs": [
    {
     "name": "stdout",
     "output_type": "stream",
     "text": [
      "    '/one/two/three' : ('/one/two', 'three')\n",
      "   '/one/two/three/' : ('/one/two/three', '')\n",
      "                 '/' : ('/', '')\n",
      "                 '.' : ('', '.')\n",
      "                  '' : ('', '')\n"
     ]
    }
   ],
   "source": [
    "for path in PATHS:\n",
    "    print('{!r:>20} : {}'.format(path, os.path.split(path)))"
   ]
  },
  {
   "cell_type": "code",
   "execution_count": 10,
   "metadata": {},
   "outputs": [
    {
     "name": "stdout",
     "output_type": "stream",
     "text": [
      "    '/one/two/three' : three\n",
      "   '/one/two/three/' : \n",
      "                 '/' : \n",
      "                 '.' : .\n",
      "                  '' : \n"
     ]
    }
   ],
   "source": [
    "for path in PATHS:\n",
    "    print(f'{path !r:>20} : {os.path.basename(path)}')"
   ]
  },
  {
   "cell_type": "code",
   "execution_count": 11,
   "metadata": {},
   "outputs": [
    {
     "name": "stdout",
     "output_type": "stream",
     "text": [
      "    '/one/two/three' : /one/two\n",
      "   '/one/two/three/' : /one/two/three\n",
      "                 '/' : /\n",
      "                 '.' : \n",
      "                  '' : \n"
     ]
    }
   ],
   "source": [
    "for path in PATHS:\n",
    "    print(f'{path !r:>20} : {os.path.dirname(path)}')"
   ]
  },
  {
   "cell_type": "markdown",
   "metadata": {},
   "source": [
    "split()函数返回结果的第一部分的值是dirname()函数，第二部分是basename()"
   ]
  },
  {
   "cell_type": "code",
   "execution_count": 12,
   "metadata": {},
   "outputs": [
    {
     "data": {
      "text/plain": [
       "'/usr/local/Cellar/python/3.6.5_1/Frameworks/Python.framework/Versions/3.6/lib/python3.6/posixpath.py'"
      ]
     },
     "execution_count": 12,
     "metadata": {},
     "output_type": "execute_result"
    }
   ],
   "source": [
    "os.path.__file__"
   ]
  },
  {
   "cell_type": "markdown",
   "metadata": {},
   "source": [
    "splitext() 类似 split()，它分隔路径依据扩展分隔符(os.extsep)而不是目录分隔符(os.sep)。"
   ]
  },
  {
   "cell_type": "code",
   "execution_count": 26,
   "metadata": {},
   "outputs": [],
   "source": [
    "PATHS = [\n",
    "    'filename.txt',\n",
    "    'filename',\n",
    "    '/path/to/filename.txt',\n",
    "    '/',\n",
    "    '',\n",
    "    'my-archive.tar.gz',\n",
    "    'no-extension.',\n",
    "]"
   ]
  },
  {
   "cell_type": "code",
   "execution_count": 27,
   "metadata": {},
   "outputs": [
    {
     "name": "stdout",
     "output_type": "stream",
     "text": [
      "                'filename.txt' : ('filename', '.txt')\n",
      "                    'filename' : ('filename', '')\n",
      "       '/path/to/filename.txt' : ('/path/to/filename', '.txt')\n",
      "                           '/' : ('/', '')\n",
      "                            '' : ('', '')\n",
      "           'my-archive.tar.gz' : ('my-archive.tar', '.gz')\n",
      "               'no-extension.' : ('no-extension', '.')\n"
     ]
    }
   ],
   "source": [
    "for path in PATHS:\n",
    "    print(f'{path !r:>30} : {os.path.splitext(path)}')"
   ]
  },
  {
   "cell_type": "code",
   "execution_count": 21,
   "metadata": {},
   "outputs": [
    {
     "name": "stdout",
     "output_type": "stream",
     "text": [
      "PREFIX: /one/two/three\n"
     ]
    }
   ],
   "source": [
    "paths = ['/one/two/three/four',\n",
    "         '/one/two/threefold',\n",
    "         '/one/two/three/',\n",
    "         ]\n",
    "print('PREFIX:', os.path.commonprefix(paths))"
   ]
  },
  {
   "cell_type": "markdown",
   "metadata": {},
   "source": [
    "commonprefix()  函数会接受一个路径列表作为参数而返回一个字符串表示所有路径中的公共前缀。这个字符串可能表示一个实际不存在的路径，因为路径分隔符并没有被考虑在内  \n",
    "commonpath() 充分考虑路径分隔符，会返回路径序列中各个部分的最长公共有效子路径。"
   ]
  },
  {
   "cell_type": "code",
   "execution_count": 22,
   "metadata": {},
   "outputs": [
    {
     "name": "stdout",
     "output_type": "stream",
     "text": [
      "PREFIX: /one/two\n"
     ]
    }
   ],
   "source": [
    "print('PREFIX:', os.path.commonpath(paths))"
   ]
  },
  {
   "cell_type": "markdown",
   "metadata": {},
   "source": [
    "## 构建路径"
   ]
  },
  {
   "cell_type": "code",
   "execution_count": 34,
   "metadata": {},
   "outputs": [
    {
     "name": "stdout",
     "output_type": "stream",
     "text": [
      "       ('one', 'two', 'three') : one/two/three\n",
      "('/', 'one', 'two', '..t.hree') : /one/two/..t.hree\n",
      "     ('/one', '/two', 'three') : /two/three\n"
     ]
    }
   ],
   "source": [
    "PATHS = [\n",
    "    ('one', 'two', 'three'),\n",
    "    ('/', 'one', 'two', '..t.hree'),\n",
    "    ('/one', '/two', 'three'),\n",
    "]\n",
    "for path in PATHS:\n",
    "    print(f'{path !r:>30} : {os.path.join(*path)}')"
   ]
  },
  {
   "cell_type": "markdown",
   "metadata": {},
   "source": [
    "如果某个参数以os.sep开头，那么其前面的参数都会被舍弃"
   ]
  },
  {
   "cell_type": "code",
   "execution_count": 30,
   "metadata": {},
   "outputs": [
    {
     "name": "stdout",
     "output_type": "stream",
     "text": [
      "            '~' : '/Users/hejl'\n",
      "   '~dhellmann' : '~dhellmann'\n",
      "  '~nosuchuser' : '~nosuchuser'\n"
     ]
    }
   ],
   "source": [
    "for user in ['', 'dhellmann', 'nosuchuser']:\n",
    "    lookup = '~' + user\n",
    "    print(f'{lookup!r:>15} : {os.path.expanduser(lookup)!r}')"
   ]
  },
  {
   "cell_type": "markdown",
   "metadata": {},
   "source": [
    "expanduser() 将会转化波浪号（~）为用户主目录的名称，如果没找到，会字符串原样返回"
   ]
  },
  {
   "cell_type": "code",
   "execution_count": 31,
   "metadata": {},
   "outputs": [
    {
     "name": "stdout",
     "output_type": "stream",
     "text": [
      "/path/to/TESTVALUE\n"
     ]
    }
   ],
   "source": [
    "import os\n",
    "os.environ['MYVAR'] = 'TESTVALUE'\n",
    "print(os.path.expandvars('/path/to/$MYVAR'))"
   ]
  },
  {
   "cell_type": "markdown",
   "metadata": {},
   "source": [
    "expandvars()会解析路径中所有 shell 环境变量。"
   ]
  },
  {
   "cell_type": "markdown",
   "metadata": {},
   "source": [
    "## 规范路径"
   ]
  },
  {
   "cell_type": "code",
   "execution_count": 35,
   "metadata": {},
   "outputs": [
    {
     "name": "stdout",
     "output_type": "stream",
     "text": [
      "     'one//two//three' : 'one/two/three'\n",
      "   'one/./two/./three' : 'one/two/three'\n",
      "'one/../alt/two/three' : 'alt/two/three'\n"
     ]
    }
   ],
   "source": [
    "PATHS = [\n",
    "    'one//two//three',\n",
    "    'one/./two/./three',\n",
    "    'one/../alt/two/three',\n",
    "]\n",
    "for path in PATHS:\n",
    "    print(f'{path!r:>22} : {os.path.normpath(path)!r}')"
   ]
  },
  {
   "cell_type": "markdown",
   "metadata": {},
   "source": [
    "使用 os.normpath() 可以清理由os.curdir(指.)和os.pardir(指..)组成的路径片段"
   ]
  },
  {
   "cell_type": "code",
   "execution_count": 39,
   "metadata": {},
   "outputs": [
    {
     "name": "stdout",
     "output_type": "stream",
     "text": [
      "                  '.' : '/Users/hejl'\n",
      "                 '..' : '/Users'\n",
      "    './one/two/three' : '/Users/hejl/one/two/three'\n",
      "   '../one/two/three' : '/Users/one/two/three'\n"
     ]
    }
   ],
   "source": [
    "os.chdir('/Users/hejl')\n",
    "\n",
    "PATHS = [\n",
    "    '.',\n",
    "    '..',\n",
    "    './one/two/three',\n",
    "    '../one/two/three',\n",
    "]\n",
    "\n",
    "for path in PATHS:\n",
    "    print(f'{path!r:>21} : {os.path.abspath(path)!r}')"
   ]
  },
  {
   "cell_type": "markdown",
   "metadata": {},
   "source": [
    "## 文件时间"
   ]
  },
  {
   "cell_type": "code",
   "execution_count": 47,
   "metadata": {},
   "outputs": [
    {
     "name": "stdout",
     "output_type": "stream",
     "text": [
      "/Users/hejl/JianGuo/practise/source_code/note_of_python_learnnote\n",
      "File         : demo.c\n",
      "Access time  : Fri Sep 21 14:54:55 2018\n",
      "Modified time: Fri Sep 21 13:53:51 2018\n",
      "Change time  : Fri Sep 21 13:53:51 2018\n",
      "Size         : 1148\n"
     ]
    }
   ],
   "source": [
    "import time\n",
    "os.chdir(os.path.expanduser('~/JianGuo/practise/source_code/note_of_python_learnnote'))\n",
    "print(os.getcwd())\n",
    "__file__ = 'demo.c'\n",
    "print('File         :', __file__)\n",
    "print('Access time  :', time.ctime(os.path.getatime(__file__)))\n",
    "print('Modified time:', time.ctime(os.path.getmtime(__file__)))\n",
    "print('Change time  :', time.ctime(os.path.getctime(__file__)))\n",
    "print('Size         :', os.path.getsize(__file__))"
   ]
  },
  {
   "cell_type": "markdown",
   "metadata": {},
   "source": [
    "## 检测文件"
   ]
  },
  {
   "cell_type": "code",
   "execution_count": 48,
   "metadata": {},
   "outputs": [
    {
     "name": "stdout",
     "output_type": "stream",
     "text": [
      "File        : 'demo.c'\n",
      "Absolute    : False\n",
      "Is File?    : True\n",
      "Is Dir?     : False\n",
      "Is Link?    : False\n",
      "Mountpoint? : False\n",
      "Exists?     : True\n",
      "Link Exists?: True\n",
      "\n",
      "File        : ''\n",
      "Absolute    : False\n",
      "Is File?    : False\n",
      "Is Dir?     : False\n",
      "Is Link?    : False\n",
      "Mountpoint? : False\n",
      "Exists?     : False\n",
      "Link Exists?: False\n",
      "\n",
      "File        : '/'\n",
      "Absolute    : True\n",
      "Is File?    : False\n",
      "Is Dir?     : True\n",
      "Is Link?    : False\n",
      "Mountpoint? : True\n",
      "Exists?     : True\n",
      "Link Exists?: True\n",
      "\n",
      "File        : './broken_link'\n",
      "Absolute    : False\n",
      "Is File?    : False\n",
      "Is Dir?     : False\n",
      "Is Link?    : False\n",
      "Mountpoint? : False\n",
      "Exists?     : False\n",
      "Link Exists?: False\n",
      "\n"
     ]
    }
   ],
   "source": [
    "FILENAMES = [\n",
    "    __file__,\n",
    "    os.path.dirname(__file__),\n",
    "    '/',\n",
    "    './broken_link',\n",
    "]\n",
    "\n",
    "for file in FILENAMES:\n",
    "    print('File        : {!r}'.format(file))\n",
    "    print('Absolute    :', os.path.isabs(file))\n",
    "    print('Is File?    :', os.path.isfile(file))\n",
    "    print('Is Dir?     :', os.path.isdir(file))\n",
    "    print('Is Link?    :', os.path.islink(file))\n",
    "    print('Mountpoint? :', os.path.ismount(file))\n",
    "    print('Exists?     :', os.path.exists(file))\n",
    "    print('Link Exists?:', os.path.lexists(file))\n",
    "    print()"
   ]
  },
  {
   "cell_type": "code",
   "execution_count": null,
   "metadata": {},
   "outputs": [],
   "source": []
  }
 ],
 "metadata": {
  "kernelspec": {
   "display_name": "Python 3",
   "language": "python",
   "name": "python3"
  },
  "language_info": {
   "codemirror_mode": {
    "name": "ipython",
    "version": 3
   },
   "file_extension": ".py",
   "mimetype": "text/x-python",
   "name": "python",
   "nbconvert_exporter": "python",
   "pygments_lexer": "ipython3",
   "version": "3.6.5"
  }
 },
 "nbformat": 4,
 "nbformat_minor": 2
}
