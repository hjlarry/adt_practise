{
 "cells": [
  {
   "cell_type": "markdown",
   "metadata": {},
   "source": [
    "## 复制文件"
   ]
  },
  {
   "cell_type": "code",
   "execution_count": 5,
   "metadata": {},
   "outputs": [
    {
     "name": "stdout",
     "output_type": "stream",
     "text": [
      "Before: ['example_link', 'example.txt', 'example_dir']\n",
      "After: ['example_link', 'example.txt', 'example_dir', 'example.txt.copy']\n"
     ]
    }
   ],
   "source": [
    "import glob\n",
    "import shutil\n",
    "print(\"Before:\", glob.glob('example*'))\n",
    "shutil.copyfile('example.txt', 'example.txt.copy')\n",
    "print(\"After:\", glob.glob('example*'))"
   ]
  },
  {
   "cell_type": "code",
   "execution_count": 10,
   "metadata": {},
   "outputs": [
    {
     "name": "stdout",
     "output_type": "stream",
     "text": [
      "Default:\n",
      "read(16384) got 166 bytes\n",
      "read(16384) got 0 bytes\n",
      "All at once:\n",
      "read(-1) got 166 bytes\n",
      "read(-1) got 0 bytes\n",
      "Block 256:\n",
      "read(128) got 128 bytes\n",
      "read(128) got 38 bytes\n",
      "read(128) got 0 bytes\n"
     ]
    }
   ],
   "source": [
    "import io\n",
    "import sys\n",
    "import os\n",
    "\n",
    "class VerboseStringIO(io.StringIO):\n",
    "    def read(self, n=-1):\n",
    "        next = super().read(n)\n",
    "        print(f'read({n}) got {len(next)} bytes')\n",
    "        return next\n",
    "lorem_ipsum = '''Lorem ipsum dolor sit amet, consectetuer\n",
    "adipiscing elit.  Vestibulum aliquam mollis dolor. Donec\n",
    "vulputate nunc ut diam. Ut rutrum mi vel sem. Vestibulum\n",
    "ante ipsum.'''\n",
    "\n",
    "print('Default:')\n",
    "input = VerboseStringIO(lorem_ipsum)\n",
    "output = io.StringIO()\n",
    "shutil.copyfileobj(input, output)\n",
    "print('All at once:')\n",
    "input = VerboseStringIO(lorem_ipsum)\n",
    "output = io.StringIO()\n",
    "shutil.copyfileobj(input, output, -1)\n",
    "print('Block 256:')\n",
    "input = VerboseStringIO(lorem_ipsum)\n",
    "output = io.StringIO()\n",
    "shutil.copyfileobj(input, output, 128)"
   ]
  },
  {
   "cell_type": "code",
   "execution_count": null,
   "metadata": {},
   "outputs": [],
   "source": []
  }
 ],
 "metadata": {
  "kernelspec": {
   "display_name": "Python 3",
   "language": "python",
   "name": "python3"
  },
  "language_info": {
   "codemirror_mode": {
    "name": "ipython",
    "version": 3
   },
   "file_extension": ".py",
   "mimetype": "text/x-python",
   "name": "python",
   "nbconvert_exporter": "python",
   "pygments_lexer": "ipython3",
   "version": "3.6.4"
  }
 },
 "nbformat": 4,
 "nbformat_minor": 2
}
