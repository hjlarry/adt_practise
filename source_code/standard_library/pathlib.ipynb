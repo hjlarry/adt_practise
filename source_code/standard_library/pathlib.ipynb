{
 "cells": [
  {
   "cell_type": "markdown",
   "metadata": {},
   "source": [
    "## 路径表示  \n",
    "PurePosixPath 和 PureWindowsPath 可以实例化于任何的操作系统，仅仅用做处理路径名称。如果要实例化一个与真实文件系统相关的具体类，应该使用 Path, 它会根据当前的操作系统类型得到 PosixPath 或者 WindowsPath 的实例。 "
   ]
  },
  {
   "cell_type": "markdown",
   "metadata": {},
   "source": [
    "## 构建路径"
   ]
  },
  {
   "cell_type": "code",
   "execution_count": 7,
   "metadata": {},
   "outputs": [
    {
     "name": "stdout",
     "output_type": "stream",
     "text": [
      "usr\n",
      "usr/lib\n",
      "usr/share\n",
      "usr/..\n",
      "/etc\n",
      "/usr\n",
      "/usr/..\n",
      "/etc\n"
     ]
    }
   ],
   "source": [
    "import pathlib\n",
    "\n",
    "usr = pathlib.PurePosixPath('usr')\n",
    "print(usr)\n",
    "\n",
    "lib = usr / ('lib')\n",
    "print(lib)\n",
    "\n",
    "usr_share = usr / pathlib.PurePosixPath('share')\n",
    "print(usr_share)\n",
    "\n",
    "root = usr / '..'\n",
    "print(root)\n",
    "\n",
    "etc = root / '/etc/'\n",
    "print(etc)\n",
    "\n",
    "usr = pathlib.PurePosixPath('/usr')\n",
    "print(usr)\n",
    "\n",
    "root = usr / '..'  # 从运行结果看，其仅仅将路径组合起来，而没有去解析 \n",
    "print(root)\n",
    "\n",
    "etc = root / '/etc/'\n",
    "print(etc)"
   ]
  },
  {
   "cell_type": "code",
   "execution_count": 11,
   "metadata": {},
   "outputs": [
    {
     "name": "stdout",
     "output_type": "stream",
     "text": [
      "/usr1ss/local1/../share\n",
      "/usr1ss/share\n"
     ]
    }
   ],
   "source": [
    "usr_local = pathlib.Path('/usr1ss/local1')\n",
    "share = usr_local / '..' / 'share'\n",
    "print(share)\n",
    "print(share.resolve())   # 仅生成绝对路径"
   ]
  },
  {
   "cell_type": "code",
   "execution_count": 12,
   "metadata": {},
   "outputs": [
    {
     "name": "stdout",
     "output_type": "stream",
     "text": [
      "/usr/local/tt\n"
     ]
    }
   ],
   "source": [
    "root = pathlib.PurePosixPath('/')\n",
    "subdirs = ['usr', 'local', 'tt']\n",
    "usr_local = root.joinpath(*subdirs)\n",
    "print(usr_local)"
   ]
  },
  {
   "cell_type": "code",
   "execution_count": 13,
   "metadata": {},
   "outputs": [
    {
     "name": "stdout",
     "output_type": "stream",
     "text": [
      "source/pathlib/index.rst\n",
      "source/pathlib/pathlib_from_existing.py\n",
      "source/pathlib/index.pyc\n"
     ]
    }
   ],
   "source": [
    "ind = pathlib.PurePosixPath('source/pathlib/index.rst')\n",
    "print(ind)\n",
    "\n",
    "py = ind.with_name('pathlib_from_existing.py')\n",
    "print(py)\n",
    "\n",
    "pyc = ind.with_suffix('.pyc')\n",
    "print(pyc)"
   ]
  },
  {
   "cell_type": "markdown",
   "metadata": {},
   "source": [
    "## 解析路径"
   ]
  },
  {
   "cell_type": "code",
   "execution_count": 20,
   "metadata": {},
   "outputs": [
    {
     "name": "stdout",
     "output_type": "stream",
     "text": [
      "('/', 'usr', 'local', 'sth', 'demo.py')\n"
     ]
    }
   ],
   "source": [
    "p = pathlib.PurePosixPath('/usr/local/sth/demo.py')\n",
    "print(p.parts)"
   ]
  },
  {
   "cell_type": "code",
   "execution_count": 21,
   "metadata": {},
   "outputs": [
    {
     "name": "stdout",
     "output_type": "stream",
     "text": [
      "/usr/local/sth\n"
     ]
    }
   ],
   "source": [
    "print(p.parent)"
   ]
  },
  {
   "cell_type": "code",
   "execution_count": 22,
   "metadata": {},
   "outputs": [
    {
     "name": "stdout",
     "output_type": "stream",
     "text": [
      "/usr/local/sth\n",
      "/usr/local\n",
      "/usr\n",
      "/\n"
     ]
    }
   ],
   "source": [
    "for u in p.parents:\n",
    "    print(u)"
   ]
  },
  {
   "cell_type": "code",
   "execution_count": 23,
   "metadata": {},
   "outputs": [
    {
     "name": "stdout",
     "output_type": "stream",
     "text": [
      "/usr/local/sth/demo.py\n",
      "demo.py\n",
      ".py\n",
      "demo\n"
     ]
    }
   ],
   "source": [
    "print(p)\n",
    "print(p.name)\n",
    "print(p.suffix)\n",
    "print(p.stem)"
   ]
  },
  {
   "cell_type": "markdown",
   "metadata": {},
   "source": [
    "## 创建具体路径"
   ]
  },
  {
   "cell_type": "code",
   "execution_count": 25,
   "metadata": {},
   "outputs": [
    {
     "name": "stdout",
     "output_type": "stream",
     "text": [
      "/Users/hejl\n",
      "/Users/hejl/local/practise/source_code/standard_library\n"
     ]
    }
   ],
   "source": [
    "home = pathlib.Path.home()\n",
    "print(home)\n",
    "cwd = pathlib.Path.cwd()\n",
    "print(cwd)"
   ]
  },
  {
   "cell_type": "markdown",
   "metadata": {},
   "source": [
    "## 目录内容"
   ]
  },
  {
   "cell_type": "code",
   "execution_count": 41,
   "metadata": {},
   "outputs": [
    {
     "name": "stdout",
     "output_type": "stream",
     "text": [
      "../note_of_python_learnnote/Module.ipynb\n",
      "../note_of_python_learnnote/MemoryAlloc.ipynb\n",
      "../note_of_python_learnnote/C_extension.ipynb\n",
      "../note_of_python_learnnote/Func.ipynb\n",
      "../note_of_python_learnnote/demo.h\n",
      "../note_of_python_learnnote/CodeAttr.ipynb\n",
      "../note_of_python_learnnote/Class.ipynb\n",
      "../note_of_python_learnnote/Type.ipynb\n",
      "../note_of_python_learnnote/MetaProgramming.ipynb\n",
      "../note_of_python_learnnote/Iter.ipynb\n",
      "../note_of_python_learnnote/Exception.ipynb\n",
      "../note_of_python_learnnote/demo.c\n",
      "../note_of_python_learnnote/GarbageCollect.ipynb\n",
      "../note_of_python_learnnote/Pyexe.ipynb\n",
      "../note_of_python_learnnote/Expression.ipynb\n"
     ]
    }
   ],
   "source": [
    "p = pathlib.Path('../note_of_python_learnnote')\n",
    "for f in p.iterdir():\n",
    "    print(f)"
   ]
  },
  {
   "cell_type": "code",
   "execution_count": 42,
   "metadata": {},
   "outputs": [
    {
     "name": "stdout",
     "output_type": "stream",
     "text": [
      "../note_of_python_learnnote/Module.ipynb\n",
      "../note_of_python_learnnote/MemoryAlloc.ipynb\n",
      "../note_of_python_learnnote/C_extension.ipynb\n",
      "../note_of_python_learnnote/Func.ipynb\n",
      "../note_of_python_learnnote/CodeAttr.ipynb\n",
      "../note_of_python_learnnote/Class.ipynb\n",
      "../note_of_python_learnnote/Type.ipynb\n",
      "../note_of_python_learnnote/MetaProgramming.ipynb\n",
      "../note_of_python_learnnote/Iter.ipynb\n",
      "../note_of_python_learnnote/Exception.ipynb\n",
      "../note_of_python_learnnote/GarbageCollect.ipynb\n",
      "../note_of_python_learnnote/Pyexe.ipynb\n",
      "../note_of_python_learnnote/Expression.ipynb\n"
     ]
    }
   ],
   "source": [
    "for f in p.glob('*.ipynb'):\n",
    "    print(f)"
   ]
  },
  {
   "cell_type": "code",
   "execution_count": null,
   "metadata": {},
   "outputs": [],
   "source": []
  }
 ],
 "metadata": {
  "kernelspec": {
   "display_name": "Python 3",
   "language": "python",
   "name": "python3"
  },
  "language_info": {
   "codemirror_mode": {
    "name": "ipython",
    "version": 3
   },
   "file_extension": ".py",
   "mimetype": "text/x-python",
   "name": "python",
   "nbconvert_exporter": "python",
   "pygments_lexer": "ipython3",
   "version": "3.6.4"
  }
 },
 "nbformat": 4,
 "nbformat_minor": 2
}
