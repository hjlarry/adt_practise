{
 "cells": [
  {
   "cell_type": "code",
   "execution_count": 2,
   "metadata": {},
   "outputs": [
    {
     "name": "stdout",
     "output_type": "stream",
     "text": [
      "test_files/Untitled Folder\n",
      "test_files/fifo\n",
      "test_files/file\n",
      "test_files/symlink\n"
     ]
    }
   ],
   "source": [
    "import glob\n",
    "for name in sorted(glob.glob('test_files/*')):\n",
    "    print(name)"
   ]
  },
  {
   "cell_type": "code",
   "execution_count": 3,
   "metadata": {},
   "outputs": [
    {
     "name": "stdout",
     "output_type": "stream",
     "text": [
      "test_files/Untitled Folder/untitled.txt\n"
     ]
    }
   ],
   "source": [
    "for name in sorted(glob.glob('test_files/*/*')):\n",
    "    print(name)"
   ]
  },
  {
   "cell_type": "code",
   "execution_count": 5,
   "metadata": {},
   "outputs": [
    {
     "name": "stdout",
     "output_type": "stream",
     "text": [
      "test_files/fifo\n"
     ]
    }
   ],
   "source": [
    "for name in sorted(glob.glob('test_files/fi?o')):\n",
    "    print(name)"
   ]
  },
  {
   "cell_type": "code",
   "execution_count": 6,
   "metadata": {},
   "outputs": [
    {
     "name": "stdout",
     "output_type": "stream",
     "text": [
      "test_files/fifo\n",
      "test_files/file\n"
     ]
    }
   ],
   "source": [
    "for name in sorted(glob.glob('test_files/fi??')):\n",
    "    print(name)"
   ]
  },
  {
   "cell_type": "code",
   "execution_count": 7,
   "metadata": {},
   "outputs": [
    {
     "name": "stdout",
     "output_type": "stream",
     "text": [
      "test_files/file\n"
     ]
    }
   ],
   "source": [
    "for name in sorted(glob.glob('test_files/fi[a-z]e')):\n",
    "    print(name)"
   ]
  },
  {
   "cell_type": "markdown",
   "metadata": {},
   "source": [
    "glob模块使用的模式匹配规则并不同于re模块的正则，其用Unix路径扩展规则。"
   ]
  },
  {
   "cell_type": "code",
   "execution_count": null,
   "metadata": {},
   "outputs": [],
   "source": []
  }
 ],
 "metadata": {
  "kernelspec": {
   "display_name": "Python 3",
   "language": "python",
   "name": "python3"
  },
  "language_info": {
   "codemirror_mode": {
    "name": "ipython",
    "version": 3
   },
   "file_extension": ".py",
   "mimetype": "text/x-python",
   "name": "python",
   "nbconvert_exporter": "python",
   "pygments_lexer": "ipython3",
   "version": "3.6.4"
  }
 },
 "nbformat": 4,
 "nbformat_minor": 2
}
