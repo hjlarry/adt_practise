{
 "cells": [
  {
   "cell_type": "markdown",
   "metadata": {},
   "source": [
    "codecs 模块提供了流和文件接口用于转换数据。它通常用于处理 Unicode 文本。"
   ]
  },
  {
   "cell_type": "code",
   "execution_count": 2,
   "metadata": {},
   "outputs": [],
   "source": [
    "import binascii\n",
    "\n",
    "def to_hex(t, nbytes):\n",
    "    \"\"\"Format text t as a sequence of nbyte long values separated by spaces\"\"\"\n",
    "    chars_per_item = nbytes*2\n",
    "    hex_version = binascii.hexlify(t)\n",
    "    return b' '.join(hex_version[start:start + chars_per_item] for start in range(0, len(hex_version), chars_per_item))"
   ]
  },
  {
   "cell_type": "code",
   "execution_count": 3,
   "metadata": {},
   "outputs": [
    {
     "name": "stdout",
     "output_type": "stream",
     "text": [
      "b'61 62 63 64 65 66'\n",
      "b'6162 6364 6566'\n"
     ]
    }
   ],
   "source": [
    "print(to_hex(b'abcdef', 1))\n",
    "print(to_hex(b'abcdef', 2))"
   ]
  },
  {
   "cell_type": "code",
   "execution_count": 8,
   "metadata": {},
   "outputs": [
    {
     "name": "stdout",
     "output_type": "stream",
     "text": [
      "Raw: 'françaiS'\n",
      "  'f':LATIN SMALL LETTER F\n",
      "  'r':LATIN SMALL LETTER R\n",
      "  'a':LATIN SMALL LETTER A\n",
      "  'n':LATIN SMALL LETTER N\n",
      "  'ç':LATIN SMALL LETTER C WITH CEDILLA\n",
      "  'a':LATIN SMALL LETTER A\n",
      "  'i':LATIN SMALL LETTER I\n",
      "  'S':LATIN CAPITAL LETTER S\n",
      "UTF-8 : b'66 72 61 6e c3 a7 61 69 53'\n",
      "UTF-16 : b'ff fe 66 00 72 00 61 00 6e 00 e7 00 61 00 69 00 53 00'\n",
      "UTF-16 : b'fffe 6600 7200 6100 6e00 e700 6100 6900 5300'\n"
     ]
    }
   ],
   "source": [
    "import unicodedata\n",
    "\n",
    "text = 'françaiS'\n",
    "print(f'Raw: {text!r}')\n",
    "for c in text:\n",
    "    print(f\"  {c!r}:{unicodedata.name(c,c)}\")\n",
    "    \n",
    "print(f\"UTF-8 : {to_hex(text.encode('utf-8'),1)}\")\n",
    "print(f\"UTF-16 : {to_hex(text.encode('utf-16'),1)}\")\n",
    "print(f\"UTF-16 : {to_hex(text.encode('utf-16'),2)}\")"
   ]
  },
  {
   "cell_type": "code",
   "execution_count": null,
   "metadata": {},
   "outputs": [],
   "source": []
  }
 ],
 "metadata": {
  "kernelspec": {
   "display_name": "Python 3",
   "language": "python",
   "name": "python3"
  },
  "language_info": {
   "codemirror_mode": {
    "name": "ipython",
    "version": 3
   },
   "file_extension": ".py",
   "mimetype": "text/x-python",
   "name": "python",
   "nbconvert_exporter": "python",
   "pygments_lexer": "ipython3",
   "version": "3.6.4"
  }
 },
 "nbformat": 4,
 "nbformat_minor": 2
}
