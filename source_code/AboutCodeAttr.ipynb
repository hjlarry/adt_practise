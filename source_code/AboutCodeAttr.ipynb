{
 "cells": [
  {
   "cell_type": "code",
   "execution_count": 4,
   "metadata": {},
   "outputs": [],
   "source": [
    "def add():\n",
    "    return lambda:10"
   ]
  },
  {
   "cell_type": "code",
   "execution_count": 2,
   "metadata": {},
   "outputs": [],
   "source": [
    "import dis"
   ]
  },
  {
   "cell_type": "code",
   "execution_count": 9,
   "metadata": {},
   "outputs": [
    {
     "name": "stdout",
     "output_type": "stream",
     "text": [
      "  2           0 LOAD_CONST               1 (10)\n",
      "              2 RETURN_VALUE\n"
     ]
    }
   ],
   "source": [
    "dis.dis(add())"
   ]
  },
  {
   "cell_type": "code",
   "execution_count": 8,
   "metadata": {},
   "outputs": [
    {
     "data": {
      "text/plain": [
       "10"
      ]
     },
     "execution_count": 8,
     "metadata": {},
     "output_type": "execute_result"
    }
   ],
   "source": [
    "add()()"
   ]
  },
  {
   "cell_type": "code",
   "execution_count": 11,
   "metadata": {},
   "outputs": [
    {
     "name": "stdout",
     "output_type": "stream",
     "text": [
      "Name:              add\n",
      "Filename:          <ipython-input-4-e7b2d5750920>\n",
      "Argument count:    0\n",
      "Kw-only arguments: 0\n",
      "Number of locals:  0\n",
      "Stack size:        2\n",
      "Flags:             OPTIMIZED, NEWLOCALS, NOFREE\n",
      "Constants:\n",
      "   0: None\n",
      "   1: <code object <lambda> at 0x112106e40, file \"<ipython-input-4-e7b2d5750920>\", line 2>\n",
      "   2: 'add.<locals>.<lambda>'\n"
     ]
    }
   ],
   "source": [
    "dis.show_code(add)"
   ]
  },
  {
   "cell_type": "code",
   "execution_count": 13,
   "metadata": {},
   "outputs": [
    {
     "ename": "AttributeError",
     "evalue": "'code' object has no attribute '__dict__'",
     "output_type": "error",
     "traceback": [
      "\u001b[0;31m---------------------------------------------------------------------------\u001b[0m",
      "\u001b[0;31mAttributeError\u001b[0m                            Traceback (most recent call last)",
      "\u001b[0;32m<ipython-input-13-cd37794ff362>\u001b[0m in \u001b[0;36m<module>\u001b[0;34m()\u001b[0m\n\u001b[0;32m----> 1\u001b[0;31m \u001b[0madd\u001b[0m\u001b[0;34m.\u001b[0m\u001b[0m__code__\u001b[0m\u001b[0;34m.\u001b[0m\u001b[0m__dict__\u001b[0m\u001b[0;34m\u001b[0m\u001b[0m\n\u001b[0m",
      "\u001b[0;31mAttributeError\u001b[0m: 'code' object has no attribute '__dict__'"
     ]
    }
   ],
   "source": [
    "add.__code__.__dict__"
   ]
  },
  {
   "cell_type": "code",
   "execution_count": 14,
   "metadata": {},
   "outputs": [
    {
     "data": {
      "text/plain": [
       "['__class__',\n",
       " '__delattr__',\n",
       " '__dir__',\n",
       " '__doc__',\n",
       " '__eq__',\n",
       " '__format__',\n",
       " '__ge__',\n",
       " '__getattribute__',\n",
       " '__gt__',\n",
       " '__hash__',\n",
       " '__init__',\n",
       " '__init_subclass__',\n",
       " '__le__',\n",
       " '__lt__',\n",
       " '__ne__',\n",
       " '__new__',\n",
       " '__reduce__',\n",
       " '__reduce_ex__',\n",
       " '__repr__',\n",
       " '__setattr__',\n",
       " '__sizeof__',\n",
       " '__str__',\n",
       " '__subclasshook__',\n",
       " 'co_argcount',\n",
       " 'co_cellvars',\n",
       " 'co_code',\n",
       " 'co_consts',\n",
       " 'co_filename',\n",
       " 'co_firstlineno',\n",
       " 'co_flags',\n",
       " 'co_freevars',\n",
       " 'co_kwonlyargcount',\n",
       " 'co_lnotab',\n",
       " 'co_name',\n",
       " 'co_names',\n",
       " 'co_nlocals',\n",
       " 'co_stacksize',\n",
       " 'co_varnames']"
      ]
     },
     "execution_count": 14,
     "metadata": {},
     "output_type": "execute_result"
    }
   ],
   "source": [
    "dir(add.__code__)"
   ]
  },
  {
   "cell_type": "code",
   "execution_count": 16,
   "metadata": {},
   "outputs": [
    {
     "data": {
      "text/plain": [
       "(None,\n",
       " <code object <lambda> at 0x112106e40, file \"<ipython-input-4-e7b2d5750920>\", line 2>,\n",
       " 'add.<locals>.<lambda>')"
      ]
     },
     "execution_count": 16,
     "metadata": {},
     "output_type": "execute_result"
    }
   ],
   "source": [
    "add.__code__.co_consts"
   ]
  },
  {
   "cell_type": "code",
   "execution_count": 17,
   "metadata": {},
   "outputs": [
    {
     "data": {
      "text/plain": [
       "code"
      ]
     },
     "execution_count": 17,
     "metadata": {},
     "output_type": "execute_result"
    }
   ],
   "source": [
    "add.__code__.__class__"
   ]
  },
  {
   "cell_type": "code",
   "execution_count": 18,
   "metadata": {},
   "outputs": [
    {
     "data": {
      "text/plain": [
       "<method-wrapper '__delattr__' of code object at 0x1122eeb70>"
      ]
     },
     "execution_count": 18,
     "metadata": {},
     "output_type": "execute_result"
    }
   ],
   "source": [
    "add.__code__.__delattr__"
   ]
  },
  {
   "cell_type": "code",
   "execution_count": 19,
   "metadata": {},
   "outputs": [
    {
     "data": {
      "text/plain": [
       "<function code.__dir__>"
      ]
     },
     "execution_count": 19,
     "metadata": {},
     "output_type": "execute_result"
    }
   ],
   "source": [
    "add.__code__.__dir__"
   ]
  },
  {
   "cell_type": "code",
   "execution_count": 24,
   "metadata": {},
   "outputs": [
    {
     "data": {
      "text/plain": [
       "<method-wrapper '__init__' of code object at 0x1122eeb70>"
      ]
     },
     "execution_count": 24,
     "metadata": {},
     "output_type": "execute_result"
    }
   ],
   "source": [
    "add.__code__.__init__"
   ]
  },
  {
   "cell_type": "code",
   "execution_count": 25,
   "metadata": {},
   "outputs": [
    {
     "data": {
      "text/plain": [
       "mappingproxy({'__doc__': 'code(argcount, kwonlyargcount, nlocals, stacksize, flags, codestring,\\n      constants, names, varnames, filename, name, firstlineno,\\n      lnotab[, freevars[, cellvars]])\\n\\nCreate a code object.  Not for the faint of heart.',\n",
       "              '__eq__': <slot wrapper '__eq__' of 'code' objects>,\n",
       "              '__ge__': <slot wrapper '__ge__' of 'code' objects>,\n",
       "              '__getattribute__': <slot wrapper '__getattribute__' of 'code' objects>,\n",
       "              '__gt__': <slot wrapper '__gt__' of 'code' objects>,\n",
       "              '__hash__': <slot wrapper '__hash__' of 'code' objects>,\n",
       "              '__le__': <slot wrapper '__le__' of 'code' objects>,\n",
       "              '__lt__': <slot wrapper '__lt__' of 'code' objects>,\n",
       "              '__ne__': <slot wrapper '__ne__' of 'code' objects>,\n",
       "              '__new__': <function code.__new__>,\n",
       "              '__repr__': <slot wrapper '__repr__' of 'code' objects>,\n",
       "              '__sizeof__': <method '__sizeof__' of 'code' objects>,\n",
       "              'co_argcount': <member 'co_argcount' of 'code' objects>,\n",
       "              'co_cellvars': <member 'co_cellvars' of 'code' objects>,\n",
       "              'co_code': <member 'co_code' of 'code' objects>,\n",
       "              'co_consts': <member 'co_consts' of 'code' objects>,\n",
       "              'co_filename': <member 'co_filename' of 'code' objects>,\n",
       "              'co_firstlineno': <member 'co_firstlineno' of 'code' objects>,\n",
       "              'co_flags': <member 'co_flags' of 'code' objects>,\n",
       "              'co_freevars': <member 'co_freevars' of 'code' objects>,\n",
       "              'co_kwonlyargcount': <member 'co_kwonlyargcount' of 'code' objects>,\n",
       "              'co_lnotab': <member 'co_lnotab' of 'code' objects>,\n",
       "              'co_name': <member 'co_name' of 'code' objects>,\n",
       "              'co_names': <member 'co_names' of 'code' objects>,\n",
       "              'co_nlocals': <member 'co_nlocals' of 'code' objects>,\n",
       "              'co_stacksize': <member 'co_stacksize' of 'code' objects>,\n",
       "              'co_varnames': <member 'co_varnames' of 'code' objects>})"
      ]
     },
     "execution_count": 25,
     "metadata": {},
     "output_type": "execute_result"
    }
   ],
   "source": [
    "add.__code__.__class__.__dict__"
   ]
  },
  {
   "cell_type": "code",
   "execution_count": 26,
   "metadata": {},
   "outputs": [
    {
     "data": {
      "text/plain": [
       "'code(argcount, kwonlyargcount, nlocals, stacksize, flags, codestring,\\n      constants, names, varnames, filename, name, firstlineno,\\n      lnotab[, freevars[, cellvars]])\\n\\nCreate a code object.  Not for the faint of heart.'"
      ]
     },
     "execution_count": 26,
     "metadata": {},
     "output_type": "execute_result"
    }
   ],
   "source": [
    "add.__code__.__class__.__doc__"
   ]
  },
  {
   "cell_type": "markdown",
   "metadata": {},
   "source": [
    "### This code class is defined in cpython/Objects/codeobject.c"
   ]
  },
  {
   "cell_type": "code",
   "execution_count": 27,
   "metadata": {},
   "outputs": [],
   "source": [
    "def mydict():\n",
    "    a = {'x':1, 'y':'ssssds'}\n",
    "    return a"
   ]
  },
  {
   "cell_type": "code",
   "execution_count": 28,
   "metadata": {},
   "outputs": [
    {
     "name": "stdout",
     "output_type": "stream",
     "text": [
      "  2           0 LOAD_CONST               1 (1)\n",
      "              2 LOAD_CONST               2 ('ssssds')\n",
      "              4 LOAD_CONST               3 (('x', 'y'))\n",
      "              6 BUILD_CONST_KEY_MAP      2\n",
      "              8 STORE_FAST               0 (a)\n",
      "\n",
      "  3          10 LOAD_FAST                0 (a)\n",
      "             12 RETURN_VALUE\n"
     ]
    }
   ],
   "source": [
    "dis.dis(mydict)"
   ]
  },
  {
   "cell_type": "code",
   "execution_count": 29,
   "metadata": {},
   "outputs": [],
   "source": [
    "def mydict2():\n",
    "    a = {'x':1, 'y':'ssssds', 'z':print}\n",
    "    return a"
   ]
  },
  {
   "cell_type": "code",
   "execution_count": 30,
   "metadata": {},
   "outputs": [
    {
     "name": "stdout",
     "output_type": "stream",
     "text": [
      "  2           0 LOAD_CONST               1 (1)\n",
      "              2 LOAD_CONST               2 ('ssssds')\n",
      "              4 LOAD_GLOBAL              0 (print)\n",
      "              6 LOAD_CONST               3 (('x', 'y', 'z'))\n",
      "              8 BUILD_CONST_KEY_MAP      3\n",
      "             10 STORE_FAST               0 (a)\n",
      "\n",
      "  3          12 LOAD_FAST                0 (a)\n",
      "             14 RETURN_VALUE\n"
     ]
    }
   ],
   "source": [
    "dis.dis(mydict2)"
   ]
  },
  {
   "cell_type": "code",
   "execution_count": 33,
   "metadata": {},
   "outputs": [],
   "source": [
    "def mylist(z):\n",
    "    a = [1,2,3,z]\n",
    "    return a"
   ]
  },
  {
   "cell_type": "code",
   "execution_count": 34,
   "metadata": {},
   "outputs": [
    {
     "name": "stdout",
     "output_type": "stream",
     "text": [
      "  2           0 LOAD_CONST               1 (1)\n",
      "              2 LOAD_CONST               2 (2)\n",
      "              4 LOAD_CONST               3 (3)\n",
      "              6 LOAD_FAST                0 (z)\n",
      "              8 BUILD_LIST               4\n",
      "             10 STORE_FAST               1 (a)\n",
      "\n",
      "  3          12 LOAD_FAST                1 (a)\n",
      "             14 RETURN_VALUE\n"
     ]
    }
   ],
   "source": [
    "dis.dis(mylist)"
   ]
  },
  {
   "cell_type": "code",
   "execution_count": 39,
   "metadata": {},
   "outputs": [],
   "source": [
    "def mylist2():\n",
    "    a = [x for x in range(5)]\n",
    "    return a"
   ]
  },
  {
   "cell_type": "code",
   "execution_count": 40,
   "metadata": {},
   "outputs": [
    {
     "name": "stdout",
     "output_type": "stream",
     "text": [
      "  2           0 LOAD_CONST               1 (<code object <listcomp> at 0x11237ac90, file \"<ipython-input-39-f09ffd4249cb>\", line 2>)\n",
      "              2 LOAD_CONST               2 ('mylist2.<locals>.<listcomp>')\n",
      "              4 MAKE_FUNCTION            0\n",
      "              6 LOAD_GLOBAL              0 (range)\n",
      "              8 LOAD_CONST               3 (5)\n",
      "             10 CALL_FUNCTION            1\n",
      "             12 GET_ITER\n",
      "             14 CALL_FUNCTION            1\n",
      "             16 STORE_FAST               0 (a)\n",
      "\n",
      "  3          18 LOAD_FAST                0 (a)\n",
      "             20 RETURN_VALUE\n"
     ]
    }
   ],
   "source": [
    "dis.dis(mylist2)"
   ]
  },
  {
   "cell_type": "code",
   "execution_count": 41,
   "metadata": {},
   "outputs": [
    {
     "name": "stdout",
     "output_type": "stream",
     "text": [
      "Name:              mylist2\n",
      "Filename:          <ipython-input-39-f09ffd4249cb>\n",
      "Argument count:    0\n",
      "Kw-only arguments: 0\n",
      "Number of locals:  1\n",
      "Stack size:        3\n",
      "Flags:             OPTIMIZED, NEWLOCALS, NOFREE\n",
      "Constants:\n",
      "   0: None\n",
      "   1: <code object <listcomp> at 0x11237ac90, file \"<ipython-input-39-f09ffd4249cb>\", line 2>\n",
      "   2: 'mylist2.<locals>.<listcomp>'\n",
      "   3: 5\n",
      "Names:\n",
      "   0: range\n",
      "Variable names:\n",
      "   0: a\n"
     ]
    }
   ],
   "source": [
    "dis.show_code(mylist2)"
   ]
  },
  {
   "cell_type": "code",
   "execution_count": 42,
   "metadata": {},
   "outputs": [
    {
     "data": {
      "text/plain": [
       "(None,\n",
       " <code object <listcomp> at 0x11237ac90, file \"<ipython-input-39-f09ffd4249cb>\", line 2>,\n",
       " 'mylist2.<locals>.<listcomp>',\n",
       " 5)"
      ]
     },
     "execution_count": 42,
     "metadata": {},
     "output_type": "execute_result"
    }
   ],
   "source": [
    "mylist2.__code__.co_consts"
   ]
  },
  {
   "cell_type": "code",
   "execution_count": 45,
   "metadata": {},
   "outputs": [
    {
     "data": {
      "text/plain": [
       "['__class__',\n",
       " '__delattr__',\n",
       " '__dir__',\n",
       " '__doc__',\n",
       " '__eq__',\n",
       " '__format__',\n",
       " '__ge__',\n",
       " '__getattribute__',\n",
       " '__gt__',\n",
       " '__hash__',\n",
       " '__init__',\n",
       " '__init_subclass__',\n",
       " '__le__',\n",
       " '__lt__',\n",
       " '__ne__',\n",
       " '__new__',\n",
       " '__reduce__',\n",
       " '__reduce_ex__',\n",
       " '__repr__',\n",
       " '__setattr__',\n",
       " '__sizeof__',\n",
       " '__str__',\n",
       " '__subclasshook__',\n",
       " 'co_argcount',\n",
       " 'co_cellvars',\n",
       " 'co_code',\n",
       " 'co_consts',\n",
       " 'co_filename',\n",
       " 'co_firstlineno',\n",
       " 'co_flags',\n",
       " 'co_freevars',\n",
       " 'co_kwonlyargcount',\n",
       " 'co_lnotab',\n",
       " 'co_name',\n",
       " 'co_names',\n",
       " 'co_nlocals',\n",
       " 'co_stacksize',\n",
       " 'co_varnames']"
      ]
     },
     "execution_count": 45,
     "metadata": {},
     "output_type": "execute_result"
    }
   ],
   "source": [
    "dir(mylist2.__code__.co_consts[1])"
   ]
  },
  {
   "cell_type": "code",
   "execution_count": 46,
   "metadata": {},
   "outputs": [
    {
     "name": "stdout",
     "output_type": "stream",
     "text": [
      "Name:              <listcomp>\n",
      "Filename:          <ipython-input-39-f09ffd4249cb>\n",
      "Argument count:    1\n",
      "Kw-only arguments: 0\n",
      "Number of locals:  2\n",
      "Stack size:        3\n",
      "Flags:             OPTIMIZED, NEWLOCALS, NESTED, NOFREE\n",
      "Variable names:\n",
      "   0: .0\n",
      "   1: x\n"
     ]
    }
   ],
   "source": [
    "dis.show_code(mylist2.__code__.co_consts[1])"
   ]
  },
  {
   "cell_type": "code",
   "execution_count": 49,
   "metadata": {},
   "outputs": [
    {
     "data": {
      "text/plain": [
       "str"
      ]
     },
     "execution_count": 49,
     "metadata": {},
     "output_type": "execute_result"
    }
   ],
   "source": [
    "type(mylist2.__code__.co_consts[2])"
   ]
  },
  {
   "cell_type": "code",
   "execution_count": 51,
   "metadata": {},
   "outputs": [
    {
     "data": {
      "text/plain": [
       "67"
      ]
     },
     "execution_count": 51,
     "metadata": {},
     "output_type": "execute_result"
    }
   ],
   "source": [
    "mylist2.__code__.co_flags"
   ]
  },
  {
   "cell_type": "code",
   "execution_count": 54,
   "metadata": {},
   "outputs": [
    {
     "data": {
      "text/plain": [
       "b'\\x00\\x01\\x12\\x01'"
      ]
     },
     "execution_count": 54,
     "metadata": {},
     "output_type": "execute_result"
    }
   ],
   "source": [
    "mylist2.__code__.co_lnotab # 两个一组，分别表示（字节码的偏移位置，相对前一组行号的增量）"
   ]
  },
  {
   "cell_type": "code",
   "execution_count": 59,
   "metadata": {},
   "outputs": [
    {
     "data": {
      "text/plain": [
       "'mylist2'"
      ]
     },
     "execution_count": 59,
     "metadata": {},
     "output_type": "execute_result"
    }
   ],
   "source": [
    "mylist2.__code__.co_name"
   ]
  },
  {
   "cell_type": "code",
   "execution_count": 60,
   "metadata": {},
   "outputs": [
    {
     "data": {
      "text/plain": [
       "('range',)"
      ]
     },
     "execution_count": 60,
     "metadata": {},
     "output_type": "execute_result"
    }
   ],
   "source": [
    "mylist2.__code__.co_names"
   ]
  },
  {
   "cell_type": "code",
   "execution_count": 61,
   "metadata": {},
   "outputs": [
    {
     "data": {
      "text/plain": [
       "1"
      ]
     },
     "execution_count": 61,
     "metadata": {},
     "output_type": "execute_result"
    }
   ],
   "source": [
    "mylist2.__code__.co_nlocals"
   ]
  },
  {
   "cell_type": "code",
   "execution_count": 62,
   "metadata": {},
   "outputs": [
    {
     "data": {
      "text/plain": [
       "3"
      ]
     },
     "execution_count": 62,
     "metadata": {},
     "output_type": "execute_result"
    }
   ],
   "source": [
    "mylist2.__code__.co_stacksize"
   ]
  },
  {
   "cell_type": "code",
   "execution_count": 63,
   "metadata": {},
   "outputs": [
    {
     "data": {
      "text/plain": [
       "('a',)"
      ]
     },
     "execution_count": 63,
     "metadata": {},
     "output_type": "execute_result"
    }
   ],
   "source": [
    "mylist2.__code__.co_varnames"
   ]
  },
  {
   "cell_type": "markdown",
   "metadata": {},
   "source": [
    "Code objects\n",
    "Code objects represent byte-compiled executable Python code, or bytecode. The difference between a code object and a function object is that the function object contains an explicit reference to the function’s globals (the module in which it was defined), while a code object contains no context; also the default argument values are stored in the function object, not in the code object (because they represent values calculated at run-time). Unlike function objects, code objects are immutable and contain no references (directly or indirectly) to mutable objects.\n",
    "\n",
    "Special read-only attributes: \n",
    "- co_name gives the function name; \n",
    "- co_argcount is the number of positional arguments (including arguments with default values); \n",
    "- co_nlocals is the number of local variables used by the function (including arguments); \n",
    "- co_varnames is a tuple containing the names of the local variables (starting with the argument names); \n",
    "- co_cellvars is a tuple containing the names of local variables that are referenced by nested functions; \n",
    "- co_freevars is a tuple containing the names of free variables; \n",
    "- co_code is a string representing the sequence of bytecode instructions; \n",
    "- co_consts is a tuple containing the literals used by the bytecode; \n",
    "- co_names is a tuple containing the names used by the bytecode; \n",
    "- co_filename is the filename from which the code was compiled; \n",
    "- co_firstlineno is the first line number of the function; \n",
    "- co_lnotab is a string encoding the mapping from bytecode offsets to line numbers (for details see the source code of the interpreter); \n",
    "- co_stacksize is the required stack size (including local variables); \n",
    "- co_flags is an integer encoding a number of flags for the interpreter.\n",
    "\n",
    "The following flag bits are defined for co_flags: bit 0x04 is set if the function uses the *arguments syntax to accept an arbitrary number of positional arguments; bit 0x08 is set if the function uses the **keywords syntax to accept arbitrary keyword arguments; bit 0x20 is set if the function is a generator.\n",
    "\n",
    "Future feature declarations (from __future__ import division) also use bits in co_flags to indicate whether a code object was compiled with a particular feature enabled: bit 0x2000 is set if the function was compiled with future division enabled; bits 0x10 and 0x1000 were used in earlier versions of Python.\n",
    "\n",
    "Other bits in co_flags are reserved for internal use.\n",
    "\n",
    "If a code object represents a function, the first item in co_consts is the documentation string of the function, or None if undefined."
   ]
  },
  {
   "cell_type": "code",
   "execution_count": 3,
   "metadata": {},
   "outputs": [
    {
     "name": "stdout",
     "output_type": "stream",
     "text": [
      "  2           0 LOAD_CONST               1 (1)\n",
      "              2 LOAD_CONST               2 (2)\n",
      "              4 LOAD_CONST               3 (3)\n",
      "              6 BUILD_LIST               3\n",
      "              8 STORE_FAST               0 (a)\n",
      "\n",
      "  3          10 LOAD_GLOBAL              0 (len)\n",
      "             12 LOAD_FAST                0 (a)\n",
      "             14 CALL_FUNCTION            1\n",
      "             16 STORE_FAST               1 (b)\n",
      "             18 LOAD_CONST               0 (None)\n",
      "             20 RETURN_VALUE\n"
     ]
    }
   ],
   "source": [
    "def test_len():\n",
    "    a = [1,2,3]\n",
    "    b = len(a)\n",
    "dis.dis(test_len)"
   ]
  },
  {
   "cell_type": "code",
   "execution_count": 200,
   "metadata": {},
   "outputs": [
    {
     "data": {
      "text/plain": [
       "<module 'builtins' (built-in)>"
      ]
     },
     "execution_count": 200,
     "metadata": {},
     "output_type": "execute_result"
    }
   ],
   "source": [
    "globals()['__builtins__']"
   ]
  },
  {
   "cell_type": "code",
   "execution_count": 201,
   "metadata": {},
   "outputs": [
    {
     "name": "stdout",
     "output_type": "stream",
     "text": [
      "out-->co_argcount        : 2\n",
      "out-->co_kwonlyargcount  : 0\n",
      "out-->co_nlocals         : 5\n",
      "out-->co_stacksize       : 4\n",
      "out-->co_flags           : 15\n",
      "out-->co_code            : b'd\\x01\\x89\\x00d\\x14\\x87\\x00f\\x01d\\x03d\\x04\\x84\\t}\\x04t\\x00d\\x05|\\x04j\\x01j\\x02\\x83\\x02\\x01\\x00t\\x00d\\x06|\\x04j\\x01j\\x03\\x83\\x02\\x01\\x00t\\x00d\\x07|\\x04j\\x01j\\x04\\x83\\x02\\x01\\x00t\\x00d\\x08|\\x04j\\x01j\\x05\\x83\\x02\\x01\\x00t\\x00d\\t|\\x04j\\x01j\\x06\\x83\\x02\\x01\\x00t\\x00d\\n|\\x04j\\x01j\\x07\\x83\\x02\\x01\\x00t\\x00d\\x0b|\\x04j\\x01j\\x08\\x83\\x02\\x01\\x00t\\x00d\\x0c|\\x04j\\x01j\\t\\x83\\x02\\x01\\x00t\\x00d\\r|\\x04j\\x01j\\n\\x83\\x02\\x01\\x00t\\x00d\\x0e|\\x04j\\x01j\\x0b\\x83\\x02\\x01\\x00t\\x00d\\x0f|\\x04j\\x01j\\x0c\\x83\\x02\\x01\\x00t\\x00d\\x10|\\x04j\\x01j\\r\\x83\\x02\\x01\\x00t\\x00d\\x11|\\x04j\\x01j\\x0e\\x83\\x02\\x01\\x00t\\x00d\\x12|\\x04j\\x01j\\x0f\\x83\\x02\\x01\\x00t\\x00d\\x13|\\x04j\\x01j\\x10\\x83\\x02\\x01\\x00d\\x00S\\x00'\n",
      "out-->co_consts          : (None, 2, 3, <code object inner at 0x106c98ed0, file \"<ipython-input-201-9bbe432d4b53>\", line 4>, 'out.<locals>.inner', 'inner-->co_argcount        :', 'inner-->co_kwonlyargcount  :', 'inner-->co_nlocals         :', 'inner-->co_stacksize       :', 'inner-->co_flags           :', 'inner-->co_code            :', 'inner-->co_consts          :', 'inner-->co_names           :', 'inner-->co_varnames        :', 'inner-->co_freevars        :', 'inner-->co_cellvars        :', 'inner-->co_filename        :', 'inner-->co_name            :', 'inner-->co_firstlineno     :', 'inner-->co_lnotab          :', (3,))\n",
      "out-->co_names           : ('print', '__code__', 'co_argcount', 'co_kwonlyargcount', 'co_nlocals', 'co_stacksize', 'co_flags', 'co_code', 'co_consts', 'co_names', 'co_varnames', 'co_freevars', 'co_cellvars', 'co_filename', 'co_name', 'co_firstlineno', 'co_lnotab')\n",
      "out-->co_varnames        : ('a', 'b', 'args', 'kwargs', 'inner')\n",
      "out-->co_freevars        : ()\n",
      "out-->co_cellvars        : ('c',)\n",
      "out-->co_filename        : <ipython-input-201-9bbe432d4b53>\n",
      "out-->co_name            : out\n",
      "out-->co_firstlineno     : 2\n",
      "out-->co_lnotab          : b'\\x00\\x01\\x04\\x01\\x0e\\x03\\x0e\\x01\\x0e\\x01\\x0e\\x01\\x0e\\x01\\x0e\\x01\\x0e\\x01\\x0e\\x01\\x0e\\x01\\x0e\\x01\\x0e\\x01\\x0e\\x01\\x0e\\x01\\x0e\\x01\\x0e\\x01'\n",
      "=========================================================\n",
      "inner-->co_argcount        : 2\n",
      "inner-->co_kwonlyargcount  : 0\n",
      "inner-->co_nlocals         : 6\n",
      "inner-->co_stacksize       : 1\n",
      "inner-->co_flags           : 31\n",
      "inner-->co_code            : b'd\\x01}\\x04\\x88\\x00}\\x05d\\x00S\\x00'\n",
      "inner-->co_consts          : (None, 4)\n",
      "inner-->co_names           : ()\n",
      "inner-->co_varnames        : ('d', 'e', 'iargs', 'ikwargs', 'f', 'g')\n",
      "inner-->co_freevars        : ('c',)\n",
      "inner-->co_cellvars        : ()\n",
      "inner-->co_filename        : <ipython-input-201-9bbe432d4b53>\n",
      "inner-->co_name            : inner\n",
      "inner-->co_firstlineno     : 4\n",
      "inner-->co_lnotab          : b'\\x00\\x01\\x04\\x01'\n",
      "\n",
      "disamble:\n",
      "  3           0 LOAD_CONST               1 (2)\n",
      "              2 STORE_DEREF              0 (c)\n",
      "\n",
      "  4           4 LOAD_CONST              20 ((3,))\n",
      "              6 LOAD_CLOSURE             0 (c)\n",
      "              8 BUILD_TUPLE              1\n",
      "             10 LOAD_CONST               3 (<code object inner at 0x106c98ed0, file \"<ipython-input-201-9bbe432d4b53>\", line 4>)\n",
      "             12 LOAD_CONST               4 ('out.<locals>.inner')\n",
      "             14 MAKE_FUNCTION            9\n",
      "             16 STORE_FAST               4 (inner)\n",
      "\n",
      "  7          18 LOAD_GLOBAL              0 (print)\n",
      "             20 LOAD_CONST               5 ('inner-->co_argcount        :')\n",
      "             22 LOAD_FAST                4 (inner)\n",
      "             24 LOAD_ATTR                1 (__code__)\n",
      "             26 LOAD_ATTR                2 (co_argcount)\n",
      "             28 CALL_FUNCTION            2\n",
      "             30 POP_TOP\n",
      "\n",
      "  8          32 LOAD_GLOBAL              0 (print)\n",
      "             34 LOAD_CONST               6 ('inner-->co_kwonlyargcount  :')\n",
      "             36 LOAD_FAST                4 (inner)\n",
      "             38 LOAD_ATTR                1 (__code__)\n",
      "             40 LOAD_ATTR                3 (co_kwonlyargcount)\n",
      "             42 CALL_FUNCTION            2\n",
      "             44 POP_TOP\n",
      "\n",
      "  9          46 LOAD_GLOBAL              0 (print)\n",
      "             48 LOAD_CONST               7 ('inner-->co_nlocals         :')\n",
      "             50 LOAD_FAST                4 (inner)\n",
      "             52 LOAD_ATTR                1 (__code__)\n",
      "             54 LOAD_ATTR                4 (co_nlocals)\n",
      "             56 CALL_FUNCTION            2\n",
      "             58 POP_TOP\n",
      "\n",
      " 10          60 LOAD_GLOBAL              0 (print)\n",
      "             62 LOAD_CONST               8 ('inner-->co_stacksize       :')\n",
      "             64 LOAD_FAST                4 (inner)\n",
      "             66 LOAD_ATTR                1 (__code__)\n",
      "             68 LOAD_ATTR                5 (co_stacksize)\n",
      "             70 CALL_FUNCTION            2\n",
      "             72 POP_TOP\n",
      "\n",
      " 11          74 LOAD_GLOBAL              0 (print)\n",
      "             76 LOAD_CONST               9 ('inner-->co_flags           :')\n",
      "             78 LOAD_FAST                4 (inner)\n",
      "             80 LOAD_ATTR                1 (__code__)\n",
      "             82 LOAD_ATTR                6 (co_flags)\n",
      "             84 CALL_FUNCTION            2\n",
      "             86 POP_TOP\n",
      "\n",
      " 12          88 LOAD_GLOBAL              0 (print)\n",
      "             90 LOAD_CONST              10 ('inner-->co_code            :')\n",
      "             92 LOAD_FAST                4 (inner)\n",
      "             94 LOAD_ATTR                1 (__code__)\n",
      "             96 LOAD_ATTR                7 (co_code)\n",
      "             98 CALL_FUNCTION            2\n",
      "            100 POP_TOP\n",
      "\n",
      " 13         102 LOAD_GLOBAL              0 (print)\n",
      "            104 LOAD_CONST              11 ('inner-->co_consts          :')\n",
      "            106 LOAD_FAST                4 (inner)\n",
      "            108 LOAD_ATTR                1 (__code__)\n",
      "            110 LOAD_ATTR                8 (co_consts)\n",
      "            112 CALL_FUNCTION            2\n",
      "            114 POP_TOP\n",
      "\n",
      " 14         116 LOAD_GLOBAL              0 (print)\n",
      "            118 LOAD_CONST              12 ('inner-->co_names           :')\n",
      "            120 LOAD_FAST                4 (inner)\n",
      "            122 LOAD_ATTR                1 (__code__)\n",
      "            124 LOAD_ATTR                9 (co_names)\n",
      "            126 CALL_FUNCTION            2\n",
      "            128 POP_TOP\n",
      "\n",
      " 15         130 LOAD_GLOBAL              0 (print)\n",
      "            132 LOAD_CONST              13 ('inner-->co_varnames        :')\n",
      "            134 LOAD_FAST                4 (inner)\n",
      "            136 LOAD_ATTR                1 (__code__)\n",
      "            138 LOAD_ATTR               10 (co_varnames)\n",
      "            140 CALL_FUNCTION            2\n",
      "            142 POP_TOP\n",
      "\n",
      " 16         144 LOAD_GLOBAL              0 (print)\n",
      "            146 LOAD_CONST              14 ('inner-->co_freevars        :')\n",
      "            148 LOAD_FAST                4 (inner)\n",
      "            150 LOAD_ATTR                1 (__code__)\n",
      "            152 LOAD_ATTR               11 (co_freevars)\n",
      "            154 CALL_FUNCTION            2\n",
      "            156 POP_TOP\n",
      "\n",
      " 17         158 LOAD_GLOBAL              0 (print)\n",
      "            160 LOAD_CONST              15 ('inner-->co_cellvars        :')\n",
      "            162 LOAD_FAST                4 (inner)\n",
      "            164 LOAD_ATTR                1 (__code__)\n",
      "            166 LOAD_ATTR               12 (co_cellvars)\n",
      "            168 CALL_FUNCTION            2\n",
      "            170 POP_TOP\n",
      "\n",
      " 18         172 LOAD_GLOBAL              0 (print)\n",
      "            174 LOAD_CONST              16 ('inner-->co_filename        :')\n",
      "            176 LOAD_FAST                4 (inner)\n",
      "            178 LOAD_ATTR                1 (__code__)\n",
      "            180 LOAD_ATTR               13 (co_filename)\n",
      "            182 CALL_FUNCTION            2\n",
      "            184 POP_TOP\n",
      "\n",
      " 19         186 LOAD_GLOBAL              0 (print)\n",
      "            188 LOAD_CONST              17 ('inner-->co_name            :')\n",
      "            190 LOAD_FAST                4 (inner)\n",
      "            192 LOAD_ATTR                1 (__code__)\n",
      "            194 LOAD_ATTR               14 (co_name)\n",
      "            196 CALL_FUNCTION            2\n",
      "            198 POP_TOP\n",
      "\n",
      " 20         200 LOAD_GLOBAL              0 (print)\n",
      "            202 LOAD_CONST              18 ('inner-->co_firstlineno     :')\n",
      "            204 LOAD_FAST                4 (inner)\n",
      "            206 LOAD_ATTR                1 (__code__)\n",
      "            208 LOAD_ATTR               15 (co_firstlineno)\n",
      "            210 CALL_FUNCTION            2\n",
      "            212 POP_TOP\n",
      "\n",
      " 21         214 LOAD_GLOBAL              0 (print)\n",
      "            216 LOAD_CONST              19 ('inner-->co_lnotab          :')\n",
      "            218 LOAD_FAST                4 (inner)\n",
      "            220 LOAD_ATTR                1 (__code__)\n",
      "            222 LOAD_ATTR               16 (co_lnotab)\n",
      "            224 CALL_FUNCTION            2\n",
      "            226 POP_TOP\n",
      "            228 LOAD_CONST               0 (None)\n",
      "            230 RETURN_VALUE\n",
      "None\n"
     ]
    }
   ],
   "source": [
    "import dis\n",
    "def out(a, b=1, *args, **kwargs):\n",
    "    c = 2\n",
    "    def inner(d, e=3, *iargs, **ikwargs):\n",
    "        f = 4\n",
    "        g = c\n",
    "    print('inner-->co_argcount        :', inner.__code__.co_argcount)\n",
    "    print('inner-->co_kwonlyargcount  :', inner.__code__.co_kwonlyargcount)\n",
    "    print('inner-->co_nlocals         :', inner.__code__.co_nlocals)\n",
    "    print('inner-->co_stacksize       :', inner.__code__.co_stacksize)\n",
    "    print('inner-->co_flags           :', inner.__code__.co_flags)\n",
    "    print('inner-->co_code            :', inner.__code__.co_code)\n",
    "    print('inner-->co_consts          :', inner.__code__.co_consts)\n",
    "    print('inner-->co_names           :', inner.__code__.co_names)\n",
    "    print('inner-->co_varnames        :', inner.__code__.co_varnames)\n",
    "    print('inner-->co_freevars        :', inner.__code__.co_freevars)\n",
    "    print('inner-->co_cellvars        :', inner.__code__.co_cellvars)\n",
    "    print('inner-->co_filename        :', inner.__code__.co_filename)\n",
    "    print('inner-->co_name            :', inner.__code__.co_name)\n",
    "    print('inner-->co_firstlineno     :', inner.__code__.co_firstlineno)\n",
    "    print('inner-->co_lnotab          :', inner.__code__.co_lnotab)\n",
    "    \n",
    "print('out-->co_argcount        :', out.__code__.co_argcount)\n",
    "print('out-->co_kwonlyargcount  :', out.__code__.co_kwonlyargcount)\n",
    "print('out-->co_nlocals         :', out.__code__.co_nlocals)\n",
    "print('out-->co_stacksize       :', out.__code__.co_stacksize)\n",
    "print('out-->co_flags           :', out.__code__.co_flags)\n",
    "print('out-->co_code            :', out.__code__.co_code)\n",
    "print('out-->co_consts          :', out.__code__.co_consts)\n",
    "print('out-->co_names           :', out.__code__.co_names)\n",
    "print('out-->co_varnames        :', out.__code__.co_varnames)\n",
    "print('out-->co_freevars        :', out.__code__.co_freevars)\n",
    "print('out-->co_cellvars        :', out.__code__.co_cellvars)\n",
    "print('out-->co_filename        :', out.__code__.co_filename)\n",
    "print('out-->co_name            :', out.__code__.co_name)\n",
    "print('out-->co_firstlineno     :', out.__code__.co_firstlineno)\n",
    "print('out-->co_lnotab          :', out.__code__.co_lnotab)\n",
    "print('=========================================================')\n",
    "out(1, 2, 3, 4, 5, 6, 7, e = 8, f = 9)\n",
    "print()\n",
    "print('disamble:')\n",
    "print(dis.dis(out))"
   ]
  },
  {
   "cell_type": "markdown",
   "metadata": {},
   "source": [
    "```\n",
    "out-->co_argcount        : 2     # a, b\n",
    "out-->co_nlocals         : 5     # a, b, c, d, e\n",
    "out-->co_stacksize       : 3     \n",
    "out-->co_flags           : 65551 # b'0b10000000000001111'  CO_FUTURE_PRINT_FUNCTION|CO_VARKEYWORDS|CO_VARARGS|CO_NEWLOCALS|CO_OPTIMIZED \n",
    "out-->co_code            : ddfd}t...  # 部分省略，后续分析\n",
    "out-->co_consts          : (None, 2, 3, , 'inner-->co_argcount        :', # 省略其他'inner-->')  # 常量值，这里添加了默认返回值None\n",
    "out-->co_names           : ('print', '__code__', 'co_argcount', 'co_nlocals', 'co_stacksize', 'co_flags', 'co_code', 'co_consts', 'co_names', 'co_varnames', 'co_freevars','co_cellvars', 'co_filename', 'co_name', 'co_firstlineno', 'co_lnotab')  # 常量名\n",
    "out-->co_varnames        : ('a', 'b', 'args', 'kwargs', 'inner')   # 变量名字，包括参数变量和内部变量\n",
    "out-->co_freevars        : ()                                      # 无\n",
    "out-->co_cellvars        : ('c',)                                  # 用于给子作用域使用的变量\n",
    "out-->co_filename        : pycode.py          \n",
    "out-->co_name            : out\n",
    "out-->co_firstlineno     : 3                                       # 起始行号\n",
    "out-->co_lnotab          :                                         # 省略\n",
    "=========================================================\n",
    "inner-->co_argcount        : 2                                     # d, e\n",
    "inner-->co_nlocals         : 6                                     # d, e, iargs, ikwargs, f, g\n",
    "inner-->co_stacksize       : 1                                     # \n",
    "inner-->co_flags           : 65567                                 # '0b10000000000011111' CO_FUTURE_PRINT_FUNCTION|CO_NESTED |CO_VARKEYWORDS|CO_VARARGS|CO_NEWLOCALS|CO_OPTIMIZED\n",
    "inner-->co_code            : d}}dS                                 # 省略\n",
    "inner-->co_consts          : (None, 4)                             # 常量\n",
    "inner-->co_names           : ()                                    #\n",
    "inner-->co_varnames        : ('d', 'e', 'iargs', 'ikwargs', 'f', 'g')   # 变量名字\n",
    "inner-->co_freevars        : ('c',)                                     # 自由变量，引用的父作用域的变量\n",
    "inner-->co_cellvars        : ()                                         # 无\n",
    "inner-->co_filename        : pycode.py\n",
    "inner-->co_name            : inner\n",
    "inner-->co_firstlineno     : 6                                          # 起始行号\n",
    "inner-->co_lnotab          :                                            # 省略\n",
    "```"
   ]
  },
  {
   "cell_type": "markdown",
   "metadata": {},
   "source": [
    "co_code的十六进制内容  \n",
    "0000000: 6401 0089 0000 6402 0087 0000 6601 0064  d.....d.....f..d  \n",
    "0000010: 0300 8601 007d 0400 6400 0053 0a         .....}..d..S.\n",
    "- 十六进制的第一个为64值100，查阅opcode.h可以看到起对应的字节码#define LOAD_CONST 100，与反编译中的命令LOAD_CONST相符。\n",
    "- 十六进制的第二个为01值01，对应的是字节码LOAD_CONST的参数1。\n",
    "- 十六进制的第三个为00值00，此值表示STOP_CDOE，一个完整字节码的结束标志。"
   ]
  },
  {
   "cell_type": "markdown",
   "metadata": {},
   "source": [
    "Python模拟了C语言中的运行栈作为运行时的环境，每个栈用PyFrameObject结构表示。\n",
    "```\n",
    "typedef struct _frame {\n",
    "    PyObject_VAR_HEAD\n",
    "    struct _frame *f_back;     // 前一个运行栈，调用方\n",
    "    PyCodeObject *f_code;      // 执行的PyCodeObject对象\n",
    "    PyObject *f_builtins;      // builtins环境变量集合\n",
    "    PyObject *f_globals;       // globals全局变量集合\n",
    "    PyObject *f_locals;        // locals本地变量集合\n",
    "    PyObject **f_valuestack;   // 栈起始地址，最后一个本地变量之后\n",
    "    PyObject **f_stacktop;     // 栈针位置，指向栈中下一个空闲位置\n",
    "    PyObject *f_trace;         // trace函数\n",
    "    PyObject *f_exc_type, *f_exc_value, *f_exc_traceback;  // 记录异常处理\n",
    "    PyThreadState *f_tstate;   // 当前的线程\n",
    "    int f_lasti;               // 当前执行的字节码的地址\n",
    "    int f_lineno;              // 当前的行号\n",
    "    int f_iblock;              // 一些局部block块\n",
    "    PyTryBlock f_blockstack[CO_MAXBLOCKS]; /* for try and loop blocks */\n",
    "    PyObject *f_localsplus[1];  // 栈地址，大小为 本地变量+co_stacksize\n",
    "} PyFrameObject;\n",
    "```"
   ]
  },
  {
   "cell_type": "markdown",
   "metadata": {},
   "source": [
    "通过追踪每个指令码的执行过程以及对应的PyFrameObject的栈帧变化，可以一步步看到虚拟机的执行过程。\n",
    "```\n",
    "PyObject *\n",
    "PyEval_EvalFrame(PyFrameObject *f) {\n",
    "    co = f->f_code;\n",
    "    names = co->co_names;\n",
    "    consts = co->co_consts;\n",
    "    fastlocals = f->f_localsplus;\n",
    "    // freevars在内存中对应的不是f->f_freevars，而是f->f_cellvars\n",
    "    freevars = f->f_localsplus + co->co_nlocals;\n",
    "    first_instr = (unsigned char*) PyString_AS_STRING(co->co_code);\n",
    "    // f->f_lasti默认值为-1\n",
    "    next_instr = first_instr + f->f_lasti + 1;\n",
    "    // 执行栈顶\n",
    "    stack_pointer = f->f_stacktop;\n",
    "    for (;;) {\n",
    "    \n",
    "        fast_next_opcode:\n",
    "            f->f_lasti = INSTR_OFFSET();\n",
    "        \n",
    "            opcode = NEXTOP();    // 获取字节码\n",
    "            oparg = 0;   \n",
    "            if (HAS_ARG(opcode))  // 如果字节码有参数，获取参数\n",
    "                oparg = NEXTARG();\n",
    "            TARGET(LOAD_CONST)    // 0, 6, 24 行反编译指令LOAD_CONST\n",
    "        {\n",
    "            x = GETITEM(consts, oparg);   // 从const中获取值压栈\n",
    "            Py_INCREF(x);\n",
    "            PUSH(x);                      \n",
    "            FAST_DISPATCH();              // goto fast_next_opcode\n",
    "        }\n",
    "        \n",
    "        ...\n",
    "        \n",
    "        \n",
    "        TARGET(STORE_DEREF)        // 3\n",
    "        {\n",
    "            w = POP();                   // 从栈中取值，设置为CellObejct的值\n",
    "            x = freevars[oparg];         \n",
    "            PyCell_Set(x, w);            \n",
    "            Py_DECREF(w);\n",
    "            DISPATCH();\n",
    "        }\n",
    "```"
   ]
  },
  {
   "cell_type": "code",
   "execution_count": null,
   "metadata": {},
   "outputs": [],
   "source": []
  }
 ],
 "metadata": {
  "kernelspec": {
   "display_name": "Python 3",
   "language": "python",
   "name": "python3"
  },
  "language_info": {
   "codemirror_mode": {
    "name": "ipython",
    "version": 3
   },
   "file_extension": ".py",
   "mimetype": "text/x-python",
   "name": "python",
   "nbconvert_exporter": "python",
   "pygments_lexer": "ipython3",
   "version": "3.6.5"
  }
 },
 "nbformat": 4,
 "nbformat_minor": 2
}
