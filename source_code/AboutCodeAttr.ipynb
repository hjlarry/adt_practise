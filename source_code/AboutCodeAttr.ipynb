{
 "cells": [
  {
   "cell_type": "code",
   "execution_count": 4,
   "metadata": {},
   "outputs": [],
   "source": [
    "def add():\n",
    "    return lambda:10"
   ]
  },
  {
   "cell_type": "code",
   "execution_count": 2,
   "metadata": {},
   "outputs": [],
   "source": [
    "import dis"
   ]
  },
  {
   "cell_type": "code",
   "execution_count": 9,
   "metadata": {},
   "outputs": [
    {
     "name": "stdout",
     "output_type": "stream",
     "text": [
      "  2           0 LOAD_CONST               1 (10)\n",
      "              2 RETURN_VALUE\n"
     ]
    }
   ],
   "source": [
    "dis.dis(add())"
   ]
  },
  {
   "cell_type": "code",
   "execution_count": 8,
   "metadata": {},
   "outputs": [
    {
     "data": {
      "text/plain": [
       "10"
      ]
     },
     "execution_count": 8,
     "metadata": {},
     "output_type": "execute_result"
    }
   ],
   "source": [
    "add()()"
   ]
  },
  {
   "cell_type": "code",
   "execution_count": 11,
   "metadata": {},
   "outputs": [
    {
     "name": "stdout",
     "output_type": "stream",
     "text": [
      "Name:              add\n",
      "Filename:          <ipython-input-4-e7b2d5750920>\n",
      "Argument count:    0\n",
      "Kw-only arguments: 0\n",
      "Number of locals:  0\n",
      "Stack size:        2\n",
      "Flags:             OPTIMIZED, NEWLOCALS, NOFREE\n",
      "Constants:\n",
      "   0: None\n",
      "   1: <code object <lambda> at 0x112106e40, file \"<ipython-input-4-e7b2d5750920>\", line 2>\n",
      "   2: 'add.<locals>.<lambda>'\n"
     ]
    }
   ],
   "source": [
    "dis.show_code(add)"
   ]
  },
  {
   "cell_type": "code",
   "execution_count": 13,
   "metadata": {},
   "outputs": [
    {
     "ename": "AttributeError",
     "evalue": "'code' object has no attribute '__dict__'",
     "output_type": "error",
     "traceback": [
      "\u001b[0;31m---------------------------------------------------------------------------\u001b[0m",
      "\u001b[0;31mAttributeError\u001b[0m                            Traceback (most recent call last)",
      "\u001b[0;32m<ipython-input-13-cd37794ff362>\u001b[0m in \u001b[0;36m<module>\u001b[0;34m()\u001b[0m\n\u001b[0;32m----> 1\u001b[0;31m \u001b[0madd\u001b[0m\u001b[0;34m.\u001b[0m\u001b[0m__code__\u001b[0m\u001b[0;34m.\u001b[0m\u001b[0m__dict__\u001b[0m\u001b[0;34m\u001b[0m\u001b[0m\n\u001b[0m",
      "\u001b[0;31mAttributeError\u001b[0m: 'code' object has no attribute '__dict__'"
     ]
    }
   ],
   "source": [
    "add.__code__.__dict__"
   ]
  },
  {
   "cell_type": "code",
   "execution_count": 14,
   "metadata": {},
   "outputs": [
    {
     "data": {
      "text/plain": [
       "['__class__',\n",
       " '__delattr__',\n",
       " '__dir__',\n",
       " '__doc__',\n",
       " '__eq__',\n",
       " '__format__',\n",
       " '__ge__',\n",
       " '__getattribute__',\n",
       " '__gt__',\n",
       " '__hash__',\n",
       " '__init__',\n",
       " '__init_subclass__',\n",
       " '__le__',\n",
       " '__lt__',\n",
       " '__ne__',\n",
       " '__new__',\n",
       " '__reduce__',\n",
       " '__reduce_ex__',\n",
       " '__repr__',\n",
       " '__setattr__',\n",
       " '__sizeof__',\n",
       " '__str__',\n",
       " '__subclasshook__',\n",
       " 'co_argcount',\n",
       " 'co_cellvars',\n",
       " 'co_code',\n",
       " 'co_consts',\n",
       " 'co_filename',\n",
       " 'co_firstlineno',\n",
       " 'co_flags',\n",
       " 'co_freevars',\n",
       " 'co_kwonlyargcount',\n",
       " 'co_lnotab',\n",
       " 'co_name',\n",
       " 'co_names',\n",
       " 'co_nlocals',\n",
       " 'co_stacksize',\n",
       " 'co_varnames']"
      ]
     },
     "execution_count": 14,
     "metadata": {},
     "output_type": "execute_result"
    }
   ],
   "source": [
    "dir(add.__code__)"
   ]
  },
  {
   "cell_type": "code",
   "execution_count": 16,
   "metadata": {},
   "outputs": [
    {
     "data": {
      "text/plain": [
       "(None,\n",
       " <code object <lambda> at 0x112106e40, file \"<ipython-input-4-e7b2d5750920>\", line 2>,\n",
       " 'add.<locals>.<lambda>')"
      ]
     },
     "execution_count": 16,
     "metadata": {},
     "output_type": "execute_result"
    }
   ],
   "source": [
    "add.__code__.co_consts"
   ]
  },
  {
   "cell_type": "code",
   "execution_count": 17,
   "metadata": {},
   "outputs": [
    {
     "data": {
      "text/plain": [
       "code"
      ]
     },
     "execution_count": 17,
     "metadata": {},
     "output_type": "execute_result"
    }
   ],
   "source": [
    "add.__code__.__class__"
   ]
  },
  {
   "cell_type": "code",
   "execution_count": 18,
   "metadata": {},
   "outputs": [
    {
     "data": {
      "text/plain": [
       "<method-wrapper '__delattr__' of code object at 0x1122eeb70>"
      ]
     },
     "execution_count": 18,
     "metadata": {},
     "output_type": "execute_result"
    }
   ],
   "source": [
    "add.__code__.__delattr__"
   ]
  },
  {
   "cell_type": "code",
   "execution_count": 19,
   "metadata": {},
   "outputs": [
    {
     "data": {
      "text/plain": [
       "<function code.__dir__>"
      ]
     },
     "execution_count": 19,
     "metadata": {},
     "output_type": "execute_result"
    }
   ],
   "source": [
    "add.__code__.__dir__"
   ]
  },
  {
   "cell_type": "code",
   "execution_count": 24,
   "metadata": {},
   "outputs": [
    {
     "data": {
      "text/plain": [
       "<method-wrapper '__init__' of code object at 0x1122eeb70>"
      ]
     },
     "execution_count": 24,
     "metadata": {},
     "output_type": "execute_result"
    }
   ],
   "source": [
    "add.__code__.__init__"
   ]
  },
  {
   "cell_type": "code",
   "execution_count": 25,
   "metadata": {},
   "outputs": [
    {
     "data": {
      "text/plain": [
       "mappingproxy({'__doc__': 'code(argcount, kwonlyargcount, nlocals, stacksize, flags, codestring,\\n      constants, names, varnames, filename, name, firstlineno,\\n      lnotab[, freevars[, cellvars]])\\n\\nCreate a code object.  Not for the faint of heart.',\n",
       "              '__eq__': <slot wrapper '__eq__' of 'code' objects>,\n",
       "              '__ge__': <slot wrapper '__ge__' of 'code' objects>,\n",
       "              '__getattribute__': <slot wrapper '__getattribute__' of 'code' objects>,\n",
       "              '__gt__': <slot wrapper '__gt__' of 'code' objects>,\n",
       "              '__hash__': <slot wrapper '__hash__' of 'code' objects>,\n",
       "              '__le__': <slot wrapper '__le__' of 'code' objects>,\n",
       "              '__lt__': <slot wrapper '__lt__' of 'code' objects>,\n",
       "              '__ne__': <slot wrapper '__ne__' of 'code' objects>,\n",
       "              '__new__': <function code.__new__>,\n",
       "              '__repr__': <slot wrapper '__repr__' of 'code' objects>,\n",
       "              '__sizeof__': <method '__sizeof__' of 'code' objects>,\n",
       "              'co_argcount': <member 'co_argcount' of 'code' objects>,\n",
       "              'co_cellvars': <member 'co_cellvars' of 'code' objects>,\n",
       "              'co_code': <member 'co_code' of 'code' objects>,\n",
       "              'co_consts': <member 'co_consts' of 'code' objects>,\n",
       "              'co_filename': <member 'co_filename' of 'code' objects>,\n",
       "              'co_firstlineno': <member 'co_firstlineno' of 'code' objects>,\n",
       "              'co_flags': <member 'co_flags' of 'code' objects>,\n",
       "              'co_freevars': <member 'co_freevars' of 'code' objects>,\n",
       "              'co_kwonlyargcount': <member 'co_kwonlyargcount' of 'code' objects>,\n",
       "              'co_lnotab': <member 'co_lnotab' of 'code' objects>,\n",
       "              'co_name': <member 'co_name' of 'code' objects>,\n",
       "              'co_names': <member 'co_names' of 'code' objects>,\n",
       "              'co_nlocals': <member 'co_nlocals' of 'code' objects>,\n",
       "              'co_stacksize': <member 'co_stacksize' of 'code' objects>,\n",
       "              'co_varnames': <member 'co_varnames' of 'code' objects>})"
      ]
     },
     "execution_count": 25,
     "metadata": {},
     "output_type": "execute_result"
    }
   ],
   "source": [
    "add.__code__.__class__.__dict__"
   ]
  },
  {
   "cell_type": "code",
   "execution_count": 26,
   "metadata": {},
   "outputs": [
    {
     "data": {
      "text/plain": [
       "'code(argcount, kwonlyargcount, nlocals, stacksize, flags, codestring,\\n      constants, names, varnames, filename, name, firstlineno,\\n      lnotab[, freevars[, cellvars]])\\n\\nCreate a code object.  Not for the faint of heart.'"
      ]
     },
     "execution_count": 26,
     "metadata": {},
     "output_type": "execute_result"
    }
   ],
   "source": [
    "add.__code__.__class__.__doc__"
   ]
  },
  {
   "cell_type": "markdown",
   "metadata": {},
   "source": [
    "### This code class is defined in cpython/Objects/codeobject.c"
   ]
  },
  {
   "cell_type": "code",
   "execution_count": 27,
   "metadata": {},
   "outputs": [],
   "source": [
    "def mydict():\n",
    "    a = {'x':1, 'y':'ssssds'}\n",
    "    return a"
   ]
  },
  {
   "cell_type": "code",
   "execution_count": 28,
   "metadata": {},
   "outputs": [
    {
     "name": "stdout",
     "output_type": "stream",
     "text": [
      "  2           0 LOAD_CONST               1 (1)\n",
      "              2 LOAD_CONST               2 ('ssssds')\n",
      "              4 LOAD_CONST               3 (('x', 'y'))\n",
      "              6 BUILD_CONST_KEY_MAP      2\n",
      "              8 STORE_FAST               0 (a)\n",
      "\n",
      "  3          10 LOAD_FAST                0 (a)\n",
      "             12 RETURN_VALUE\n"
     ]
    }
   ],
   "source": [
    "dis.dis(mydict)"
   ]
  },
  {
   "cell_type": "code",
   "execution_count": 29,
   "metadata": {},
   "outputs": [],
   "source": [
    "def mydict2():\n",
    "    a = {'x':1, 'y':'ssssds', 'z':print}\n",
    "    return a"
   ]
  },
  {
   "cell_type": "code",
   "execution_count": 30,
   "metadata": {},
   "outputs": [
    {
     "name": "stdout",
     "output_type": "stream",
     "text": [
      "  2           0 LOAD_CONST               1 (1)\n",
      "              2 LOAD_CONST               2 ('ssssds')\n",
      "              4 LOAD_GLOBAL              0 (print)\n",
      "              6 LOAD_CONST               3 (('x', 'y', 'z'))\n",
      "              8 BUILD_CONST_KEY_MAP      3\n",
      "             10 STORE_FAST               0 (a)\n",
      "\n",
      "  3          12 LOAD_FAST                0 (a)\n",
      "             14 RETURN_VALUE\n"
     ]
    }
   ],
   "source": [
    "dis.dis(mydict2)"
   ]
  },
  {
   "cell_type": "code",
   "execution_count": 33,
   "metadata": {},
   "outputs": [],
   "source": [
    "def mylist(z):\n",
    "    a = [1,2,3,z]\n",
    "    return a"
   ]
  },
  {
   "cell_type": "code",
   "execution_count": 34,
   "metadata": {},
   "outputs": [
    {
     "name": "stdout",
     "output_type": "stream",
     "text": [
      "  2           0 LOAD_CONST               1 (1)\n",
      "              2 LOAD_CONST               2 (2)\n",
      "              4 LOAD_CONST               3 (3)\n",
      "              6 LOAD_FAST                0 (z)\n",
      "              8 BUILD_LIST               4\n",
      "             10 STORE_FAST               1 (a)\n",
      "\n",
      "  3          12 LOAD_FAST                1 (a)\n",
      "             14 RETURN_VALUE\n"
     ]
    }
   ],
   "source": [
    "dis.dis(mylist)"
   ]
  },
  {
   "cell_type": "code",
   "execution_count": 39,
   "metadata": {},
   "outputs": [],
   "source": [
    "def mylist2():\n",
    "    a = [x for x in range(5)]\n",
    "    return a"
   ]
  },
  {
   "cell_type": "code",
   "execution_count": 40,
   "metadata": {},
   "outputs": [
    {
     "name": "stdout",
     "output_type": "stream",
     "text": [
      "  2           0 LOAD_CONST               1 (<code object <listcomp> at 0x11237ac90, file \"<ipython-input-39-f09ffd4249cb>\", line 2>)\n",
      "              2 LOAD_CONST               2 ('mylist2.<locals>.<listcomp>')\n",
      "              4 MAKE_FUNCTION            0\n",
      "              6 LOAD_GLOBAL              0 (range)\n",
      "              8 LOAD_CONST               3 (5)\n",
      "             10 CALL_FUNCTION            1\n",
      "             12 GET_ITER\n",
      "             14 CALL_FUNCTION            1\n",
      "             16 STORE_FAST               0 (a)\n",
      "\n",
      "  3          18 LOAD_FAST                0 (a)\n",
      "             20 RETURN_VALUE\n"
     ]
    }
   ],
   "source": [
    "dis.dis(mylist2)"
   ]
  },
  {
   "cell_type": "code",
   "execution_count": 41,
   "metadata": {},
   "outputs": [
    {
     "name": "stdout",
     "output_type": "stream",
     "text": [
      "Name:              mylist2\n",
      "Filename:          <ipython-input-39-f09ffd4249cb>\n",
      "Argument count:    0\n",
      "Kw-only arguments: 0\n",
      "Number of locals:  1\n",
      "Stack size:        3\n",
      "Flags:             OPTIMIZED, NEWLOCALS, NOFREE\n",
      "Constants:\n",
      "   0: None\n",
      "   1: <code object <listcomp> at 0x11237ac90, file \"<ipython-input-39-f09ffd4249cb>\", line 2>\n",
      "   2: 'mylist2.<locals>.<listcomp>'\n",
      "   3: 5\n",
      "Names:\n",
      "   0: range\n",
      "Variable names:\n",
      "   0: a\n"
     ]
    }
   ],
   "source": [
    "dis.show_code(mylist2)"
   ]
  },
  {
   "cell_type": "code",
   "execution_count": 42,
   "metadata": {},
   "outputs": [
    {
     "data": {
      "text/plain": [
       "(None,\n",
       " <code object <listcomp> at 0x11237ac90, file \"<ipython-input-39-f09ffd4249cb>\", line 2>,\n",
       " 'mylist2.<locals>.<listcomp>',\n",
       " 5)"
      ]
     },
     "execution_count": 42,
     "metadata": {},
     "output_type": "execute_result"
    }
   ],
   "source": [
    "mylist2.__code__.co_consts"
   ]
  },
  {
   "cell_type": "code",
   "execution_count": 45,
   "metadata": {},
   "outputs": [
    {
     "data": {
      "text/plain": [
       "['__class__',\n",
       " '__delattr__',\n",
       " '__dir__',\n",
       " '__doc__',\n",
       " '__eq__',\n",
       " '__format__',\n",
       " '__ge__',\n",
       " '__getattribute__',\n",
       " '__gt__',\n",
       " '__hash__',\n",
       " '__init__',\n",
       " '__init_subclass__',\n",
       " '__le__',\n",
       " '__lt__',\n",
       " '__ne__',\n",
       " '__new__',\n",
       " '__reduce__',\n",
       " '__reduce_ex__',\n",
       " '__repr__',\n",
       " '__setattr__',\n",
       " '__sizeof__',\n",
       " '__str__',\n",
       " '__subclasshook__',\n",
       " 'co_argcount',\n",
       " 'co_cellvars',\n",
       " 'co_code',\n",
       " 'co_consts',\n",
       " 'co_filename',\n",
       " 'co_firstlineno',\n",
       " 'co_flags',\n",
       " 'co_freevars',\n",
       " 'co_kwonlyargcount',\n",
       " 'co_lnotab',\n",
       " 'co_name',\n",
       " 'co_names',\n",
       " 'co_nlocals',\n",
       " 'co_stacksize',\n",
       " 'co_varnames']"
      ]
     },
     "execution_count": 45,
     "metadata": {},
     "output_type": "execute_result"
    }
   ],
   "source": [
    "dir(mylist2.__code__.co_consts[1])"
   ]
  },
  {
   "cell_type": "code",
   "execution_count": 46,
   "metadata": {},
   "outputs": [
    {
     "name": "stdout",
     "output_type": "stream",
     "text": [
      "Name:              <listcomp>\n",
      "Filename:          <ipython-input-39-f09ffd4249cb>\n",
      "Argument count:    1\n",
      "Kw-only arguments: 0\n",
      "Number of locals:  2\n",
      "Stack size:        3\n",
      "Flags:             OPTIMIZED, NEWLOCALS, NESTED, NOFREE\n",
      "Variable names:\n",
      "   0: .0\n",
      "   1: x\n"
     ]
    }
   ],
   "source": [
    "dis.show_code(mylist2.__code__.co_consts[1])"
   ]
  },
  {
   "cell_type": "code",
   "execution_count": 49,
   "metadata": {},
   "outputs": [
    {
     "data": {
      "text/plain": [
       "str"
      ]
     },
     "execution_count": 49,
     "metadata": {},
     "output_type": "execute_result"
    }
   ],
   "source": [
    "type(mylist2.__code__.co_consts[2])"
   ]
  },
  {
   "cell_type": "code",
   "execution_count": 51,
   "metadata": {},
   "outputs": [
    {
     "data": {
      "text/plain": [
       "67"
      ]
     },
     "execution_count": 51,
     "metadata": {},
     "output_type": "execute_result"
    }
   ],
   "source": [
    "mylist2.__code__.co_flags"
   ]
  },
  {
   "cell_type": "code",
   "execution_count": 54,
   "metadata": {},
   "outputs": [
    {
     "data": {
      "text/plain": [
       "b'\\x00\\x01\\x12\\x01'"
      ]
     },
     "execution_count": 54,
     "metadata": {},
     "output_type": "execute_result"
    }
   ],
   "source": [
    "mylist2.__code__.co_lnotab # 两个一组，分别表示（字节码的偏移位置，相对前一组行号的增量）"
   ]
  },
  {
   "cell_type": "code",
   "execution_count": 59,
   "metadata": {},
   "outputs": [
    {
     "data": {
      "text/plain": [
       "'mylist2'"
      ]
     },
     "execution_count": 59,
     "metadata": {},
     "output_type": "execute_result"
    }
   ],
   "source": [
    "mylist2.__code__.co_name"
   ]
  },
  {
   "cell_type": "code",
   "execution_count": 60,
   "metadata": {},
   "outputs": [
    {
     "data": {
      "text/plain": [
       "('range',)"
      ]
     },
     "execution_count": 60,
     "metadata": {},
     "output_type": "execute_result"
    }
   ],
   "source": [
    "mylist2.__code__.co_names"
   ]
  },
  {
   "cell_type": "code",
   "execution_count": 61,
   "metadata": {},
   "outputs": [
    {
     "data": {
      "text/plain": [
       "1"
      ]
     },
     "execution_count": 61,
     "metadata": {},
     "output_type": "execute_result"
    }
   ],
   "source": [
    "mylist2.__code__.co_nlocals"
   ]
  },
  {
   "cell_type": "code",
   "execution_count": 62,
   "metadata": {},
   "outputs": [
    {
     "data": {
      "text/plain": [
       "3"
      ]
     },
     "execution_count": 62,
     "metadata": {},
     "output_type": "execute_result"
    }
   ],
   "source": [
    "mylist2.__code__.co_stacksize"
   ]
  },
  {
   "cell_type": "code",
   "execution_count": 63,
   "metadata": {},
   "outputs": [
    {
     "data": {
      "text/plain": [
       "('a',)"
      ]
     },
     "execution_count": 63,
     "metadata": {},
     "output_type": "execute_result"
    }
   ],
   "source": [
    "mylist2.__code__.co_varnames"
   ]
  },
  {
   "cell_type": "markdown",
   "metadata": {},
   "source": [
    "Code objects\n",
    "Code objects represent byte-compiled executable Python code, or bytecode. The difference between a code object and a function object is that the function object contains an explicit reference to the function’s globals (the module in which it was defined), while a code object contains no context; also the default argument values are stored in the function object, not in the code object (because they represent values calculated at run-time). Unlike function objects, code objects are immutable and contain no references (directly or indirectly) to mutable objects.\n",
    "\n",
    "Special read-only attributes: \n",
    "- co_name gives the function name; \n",
    "- co_argcount is the number of positional arguments (including arguments with default values); \n",
    "- co_nlocals is the number of local variables used by the function (including arguments); \n",
    "- co_varnames is a tuple containing the names of the local variables (starting with the argument names); \n",
    "- co_cellvars is a tuple containing the names of local variables that are referenced by nested functions; \n",
    "- co_freevars is a tuple containing the names of free variables; \n",
    "- co_code is a string representing the sequence of bytecode instructions; \n",
    "- co_consts is a tuple containing the literals used by the bytecode; \n",
    "- co_names is a tuple containing the names used by the bytecode; \n",
    "- co_filename is the filename from which the code was compiled; \n",
    "- co_firstlineno is the first line number of the function; \n",
    "- co_lnotab is a string encoding the mapping from bytecode offsets to line numbers (for details see the source code of the interpreter); \n",
    "- co_stacksize is the required stack size (including local variables); \n",
    "- co_flags is an integer encoding a number of flags for the interpreter.\n",
    "\n",
    "The following flag bits are defined for co_flags: bit 0x04 is set if the function uses the *arguments syntax to accept an arbitrary number of positional arguments; bit 0x08 is set if the function uses the **keywords syntax to accept arbitrary keyword arguments; bit 0x20 is set if the function is a generator.\n",
    "\n",
    "Future feature declarations (from __future__ import division) also use bits in co_flags to indicate whether a code object was compiled with a particular feature enabled: bit 0x2000 is set if the function was compiled with future division enabled; bits 0x10 and 0x1000 were used in earlier versions of Python.\n",
    "\n",
    "Other bits in co_flags are reserved for internal use.\n",
    "\n",
    "If a code object represents a function, the first item in co_consts is the documentation string of the function, or None if undefined."
   ]
  },
  {
   "cell_type": "code",
   "execution_count": 3,
   "metadata": {},
   "outputs": [
    {
     "name": "stdout",
     "output_type": "stream",
     "text": [
      "  2           0 LOAD_CONST               1 (1)\n",
      "              2 LOAD_CONST               2 (2)\n",
      "              4 LOAD_CONST               3 (3)\n",
      "              6 BUILD_LIST               3\n",
      "              8 STORE_FAST               0 (a)\n",
      "\n",
      "  3          10 LOAD_GLOBAL              0 (len)\n",
      "             12 LOAD_FAST                0 (a)\n",
      "             14 CALL_FUNCTION            1\n",
      "             16 STORE_FAST               1 (b)\n",
      "             18 LOAD_CONST               0 (None)\n",
      "             20 RETURN_VALUE\n"
     ]
    }
   ],
   "source": [
    "def test_len():\n",
    "    a = [1,2,3]\n",
    "    b = len(a)\n",
    "dis.dis(test_len)"
   ]
  },
  {
   "cell_type": "code",
   "execution_count": 10,
   "metadata": {},
   "outputs": [
    {
     "data": {
      "text/plain": [
       "<module 'builtins' (built-in)>"
      ]
     },
     "execution_count": 10,
     "metadata": {},
     "output_type": "execute_result"
    }
   ],
   "source": [
    "globals()['__builtins__']"
   ]
  }
 ],
 "metadata": {
  "kernelspec": {
   "display_name": "Python 3",
   "language": "python",
   "name": "python3"
  },
  "language_info": {
   "codemirror_mode": {
    "name": "ipython",
    "version": 3
   },
   "file_extension": ".py",
   "mimetype": "text/x-python",
   "name": "python",
   "nbconvert_exporter": "python",
   "pygments_lexer": "ipython3",
   "version": "3.6.4"
  }
 },
 "nbformat": 4,
 "nbformat_minor": 2
}
