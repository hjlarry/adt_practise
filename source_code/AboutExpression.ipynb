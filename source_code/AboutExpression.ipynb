{
 "cells": [
  {
   "cell_type": "markdown",
   "metadata": {},
   "source": [
    "- 表达式(expression): 由标识符、字面量和操作符组成。其完成运算、属性访问以及函数运算等。表达式像数学公式总是返回一个结果\n",
    "- 语句(statement): 由一到多行代码组成，其着重于逻辑过程，完成变量赋值、类型定义以及控制执行流方向等\n",
    "- 表达式完成计算，语句执行逻辑。表达式是语句的一种，语句不一定是表达式。"
   ]
  },
  {
   "cell_type": "code",
   "execution_count": 5,
   "metadata": {},
   "outputs": [
    {
     "name": "stdout",
     "output_type": "stream",
     "text": [
      "0\n",
      "['/usr/local/lib/python3.6/site-packages/ipykernel_launcher.py', '-f', '/Users/hejl/Library/Jupyter/runtime/kernel-0f0cd9f4-73d1-47e8-8aa0-d51b94bed111.json']\n"
     ]
    }
   ],
   "source": [
    "import sys\n",
    "print(sys.flags.optimize) # 解释器参数\n",
    "print(sys.argv) # 程序启动参数"
   ]
  },
  {
   "cell_type": "markdown",
   "metadata": {},
   "source": [
    "- 终止进程的正确做法是调用sys.exit函数，它确保推出前会执行相关清理操作\n",
    "- 常见的清理操作包括finally和atexit。前者是结构化异常子句，无论异常是否发生都会执行。后者用于注册进程退出前才执行的清理函数\n",
    "- 终止进程应返回退出状态码（exit status），便于命令行工具据此做判断。返回0表示正常结束。"
   ]
  },
  {
   "cell_type": "code",
   "execution_count": 2,
   "metadata": {},
   "outputs": [
    {
     "name": "stdout",
     "output_type": "stream",
     "text": [
      "finalss\n"
     ]
    }
   ],
   "source": [
    "import atexit\n",
    "# 这里交互式环境和命令行执行结果不同，原书在命令行执行的\n",
    "atexit.register(print, 'haha')\n",
    "try:\n",
    "    exit\n",
    "finally:\n",
    "    print('finalss')"
   ]
  },
  {
   "cell_type": "code",
   "execution_count": 9,
   "metadata": {},
   "outputs": [
    {
     "name": "stdout",
     "output_type": "stream",
     "text": [
      "haha\n",
      "haha\n"
     ]
    }
   ],
   "source": [
    "exit"
   ]
  },
  {
   "cell_type": "markdown",
   "metadata": {},
   "source": [
    "帮助信息不同于注释，注释会被编译器忽略，帮助属于基本元数据，可在运行期查询和输出。"
   ]
  }
 ],
 "metadata": {
  "kernelspec": {
   "display_name": "Python 3",
   "language": "python",
   "name": "python3"
  },
  "language_info": {
   "codemirror_mode": {
    "name": "ipython",
    "version": 3
   },
   "file_extension": ".py",
   "mimetype": "text/x-python",
   "name": "python",
   "nbconvert_exporter": "python",
   "pygments_lexer": "ipython3",
   "version": "3.6.4"
  }
 },
 "nbformat": 4,
 "nbformat_minor": 2
}
