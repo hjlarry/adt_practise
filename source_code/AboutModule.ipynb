{
 "cells": [
  {
   "cell_type": "markdown",
   "metadata": {},
   "source": [
    "- 通常每个模块对应一个源码文件\n",
    "- 模块像一个更大的类，其定义的变量、函数、类型等都属于私有成员\n",
    "- 模块在首次导入时被编译为字节码，随后解释器开始创建实例，执行初始化语句，构建内部成员\n",
    "- 模块是运行期对象，为成员提供全局名字空间\n",
    "- 无论导入多少次，模块在解释器进程中只会有一个实例存在，随后不会检测文件变化，重复导入只是引用已存在的实例，不会再执行初始化"
   ]
  },
  {
   "cell_type": "code",
   "execution_count": 3,
   "metadata": {},
   "outputs": [
    {
     "data": {
      "text/plain": [
       "True"
      ]
     },
     "execution_count": 3,
     "metadata": {},
     "output_type": "execute_result"
    }
   ],
   "source": [
    "import dis\n",
    "import types\n",
    "isinstance(dis, types.ModuleType)"
   ]
  },
  {
   "cell_type": "code",
   "execution_count": 5,
   "metadata": {},
   "outputs": [],
   "source": [
    "import this\n",
    "import io\n",
    "import marshal\n",
    "f = open(this.__cached__,'rb')  # 以二进制方式打开缓存文件\n",
    "f.seek(12, io.SEEK_SET) # 跳过magic头部信息\n",
    "code = marshal.load(f)  # 反序列化，还原代码对象"
   ]
  },
  {
   "cell_type": "code",
   "execution_count": 6,
   "metadata": {},
   "outputs": [
    {
     "name": "stdout",
     "output_type": "stream",
     "text": [
      " 21           0 LOAD_CONST               0 (\"Gur Mra bs Clguba, ol Gvz Crgref\\n\\nOrnhgvshy vf orggre guna htyl.\\nRkcyvpvg vf orggre guna vzcyvpvg.\\nFvzcyr vf orggre guna pbzcyrk.\\nPbzcyrk vf orggre guna pbzcyvpngrq.\\nSyng vf orggre guna arfgrq.\\nFcnefr vf orggre guna qrafr.\\nErnqnovyvgl pbhagf.\\nFcrpvny pnfrf nera'g fcrpvny rabhtu gb oernx gur ehyrf.\\nNygubhtu cenpgvpnyvgl orngf chevgl.\\nReebef fubhyq arire cnff fvyragyl.\\nHayrff rkcyvpvgyl fvyraprq.\\nVa gur snpr bs nzovthvgl, ershfr gur grzcgngvba gb thrff.\\nGurer fubhyq or bar-- naq cersrenoyl bayl bar --boivbhf jnl gb qb vg.\\nNygubhtu gung jnl znl abg or boivbhf ng svefg hayrff lbh'er Qhgpu.\\nAbj vf orggre guna arire.\\nNygubhtu arire vf bsgra orggre guna *evtug* abj.\\nVs gur vzcyrzragngvba vf uneq gb rkcynva, vg'f n onq vqrn.\\nVs gur vzcyrzragngvba vf rnfl gb rkcynva, vg znl or n tbbq vqrn.\\nAnzrfcnprf ner bar ubaxvat terng vqrn -- yrg'f qb zber bs gubfr!\")\n",
      "              2 STORE_NAME               0 (s)\n",
      "\n",
      " 23           4 BUILD_MAP                0\n",
      "              6 STORE_NAME               1 (d)\n",
      "\n",
      " 24           8 SETUP_LOOP              62 (to 72)\n",
      "             10 LOAD_CONST               9 ((65, 97))\n",
      "             12 GET_ITER\n",
      "        >>   14 FOR_ITER                54 (to 70)\n",
      "             16 STORE_NAME               2 (c)\n",
      "\n",
      " 25          18 SETUP_LOOP              48 (to 68)\n",
      "             20 LOAD_NAME                3 (range)\n",
      "             22 LOAD_CONST               3 (26)\n",
      "             24 CALL_FUNCTION            1\n",
      "             26 GET_ITER\n",
      "        >>   28 FOR_ITER                36 (to 66)\n",
      "             30 STORE_NAME               4 (i)\n",
      "\n",
      " 26          32 LOAD_NAME                5 (chr)\n",
      "             34 LOAD_NAME                4 (i)\n",
      "             36 LOAD_CONST               4 (13)\n",
      "             38 BINARY_ADD\n",
      "             40 LOAD_CONST               3 (26)\n",
      "             42 BINARY_MODULO\n",
      "             44 LOAD_NAME                2 (c)\n",
      "             46 BINARY_ADD\n",
      "             48 CALL_FUNCTION            1\n",
      "             50 LOAD_NAME                1 (d)\n",
      "             52 LOAD_NAME                5 (chr)\n",
      "             54 LOAD_NAME                4 (i)\n",
      "             56 LOAD_NAME                2 (c)\n",
      "             58 BINARY_ADD\n",
      "             60 CALL_FUNCTION            1\n",
      "             62 STORE_SUBSCR\n",
      "             64 JUMP_ABSOLUTE           28\n",
      "        >>   66 POP_BLOCK\n",
      "        >>   68 JUMP_ABSOLUTE           14\n",
      "        >>   70 POP_BLOCK\n",
      "\n",
      " 28     >>   72 LOAD_NAME                6 (print)\n",
      "             74 LOAD_CONST               5 ('')\n",
      "             76 LOAD_ATTR                7 (join)\n",
      "             78 LOAD_CONST               6 (<code object <listcomp> at 0x10ee5ac00, file \"/usr/local/Cellar/python/3.6.5_1/Frameworks/Python.framework/Versions/3.6/lib/python3.6/this.py\", line 28>)\n",
      "             80 LOAD_CONST               7 ('<listcomp>')\n",
      "             82 MAKE_FUNCTION            0\n",
      "             84 LOAD_NAME                0 (s)\n",
      "             86 GET_ITER\n",
      "             88 CALL_FUNCTION            1\n",
      "             90 CALL_FUNCTION            1\n",
      "             92 CALL_FUNCTION            1\n",
      "             94 POP_TOP\n",
      "             96 LOAD_CONST               8 (None)\n",
      "             98 RETURN_VALUE\n"
     ]
    }
   ],
   "source": [
    "dis.dis(code)"
   ]
  },
  {
   "cell_type": "code",
   "execution_count": 7,
   "metadata": {},
   "outputs": [
    {
     "data": {
      "text/plain": [
       "{'__builtins__': {'ArithmeticError': ArithmeticError,\n",
       "  'AssertionError': AssertionError,\n",
       "  'AttributeError': AttributeError,\n",
       "  'BaseException': BaseException,\n",
       "  'BlockingIOError': BlockingIOError,\n",
       "  'BrokenPipeError': BrokenPipeError,\n",
       "  'BufferError': BufferError,\n",
       "  'BytesWarning': BytesWarning,\n",
       "  'ChildProcessError': ChildProcessError,\n",
       "  'ConnectionAbortedError': ConnectionAbortedError,\n",
       "  'ConnectionError': ConnectionError,\n",
       "  'ConnectionRefusedError': ConnectionRefusedError,\n",
       "  'ConnectionResetError': ConnectionResetError,\n",
       "  'DeprecationWarning': DeprecationWarning,\n",
       "  'EOFError': EOFError,\n",
       "  'Ellipsis': Ellipsis,\n",
       "  'EnvironmentError': OSError,\n",
       "  'Exception': Exception,\n",
       "  'False': False,\n",
       "  'FileExistsError': FileExistsError,\n",
       "  'FileNotFoundError': FileNotFoundError,\n",
       "  'FloatingPointError': FloatingPointError,\n",
       "  'FutureWarning': FutureWarning,\n",
       "  'GeneratorExit': GeneratorExit,\n",
       "  'IOError': OSError,\n",
       "  'ImportError': ImportError,\n",
       "  'ImportWarning': ImportWarning,\n",
       "  'IndentationError': IndentationError,\n",
       "  'IndexError': IndexError,\n",
       "  'InterruptedError': InterruptedError,\n",
       "  'IsADirectoryError': IsADirectoryError,\n",
       "  'KeyError': KeyError,\n",
       "  'KeyboardInterrupt': KeyboardInterrupt,\n",
       "  'LookupError': LookupError,\n",
       "  'MemoryError': MemoryError,\n",
       "  'ModuleNotFoundError': ModuleNotFoundError,\n",
       "  'NameError': NameError,\n",
       "  'None': None,\n",
       "  'NotADirectoryError': NotADirectoryError,\n",
       "  'NotImplemented': NotImplemented,\n",
       "  'NotImplementedError': NotImplementedError,\n",
       "  'OSError': OSError,\n",
       "  'OverflowError': OverflowError,\n",
       "  'PendingDeprecationWarning': PendingDeprecationWarning,\n",
       "  'PermissionError': PermissionError,\n",
       "  'ProcessLookupError': ProcessLookupError,\n",
       "  'RecursionError': RecursionError,\n",
       "  'ReferenceError': ReferenceError,\n",
       "  'ResourceWarning': ResourceWarning,\n",
       "  'RuntimeError': RuntimeError,\n",
       "  'RuntimeWarning': RuntimeWarning,\n",
       "  'StopAsyncIteration': StopAsyncIteration,\n",
       "  'StopIteration': StopIteration,\n",
       "  'SyntaxError': SyntaxError,\n",
       "  'SyntaxWarning': SyntaxWarning,\n",
       "  'SystemError': SystemError,\n",
       "  'SystemExit': SystemExit,\n",
       "  'TabError': TabError,\n",
       "  'TimeoutError': TimeoutError,\n",
       "  'True': True,\n",
       "  'TypeError': TypeError,\n",
       "  'UnboundLocalError': UnboundLocalError,\n",
       "  'UnicodeDecodeError': UnicodeDecodeError,\n",
       "  'UnicodeEncodeError': UnicodeEncodeError,\n",
       "  'UnicodeError': UnicodeError,\n",
       "  'UnicodeTranslateError': UnicodeTranslateError,\n",
       "  'UnicodeWarning': UnicodeWarning,\n",
       "  'UserWarning': UserWarning,\n",
       "  'ValueError': ValueError,\n",
       "  'Warning': Warning,\n",
       "  'ZeroDivisionError': ZeroDivisionError,\n",
       "  '__IPYTHON__': True,\n",
       "  '__build_class__': <function __build_class__>,\n",
       "  '__debug__': True,\n",
       "  '__doc__': \"Built-in functions, exceptions, and other objects.\\n\\nNoteworthy: None is the `nil' object; Ellipsis represents `...' in slices.\",\n",
       "  '__import__': <function __import__>,\n",
       "  '__loader__': _frozen_importlib.BuiltinImporter,\n",
       "  '__name__': 'builtins',\n",
       "  '__package__': '',\n",
       "  '__spec__': ModuleSpec(name='builtins', loader=<class '_frozen_importlib.BuiltinImporter'>),\n",
       "  'abs': <function abs>,\n",
       "  'all': <function all>,\n",
       "  'any': <function any>,\n",
       "  'ascii': <function ascii>,\n",
       "  'bin': <function bin>,\n",
       "  'bool': bool,\n",
       "  'bytearray': bytearray,\n",
       "  'bytes': bytes,\n",
       "  'callable': <function callable>,\n",
       "  'chr': <function chr>,\n",
       "  'classmethod': classmethod,\n",
       "  'compile': <function compile>,\n",
       "  'complex': complex,\n",
       "  'copyright': Copyright (c) 2001-2018 Python Software Foundation.\n",
       "  All Rights Reserved.\n",
       "  \n",
       "  Copyright (c) 2000 BeOpen.com.\n",
       "  All Rights Reserved.\n",
       "  \n",
       "  Copyright (c) 1995-2001 Corporation for National Research Initiatives.\n",
       "  All Rights Reserved.\n",
       "  \n",
       "  Copyright (c) 1991-1995 Stichting Mathematisch Centrum, Amsterdam.\n",
       "  All Rights Reserved.,\n",
       "  'credits':     Thanks to CWI, CNRI, BeOpen.com, Zope Corporation and a cast of thousands\n",
       "      for supporting Python development.  See www.python.org for more information.,\n",
       "  'delattr': <function delattr>,\n",
       "  'dict': dict,\n",
       "  'dir': <function dir>,\n",
       "  'display': <function IPython.core.display.display>,\n",
       "  'divmod': <function divmod>,\n",
       "  'enumerate': enumerate,\n",
       "  'eval': <function eval>,\n",
       "  'exec': <function exec>,\n",
       "  'filter': filter,\n",
       "  'float': float,\n",
       "  'format': <function format>,\n",
       "  'frozenset': frozenset,\n",
       "  'get_ipython': <bound method InteractiveShell.get_ipython of <ipykernel.zmqshell.ZMQInteractiveShell object at 0x10ec600b8>>,\n",
       "  'getattr': <function getattr>,\n",
       "  'globals': <function globals>,\n",
       "  'hasattr': <function hasattr>,\n",
       "  'hash': <function hash>,\n",
       "  'help': Type help() for interactive help, or help(object) for help about object.,\n",
       "  'hex': <function hex>,\n",
       "  'id': <function id>,\n",
       "  'input': <bound method Kernel.raw_input of <ipykernel.ipkernel.IPythonKernel object at 0x10ec1bfd0>>,\n",
       "  'int': int,\n",
       "  'isinstance': <function isinstance>,\n",
       "  'issubclass': <function issubclass>,\n",
       "  'iter': <function iter>,\n",
       "  'len': <function len>,\n",
       "  'license': Type license() to see the full license text,\n",
       "  'list': list,\n",
       "  'locals': <function locals>,\n",
       "  'map': map,\n",
       "  'max': <function max>,\n",
       "  'memoryview': memoryview,\n",
       "  'min': <function min>,\n",
       "  'next': <function next>,\n",
       "  'object': object,\n",
       "  'oct': <function oct>,\n",
       "  'open': <function io.open>,\n",
       "  'ord': <function ord>,\n",
       "  'pow': <function pow>,\n",
       "  'print': <function print>,\n",
       "  'property': property,\n",
       "  'range': range,\n",
       "  'repr': <function repr>,\n",
       "  'reversed': reversed,\n",
       "  'round': <function round>,\n",
       "  'set': set,\n",
       "  'setattr': <function setattr>,\n",
       "  'slice': slice,\n",
       "  'sorted': <function sorted>,\n",
       "  'staticmethod': staticmethod,\n",
       "  'str': str,\n",
       "  'sum': <function sum>,\n",
       "  'super': super,\n",
       "  'tuple': tuple,\n",
       "  'type': type,\n",
       "  'vars': <function vars>,\n",
       "  'zip': zip},\n",
       " '__cached__': '/usr/local/Cellar/python/3.6.5_1/Frameworks/Python.framework/Versions/3.6/lib/python3.6/__pycache__/this.cpython-36.pyc',\n",
       " '__doc__': None,\n",
       " '__file__': '/usr/local/Cellar/python/3.6.5_1/Frameworks/Python.framework/Versions/3.6/lib/python3.6/this.py',\n",
       " '__loader__': <_frozen_importlib_external.SourceFileLoader at 0x10ee31a90>,\n",
       " '__name__': 'this',\n",
       " '__package__': '',\n",
       " '__spec__': ModuleSpec(name='this', loader=<_frozen_importlib_external.SourceFileLoader object at 0x10ee31a90>, origin='/usr/local/Cellar/python/3.6.5_1/Frameworks/Python.framework/Versions/3.6/lib/python3.6/this.py'),\n",
       " 'c': 97,\n",
       " 'd': {'A': 'N',\n",
       "  'B': 'O',\n",
       "  'C': 'P',\n",
       "  'D': 'Q',\n",
       "  'E': 'R',\n",
       "  'F': 'S',\n",
       "  'G': 'T',\n",
       "  'H': 'U',\n",
       "  'I': 'V',\n",
       "  'J': 'W',\n",
       "  'K': 'X',\n",
       "  'L': 'Y',\n",
       "  'M': 'Z',\n",
       "  'N': 'A',\n",
       "  'O': 'B',\n",
       "  'P': 'C',\n",
       "  'Q': 'D',\n",
       "  'R': 'E',\n",
       "  'S': 'F',\n",
       "  'T': 'G',\n",
       "  'U': 'H',\n",
       "  'V': 'I',\n",
       "  'W': 'J',\n",
       "  'X': 'K',\n",
       "  'Y': 'L',\n",
       "  'Z': 'M',\n",
       "  'a': 'n',\n",
       "  'b': 'o',\n",
       "  'c': 'p',\n",
       "  'd': 'q',\n",
       "  'e': 'r',\n",
       "  'f': 's',\n",
       "  'g': 't',\n",
       "  'h': 'u',\n",
       "  'i': 'v',\n",
       "  'j': 'w',\n",
       "  'k': 'x',\n",
       "  'l': 'y',\n",
       "  'm': 'z',\n",
       "  'n': 'a',\n",
       "  'o': 'b',\n",
       "  'p': 'c',\n",
       "  'q': 'd',\n",
       "  'r': 'e',\n",
       "  's': 'f',\n",
       "  't': 'g',\n",
       "  'u': 'h',\n",
       "  'v': 'i',\n",
       "  'w': 'j',\n",
       "  'x': 'k',\n",
       "  'y': 'l',\n",
       "  'z': 'm'},\n",
       " 'i': 25,\n",
       " 's': \"Gur Mra bs Clguba, ol Gvz Crgref\\n\\nOrnhgvshy vf orggre guna htyl.\\nRkcyvpvg vf orggre guna vzcyvpvg.\\nFvzcyr vf orggre guna pbzcyrk.\\nPbzcyrk vf orggre guna pbzcyvpngrq.\\nSyng vf orggre guna arfgrq.\\nFcnefr vf orggre guna qrafr.\\nErnqnovyvgl pbhagf.\\nFcrpvny pnfrf nera'g fcrpvny rabhtu gb oernx gur ehyrf.\\nNygubhtu cenpgvpnyvgl orngf chevgl.\\nReebef fubhyq arire cnff fvyragyl.\\nHayrff rkcyvpvgyl fvyraprq.\\nVa gur snpr bs nzovthvgl, ershfr gur grzcgngvba gb thrff.\\nGurer fubhyq or bar-- naq cersrenoyl bayl bar --boivbhf jnl gb qb vg.\\nNygubhtu gung jnl znl abg or boivbhf ng svefg hayrff lbh'er Qhgpu.\\nAbj vf orggre guna arire.\\nNygubhtu arire vf bsgra orggre guna *evtug* abj.\\nVs gur vzcyrzragngvba vf uneq gb rkcynva, vg'f n onq vqrn.\\nVs gur vzcyrzragngvba vf rnfl gb rkcynva, vg znl or n tbbq vqrn.\\nAnzrfcnprf ner bar ubaxvat terng vqrn -- yrg'f qb zber bs gubfr!\"}"
      ]
     },
     "execution_count": 7,
     "metadata": {},
     "output_type": "execute_result"
    }
   ],
   "source": [
    "vars(this)"
   ]
  },
  {
   "cell_type": "code",
   "execution_count": 8,
   "metadata": {},
   "outputs": [
    {
     "data": {
      "text/plain": [
       "True"
      ]
     },
     "execution_count": 8,
     "metadata": {},
     "output_type": "execute_result"
    }
   ],
   "source": [
    "vars(this) is this.__dict__"
   ]
  },
  {
   "cell_type": "code",
   "execution_count": 9,
   "metadata": {},
   "outputs": [
    {
     "data": {
      "text/plain": [
       "['__builtins__',\n",
       " '__cached__',\n",
       " '__doc__',\n",
       " '__file__',\n",
       " '__loader__',\n",
       " '__name__',\n",
       " '__package__',\n",
       " '__spec__',\n",
       " 'c',\n",
       " 'd',\n",
       " 'i',\n",
       " 's']"
      ]
     },
     "execution_count": 9,
     "metadata": {},
     "output_type": "execute_result"
    }
   ],
   "source": [
    "dir(this)"
   ]
  },
  {
   "cell_type": "code",
   "execution_count": 10,
   "metadata": {},
   "outputs": [],
   "source": [
    "x = this.s"
   ]
  },
  {
   "cell_type": "code",
   "execution_count": 12,
   "metadata": {},
   "outputs": [
    {
     "ename": "AttributeError",
     "evalue": "'str' object has no attribute '__module__'",
     "output_type": "error",
     "traceback": [
      "\u001b[0;31m---------------------------------------------------------------------------\u001b[0m",
      "\u001b[0;31mAttributeError\u001b[0m                            Traceback (most recent call last)",
      "\u001b[0;32m<ipython-input-12-35949fd49298>\u001b[0m in \u001b[0;36m<module>\u001b[0;34m()\u001b[0m\n\u001b[0;32m----> 1\u001b[0;31m \u001b[0mx\u001b[0m\u001b[0;34m.\u001b[0m\u001b[0m__module__\u001b[0m\u001b[0;34m\u001b[0m\u001b[0m\n\u001b[0m",
      "\u001b[0;31mAttributeError\u001b[0m: 'str' object has no attribute '__module__'"
     ]
    }
   ],
   "source": [
    "x.__module__"
   ]
  },
  {
   "cell_type": "code",
   "execution_count": 14,
   "metadata": {},
   "outputs": [
    {
     "name": "stdout",
     "output_type": "stream",
     "text": [
      "None\n"
     ]
    }
   ],
   "source": [
    "import inspect\n",
    "print(inspect.getmodule(x))"
   ]
  },
  {
   "cell_type": "code",
   "execution_count": null,
   "metadata": {},
   "outputs": [],
   "source": []
  }
 ],
 "metadata": {
  "kernelspec": {
   "display_name": "Python 3",
   "language": "python",
   "name": "python3"
  },
  "language_info": {
   "codemirror_mode": {
    "name": "ipython",
    "version": 3
   },
   "file_extension": ".py",
   "mimetype": "text/x-python",
   "name": "python",
   "nbconvert_exporter": "python",
   "pygments_lexer": "ipython3",
   "version": "3.6.5"
  }
 },
 "nbformat": 4,
 "nbformat_minor": 2
}
