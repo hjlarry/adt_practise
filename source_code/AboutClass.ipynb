{
 "cells": [
  {
   "cell_type": "markdown",
   "metadata": {},
   "source": [
    "函数就像机械加工，着重于处理过程；类则关注数据本身，使其“活”过来。  \n",
    "类存在两种关系：继承(inhertiance)自某个族类，组合(composition)了哪些部件。   \n",
    "建议将类与业务逻辑分离。逻辑代表业务处理过程，其通常被设计为无状态，用上下文传递数据。业务逻辑讲究效率和并发性，以及相对固定的执行过程。逻辑适合以函数分段实现，按特定顺序组装，并以模块存储。这些特点都不适合以数据为核心，且注重家族遗传，用多实例体现个性的类来实现。"
   ]
  },
  {
   "cell_type": "code",
   "execution_count": 1,
   "metadata": {},
   "outputs": [],
   "source": [
    "def test():\n",
    "    class X:\n",
    "        data =100\n",
    "        def get(self):\n",
    "            return self.data\n"
   ]
  },
  {
   "cell_type": "code",
   "execution_count": 2,
   "metadata": {},
   "outputs": [
    {
     "name": "stdout",
     "output_type": "stream",
     "text": [
      "  2           0 LOAD_BUILD_CLASS\n",
      "              2 LOAD_CONST               1 (<code object X at 0x111a47540, file \"<ipython-input-1-47c898501eae>\", line 2>)\n",
      "              4 LOAD_CONST               2 ('X')\n",
      "              6 MAKE_FUNCTION            0\n",
      "              8 LOAD_CONST               2 ('X')\n",
      "             10 CALL_FUNCTION            2\n",
      "             12 STORE_FAST               0 (X)\n",
      "             14 LOAD_CONST               0 (None)\n",
      "             16 RETURN_VALUE\n"
     ]
    }
   ],
   "source": [
    "import dis\n",
    "dis.dis(test)"
   ]
  },
  {
   "cell_type": "markdown",
   "metadata": {},
   "source": [
    "先创建了X函数，其内容是属性设置和方法创建。随后该函数被当作参数传递给buildins.\\_\\_build_class__调用，这里其实就是元类在执行。"
   ]
  },
  {
   "cell_type": "code",
   "execution_count": 4,
   "metadata": {},
   "outputs": [
    {
     "name": "stdout",
     "output_type": "stream",
     "text": [
      "  2           0 LOAD_NAME                0 (__name__)\n",
      "              2 STORE_NAME               1 (__module__)\n",
      "              4 LOAD_CONST               0 ('test.<locals>.X')\n",
      "              6 STORE_NAME               2 (__qualname__)\n",
      "\n",
      "  3           8 LOAD_CONST               1 (100)\n",
      "             10 STORE_NAME               3 (data)\n",
      "\n",
      "  4          12 LOAD_CONST               2 (<code object get at 0x111a47c90, file \"<ipython-input-1-47c898501eae>\", line 4>)\n",
      "             14 LOAD_CONST               3 ('test.<locals>.X.get')\n",
      "             16 MAKE_FUNCTION            0\n",
      "             18 STORE_NAME               4 (get)\n",
      "             20 LOAD_CONST               4 (None)\n",
      "             22 RETURN_VALUE\n"
     ]
    }
   ],
   "source": [
    "dis.dis(test.__code__.co_consts[1])"
   ]
  },
  {
   "cell_type": "markdown",
   "metadata": {},
   "source": [
    "- 类型有自己的名字空间，存储当前类定义的属性和方法，这其中并不包括所继承的祖先成员，其以引用关联祖先类型，无须复制本地\n",
    "- 实例会存储所有继承层次的实例字段，这些都属于其私有数据\n",
    "- 类型的名字空间返回mappingproxy只读视图，不允许直接修改；实例的名字空间就是普通字典，可直接修改\n",
    "- dir函数搜索所有可访问成员的名字，vars直接返回\\_\\_dict__属性\n",
    "\n"
   ]
  },
  {
   "cell_type": "code",
   "execution_count": 5,
   "metadata": {},
   "outputs": [
    {
     "name": "stdout",
     "output_type": "stream",
     "text": [
      "A.a= A.a\n",
      "A.locals= {'__module__': '__main__', '__qualname__': 'enclosing.<locals>.A', 'a': 'A.a', 'test': <function enclosing.<locals>.A.test at 0x111a4fd90>}\n",
      "E.a= enclosing.a\n"
     ]
    }
   ],
   "source": [
    "def enclosing():\n",
    "    a = 'enclosing.a'\n",
    "    class A:\n",
    "        a = 'A.a'\n",
    "        def test(self):\n",
    "            print('E.a=',a)\n",
    "        print('A.a=',a)\n",
    "        print('A.locals=',locals())\n",
    "    A().test()\n",
    "enclosing()"
   ]
  },
  {
   "cell_type": "markdown",
   "metadata": {},
   "source": [
    "双下划线开头的私有字段会被重命名，这也导致其继承类型无法访问重命名后的基类成员，这也是单下划线私有字段的一个原因"
   ]
  },
  {
   "cell_type": "markdown",
   "metadata": {},
   "source": [
    "- 属性（property）机制就是将读、写和删除操作映射到指定的方法调用上，从而实现操作控制\n",
    "- 属性可实现延迟初始化，无须提前准备数据。且属性方法调用未必会绑定字段，可按需要从任意数据源获取\n",
    "- 尽管属性保存于类型的名字空间，但其优先级高于同名实例字段"
   ]
  },
  {
   "cell_type": "code",
   "execution_count": 8,
   "metadata": {},
   "outputs": [],
   "source": [
    "class X:\n",
    "    def __init__(self, name):\n",
    "        self.__name = name\n",
    "    @property\n",
    "    def name(self):\n",
    "        return self.__name\n",
    "    @name.setter\n",
    "    def name(self, value):\n",
    "        self.__name = value"
   ]
  },
  {
   "cell_type": "code",
   "execution_count": 9,
   "metadata": {},
   "outputs": [
    {
     "data": {
      "text/plain": [
       "mappingproxy({'__dict__': <attribute '__dict__' of 'X' objects>,\n",
       "              '__doc__': None,\n",
       "              '__init__': <function __main__.X.__init__>,\n",
       "              '__module__': '__main__',\n",
       "              '__weakref__': <attribute '__weakref__' of 'X' objects>,\n",
       "              'name': <property at 0x111a7a188>})"
      ]
     },
     "execution_count": 9,
     "metadata": {},
     "output_type": "execute_result"
    }
   ],
   "source": [
    "vars(X)"
   ]
  },
  {
   "cell_type": "code",
   "execution_count": 11,
   "metadata": {},
   "outputs": [
    {
     "data": {
      "text/plain": [
       "{'_X__name': 'haha'}"
      ]
     },
     "execution_count": 11,
     "metadata": {},
     "output_type": "execute_result"
    }
   ],
   "source": [
    "vars(X('haha'))"
   ]
  },
  {
   "cell_type": "code",
   "execution_count": 12,
   "metadata": {},
   "outputs": [],
   "source": [
    "class X:\n",
    "    def test(self):\n",
    "        pass\n",
    "o = X()"
   ]
  },
  {
   "cell_type": "code",
   "execution_count": 16,
   "metadata": {},
   "outputs": [
    {
     "data": {
      "text/plain": [
       "<bound method X.test of <__main__.X object at 0x111aecc50>>"
      ]
     },
     "execution_count": 16,
     "metadata": {},
     "output_type": "execute_result"
    }
   ],
   "source": [
    "o.test"
   ]
  },
  {
   "cell_type": "code",
   "execution_count": 17,
   "metadata": {},
   "outputs": [
    {
     "data": {
      "text/plain": [
       "<function __main__.X.test>"
      ]
     },
     "execution_count": 17,
     "metadata": {},
     "output_type": "execute_result"
    }
   ],
   "source": [
    "X.test"
   ]
  },
  {
   "cell_type": "markdown",
   "metadata": {},
   "source": [
    "同一个方法，仅因为引用方式不同，结果就有绑定方法和函数的区别，这其中是描述符机制在起作用。它会将实例附加到方法的\\_\\_self__属性，解释器执行时就会隐式传入self参数。"
   ]
  },
  {
   "cell_type": "code",
   "execution_count": 18,
   "metadata": {},
   "outputs": [
    {
     "data": {
      "text/plain": [
       "<__main__.X at 0x111aecc50>"
      ]
     },
     "execution_count": 18,
     "metadata": {},
     "output_type": "execute_result"
    }
   ],
   "source": [
    "o.test.__self__"
   ]
  },
  {
   "cell_type": "code",
   "execution_count": 19,
   "metadata": {},
   "outputs": [
    {
     "ename": "AttributeError",
     "evalue": "'function' object has no attribute '__self__'",
     "output_type": "error",
     "traceback": [
      "\u001b[0;31m---------------------------------------------------------------------------\u001b[0m",
      "\u001b[0;31mAttributeError\u001b[0m                            Traceback (most recent call last)",
      "\u001b[0;32m<ipython-input-19-bec33e250c21>\u001b[0m in \u001b[0;36m<module>\u001b[0;34m()\u001b[0m\n\u001b[0;32m----> 1\u001b[0;31m \u001b[0mX\u001b[0m\u001b[0;34m.\u001b[0m\u001b[0mtest\u001b[0m\u001b[0;34m.\u001b[0m\u001b[0m__self__\u001b[0m\u001b[0;34m\u001b[0m\u001b[0m\n\u001b[0m",
      "\u001b[0;31mAttributeError\u001b[0m: 'function' object has no attribute '__self__'"
     ]
    }
   ],
   "source": [
    "X.test.__self__"
   ]
  },
  {
   "cell_type": "markdown",
   "metadata": {},
   "source": [
    "类型方法用来维护类型状态，面向族群提供服务接口，其实现方式与实例方法完全相同，且存储类型引用的字段名也还是\\_\\_self__   \n",
    "静态方法总是函数"
   ]
  },
  {
   "cell_type": "code",
   "execution_count": null,
   "metadata": {},
   "outputs": [],
   "source": []
  }
 ],
 "metadata": {
  "kernelspec": {
   "display_name": "Python 3",
   "language": "python",
   "name": "python3"
  },
  "language_info": {
   "codemirror_mode": {
    "name": "ipython",
    "version": 3
   },
   "file_extension": ".py",
   "mimetype": "text/x-python",
   "name": "python",
   "nbconvert_exporter": "python",
   "pygments_lexer": "ipython3",
   "version": "3.6.4"
  }
 },
 "nbformat": 4,
 "nbformat_minor": 2
}
