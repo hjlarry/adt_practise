{
 "cells": [
  {
   "cell_type": "markdown",
   "metadata": {},
   "source": [
    "函数就像机械加工，着重于处理过程；类则关注数据本身，使其“活”过来。  \n",
    "类存在两种关系：继承(inhertiance)自某个族类，组合(composition)了哪些部件。   \n",
    "建议将类与业务逻辑分离。逻辑代表业务处理过程，其通常被设计为无状态，用上下文传递数据。业务逻辑讲究效率和并发性，以及相对固定的执行过程。逻辑适合以函数分段实现，按特定顺序组装，并以模块存储。这些特点都不适合以数据为核心，且注重家族遗传，用多实例体现个性的类来实现。"
   ]
  },
  {
   "cell_type": "code",
   "execution_count": 1,
   "metadata": {},
   "outputs": [],
   "source": [
    "def test():\n",
    "    class X:\n",
    "        data =100\n",
    "        def get(self):\n",
    "            return self.data\n"
   ]
  },
  {
   "cell_type": "code",
   "execution_count": 2,
   "metadata": {},
   "outputs": [
    {
     "name": "stdout",
     "output_type": "stream",
     "text": [
      "  2           0 LOAD_BUILD_CLASS\n",
      "              2 LOAD_CONST               1 (<code object X at 0x111a47540, file \"<ipython-input-1-47c898501eae>\", line 2>)\n",
      "              4 LOAD_CONST               2 ('X')\n",
      "              6 MAKE_FUNCTION            0\n",
      "              8 LOAD_CONST               2 ('X')\n",
      "             10 CALL_FUNCTION            2\n",
      "             12 STORE_FAST               0 (X)\n",
      "             14 LOAD_CONST               0 (None)\n",
      "             16 RETURN_VALUE\n"
     ]
    }
   ],
   "source": [
    "import dis\n",
    "dis.dis(test)"
   ]
  },
  {
   "cell_type": "markdown",
   "metadata": {},
   "source": [
    "先创建了X函数，其内容是属性设置和方法创建。随后该函数被当作参数传递给buildins.\\_\\_build_class__调用，这里其实就是元类在执行。"
   ]
  },
  {
   "cell_type": "code",
   "execution_count": 4,
   "metadata": {},
   "outputs": [
    {
     "name": "stdout",
     "output_type": "stream",
     "text": [
      "  2           0 LOAD_NAME                0 (__name__)\n",
      "              2 STORE_NAME               1 (__module__)\n",
      "              4 LOAD_CONST               0 ('test.<locals>.X')\n",
      "              6 STORE_NAME               2 (__qualname__)\n",
      "\n",
      "  3           8 LOAD_CONST               1 (100)\n",
      "             10 STORE_NAME               3 (data)\n",
      "\n",
      "  4          12 LOAD_CONST               2 (<code object get at 0x111a47c90, file \"<ipython-input-1-47c898501eae>\", line 4>)\n",
      "             14 LOAD_CONST               3 ('test.<locals>.X.get')\n",
      "             16 MAKE_FUNCTION            0\n",
      "             18 STORE_NAME               4 (get)\n",
      "             20 LOAD_CONST               4 (None)\n",
      "             22 RETURN_VALUE\n"
     ]
    }
   ],
   "source": [
    "dis.dis(test.__code__.co_consts[1])"
   ]
  },
  {
   "cell_type": "markdown",
   "metadata": {},
   "source": [
    "- 类型有自己的名字空间，存储当前类定义的属性和方法，这其中并不包括所继承的祖先成员，其以引用关联祖先类型，无须复制本地\n",
    "- 实例会存储所有继承层次的实例字段，这些都属于其私有数据\n",
    "- 类型的名字空间返回mappingproxy只读视图，不允许直接修改；实例的名字空间就是普通字典，可直接修改\n",
    "- dir函数搜索所有可访问成员的名字，vars直接返回\\_\\_dict__属性\n",
    "\n"
   ]
  },
  {
   "cell_type": "code",
   "execution_count": 5,
   "metadata": {},
   "outputs": [
    {
     "name": "stdout",
     "output_type": "stream",
     "text": [
      "A.a= A.a\n",
      "A.locals= {'__module__': '__main__', '__qualname__': 'enclosing.<locals>.A', 'a': 'A.a', 'test': <function enclosing.<locals>.A.test at 0x111a4fd90>}\n",
      "E.a= enclosing.a\n"
     ]
    }
   ],
   "source": [
    "def enclosing():\n",
    "    a = 'enclosing.a'\n",
    "    class A:\n",
    "        a = 'A.a'\n",
    "        def test(self):\n",
    "            print('E.a=',a)\n",
    "        print('A.a=',a)\n",
    "        print('A.locals=',locals())\n",
    "    A().test()\n",
    "enclosing()"
   ]
  },
  {
   "cell_type": "markdown",
   "metadata": {},
   "source": [
    "双下划线开头的私有字段会被重命名，这也导致其继承类型无法访问重命名后的基类成员，这也是单下划线私有字段的一个原因"
   ]
  },
  {
   "cell_type": "markdown",
   "metadata": {},
   "source": [
    "- 属性（property）机制就是将读、写和删除操作映射到指定的方法调用上，从而实现操作控制\n",
    "- 属性可实现延迟初始化，无须提前准备数据。且属性方法调用未必会绑定字段，可按需要从任意数据源获取\n",
    "- 尽管属性保存于类型的名字空间，但其优先级高于同名实例字段"
   ]
  },
  {
   "cell_type": "code",
   "execution_count": 8,
   "metadata": {},
   "outputs": [],
   "source": [
    "class X:\n",
    "    def __init__(self, name):\n",
    "        self.__name = name\n",
    "    @property\n",
    "    def name(self):\n",
    "        return self.__name\n",
    "    @name.setter\n",
    "    def name(self, value):\n",
    "        self.__name = value"
   ]
  },
  {
   "cell_type": "code",
   "execution_count": 9,
   "metadata": {},
   "outputs": [
    {
     "data": {
      "text/plain": [
       "mappingproxy({'__dict__': <attribute '__dict__' of 'X' objects>,\n",
       "              '__doc__': None,\n",
       "              '__init__': <function __main__.X.__init__>,\n",
       "              '__module__': '__main__',\n",
       "              '__weakref__': <attribute '__weakref__' of 'X' objects>,\n",
       "              'name': <property at 0x111a7a188>})"
      ]
     },
     "execution_count": 9,
     "metadata": {},
     "output_type": "execute_result"
    }
   ],
   "source": [
    "vars(X)"
   ]
  },
  {
   "cell_type": "code",
   "execution_count": 11,
   "metadata": {},
   "outputs": [
    {
     "data": {
      "text/plain": [
       "{'_X__name': 'haha'}"
      ]
     },
     "execution_count": 11,
     "metadata": {},
     "output_type": "execute_result"
    }
   ],
   "source": [
    "vars(X('haha'))"
   ]
  },
  {
   "cell_type": "code",
   "execution_count": 12,
   "metadata": {},
   "outputs": [],
   "source": [
    "class X:\n",
    "    def test(self):\n",
    "        pass\n",
    "o = X()"
   ]
  },
  {
   "cell_type": "code",
   "execution_count": 16,
   "metadata": {},
   "outputs": [
    {
     "data": {
      "text/plain": [
       "<bound method X.test of <__main__.X object at 0x111aecc50>>"
      ]
     },
     "execution_count": 16,
     "metadata": {},
     "output_type": "execute_result"
    }
   ],
   "source": [
    "o.test"
   ]
  },
  {
   "cell_type": "code",
   "execution_count": 17,
   "metadata": {},
   "outputs": [
    {
     "data": {
      "text/plain": [
       "<function __main__.X.test>"
      ]
     },
     "execution_count": 17,
     "metadata": {},
     "output_type": "execute_result"
    }
   ],
   "source": [
    "X.test"
   ]
  },
  {
   "cell_type": "markdown",
   "metadata": {},
   "source": [
    "同一个方法，仅因为引用方式不同，结果就有绑定方法和函数的区别，这其中是描述符机制在起作用。它会将实例附加到方法的\\_\\_self__属性，解释器执行时就会隐式传入self参数。"
   ]
  },
  {
   "cell_type": "code",
   "execution_count": 18,
   "metadata": {},
   "outputs": [
    {
     "data": {
      "text/plain": [
       "<__main__.X at 0x111aecc50>"
      ]
     },
     "execution_count": 18,
     "metadata": {},
     "output_type": "execute_result"
    }
   ],
   "source": [
    "o.test.__self__"
   ]
  },
  {
   "cell_type": "code",
   "execution_count": 19,
   "metadata": {},
   "outputs": [
    {
     "ename": "AttributeError",
     "evalue": "'function' object has no attribute '__self__'",
     "output_type": "error",
     "traceback": [
      "\u001b[0;31m---------------------------------------------------------------------------\u001b[0m",
      "\u001b[0;31mAttributeError\u001b[0m                            Traceback (most recent call last)",
      "\u001b[0;32m<ipython-input-19-bec33e250c21>\u001b[0m in \u001b[0;36m<module>\u001b[0;34m()\u001b[0m\n\u001b[0;32m----> 1\u001b[0;31m \u001b[0mX\u001b[0m\u001b[0;34m.\u001b[0m\u001b[0mtest\u001b[0m\u001b[0;34m.\u001b[0m\u001b[0m__self__\u001b[0m\u001b[0;34m\u001b[0m\u001b[0m\n\u001b[0m",
      "\u001b[0;31mAttributeError\u001b[0m: 'function' object has no attribute '__self__'"
     ]
    }
   ],
   "source": [
    "X.test.__self__"
   ]
  },
  {
   "cell_type": "markdown",
   "metadata": {},
   "source": [
    "类型方法用来维护类型状态，面向族群提供服务接口，其实现方式与实例方法完全相同，且存储类型引用的字段名也还是\\_\\_self__   \n",
    "静态方法总是函数"
   ]
  },
  {
   "cell_type": "markdown",
   "metadata": {},
   "source": [
    "- 封装讲究结构复用，逻辑内敛，以固定接口对外提供服务。其遵循单一职责，规定每个类仅有一个引发变化的原因。多于一个的耦合设计会导致脆弱类型，任何职责的变更可能引发连带事故\n",
    "- 继承并非复制原有类型，而是一种增量进化。其对应开闭原则，对修改封闭，对扩展开放。此外不应违背里氏替换原则，也就是多态特征，所有继承子类应该能直接用于引用父类的场合\n",
    "- 我们也习惯于将复杂类型的公用部分剥离出来，形成稳固的抽象基类。其他引发变化的相似因素被分离成多个子类，以确保单一职责得到遵守，并能相互替换"
   ]
  },
  {
   "cell_type": "code",
   "execution_count": 3,
   "metadata": {},
   "outputs": [],
   "source": [
    "class A: pass\n",
    "class B(A):pass\n",
    "class C(B):pass"
   ]
  },
  {
   "cell_type": "code",
   "execution_count": 2,
   "metadata": {},
   "outputs": [
    {
     "data": {
      "text/plain": [
       "type"
      ]
     },
     "execution_count": 2,
     "metadata": {},
     "output_type": "execute_result"
    }
   ],
   "source": [
    "A.__class__"
   ]
  },
  {
   "cell_type": "code",
   "execution_count": 5,
   "metadata": {},
   "outputs": [
    {
     "data": {
      "text/plain": [
       "[__main__.B]"
      ]
     },
     "execution_count": 5,
     "metadata": {},
     "output_type": "execute_result"
    }
   ],
   "source": [
    "A.__subclasses__()"
   ]
  },
  {
   "cell_type": "code",
   "execution_count": 6,
   "metadata": {},
   "outputs": [
    {
     "data": {
      "text/plain": [
       "__main__.A"
      ]
     },
     "execution_count": 6,
     "metadata": {},
     "output_type": "execute_result"
    }
   ],
   "source": [
    "B.__base__"
   ]
  },
  {
   "cell_type": "code",
   "execution_count": 7,
   "metadata": {},
   "outputs": [
    {
     "data": {
      "text/plain": [
       "__main__.B"
      ]
     },
     "execution_count": 7,
     "metadata": {},
     "output_type": "execute_result"
    }
   ],
   "source": [
    "C.__base__"
   ]
  },
  {
   "cell_type": "code",
   "execution_count": 11,
   "metadata": {},
   "outputs": [
    {
     "data": {
      "text/plain": [
       "(__main__.B,)"
      ]
     },
     "execution_count": 11,
     "metadata": {},
     "output_type": "execute_result"
    }
   ],
   "source": [
    "C.__bases__"
   ]
  },
  {
   "cell_type": "code",
   "execution_count": 8,
   "metadata": {},
   "outputs": [
    {
     "name": "stdout",
     "output_type": "stream",
     "text": [
      "  3           0 LOAD_FAST                0 (self)\n",
      "              2 LOAD_ATTR                0 (m)\n",
      "              4 CALL_FUNCTION            0\n",
      "              6 POP_TOP\n",
      "              8 LOAD_CONST               0 (None)\n",
      "             10 RETURN_VALUE\n"
     ]
    }
   ],
   "source": [
    "class D:\n",
    "    def m(self): print('D.m')\n",
    "    def do(self): self.m()\n",
    "import dis\n",
    "dis.dis(D.do)"
   ]
  },
  {
   "cell_type": "markdown",
   "metadata": {},
   "source": [
    "多继承从优点上说提供了一种混入机制，让既有体系轻松扩展出其他体系的功能。但它会导致严重的混乱，新语言大多会避开多继承，以接口实现。  \n",
    "\\_\\_base__仅返回单个基类的只读属性，\\_\\_bases__按继承顺序返回全部基类。  \n",
    "MRO（method resolution order）即搜索的基本规则。"
   ]
  },
  {
   "cell_type": "code",
   "execution_count": 12,
   "metadata": {},
   "outputs": [
    {
     "data": {
      "text/plain": [
       "(__main__.C, __main__.B, __main__.A, object)"
      ]
     },
     "execution_count": 12,
     "metadata": {},
     "output_type": "execute_result"
    }
   ],
   "source": [
    "C.__mro__"
   ]
  },
  {
   "cell_type": "code",
   "execution_count": 20,
   "metadata": {},
   "outputs": [],
   "source": [
    "class A:\n",
    "    def test(self):\n",
    "        print('A')\n",
    "class B(A):\n",
    "    def test(self):\n",
    "        print('B')\n",
    "class C(B):\n",
    "    def test(self):\n",
    "        print('C')"
   ]
  },
  {
   "cell_type": "code",
   "execution_count": 22,
   "metadata": {},
   "outputs": [
    {
     "data": {
      "text/plain": [
       "<function __main__.B.test>"
      ]
     },
     "execution_count": 22,
     "metadata": {},
     "output_type": "execute_result"
    }
   ],
   "source": [
    "super(C,C).test"
   ]
  },
  {
   "cell_type": "code",
   "execution_count": 23,
   "metadata": {},
   "outputs": [
    {
     "data": {
      "text/plain": [
       "<function __main__.A.test>"
      ]
     },
     "execution_count": 23,
     "metadata": {},
     "output_type": "execute_result"
    }
   ],
   "source": [
    "super(B,C).test"
   ]
  },
  {
   "cell_type": "code",
   "execution_count": 24,
   "metadata": {},
   "outputs": [
    {
     "ename": "AttributeError",
     "evalue": "'super' object has no attribute 'test'",
     "output_type": "error",
     "traceback": [
      "\u001b[0;31m---------------------------------------------------------------------------\u001b[0m",
      "\u001b[0;31mAttributeError\u001b[0m                            Traceback (most recent call last)",
      "\u001b[0;32m<ipython-input-24-44eb013dea8f>\u001b[0m in \u001b[0;36m<module>\u001b[0;34m()\u001b[0m\n\u001b[0;32m----> 1\u001b[0;31m \u001b[0msuper\u001b[0m\u001b[0;34m(\u001b[0m\u001b[0mA\u001b[0m\u001b[0;34m,\u001b[0m\u001b[0mC\u001b[0m\u001b[0;34m)\u001b[0m\u001b[0;34m.\u001b[0m\u001b[0mtest\u001b[0m\u001b[0;34m\u001b[0m\u001b[0m\n\u001b[0m",
      "\u001b[0;31mAttributeError\u001b[0m: 'super' object has no attribute 'test'"
     ]
    }
   ],
   "source": [
    "super(A,C).test"
   ]
  },
  {
   "cell_type": "code",
   "execution_count": 25,
   "metadata": {},
   "outputs": [
    {
     "ename": "TypeError",
     "evalue": "super() argument 1 must be type, not C",
     "output_type": "error",
     "traceback": [
      "\u001b[0;31m---------------------------------------------------------------------------\u001b[0m",
      "\u001b[0;31mTypeError\u001b[0m                                 Traceback (most recent call last)",
      "\u001b[0;32m<ipython-input-25-2cd6e2fb9ece>\u001b[0m in \u001b[0;36m<module>\u001b[0;34m()\u001b[0m\n\u001b[0;32m----> 1\u001b[0;31m \u001b[0msuper\u001b[0m\u001b[0;34m(\u001b[0m\u001b[0mC\u001b[0m\u001b[0;34m(\u001b[0m\u001b[0;34m)\u001b[0m\u001b[0;34m,\u001b[0m\u001b[0mC\u001b[0m\u001b[0;34m)\u001b[0m\u001b[0;34m.\u001b[0m\u001b[0mtest\u001b[0m\u001b[0;34m\u001b[0m\u001b[0m\n\u001b[0m",
      "\u001b[0;31mTypeError\u001b[0m: super() argument 1 must be type, not C"
     ]
    }
   ],
   "source": [
    "super(C(),C).test"
   ]
  },
  {
   "cell_type": "code",
   "execution_count": 26,
   "metadata": {},
   "outputs": [
    {
     "data": {
      "text/plain": [
       "<bound method B.test of <__main__.C object at 0x1037f4be0>>"
      ]
     },
     "execution_count": 26,
     "metadata": {},
     "output_type": "execute_result"
    }
   ],
   "source": [
    "super(C,C()).test"
   ]
  },
  {
   "cell_type": "markdown",
   "metadata": {},
   "source": [
    "super的第一个参数用来指定起点，第二个参数用来提供mro列表。函数总是返回起点位置后一类型。"
   ]
  },
  {
   "cell_type": "markdown",
   "metadata": {},
   "source": [
    "抽象类表示部分完成，且不能被实例化的类。从抽象类继承，必须实现所有层级未被实现的抽象方法，否则仍然是抽象类无法创建实例。"
   ]
  },
  {
   "cell_type": "code",
   "execution_count": 27,
   "metadata": {},
   "outputs": [],
   "source": [
    "from abc import ABCMeta, abstractmethod\n",
    "class Store(metaclass=ABCMeta):\n",
    "    def __init__(self, name):\n",
    "        self.name = name\n",
    "    @abstractmethod\n",
    "    def dump(self, data):\n",
    "        pass\n",
    "    \n",
    "    @classmethod\n",
    "    @abstractmethod\n",
    "    def hello(cls):\n",
    "        pass"
   ]
  },
  {
   "cell_type": "code",
   "execution_count": 28,
   "metadata": {},
   "outputs": [
    {
     "ename": "TypeError",
     "evalue": "Can't instantiate abstract class Store with abstract methods dump, hello",
     "output_type": "error",
     "traceback": [
      "\u001b[0;31m---------------------------------------------------------------------------\u001b[0m",
      "\u001b[0;31mTypeError\u001b[0m                                 Traceback (most recent call last)",
      "\u001b[0;32m<ipython-input-28-d35a17c1113a>\u001b[0m in \u001b[0;36m<module>\u001b[0;34m()\u001b[0m\n\u001b[0;32m----> 1\u001b[0;31m \u001b[0ms\u001b[0m \u001b[0;34m=\u001b[0m \u001b[0mStore\u001b[0m\u001b[0;34m(\u001b[0m\u001b[0;34m'ss'\u001b[0m\u001b[0;34m)\u001b[0m\u001b[0;34m\u001b[0m\u001b[0m\n\u001b[0m",
      "\u001b[0;31mTypeError\u001b[0m: Can't instantiate abstract class Store with abstract methods dump, hello"
     ]
    }
   ],
   "source": [
    "s = Store('ss')"
   ]
  },
  {
   "cell_type": "code",
   "execution_count": 29,
   "metadata": {},
   "outputs": [],
   "source": [
    "class X:\n",
    "    pass\n",
    "o = X()  # 预先创建实例"
   ]
  },
  {
   "cell_type": "code",
   "execution_count": 30,
   "metadata": {},
   "outputs": [],
   "source": [
    "X.a = lambda self: print('instance method:',self) # 动态添加方法\n",
    "X.b = classmethod(lambda cls: print('class method:', cls))\n",
    "X.c = staticmethod(lambda: print('static method'))"
   ]
  },
  {
   "cell_type": "code",
   "execution_count": 31,
   "metadata": {},
   "outputs": [
    {
     "name": "stdout",
     "output_type": "stream",
     "text": [
      "instance method: <__main__.X object at 0x10377a780>\n"
     ]
    }
   ],
   "source": [
    "o.a()"
   ]
  },
  {
   "cell_type": "code",
   "execution_count": 32,
   "metadata": {},
   "outputs": [
    {
     "name": "stdout",
     "output_type": "stream",
     "text": [
      "class method: <class '__main__.X'>\n"
     ]
    }
   ],
   "source": [
    "o.b()"
   ]
  },
  {
   "cell_type": "code",
   "execution_count": 33,
   "metadata": {},
   "outputs": [
    {
     "name": "stdout",
     "output_type": "stream",
     "text": [
      "static method\n"
     ]
    }
   ],
   "source": [
    "o.c()"
   ]
  },
  {
   "cell_type": "markdown",
   "metadata": {},
   "source": [
    "SimpleNamespace简单继承自object，用于替代\"class X:pass\"之类的语句。  \n",
    "不同于nametuple创建结构化类型，其可直接创建实例。"
   ]
  },
  {
   "cell_type": "code",
   "execution_count": 38,
   "metadata": {},
   "outputs": [],
   "source": [
    "import types\n",
    "o = types.SimpleNamespace(a='sds')"
   ]
  },
  {
   "cell_type": "code",
   "execution_count": 39,
   "metadata": {},
   "outputs": [
    {
     "data": {
      "text/plain": [
       "{'a': 'sds'}"
      ]
     },
     "execution_count": 39,
     "metadata": {},
     "output_type": "execute_result"
    }
   ],
   "source": [
    "o.__dict__"
   ]
  },
  {
   "cell_type": "markdown",
   "metadata": {},
   "source": [
    "名字空间字典带来便利的同时，也会造成内存和性能问题。对于需要创建海量实例的类型，可以使用\\_\\_slots__阻止实例创建dict等成员，仅为指定成员分配空间。  \n",
    "对于有slots设置的类型，解释器在创建类型对象时，直接讲指定成员包装成描述符后静态分配到类型对象尾部。实例字段也不再通过\\_\\_dict__存储，而是改为直接分配引用内存。成员后续操作都由描述符完成，可间接修改或删除字段内容，但却无法改变描述符本身。  \n",
    "继承有slots设置的类型，同样需要添加该设置。其可为空，或是新增设置，以指示解释器继续使用特定分配策略。"
   ]
  },
  {
   "cell_type": "code",
   "execution_count": null,
   "metadata": {},
   "outputs": [],
   "source": []
  }
 ],
 "metadata": {
  "kernelspec": {
   "display_name": "Python 3",
   "language": "python",
   "name": "python3"
  },
  "language_info": {
   "codemirror_mode": {
    "name": "ipython",
    "version": 3
   },
   "file_extension": ".py",
   "mimetype": "text/x-python",
   "name": "python",
   "nbconvert_exporter": "python",
   "pygments_lexer": "ipython3",
   "version": "3.6.5"
  }
 },
 "nbformat": 4,
 "nbformat_minor": 2
}
