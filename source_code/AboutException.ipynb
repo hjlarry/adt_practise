{
 "cells": [
  {
   "cell_type": "markdown",
   "metadata": {},
   "source": [
    "常见的错误处理方式有两类：一类是函数返回错误码，由调用方决定如何处理；另一类是以专用语句保护代码块，当异常发生时，跳转到指定的处理单元。前者有较好的性能，而后者可分离正常逻辑与故障处理代码。"
   ]
  },
  {
   "cell_type": "markdown",
   "metadata": {},
   "source": [
    "将错误码设计为函数签名的一部分，可预先让调用方知道可能会发生什么，该机制无须处理调用堆栈信息，无须额外状态保存和流程控制机制，其简单、高效。但逻辑处理中充斥着冗长的错误处理代码会直接导致代码可读性变差，不便于维护和重构，结构化处理会更优雅一些。 "
   ]
  },
  {
   "cell_type": "code",
   "execution_count": 1,
   "metadata": {},
   "outputs": [],
   "source": [
    "def test():\n",
    "    try:\n",
    "        raise Exception\n",
    "    except:\n",
    "        print('except')"
   ]
  },
  {
   "cell_type": "code",
   "execution_count": 2,
   "metadata": {},
   "outputs": [
    {
     "name": "stdout",
     "output_type": "stream",
     "text": [
      "  2           0 SETUP_EXCEPT             8 (to 10)\n",
      "\n",
      "  3           2 LOAD_GLOBAL              0 (Exception)\n",
      "              4 RAISE_VARARGS            1\n",
      "              6 POP_BLOCK\n",
      "              8 JUMP_FORWARD            20 (to 30)\n",
      "\n",
      "  4     >>   10 POP_TOP\n",
      "             12 POP_TOP\n",
      "             14 POP_TOP\n",
      "\n",
      "  5          16 LOAD_GLOBAL              1 (print)\n",
      "             18 LOAD_CONST               1 ('except')\n",
      "             20 CALL_FUNCTION            1\n",
      "             22 POP_TOP\n",
      "             24 POP_EXCEPT\n",
      "             26 JUMP_FORWARD             2 (to 30)\n",
      "             28 END_FINALLY\n",
      "        >>   30 LOAD_CONST               0 (None)\n",
      "             32 RETURN_VALUE\n"
     ]
    }
   ],
   "source": [
    "import dis\n",
    "dis.dis(test)"
   ]
  },
  {
   "cell_type": "markdown",
   "metadata": {},
   "source": [
    "解释器使用块栈(block stack)结构处理异常逻辑，它和执行栈一起被栈帧管理。  \n",
    "0 向块栈添加except跳转位置  \n",
    "2 创建并引发异常  \n",
    "4 解释器从块栈弹出设置，按参数跳转  \n",
    "10 跳转到此处  \n",
    "12 清楚exc参数  \n",
    "16 执行except代码  \n",
    "24 移除块栈内的设置  \n",
    "26 处理后函数正常返回"
   ]
  },
  {
   "cell_type": "code",
   "execution_count": 3,
   "metadata": {},
   "outputs": [
    {
     "data": {
      "text/plain": [
       "(None, None, None)"
      ]
     },
     "execution_count": 3,
     "metadata": {},
     "output_type": "execute_result"
    }
   ],
   "source": [
    "import sys\n",
    "sys.exc_info()"
   ]
  },
  {
   "cell_type": "code",
   "execution_count": 11,
   "metadata": {},
   "outputs": [],
   "source": [
    "import traceback\n",
    "def b():\n",
    "    raise Exception('sdsd')\n",
    "def test():\n",
    "    try:\n",
    "        b()\n",
    "    except:\n",
    "        a = sys.exc_info()\n",
    "        print(a)\n",
    "        traceback.print_tb(a[2])"
   ]
  },
  {
   "cell_type": "code",
   "execution_count": 12,
   "metadata": {},
   "outputs": [
    {
     "name": "stdout",
     "output_type": "stream",
     "text": [
      "(<class 'Exception'>, Exception('sdsd',), <traceback object at 0x110a8a088>)\n"
     ]
    },
    {
     "name": "stderr",
     "output_type": "stream",
     "text": [
      "  File \"<ipython-input-11-0d385584402a>\", line 6, in test\n",
      "    b()\n",
      "  File \"<ipython-input-11-0d385584402a>\", line 3, in b\n",
      "    raise Exception('sdsd')\n"
     ]
    }
   ],
   "source": [
    "test()"
   ]
  },
  {
   "cell_type": "markdown",
   "metadata": {},
   "source": [
    "异常对象保存在当前线程状态里，异常发生时，解释器会逐级为每个未能捕获异常的函数调用创建关联跟踪对象traceback，它负责存储栈帧、最后指令位置以及源码行等信息。异常一旦被捕获处理，保存在线程状态内的exc_type, exc_value, exc_traceback都会被清除"
   ]
  },
  {
   "cell_type": "markdown",
   "metadata": {},
   "source": [
    "异常处理结构4个组成单元：\n",
    "- try: 需要保护的代码块\n",
    "- except: 异常发生时，按所属类型捕获并处理\n",
    "- else: 异常未发生时执行，但最少有一个except语句\n",
    "- finally: 无论异常是否发生，总是执行"
   ]
  },
  {
   "cell_type": "markdown",
   "metadata": {},
   "source": [
    "即便在try语句块内有return、break等逻辑跳转指令，解释器也会确保finally被执行。  \n",
    "建议以Exception、Error后缀区分可修复异常和不可修复错误。"
   ]
  },
  {
   "cell_type": "code",
   "execution_count": 13,
   "metadata": {},
   "outputs": [],
   "source": [
    "class UserException(Exception):\n",
    "    def __init__(self, uid):\n",
    "        self.uid = uid  # 用于用户修复逻辑\n",
    "        super().__init__(f'an exception about {self.uid}', uid) # 用于日志和显示"
   ]
  },
  {
   "cell_type": "code",
   "execution_count": 14,
   "metadata": {},
   "outputs": [],
   "source": [
    "import logging\n",
    "def test():\n",
    "    try:\n",
    "        raise UserException(103)\n",
    "    except UserException as exc:\n",
    "        logging.error(exc.args)  # 日志记录\n",
    "        print(exc.uid)  # 修复或重新抛出"
   ]
  },
  {
   "cell_type": "code",
   "execution_count": 15,
   "metadata": {},
   "outputs": [
    {
     "name": "stderr",
     "output_type": "stream",
     "text": [
      "ERROR:root:('an exception about 103', 103)\n"
     ]
    },
    {
     "name": "stdout",
     "output_type": "stream",
     "text": [
      "103\n"
     ]
    }
   ],
   "source": [
    "test()"
   ]
  },
  {
   "cell_type": "markdown",
   "metadata": {},
   "source": [
    "日志和显示信息使用Exception.args，有助于通用性，但若用于诊断和修复数据，建议使用显式属性存储。"
   ]
  },
  {
   "cell_type": "markdown",
   "metadata": {},
   "source": [
    "warnings模块继承自Exception，但默认只输出相关信息，不会做为异常抛出，但可配置忽略(-Wi)，或转换为异常抛出(-We)。"
   ]
  },
  {
   "cell_type": "code",
   "execution_count": null,
   "metadata": {},
   "outputs": [],
   "source": []
  }
 ],
 "metadata": {
  "kernelspec": {
   "display_name": "Python 3",
   "language": "python",
   "name": "python3"
  },
  "language_info": {
   "codemirror_mode": {
    "name": "ipython",
    "version": 3
   },
   "file_extension": ".py",
   "mimetype": "text/x-python",
   "name": "python",
   "nbconvert_exporter": "python",
   "pygments_lexer": "ipython3",
   "version": "3.6.5"
  }
 },
 "nbformat": 4,
 "nbformat_minor": 2
}
