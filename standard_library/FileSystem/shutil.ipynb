{
 "cells": [
  {
   "cell_type": "markdown",
   "metadata": {},
   "source": [
    "## 复制文件"
   ]
  },
  {
   "cell_type": "code",
   "execution_count": 5,
   "metadata": {},
   "outputs": [
    {
     "name": "stdout",
     "output_type": "stream",
     "text": [
      "Before: ['example_link', 'example.txt', 'example_dir']\n",
      "After: ['example_link', 'example.txt', 'example_dir', 'example.txt.copy']\n"
     ]
    }
   ],
   "source": [
    "import glob\n",
    "import shutil\n",
    "print(\"Before:\", glob.glob('example*'))\n",
    "shutil.copyfile('example.txt', 'example.txt.copy')\n",
    "print(\"After:\", glob.glob('example*'))"
   ]
  },
  {
   "cell_type": "code",
   "execution_count": 10,
   "metadata": {},
   "outputs": [
    {
     "name": "stdout",
     "output_type": "stream",
     "text": [
      "Default:\n",
      "read(16384) got 166 bytes\n",
      "read(16384) got 0 bytes\n",
      "All at once:\n",
      "read(-1) got 166 bytes\n",
      "read(-1) got 0 bytes\n",
      "Block 256:\n",
      "read(128) got 128 bytes\n",
      "read(128) got 38 bytes\n",
      "read(128) got 0 bytes\n"
     ]
    }
   ],
   "source": [
    "import io\n",
    "import sys\n",
    "import os\n",
    "\n",
    "class VerboseStringIO(io.StringIO):\n",
    "    def read(self, n=-1):\n",
    "        next = super().read(n)\n",
    "        print(f'read({n}) got {len(next)} bytes')\n",
    "        return next\n",
    "lorem_ipsum = '''Lorem ipsum dolor sit amet, consectetuer\n",
    "adipiscing elit.  Vestibulum aliquam mollis dolor. Donec\n",
    "vulputate nunc ut diam. Ut rutrum mi vel sem. Vestibulum\n",
    "ante ipsum.'''\n",
    "\n",
    "print('Default:')\n",
    "input = VerboseStringIO(lorem_ipsum)\n",
    "output = io.StringIO()\n",
    "shutil.copyfileobj(input, output)\n",
    "print('All at once:')\n",
    "input = VerboseStringIO(lorem_ipsum)\n",
    "output = io.StringIO()\n",
    "shutil.copyfileobj(input, output, -1)\n",
    "print('Block 256:')\n",
    "input = VerboseStringIO(lorem_ipsum)\n",
    "output = io.StringIO()\n",
    "shutil.copyfileobj(input, output, 128)"
   ]
  },
  {
   "cell_type": "markdown",
   "metadata": {},
   "source": [
    "copyfile() 不管文件的类型如何，都会打开进行读取，一些特殊的文件（例如 Unix 设备）是不能使用它进行复制的。copyfile()  使用低级的方法 copyfileobj() 实现。传入 copyfile() 的参数是文件名称，而传入 copyfileobj() 是打开的文件描述符。可选的第三个参数用来设置读取块的大小。 -1表示一次性全部读取。"
   ]
  },
  {
   "cell_type": "code",
   "execution_count": 12,
   "metadata": {},
   "outputs": [
    {
     "name": "stdout",
     "output_type": "stream",
     "text": [
      "Before: ['test_files/Untitled Folder', 'test_files/symlink', 'test_files/file', 'test_files/fifo']\n",
      "After: ['test_files/Untitled Folder', 'test_files/symlink', 'test_files/file', 'test_files/example.txt', 'test_files/fifo']\n"
     ]
    }
   ],
   "source": [
    "print(\"Before:\", glob.glob('test_files/*'))\n",
    "shutil.copy('example.txt', 'test_files')\n",
    "print(\"After:\", glob.glob('test_files/*'))"
   ]
  },
  {
   "cell_type": "markdown",
   "metadata": {},
   "source": [
    "copy() 方法会像 Unix 命令行工具 cp 那样解释输出文件名称。如果目标是一个目录而不是一个文件，那么将会在这个目录中创建一个与源文件同名的新文件。  \n",
    "copy2() 类似 copy() ，但是在复制时会包含元数据中的访问和修改时间。  \n",
    "copymode()可以复制一个文件的权限给新文件， copystat()可以复制文件的其他元数据。"
   ]
  },
  {
   "cell_type": "markdown",
   "metadata": {},
   "source": [
    "## 处理目录树"
   ]
  },
  {
   "cell_type": "code",
   "execution_count": 24,
   "metadata": {},
   "outputs": [
    {
     "name": "stdout",
     "output_type": "stream",
     "text": [
      "Before:\n",
      "[]\n",
      "After:\n",
      "['/tmp/example_dir/gen_template.py']\n"
     ]
    }
   ],
   "source": [
    "import pprint\n",
    "print('Before:')\n",
    "pprint.pprint(glob.glob('/tmp/example_dir/*'))\n",
    "shutil.copytree('../../template_gen', '/tmp/example_dir')\n",
    "print('After:')\n",
    "pprint.pprint(glob.glob('/tmp/example_dir/*'))"
   ]
  },
  {
   "cell_type": "code",
   "execution_count": 23,
   "metadata": {},
   "outputs": [],
   "source": [
    "shutil.rmtree('/tmp/example_dir')"
   ]
  },
  {
   "cell_type": "code",
   "execution_count": 25,
   "metadata": {},
   "outputs": [
    {
     "name": "stdout",
     "output_type": "stream",
     "text": [
      "BEFORE:  ['example_link', 'example.txt', 'example_dir', 'example.txt.copy']\n",
      "AFTER :  ['example_link', 'example.out', 'example_dir', 'example.txt.copy']\n"
     ]
    }
   ],
   "source": [
    "print('BEFORE: ', glob.glob('example*'))\n",
    "shutil.move('example.txt', 'example.out')\n",
    "print('AFTER : ', glob.glob('example*'))"
   ]
  },
  {
   "cell_type": "markdown",
   "metadata": {},
   "source": [
    "原理类似于 Unix 命令 mv 。如果源文件和目标文件都存在，源文件将会被重命名。否则源文件被复制到目的地然后被删除。"
   ]
  },
  {
   "cell_type": "markdown",
   "metadata": {},
   "source": [
    "## 查找文件"
   ]
  },
  {
   "cell_type": "code",
   "execution_count": 36,
   "metadata": {},
   "outputs": [
    {
     "name": "stdout",
     "output_type": "stream",
     "text": [
      "/usr/local/bin/virtualenv\n",
      "None\n",
      "/usr/bin/git\n",
      "None\n",
      "/usr/local/bin/python3\n"
     ]
    }
   ],
   "source": [
    "print(shutil.which('virtualenv'))\n",
    "print(shutil.which('tox'))\n",
    "print(shutil.which('git'))\n",
    "print(shutil.which('example.txt'))\n",
    "print(shutil.which('python3'))"
   ]
  },
  {
   "cell_type": "markdown",
   "metadata": {},
   "source": [
    "which() 方法会按照一个搜索路径查找，典型的使用场景是在环境变量 PATH 定义的路径中查找可执行程序的位置。"
   ]
  },
  {
   "cell_type": "code",
   "execution_count": 41,
   "metadata": {},
   "outputs": [
    {
     "name": "stdout",
     "output_type": "stream",
     "text": [
      ".:/Users/hejl\n",
      "/Users/hejl/jmeter.log\n"
     ]
    }
   ],
   "source": [
    "path = os.pathsep.join([\n",
    "    '.',\n",
    "    os.path.expanduser('~'),\n",
    "])\n",
    "\n",
    "mode = os.F_OK | os.R_OK\n",
    "\n",
    "filename = shutil.which(\n",
    "    'jmeter.log',\n",
    "    mode=mode,\n",
    "    path=path,  # path 参数默认是 os.environ('PATH')，但是可以是任何由 os.pathsep 分隔的字符串\n",
    ")\n",
    "print(path)\n",
    "print(filename)\n"
   ]
  },
  {
   "cell_type": "markdown",
   "metadata": {},
   "source": [
    "## 压缩"
   ]
  },
  {
   "cell_type": "code",
   "execution_count": 43,
   "metadata": {},
   "outputs": [
    {
     "name": "stdout",
     "output_type": "stream",
     "text": [
      "bztar  bzip2'ed tar-file\n",
      "gztar  gzip'ed tar-file\n",
      "  tar  uncompressed tar file\n",
      "xztar  xz'ed tar-file\n",
      "  zip  ZIP file\n"
     ]
    }
   ],
   "source": [
    "for format, des in shutil.get_archive_formats():\n",
    "    print(f'{format:>5}  {des}')"
   ]
  },
  {
   "cell_type": "code",
   "execution_count": 48,
   "metadata": {},
   "outputs": [
    {
     "name": "stdout",
     "output_type": "stream",
     "text": [
      "bztar ['.tar.bz2', '.tbz2']     bzip2'ed tar-file\n",
      "gztar ['.tar.gz', '.tgz']       gzip'ed tar-file\n",
      "  tar ['.tar']                  uncompressed tar file\n",
      "xztar ['.tar.xz', '.txz']       xz'ed tar-file\n",
      "  zip ['.zip']                  ZIP file\n"
     ]
    }
   ],
   "source": [
    "for format, ends, des in shutil.get_unpack_formats():\n",
    "    print(f'{format :>5} {str(ends): <25} {des}')"
   ]
  },
  {
   "cell_type": "code",
   "execution_count": 50,
   "metadata": {},
   "outputs": [
    {
     "name": "stdout",
     "output_type": "stream",
     "text": [
      "Creating archive:\n",
      "changing into '.'\n",
      "Creating tar archive\n",
      "changing back to '/Users/hejl/local/practise/source_code/standard_library'\n",
      "\n",
      "Archive contents:\n",
      "test_files\n",
      "test_files/Untitled Folder\n",
      "test_files/Untitled Folder/untitled.txt\n",
      "test_files/symlink\n",
      "test_files/file\n",
      "test_files/example.txt\n",
      "test_files/fifo\n"
     ]
    }
   ],
   "source": [
    "import logging\n",
    "import sys\n",
    "import tarfile\n",
    "\n",
    "logging.basicConfig(format='%(message)s', stream=sys.stdout, level=logging.DEBUG)\n",
    "logger = logging.getLogger('pymotw')\n",
    "print('Creating archive:')\n",
    "shutil.make_archive('example', 'gztar', root_dir='.', base_dir='test_files', logger=logger)\n",
    "print('\\nArchive contents:')\n",
    "with tarfile.open('example.tar.gz', 'r') as t:\n",
    "    for n in t.getnames():\n",
    "        print(n)"
   ]
  },
  {
   "cell_type": "code",
   "execution_count": 53,
   "metadata": {},
   "outputs": [
    {
     "name": "stdout",
     "output_type": "stream",
     "text": [
      "Unpacking archive:\n",
      "\n",
      "Created:\n",
      "/var/folders/r7/mv379gf57vlb8j9mc0nwjb9m0000gn/T/tmpb_vo4nv2/test_files\n",
      "test_files\n",
      "/var/folders/r7/mv379gf57vlb8j9mc0nwjb9m0000gn/T/tmpb_vo4nv2/test_files/Untitled Folder\n",
      "test_files/Untitled Folder\n",
      "/var/folders/r7/mv379gf57vlb8j9mc0nwjb9m0000gn/T/tmpb_vo4nv2/test_files/symlink\n",
      "test_files/symlink\n",
      "/var/folders/r7/mv379gf57vlb8j9mc0nwjb9m0000gn/T/tmpb_vo4nv2/test_files/file\n",
      "test_files/file\n",
      "/var/folders/r7/mv379gf57vlb8j9mc0nwjb9m0000gn/T/tmpb_vo4nv2/test_files/example.txt\n",
      "test_files/example.txt\n",
      "/var/folders/r7/mv379gf57vlb8j9mc0nwjb9m0000gn/T/tmpb_vo4nv2/test_files/fifo\n",
      "test_files/fifo\n",
      "/var/folders/r7/mv379gf57vlb8j9mc0nwjb9m0000gn/T/tmpb_vo4nv2/test_files/Untitled Folder/untitled.txt\n",
      "test_files/Untitled Folder/untitled.txt\n"
     ]
    }
   ],
   "source": [
    "import tempfile\n",
    "import pathlib\n",
    "with tempfile.TemporaryDirectory() as d:\n",
    "    print('Unpacking archive:')\n",
    "    shutil.unpack_archive('example.tar.gz', extract_dir=d)\n",
    "    print('\\nCreated:')\n",
    "    prefix_len = len(d)+1\n",
    "    for extracted in pathlib.Path(d).rglob('*'):\n",
    "        print(str(extracted))\n",
    "        print(str(extracted)[prefix_len:])"
   ]
  },
  {
   "cell_type": "markdown",
   "metadata": {},
   "source": [
    "## 文件系统空间"
   ]
  },
  {
   "cell_type": "code",
   "execution_count": 56,
   "metadata": {},
   "outputs": [
    {
     "name": "stdout",
     "output_type": "stream",
     "text": [
      "Total: 250.69 GB 233.47 GiB\n",
      "Used:  50.96 GB  47.46 GiB\n",
      "Free: 195.81 GB 182.36 GiB\n"
     ]
    }
   ],
   "source": [
    "total_b, used_b, free_b = shutil.disk_usage('.')\n",
    "gib = 2**30 # GiB == gibibyte\n",
    "gb = 10**9 # GB == gigabyte\n",
    "\n",
    "print(f\"Total: {total_b/gb :6.2f} GB {total_b/gib :6.2f} GiB\")\n",
    "print(f\"Used: {used_b/gb :6.2f} GB {used_b/gib :6.2f} GiB\")\n",
    "print(f\"Free: {free_b/gb :6.2f} GB {free_b/gib :6.2f} GiB\")"
   ]
  },
  {
   "cell_type": "code",
   "execution_count": null,
   "metadata": {},
   "outputs": [],
   "source": []
  }
 ],
 "metadata": {
  "kernelspec": {
   "display_name": "Python 3",
   "language": "python",
   "name": "python3"
  },
  "language_info": {
   "codemirror_mode": {
    "name": "ipython",
    "version": 3
   },
   "file_extension": ".py",
   "mimetype": "text/x-python",
   "name": "python",
   "nbconvert_exporter": "python",
   "pygments_lexer": "ipython3",
   "version": "3.6.4"
  }
 },
 "nbformat": 4,
 "nbformat_minor": 2
}
