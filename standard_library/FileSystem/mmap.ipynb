{
 "cells": [
  {
   "cell_type": "markdown",
   "metadata": {},
   "source": [
    "内存映射文件使用操作系统虚拟内存直接访问文件上的数据，而不是通过常规的 I/O 方法。内存映射通常可以提高 I/O 性能，因为对于每次访问它不涉及单独的系统调用，也不会在缓冲池之间复制数据，而是内核和用户程序可以直接访问内存。\n",
    "## 读"
   ]
  },
  {
   "cell_type": "code",
   "execution_count": 1,
   "metadata": {},
   "outputs": [
    {
     "name": "stdout",
     "output_type": "stream",
     "text": [
      "First 10 bytes via read: b'Lorem ipsu'\n",
      "First 10 bytes via slice: b'Lorem ipsu'\n",
      "2nd 10 bytes via read: b'm dolor si'\n"
     ]
    }
   ],
   "source": [
    "import mmap\n",
    "\n",
    "with open('lorem.txt', 'r') as f:\n",
    "    with mmap.mmap(f.fileno(), 0, access=mmap.ACCESS_READ) as m:\n",
    "        print('First 10 bytes via read:', m.read(10))\n",
    "        print('First 10 bytes via slice:', m[:10])\n",
    "        print('2nd 10 bytes via read:', m.read(10))"
   ]
  },
  {
   "cell_type": "markdown",
   "metadata": {},
   "source": [
    "使用 mmap() 创建一个内存映射文件。第一个参数是一个文件描述符，要么是来自 file 对象的 fileno() 方法， 要么来自 os.open()。  \n",
    "第二个参数传入 mmap() 的参数是要去映射的文件内容的大小。如果值是 0 ，那么代表映射整个文件。  \n",
    "可选的参数 access ，使用 ACCESS_READ 表示只读，ACCESS_WRITE 表示直接写（对内存的操作直接写入文件），或者 ACCESS_COPY 用于写时复制（内存分配不写入文件）。\n",
    "## 写"
   ]
  },
  {
   "cell_type": "code",
   "execution_count": 4,
   "metadata": {},
   "outputs": [
    {
     "name": "stdout",
     "output_type": "stream",
     "text": [
      "looking for  b'consectetuer'\n",
      "replacing for  b'reutetcesnoc'\n",
      "Before:b'Lorem ipsum dolor sit amet, consectetuer adipiscing elit.'\n",
      "After:b'Lorem ipsum dolor sit amet, reutetcesnoc adipiscing elit.'\n",
      "File:Lorem ipsum dolor sit amet, reutetcesnoc adipiscing elit.\n"
     ]
    }
   ],
   "source": [
    "import shutil\n",
    "shutil.copyfile('lorem.txt', 'lorem_copy.txt')\n",
    "word = b\"consectetuer\"\n",
    "reversed = word[::-1]\n",
    "print('looking for ', word)\n",
    "print('replacing for ', reversed)\n",
    "with open('lorem_copy.txt', 'r+') as f:\n",
    "    with mmap.mmap(f.fileno(), 0) as m:\n",
    "        print(f\"Before:{m.readline().rstrip()}\")\n",
    "        m.seek(0)\n",
    "        \n",
    "        loc = m.find(word)\n",
    "        m[loc:loc+len(word)] = reversed\n",
    "        m.flush()\n",
    "        \n",
    "        m.seek(0)\n",
    "        print(f\"After:{m.readline().rstrip()}\")\n",
    "        \n",
    "        f.seek(0)\n",
    "        print(f\"File:{f.readline().rstrip()}\")"
   ]
  },
  {
   "cell_type": "markdown",
   "metadata": {},
   "source": [
    "为了设置一个内存映射文件去接受更新，要以追加模式 r+ （而不是 w）打开然后再进行映射\n",
    "## 复制模式"
   ]
  },
  {
   "cell_type": "code",
   "execution_count": 5,
   "metadata": {},
   "outputs": [
    {
     "name": "stdout",
     "output_type": "stream",
     "text": [
      "looking for  b'consectetuer'\n",
      "replacing for  b'reutetcesnoc'\n",
      "Before:b'Lorem ipsum dolor sit amet, consectetuer adipiscing elit.'\n",
      "File Before:Lorem ipsum dolor sit amet, consectetuer adipiscing elit.\n",
      "After:b'Lorem ipsum dolor sit amet, reutetcesnoc adipiscing elit.'\n",
      "File After:Lorem ipsum dolor sit amet, consectetuer adipiscing elit.\n"
     ]
    }
   ],
   "source": [
    "shutil.copyfile('lorem.txt', 'lorem_copy.txt')\n",
    "word = b\"consectetuer\"\n",
    "reversed = word[::-1]\n",
    "print('looking for ', word)\n",
    "print('replacing for ', reversed)\n",
    "with open('lorem_copy.txt', 'r+') as f:\n",
    "    with mmap.mmap(f.fileno(), 0, access=mmap.ACCESS_COPY) as m:\n",
    "        print(f\"Before:{m.readline().rstrip()}\")\n",
    "        print(f\"File Before:{f.readline().rstrip()}\")\n",
    "        m.seek(0)\n",
    "        \n",
    "        loc = m.find(word)\n",
    "        m[loc:loc+len(word)] = reversed\n",
    "        m.flush()\n",
    "        \n",
    "        m.seek(0)\n",
    "        print(f\"After:{m.readline().rstrip()}\")\n",
    "        \n",
    "        f.seek(0)\n",
    "        print(f\"File After:{f.readline().rstrip()}\")"
   ]
  },
  {
   "cell_type": "markdown",
   "metadata": {},
   "source": [
    "## 正则"
   ]
  },
  {
   "cell_type": "code",
   "execution_count": 6,
   "metadata": {},
   "outputs": [
    {
     "name": "stdout",
     "output_type": "stream",
     "text": [
      "b'Nulla facilisi.'\n",
      "b'Nulla feugiat augue eleifend nulla.'\n"
     ]
    }
   ],
   "source": [
    "import re\n",
    "\n",
    "pattern = re.compile(rb'(\\.\\W+)?([^.]?nulla[^.]*?\\.)', re.DOTALL | re.IGNORECASE | re.MULTILINE)\n",
    "with open('lorem.txt', 'r') as f:\n",
    "    with mmap.mmap(f.fileno(), 0, access=mmap.ACCESS_READ) as m:\n",
    "        for match in pattern.findall(m):\n",
    "            print(match[1].replace(b'\\n', b' '))"
   ]
  },
  {
   "cell_type": "code",
   "execution_count": null,
   "metadata": {},
   "outputs": [],
   "source": []
  }
 ],
 "metadata": {
  "kernelspec": {
   "display_name": "Python 3",
   "language": "python",
   "name": "python3"
  },
  "language_info": {
   "codemirror_mode": {
    "name": "ipython",
    "version": 3
   },
   "file_extension": ".py",
   "mimetype": "text/x-python",
   "name": "python",
   "nbconvert_exporter": "python",
   "pygments_lexer": "ipython3",
   "version": "3.6.4"
  }
 },
 "nbformat": 4,
 "nbformat_minor": 2
}
