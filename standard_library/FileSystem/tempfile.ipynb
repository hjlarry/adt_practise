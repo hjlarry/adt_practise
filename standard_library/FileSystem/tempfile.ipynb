{
 "cells": [
  {
   "cell_type": "markdown",
   "metadata": {},
   "source": [
    "tempfile模块是用来创建临时文件系统对象的。  \n",
    "- TemporaryFile()打开并返回一个未命名的临时文件\n",
    "- NamedTemporaryFile()打开并返回一个命名临时文件\n",
    "- SpooledTemporaryFile()会在将数据写入磁盘之前将内容保存在内存中\n",
    "- TemporaryDirectory是一个上下文管理器，它会在上下文关闭的时候移除目录"
   ]
  },
  {
   "cell_type": "markdown",
   "metadata": {},
   "source": [
    "## TemporaryFile临时文件"
   ]
  },
  {
   "cell_type": "code",
   "execution_count": 2,
   "metadata": {},
   "outputs": [
    {
     "name": "stdout",
     "output_type": "stream",
     "text": [
      "Build a filename with PID:\n",
      "temp:\n",
      "  <_io.BufferedRandom name='/tmp/guess_name.1819.txt'>\n",
      "temp.name:\n",
      "  '/tmp/guess_name.1819.txt'\n",
      "\n",
      "temp:\n",
      "  <_io.BufferedRandom name=58>\n",
      "temp.name:\n",
      "  58\n"
     ]
    }
   ],
   "source": [
    "import os\n",
    "import tempfile\n",
    "\n",
    "print('Build a filename with PID:')\n",
    "filename = f'/tmp/guess_name.{os.getpid()}.txt'\n",
    "with open(filename, 'w+b') as temp:\n",
    "    print('temp:')\n",
    "    print(f\"  {temp!r}\")\n",
    "    print('temp.name:')\n",
    "    print(f\"  {temp.name!r}\")\n",
    "\n",
    "# 手动清除临时文件\n",
    "os.remove(filename)\n",
    "print()\n",
    "with tempfile.TemporaryFile() as temp:\n",
    "    print('temp:')\n",
    "    print(f\"  {temp!r}\")\n",
    "    print('temp.name:')\n",
    "    print(f\"  {temp.name!r}\")"
   ]
  },
  {
   "cell_type": "markdown",
   "metadata": {},
   "source": [
    "上例展示了TemporaryFile和普通方式创建临时文件的不同，TemporaryFile创建的文件没有名称。  \n",
    "TemporaryFile 默认情况下文件描述符使用w+b模式打开，所以它在所有平台上行为一致。"
   ]
  },
  {
   "cell_type": "code",
   "execution_count": 3,
   "metadata": {},
   "outputs": [
    {
     "name": "stdout",
     "output_type": "stream",
     "text": [
      "b'some data'\n"
     ]
    }
   ],
   "source": [
    "with tempfile.TemporaryFile() as temp:\n",
    "    temp.write(b\"some data\")\n",
    "    temp.seek(0)  # 写入后，将文件描述符内部指针重置到文件开始处以便读回数据\n",
    "    print(temp.read())"
   ]
  },
  {
   "cell_type": "code",
   "execution_count": 5,
   "metadata": {},
   "outputs": [
    {
     "name": "stdout",
     "output_type": "stream",
     "text": [
      "some datasome else\n",
      "sadsa\n"
     ]
    }
   ],
   "source": [
    "with tempfile.TemporaryFile(mode='w+t') as temp: # w+t表示文本模式\n",
    "    temp.writelines([\"some data\", 'some else \\n', 'sadsa \\n'])\n",
    "    temp.seek(0)  \n",
    "    for line in temp:\n",
    "        print(line.rstrip())"
   ]
  },
  {
   "cell_type": "markdown",
   "metadata": {},
   "source": [
    "## NamedTemporaryFile命名临时文件\n",
    "对于跨进程甚至跨主机应用程序来说，其各部分之间最简单的数据传递方式是命名文件。NamedTemporaryFile会创建一个文件保留名称，文件在句柄关闭后删除。"
   ]
  },
  {
   "cell_type": "code",
   "execution_count": 6,
   "metadata": {},
   "outputs": [
    {
     "name": "stdout",
     "output_type": "stream",
     "text": [
      "temp:\n",
      "  <tempfile._TemporaryFileWrapper object at 0x10b944550>\n",
      "temp.name:\n",
      "  '/var/folders/r7/mv379gf57vlb8j9mc0nwjb9m0000gn/T/tmpsxrfmryk'\n",
      "Exists after close:False\n"
     ]
    }
   ],
   "source": [
    "import pathlib\n",
    "with tempfile.NamedTemporaryFile() as temp:\n",
    "    print('temp:')\n",
    "    print(f\"  {temp!r}\")\n",
    "    print('temp.name:')\n",
    "    print(f\"  {temp.name!r}\")\n",
    "    \n",
    "    f = pathlib.Path(temp.name)\n",
    "print(f\"Exists after close:{f.exists()}\")"
   ]
  },
  {
   "cell_type": "markdown",
   "metadata": {},
   "source": [
    "## SpooledTemporaryFile缓冲文件\n",
    "临时文件通常保存小量数据，使用SpooledTemporaryFile可能效率更高，因为它在内容超过max_size之前，使用io.BytesIO或io.StringIO将数据保存在内存中，当内容超过max_size时，数据被写入磁盘保存，同时缓冲池被替换为TemporaryFile。"
   ]
  },
  {
   "cell_type": "code",
   "execution_count": 8,
   "metadata": {},
   "outputs": [
    {
     "name": "stdout",
     "output_type": "stream",
     "text": [
      "temp:\n",
      "  <tempfile.SpooledTemporaryFile object at 0x10b944080>\n",
      "False <_io.StringIO object at 0x10b9a1558>\n",
      "False <_io.StringIO object at 0x10b9a1558>\n",
      "False <_io.StringIO object at 0x10b9a1558>\n",
      "False <_io.StringIO object at 0x10b9a1558>\n",
      "False <_io.StringIO object at 0x10b9a1558>\n",
      "True <_io.TextIOWrapper name=58 mode='w+t' encoding='utf-8'>\n",
      "True <_io.TextIOWrapper name=58 mode='w+t' encoding='utf-8'>\n",
      "True <_io.TextIOWrapper name=58 mode='w+t' encoding='utf-8'>\n"
     ]
    }
   ],
   "source": [
    "with tempfile.SpooledTemporaryFile(max_size=100, mode='w+t', encoding='utf-8') as temp:\n",
    "    print('temp:')\n",
    "    print(f\"  {temp!r}\")\n",
    "    \n",
    "    for i in range(8):\n",
    "        temp.write('this line repeat \\n')\n",
    "        print(temp._rolled, temp._file)"
   ]
  },
  {
   "cell_type": "code",
   "execution_count": 9,
   "metadata": {},
   "outputs": [
    {
     "name": "stdout",
     "output_type": "stream",
     "text": [
      "temp:\n",
      "  <tempfile.SpooledTemporaryFile object at 0x10b933ba8>\n",
      "False <_io.StringIO object at 0x10b9a1ca8>\n",
      "False <_io.StringIO object at 0x10b9a1ca8>\n",
      "False <_io.StringIO object at 0x10b9a1ca8>\n",
      "False <_io.StringIO object at 0x10b9a1ca8>\n",
      "False <_io.StringIO object at 0x10b9a1ca8>\n",
      "False <_io.StringIO object at 0x10b9a1ca8>\n",
      "False <_io.StringIO object at 0x10b9a1ca8>\n",
      "False <_io.StringIO object at 0x10b9a1ca8>\n",
      "True <_io.TextIOWrapper name=58 mode='w+t' encoding='utf-8'>\n"
     ]
    }
   ],
   "source": [
    "with tempfile.SpooledTemporaryFile(max_size=1000, mode='w+t', encoding='utf-8') as temp:\n",
    "    print('temp:')\n",
    "    print(f\"  {temp!r}\")\n",
    "    \n",
    "    for i in range(8):\n",
    "        temp.write('this line repeat \\n')\n",
    "        print(temp._rolled, temp._file)\n",
    "    temp.rollover()\n",
    "    print(temp._rolled, temp._file)"
   ]
  },
  {
   "cell_type": "markdown",
   "metadata": {},
   "source": [
    "上例调整了max_size，除非显式调用rollover()，否则不会创建文件"
   ]
  },
  {
   "cell_type": "markdown",
   "metadata": {},
   "source": [
    "## TemporaryDirectory 临时目录"
   ]
  },
  {
   "cell_type": "code",
   "execution_count": 10,
   "metadata": {},
   "outputs": [
    {
     "name": "stdout",
     "output_type": "stream",
     "text": [
      "/var/folders/r7/mv379gf57vlb8j9mc0nwjb9m0000gn/T/tmptr1po___\n",
      "Dir exists after? False\n",
      "Contents after? []\n"
     ]
    }
   ],
   "source": [
    "with tempfile.TemporaryDirectory() as directory_name:\n",
    "    the_dir = pathlib.Path(directory_name)\n",
    "    print(the_dir)\n",
    "    a_file = the_dir / 'a.txt'\n",
    "    a_file.write_text('some thing is deleted')\n",
    "    \n",
    "print('Dir exists after?', the_dir.exists())\n",
    "print('Contents after?', list(the_dir.glob('*')))"
   ]
  },
  {
   "cell_type": "markdown",
   "metadata": {},
   "source": [
    "## 文件位置和名称"
   ]
  },
  {
   "cell_type": "code",
   "execution_count": 11,
   "metadata": {},
   "outputs": [
    {
     "name": "stdout",
     "output_type": "stream",
     "text": [
      "temp:\n",
      "  <tempfile._TemporaryFileWrapper object at 0x10b907be0>\n",
      "temp.name:\n",
      "  '/tmp/pre_vbqlxyuc_suf'\n"
     ]
    }
   ],
   "source": [
    "with tempfile.NamedTemporaryFile(suffix='_suf', prefix='pre_', dir='/tmp') as temp:\n",
    "    print('temp:')\n",
    "    print(f\"  {temp!r}\")\n",
    "    print('temp.name:')\n",
    "    print(f\"  {temp.name!r}\")"
   ]
  },
  {
   "cell_type": "code",
   "execution_count": 12,
   "metadata": {},
   "outputs": [
    {
     "name": "stdout",
     "output_type": "stream",
     "text": [
      "gettempdir:  /var/folders/r7/mv379gf57vlb8j9mc0nwjb9m0000gn/T\n",
      "gettempprefix:  tmp\n"
     ]
    }
   ],
   "source": [
    "print('gettempdir: ', tempfile.gettempdir())\n",
    "print('gettempprefix: ', tempfile.gettempprefix())"
   ]
  },
  {
   "cell_type": "code",
   "execution_count": 13,
   "metadata": {},
   "outputs": [
    {
     "name": "stdout",
     "output_type": "stream",
     "text": [
      "gettempdir:  /Home\n"
     ]
    }
   ],
   "source": [
    "tempfile.tempdir = '/Home'\n",
    "print('gettempdir: ', tempfile.gettempdir())"
   ]
  },
  {
   "cell_type": "markdown",
   "metadata": {},
   "source": [
    "gettempdir通过查询一个列表来确定当前进程新创建文件的存放位置，这个列表包括一些环境变量等。"
   ]
  },
  {
   "cell_type": "code",
   "execution_count": null,
   "metadata": {},
   "outputs": [],
   "source": []
  }
 ],
 "metadata": {
  "kernelspec": {
   "display_name": "Python 3",
   "language": "python",
   "name": "python3"
  },
  "language_info": {
   "codemirror_mode": {
    "name": "ipython",
    "version": 3
   },
   "file_extension": ".py",
   "mimetype": "text/x-python",
   "name": "python",
   "nbconvert_exporter": "python",
   "pygments_lexer": "ipython3",
   "version": "3.6.4"
  }
 },
 "nbformat": 4,
 "nbformat_minor": 2
}
