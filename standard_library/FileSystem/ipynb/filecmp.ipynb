{
 "cells": [
  {
   "cell_type": "code",
   "execution_count": 1,
   "metadata": {},
   "outputs": [],
   "source": [
    "# create test files\n",
    "import os\n",
    "\n",
    "def mkfile(filename, body=None):\n",
    "    with open(filename, 'w') as f:\n",
    "        f.write(body or filename)\n",
    "    return\n",
    "\n",
    "def make_example_dir(top):\n",
    "    if not os.path.exists(top):\n",
    "        os.mkdir(top)\n",
    "    curdir = os.getcwd()\n",
    "    os.chdir(top)\n",
    "\n",
    "    os.mkdir('dir1')\n",
    "    os.mkdir('dir2')\n",
    "\n",
    "    mkfile('dir1/file_only_in_dir1')\n",
    "    mkfile('dir2/file_only_in_dir2')\n",
    "\n",
    "    os.mkdir('dir1/dir_only_in_dir1')\n",
    "    os.mkdir('dir2/dir_only_in_dir2')\n",
    "\n",
    "    os.mkdir('dir1/common_dir')\n",
    "    os.mkdir('dir2/common_dir')\n",
    "\n",
    "    mkfile('dir1/common_file', 'this file is the same')\n",
    "    mkfile('dir2/common_file', 'this file is the same')\n",
    "\n",
    "    mkfile('dir1/not_the_same')\n",
    "    mkfile('dir2/not_the_same')\n",
    "\n",
    "    mkfile('dir1/file_in_dir1', 'This is a file in dir1')\n",
    "    os.mkdir('dir2/file_in_dir1')\n",
    "\n",
    "    os.chdir(curdir)\n",
    "    return"
   ]
  },
  {
   "cell_type": "code",
   "execution_count": 3,
   "metadata": {},
   "outputs": [],
   "source": [
    "make_example_dir('test_files')\n",
    "make_example_dir('test_files/dir1/common_dir')\n",
    "make_example_dir('test_files/dir2/common_dir')"
   ]
  },
  {
   "cell_type": "code",
   "execution_count": 2,
   "metadata": {},
   "outputs": [
    {
     "name": "stdout",
     "output_type": "stream",
     "text": [
      "Common_file:\n",
      "True\n",
      "True\n",
      "Not the Same:\n",
      "False\n",
      "False\n"
     ]
    }
   ],
   "source": [
    "import filecmp\n",
    "\n",
    "print('Common_file:')\n",
    "print(filecmp.cmp('test_files/dir1/common_file', 'test_files/dir2/common_file'))\n",
    "print(filecmp.cmp('test_files/dir1/common_file', 'test_files/dir2/common_file', shallow=False))\n",
    "\n",
    "print('Not the Same:')\n",
    "print(filecmp.cmp('test_files/dir1/not_the_same', 'test_files/dir2/not_the_same'))\n",
    "print(filecmp.cmp('test_files/dir1/not_the_same', 'test_files/dir2/not_the_same', shallow=False))"
   ]
  },
  {
   "cell_type": "markdown",
   "metadata": {},
   "source": [
    "shallow 参数告诉 cmp() 除了对比文件元数据是否还要比较文件内容。默认只是比较从 os.stat() 获取到的文件元信息，如果 stat 相同那么文件就相同，因此同时创建并且大小相同的文件被认为是相同的，即使它们的内容不同。当 shallow 是 False 的时候，文件内容也会参与比较。  \n",
    "但这里运行的结果和书中并不相同。"
   ]
  },
  {
   "cell_type": "code",
   "execution_count": 9,
   "metadata": {},
   "outputs": [
    {
     "name": "stdout",
     "output_type": "stream",
     "text": [
      "Common files: ['file_in_dir1', 'not_the_same', 'common_file']\n",
      "Match: ['common_file']\n",
      "Mismatch: ['file_in_dir1', 'not_the_same']\n",
      "Errors: []\n"
     ]
    }
   ],
   "source": [
    "d1_contents = set(os.listdir('test_files/dir1'))\n",
    "d2_contents = set(os.listdir('test_files/dir2'))\n",
    "common = list(d1_contents & d2_contents)\n",
    "# 构建公共文件夹\n",
    "common_files = [f for f in common if os.path.isfile(os.path.join('test_files/dir1', f))]\n",
    "print('Common files:', common_files)\n",
    "# 比较目录\n",
    "match, mismatch, errors = filecmp.cmpfiles('test_files/dir1', 'test_files/dir2', common_files)\n",
    "print('Match:', match)\n",
    "print('Mismatch:', mismatch)\n",
    "print('Errors:', errors)"
   ]
  },
  {
   "cell_type": "markdown",
   "metadata": {},
   "source": [
    "要在不递归的情况下比较两个目录中的一组文件，请使用 cmpfiles() 。这个方法参数是两个目录名称以及要比较的公共文件列表。"
   ]
  },
  {
   "cell_type": "markdown",
   "metadata": {},
   "source": [
    "## 目录比较"
   ]
  },
  {
   "cell_type": "code",
   "execution_count": 3,
   "metadata": {},
   "outputs": [
    {
     "name": "stdout",
     "output_type": "stream",
     "text": [
      "diff test_files/dir1 test_files/dir2\n",
      "Only in test_files/dir1 : ['dir_only_in_dir1', 'file_only_in_dir1']\n",
      "Only in test_files/dir2 : ['dir_only_in_dir2', 'file_only_in_dir2']\n",
      "Identical files : ['common_file']\n",
      "Differing files : ['not_the_same']\n",
      "Common subdirectories : ['common_dir']\n",
      "Common funny cases : ['file_in_dir1']\n"
     ]
    }
   ],
   "source": [
    "dc = filecmp.dircmp('test_files/dir1', 'test_files/dir2')\n",
    "dc.report()"
   ]
  },
  {
   "cell_type": "code",
   "execution_count": 4,
   "metadata": {},
   "outputs": [
    {
     "name": "stdout",
     "output_type": "stream",
     "text": [
      "diff test_files/dir1 test_files/dir2\n",
      "Only in test_files/dir1 : ['dir_only_in_dir1', 'file_only_in_dir1']\n",
      "Only in test_files/dir2 : ['dir_only_in_dir2', 'file_only_in_dir2']\n",
      "Identical files : ['common_file']\n",
      "Differing files : ['not_the_same']\n",
      "Common subdirectories : ['common_dir']\n",
      "Common funny cases : ['file_in_dir1']\n",
      "\n",
      "diff test_files/dir1/common_dir test_files/dir2/common_dir\n",
      "Common subdirectories : ['dir1', 'dir2']\n",
      "\n",
      "diff test_files/dir1/common_dir/dir1 test_files/dir2/common_dir/dir1\n",
      "Identical files : ['common_file', 'file_in_dir1', 'file_only_in_dir1', 'not_the_same']\n",
      "Common subdirectories : ['common_dir', 'dir_only_in_dir1']\n",
      "\n",
      "diff test_files/dir1/common_dir/dir1/common_dir test_files/dir2/common_dir/dir1/common_dir\n",
      "\n",
      "diff test_files/dir1/common_dir/dir1/dir_only_in_dir1 test_files/dir2/common_dir/dir1/dir_only_in_dir1\n",
      "\n",
      "diff test_files/dir1/common_dir/dir2 test_files/dir2/common_dir/dir2\n",
      "Identical files : ['common_file', 'file_only_in_dir2', 'not_the_same']\n",
      "Common subdirectories : ['common_dir', 'dir_only_in_dir2', 'file_in_dir1']\n",
      "\n",
      "diff test_files/dir1/common_dir/dir2/common_dir test_files/dir2/common_dir/dir2/common_dir\n",
      "\n",
      "diff test_files/dir1/common_dir/dir2/dir_only_in_dir2 test_files/dir2/common_dir/dir2/dir_only_in_dir2\n",
      "\n",
      "diff test_files/dir1/common_dir/dir2/file_in_dir1 test_files/dir2/common_dir/dir2/file_in_dir1\n"
     ]
    }
   ],
   "source": [
    "dc.report_full_closure()"
   ]
  },
  {
   "cell_type": "code",
   "execution_count": 5,
   "metadata": {},
   "outputs": [
    {
     "name": "stdout",
     "output_type": "stream",
     "text": [
      "LEFT:\n",
      "['common_dir',\n",
      " 'dir_only_in_dir1',\n",
      " 'file_in_dir1',\n",
      " 'file_only_in_dir1',\n",
      " 'not_the_same']\n",
      "RIGHT:\n",
      "['common_dir',\n",
      " 'dir_only_in_dir2',\n",
      " 'file_in_dir1',\n",
      " 'file_only_in_dir2',\n",
      " 'not_the_same']\n",
      "COMMON:\n",
      "['common_dir', 'file_in_dir1', 'not_the_same']\n",
      "LEFT only:\n",
      "['dir_only_in_dir1', 'file_only_in_dir1']\n",
      "RIGHT only:\n",
      "['dir_only_in_dir2', 'file_only_in_dir2']\n",
      "COMMON dir:\n",
      "['common_dir']\n",
      "COMMON files:\n",
      "['not_the_same']\n",
      "COMMON funny:\n",
      "['file_in_dir1']\n",
      "Same  : []\n",
      "Diff  : ['not_the_same']\n",
      "Funny : []\n",
      "Subdir : {'common_dir': <filecmp.dircmp object at 0x11245ac50>}\n"
     ]
    }
   ],
   "source": [
    "import pprint\n",
    "dc = filecmp.dircmp('test_files/dir1', 'test_files/dir2', ignore=['common_file'])\n",
    "print('LEFT:')\n",
    "pprint.pprint(dc.left_list)\n",
    "print('RIGHT:')\n",
    "pprint.pprint(dc.right_list)\n",
    "\n",
    "print('COMMON:')\n",
    "pprint.pprint(dc.common)\n",
    "print('LEFT only:')\n",
    "pprint.pprint(dc.left_only)\n",
    "print('RIGHT only:')\n",
    "pprint.pprint(dc.right_only)\n",
    "print('COMMON dir:')\n",
    "pprint.pprint(dc.common_dirs)\n",
    "print('COMMON files:')\n",
    "pprint.pprint(dc.common_files)\n",
    "print('COMMON funny:')\n",
    "pprint.pprint(dc.common_funny) # 在一个目录中是一个文件，另一个中是子目录\n",
    "\n",
    "print('Same  :', dc.same_files)\n",
    "print('Diff  :', dc.diff_files)\n",
    "print('Funny :', dc.funny_files)\n",
    "print('Subdir :', dc.subdirs)"
   ]
  },
  {
   "cell_type": "code",
   "execution_count": null,
   "metadata": {},
   "outputs": [],
   "source": []
  }
 ],
 "metadata": {
  "kernelspec": {
   "display_name": "Python 3",
   "language": "python",
   "name": "python3"
  },
  "language_info": {
   "codemirror_mode": {
    "name": "ipython",
    "version": 3
   },
   "file_extension": ".py",
   "mimetype": "text/x-python",
   "name": "python",
   "nbconvert_exporter": "python",
   "pygments_lexer": "ipython3",
   "version": "3.6.5"
  }
 },
 "nbformat": 4,
 "nbformat_minor": 2
}
