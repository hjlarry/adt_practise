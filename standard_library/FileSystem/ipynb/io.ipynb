{
 "cells": [
  {
   "cell_type": "markdown",
   "metadata": {},
   "source": [
    "## 内存流\n",
    "StringIO  提供了使用文件 API （read()，write()等）处理内存中的文本。在某些情况下，使用 StringIO 构建大型字符串可以比其他字符串连接技术节省性能。内存中的流缓冲区对测试也是很有用的，因为写入磁盘上的真实文件可能会降低测试套件的速度。\n"
   ]
  },
  {
   "cell_type": "code",
   "execution_count": 8,
   "metadata": {},
   "outputs": [
    {
     "name": "stdout",
     "output_type": "stream",
     "text": [
      "something to buffer. And so does this\n",
      "\n",
      "Intial value for read buffer\n"
     ]
    }
   ],
   "source": [
    "import io\n",
    "\n",
    "output = io.StringIO()\n",
    "output.write('something to buffer. ')\n",
    "print('And so does this', file=output) # file:  a file-like object (stream); defaults to the current sys.stdout.\n",
    "\n",
    "print(output.getvalue())\n",
    "\n",
    "\n",
    "output.close() # discard buffer memory\n",
    "\n",
    "input = io.StringIO('Intial value for read buffer')\n",
    "\n",
    "print(input.read()) # readline() 和 readlines() seek()方法也是可用的"
   ]
  },
  {
   "cell_type": "code",
   "execution_count": 9,
   "metadata": {},
   "outputs": [
    {
     "name": "stdout",
     "output_type": "stream",
     "text": [
      "b'sth to buffer\\xc3\\x81\\xc3\\x87\\xc3\\x8a'\n",
      "b'Intial value for read buffer'\n"
     ]
    }
   ],
   "source": [
    "output = io.BytesIO()\n",
    "output.write('sth to buffer'.encode('utf-8'))\n",
    "output.write('ÁÇÊ'.encode('utf-8'))\n",
    "\n",
    "print(output.getvalue())\n",
    "output.close() \n",
    "\n",
    "input = io.BytesIO(b'Intial value for read buffer')\n",
    "print(input.read())"
   ]
  },
  {
   "cell_type": "code",
   "execution_count": 10,
   "metadata": {},
   "outputs": [
    {
     "name": "stdout",
     "output_type": "stream",
     "text": [
      "b'something to buffer.\\xc3\\x81\\xc3\\x87\\xc3\\x8a'\n",
      "Intial value for read bufferÁÇÊ\n"
     ]
    }
   ],
   "source": [
    "output = io.BytesIO()\n",
    "wrapper = io.TextIOWrapper(output, encoding='utf-8', write_through=True)\n",
    "wrapper.write('something to buffer.')\n",
    "wrapper.write('ÁÇÊ')\n",
    "\n",
    "print(output.getvalue())\n",
    "output.close() \n",
    "\n",
    "input = io.BytesIO(b'Intial value for read buffer' + 'ÁÇÊ'.encode('utf-8'))\n",
    "wrapper = io.TextIOWrapper(input, encoding='utf-8')\n",
    "print(wrapper.read())"
   ]
  },
  {
   "cell_type": "code",
   "execution_count": null,
   "metadata": {},
   "outputs": [],
   "source": []
  }
 ],
 "metadata": {
  "kernelspec": {
   "display_name": "Python 3",
   "language": "python",
   "name": "python3"
  },
  "language_info": {
   "codemirror_mode": {
    "name": "ipython",
    "version": 3
   },
   "file_extension": ".py",
   "mimetype": "text/x-python",
   "name": "python",
   "nbconvert_exporter": "python",
   "pygments_lexer": "ipython3",
   "version": "3.6.5"
  }
 },
 "nbformat": 4,
 "nbformat_minor": 2
}
