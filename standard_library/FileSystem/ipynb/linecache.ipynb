{
 "cells": [
  {
   "cell_type": "code",
   "execution_count": 1,
   "metadata": {},
   "outputs": [],
   "source": [
    "import os\n",
    "import tempfile\n",
    "\n",
    "lorem = '''Lorem ipsum dolor sit amet, consectetuer\n",
    "adipiscing elit.  Vivamus eget elit. In posuere mi non\n",
    "risus. Mauris id quam posuere lectus sollicitudin\n",
    "varius. Praesent at mi. Nunc eu velit. Sed augue massa,\n",
    "fermentum id, nonummy a, nonummy sit amet, ligula. Curabitur\n",
    "eros pede, egestas at, ultricies ac, apellentesque eu,\n",
    "tellus.\n",
    "\n",
    "Sed sed odio sed mi luctus mollis. Integer et nulla ac augue\n",
    "convallis accumsan. Ut felis. Donec lectus sapien, elementum\n",
    "nec, condimentum ac, interdum non, tellus. Aenean viverra,\n",
    "mauris vehicula semper porttitor, ipsum odio consectetuer\n",
    "lorem, ac imperdiet eros odio a sapien. Nulla mauris tellus,\n",
    "aliquam non, egestas a, nonummy et, erat. Vivamus sagittis\n",
    "porttitor eros.'''\n",
    "\n",
    "def make_tempfile():\n",
    "    fd, temp_file_name = tempfile.mkstemp()\n",
    "    os.close(fd)\n",
    "    with open(temp_file_name, 'wt') as f:\n",
    "        f.write(lorem)\n",
    "    return temp_file_name\n",
    "\n",
    "def cleanup(filename):\n",
    "    os.unlink(filename)"
   ]
  },
  {
   "cell_type": "code",
   "execution_count": 8,
   "metadata": {},
   "outputs": [
    {
     "name": "stdout",
     "output_type": "stream",
     "text": [
      "Source:\n",
      "'fermentum id, nonummy a, nonummy sit amet, ligula. Curabitur'\n",
      "\n",
      "Cache:\n",
      "'fermentum id, nonummy a, nonummy sit amet, ligula. Curabitur\\n'\n"
     ]
    }
   ],
   "source": [
    "import linecache\n",
    "filename = make_tempfile()\n",
    "nl = '\\n'\n",
    "# 从源文件和缓存中挑出相同的行\n",
    "# linecache从第一行开始计数，返回的每行都包含一个换行符\n",
    "print('Source:')\n",
    "print(f\"{lorem.split(nl)[4]!r}\")\n",
    "print()\n",
    "print('Cache:')\n",
    "print(f\"{linecache.getline(filename, 5)!r}\")"
   ]
  },
  {
   "cell_type": "code",
   "execution_count": 9,
   "metadata": {},
   "outputs": [
    {
     "name": "stdout",
     "output_type": "stream",
     "text": [
      "Blank: '\\n'\n"
     ]
    }
   ],
   "source": [
    "# 空行就返回换行符\n",
    "print(f\"Blank: {linecache.getline(filename, 8)!r}\")"
   ]
  },
  {
   "cell_type": "code",
   "execution_count": 10,
   "metadata": {},
   "outputs": [
    {
     "name": "stdout",
     "output_type": "stream",
     "text": [
      "NotThere: ''\n"
     ]
    }
   ],
   "source": [
    "# 返回空字符串则这行不存在\n",
    "print(f\"NotThere: {linecache.getline(filename, 500)!r}\")"
   ]
  },
  {
   "cell_type": "code",
   "execution_count": 11,
   "metadata": {},
   "outputs": [
    {
     "name": "stdout",
     "output_type": "stream",
     "text": [
      "FileNotExist: ''\n"
     ]
    }
   ],
   "source": [
    "# 文件不存在时也不会引发错误\n",
    "print(f\"FileNotExist: {linecache.getline('not_exist_file_9', 500)!r}\")"
   ]
  },
  {
   "cell_type": "code",
   "execution_count": 16,
   "metadata": {},
   "outputs": [
    {
     "name": "stdout",
     "output_type": "stream",
     "text": [
      "Module:\n",
      "'Ornhgvshy vf orggre guna htyl.\\n'\n",
      "Ornhgvshy vf orggre guna htyl.\n",
      "\n"
     ]
    }
   ],
   "source": [
    "# 会在sys.path中搜寻this.py\n",
    "module_line = linecache.getline('this.py',3)\n",
    "print('Module:')\n",
    "print(repr(module_line))\n",
    "print(module_line)"
   ]
  },
  {
   "cell_type": "code",
   "execution_count": 17,
   "metadata": {},
   "outputs": [
    {
     "name": "stdout",
     "output_type": "stream",
     "text": [
      "The Zen of Python, by Tim Peters\n",
      "\n",
      "Beautiful is better than ugly.\n",
      "Explicit is better than implicit.\n",
      "Simple is better than complex.\n",
      "Complex is better than complicated.\n",
      "Flat is better than nested.\n",
      "Sparse is better than dense.\n",
      "Readability counts.\n",
      "Special cases aren't special enough to break the rules.\n",
      "Although practicality beats purity.\n",
      "Errors should never pass silently.\n",
      "Unless explicitly silenced.\n",
      "In the face of ambiguity, refuse the temptation to guess.\n",
      "There should be one-- and preferably only one --obvious way to do it.\n",
      "Although that way may not be obvious at first unless you're Dutch.\n",
      "Now is better than never.\n",
      "Although never is often better than *right* now.\n",
      "If the implementation is hard to explain, it's a bad idea.\n",
      "If the implementation is easy to explain, it may be a good idea.\n",
      "Namespaces are one honking great idea -- let's do more of those!\n",
      "'Ornhgvshy vf orggre guna htyl.\\n'\n"
     ]
    }
   ],
   "source": [
    "import this\n",
    "file_src = this.__file__\n",
    "if file_src.endswith('pyc'):\n",
    "    file_src = file_src[:-1]  # 找this.py\n",
    "with open(file_src, 'r') as f:\n",
    "    file_line = f.readlines()[2]\n",
    "print(repr(file_line))"
   ]
  },
  {
   "cell_type": "code",
   "execution_count": null,
   "metadata": {},
   "outputs": [],
   "source": []
  }
 ],
 "metadata": {
  "kernelspec": {
   "display_name": "Python 3",
   "language": "python",
   "name": "python3"
  },
  "language_info": {
   "codemirror_mode": {
    "name": "ipython",
    "version": 3
   },
   "file_extension": ".py",
   "mimetype": "text/x-python",
   "name": "python",
   "nbconvert_exporter": "python",
   "pygments_lexer": "ipython3",
   "version": "3.6.5"
  }
 },
 "nbformat": 4,
 "nbformat_minor": 2
}
