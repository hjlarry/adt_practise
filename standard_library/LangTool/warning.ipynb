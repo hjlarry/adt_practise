{
 "cells": [
  {
   "cell_type": "markdown",
   "metadata": {},
   "source": [
    "warnings 模块由 PEP 230 引入，作为一种警告程序员关于语言或库功能的变化的方法，以预测 Python 3.0 带来的向后不兼容的变化。  \n",
    "警告根据 filter 设置进行处理。过滤器由五部分组成：action，message，category，module 和 line number。过滤器的 message 部分是一个正则表达式，用于匹配警告文本。category 是异常类的名称。module 包含一个正则表达式，用于匹配生成警告的模块名称。并且 line number 可用于更改特定事件发生时的处理。"
   ]
  },
  {
   "cell_type": "markdown",
   "metadata": {},
   "source": [
    "警告过滤器操作\n",
    "\n",
    "|动作\t|执行内容|\n",
    "|---- | ----|\n",
    "|error\t|将 warning 转换为 exception|\n",
    "|ignore\t|关闭 Warning|\n",
    "|always\t|永远提示 Warning|\n",
    "|default\t|在每一个位置 warning 第一次生成时打印出来|\n",
    "|module\t|在每一个 Module 里 warning 第一次生成时打印出来|\n",
    "|once\t|warning 第一次生成时打印出来|"
   ]
  },
  {
   "cell_type": "code",
   "execution_count": 2,
   "metadata": {},
   "outputs": [
    {
     "name": "stdout",
     "output_type": "stream",
     "text": [
      "before\n",
      "after\n"
     ]
    },
    {
     "name": "stderr",
     "output_type": "stream",
     "text": [
      "/srv/conda/lib/python3.6/site-packages/ipykernel_launcher.py:4: UserWarning: this is warn msg\n",
      "  after removing the cwd from sys.path.\n"
     ]
    }
   ],
   "source": [
    "import warnings\n",
    "\n",
    "print('before')\n",
    "warnings.warn('this is warn msg')\n",
    "print('after')"
   ]
  },
  {
   "cell_type": "code",
   "execution_count": 3,
   "metadata": {},
   "outputs": [
    {
     "name": "stdout",
     "output_type": "stream",
     "text": [
      "before\n"
     ]
    },
    {
     "ename": "UserWarning",
     "evalue": "this is warn msg",
     "output_type": "error",
     "traceback": [
      "\u001b[0;31m---------------------------------------------------------------------------\u001b[0m",
      "\u001b[0;31mUserWarning\u001b[0m                               Traceback (most recent call last)",
      "\u001b[0;32m<ipython-input-3-2a42137bbc01>\u001b[0m in \u001b[0;36m<module>\u001b[0;34m()\u001b[0m\n\u001b[1;32m      2\u001b[0m \u001b[0;34m\u001b[0m\u001b[0m\n\u001b[1;32m      3\u001b[0m \u001b[0mprint\u001b[0m\u001b[0;34m(\u001b[0m\u001b[0;34m'before'\u001b[0m\u001b[0;34m)\u001b[0m\u001b[0;34m\u001b[0m\u001b[0m\n\u001b[0;32m----> 4\u001b[0;31m \u001b[0mwarnings\u001b[0m\u001b[0;34m.\u001b[0m\u001b[0mwarn\u001b[0m\u001b[0;34m(\u001b[0m\u001b[0;34m'this is warn msg'\u001b[0m\u001b[0;34m)\u001b[0m\u001b[0;34m\u001b[0m\u001b[0m\n\u001b[0m\u001b[1;32m      5\u001b[0m \u001b[0mprint\u001b[0m\u001b[0;34m(\u001b[0m\u001b[0;34m'after'\u001b[0m\u001b[0;34m)\u001b[0m\u001b[0;34m\u001b[0m\u001b[0m\n",
      "\u001b[0;31mUserWarning\u001b[0m: this is warn msg"
     ]
    }
   ],
   "source": [
    "# simplefilter() 函数在内部过滤器列表中添加一个条目，告诉 warnings 模块在发出 UserWarning 警告时引发异常。\n",
    "warnings.simplefilter('error', UserWarning)\n",
    "\n",
    "print('before')\n",
    "warnings.warn('this is warn msg')\n",
    "print('after')"
   ]
  },
  {
   "cell_type": "code",
   "execution_count": 4,
   "metadata": {},
   "outputs": [
    {
     "ename": "UserWarning",
     "evalue": "hello world",
     "output_type": "error",
     "traceback": [
      "\u001b[0;31m---------------------------------------------------------------------------\u001b[0m",
      "\u001b[0;31mUserWarning\u001b[0m                               Traceback (most recent call last)",
      "\u001b[0;32m<ipython-input-4-686029cfbc2d>\u001b[0m in \u001b[0;36m<module>\u001b[0;34m()\u001b[0m\n\u001b[1;32m      1\u001b[0m \u001b[0mwarnings\u001b[0m\u001b[0;34m.\u001b[0m\u001b[0mfilterwarnings\u001b[0m\u001b[0;34m(\u001b[0m\u001b[0;34m'ignore'\u001b[0m\u001b[0;34m,\u001b[0m \u001b[0;34m'.*do not.*'\u001b[0m\u001b[0;34m)\u001b[0m\u001b[0;34m\u001b[0m\u001b[0m\n\u001b[1;32m      2\u001b[0m \u001b[0;34m\u001b[0m\u001b[0m\n\u001b[0;32m----> 3\u001b[0;31m \u001b[0mwarnings\u001b[0m\u001b[0;34m.\u001b[0m\u001b[0mwarn\u001b[0m\u001b[0;34m(\u001b[0m\u001b[0;34m'hello world'\u001b[0m\u001b[0;34m)\u001b[0m\u001b[0;34m\u001b[0m\u001b[0m\n\u001b[0m\u001b[1;32m      4\u001b[0m \u001b[0mwarnings\u001b[0m\u001b[0;34m.\u001b[0m\u001b[0mwarn\u001b[0m\u001b[0;34m(\u001b[0m\u001b[0;34m'hello world , Do not show this msg'\u001b[0m\u001b[0;34m)\u001b[0m\u001b[0;34m\u001b[0m\u001b[0m\n",
      "\u001b[0;31mUserWarning\u001b[0m: hello world"
     ]
    }
   ],
   "source": [
    "warnings.filterwarnings('ignore', '.*do not.*')\n",
    "\n",
    "warnings.warn('hello world')\n",
    "warnings.warn('hello world , Do not show this msg')"
   ]
  },
  {
   "cell_type": "code",
   "execution_count": 1,
   "metadata": {},
   "outputs": [
    {
     "name": "stderr",
     "output_type": "stream",
     "text": [
      "/srv/conda/lib/python3.6/site-packages/ipykernel_launcher.py:3: UserWarning: this is a warning!\n",
      "  This is separate from the ipykernel package so we can avoid doing imports until\n"
     ]
    }
   ],
   "source": [
    "import warnings\n",
    "def func_with_warning():\n",
    "    warnings.warn('this is a warning!')\n",
    "    \n",
    "func_with_warning()\n",
    "func_with_warning()\n",
    "func_with_warning()"
   ]
  },
  {
   "cell_type": "code",
   "execution_count": 2,
   "metadata": {},
   "outputs": [
    {
     "name": "stderr",
     "output_type": "stream",
     "text": [
      "/srv/conda/lib/python3.6/site-packages/ipykernel_launcher.py:1: UserWarning: this is a warning!\n",
      "  \"\"\"Entry point for launching an IPython kernel.\n",
      "/srv/conda/lib/python3.6/site-packages/ipykernel_launcher.py:2: UserWarning: this is a warning!\n",
      "  \n",
      "/srv/conda/lib/python3.6/site-packages/ipykernel_launcher.py:3: UserWarning: this is a warning!\n",
      "  This is separate from the ipykernel package so we can avoid doing imports until\n"
     ]
    }
   ],
   "source": [
    "warnings.warn('this is a warning!')\n",
    "warnings.warn('this is a warning!')\n",
    "warnings.warn('this is a warning!')"
   ]
  },
  {
   "cell_type": "code",
   "execution_count": 3,
   "metadata": {},
   "outputs": [
    {
     "name": "stderr",
     "output_type": "stream",
     "text": [
      "/srv/conda/lib/python3.6/site-packages/ipykernel_launcher.py:2: UserWarning: this is a warning!\n",
      "  \n"
     ]
    }
   ],
   "source": [
    "warnings.simplefilter('once', UserWarning)\n",
    "warnings.warn('this is a warning!')\n",
    "warnings.warn('this is a warning!')\n",
    "warnings.warn('this is a warning!')"
   ]
  },
  {
   "cell_type": "code",
   "execution_count": 5,
   "metadata": {},
   "outputs": [
    {
     "name": "stderr",
     "output_type": "stream",
     "text": [
      "WARNING:root:/srv/conda/lib/python3.6/site-packages/ipykernel_launcher.py:11: UserWarning:heheh\n"
     ]
    }
   ],
   "source": [
    "import logging\n",
    "\n",
    "def send_warnings_to_log(msg, category, filename, lineno, file=None, line=None):\n",
    "    logging.warning('%s:%s: %s:%s', filename, lineno, category.__name__, msg)\n",
    "    \n",
    "logging.basicConfig(level=logging.INFO)\n",
    "\n",
    "old_showwarning = warnings.showwarning\n",
    "warnings.showwarning = send_warnings_to_log\n",
    "\n",
    "warnings.warn('heheh')"
   ]
  },
  {
   "cell_type": "code",
   "execution_count": 1,
   "metadata": {},
   "outputs": [
    {
     "name": "stderr",
     "output_type": "stream",
     "text": [
      "/srv/conda/lib/python3.6/site-packages/ipykernel_launcher.py:5: UserWarning: warn message before\n",
      "  \"\"\"\n",
      "-> /srv/conda/lib/python3.6/site-packages/ipykernel_launcher.py:7:UserWarning:warn message after"
     ]
    }
   ],
   "source": [
    "import warnings\n",
    "def warning_on_one_line(msg, category, filename, lineno, file=None, line=None):\n",
    "    return '-> {}:{}:{}:{}'.format(filename, lineno, category.__name__, msg)\n",
    "\n",
    "warnings.warn('warn message before')\n",
    "warnings.formatwarning = warning_on_one_line\n",
    "warnings.warn('warn message after')"
   ]
  },
  {
   "cell_type": "code",
   "execution_count": null,
   "metadata": {},
   "outputs": [],
   "source": []
  }
 ],
 "metadata": {
  "kernelspec": {
   "display_name": "Python 3",
   "language": "python",
   "name": "python3"
  },
  "language_info": {
   "codemirror_mode": {
    "name": "ipython",
    "version": 3
   },
   "file_extension": ".py",
   "mimetype": "text/x-python",
   "name": "python",
   "nbconvert_exporter": "python",
   "pygments_lexer": "ipython3",
   "version": "3.6.6"
  }
 },
 "nbformat": 4,
 "nbformat_minor": 2
}
