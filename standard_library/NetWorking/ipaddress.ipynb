{
 "cells": [
  {
   "cell_type": "code",
   "execution_count": 1,
   "metadata": {},
   "outputs": [
    {
     "name": "stdout",
     "output_type": "stream",
     "text": [
      "IPv4Address('10.9.0.6')\n",
      "ip version 4\n",
      "is private True\n",
      "packed from b'0a090006'\n",
      "integer 168361990\n",
      "IPv6Address('fdfd:87b5:b475:5e3e:b1bc:e121:a8eb:14aa')\n",
      "ip version 6\n",
      "is private True\n",
      "packed from b'fdfd87b5b4755e3eb1bce121a8eb14aa'\n",
      "integer 337611086560236126439725644408160982186\n"
     ]
    }
   ],
   "source": [
    "import binascii\n",
    "import ipaddress\n",
    "\n",
    "ADDRESSES = [\n",
    "    '10.9.0.6',\n",
    "    'fdfd:87b5:b475:5e3e:b1bc:e121:a8eb:14aa',\n",
    "]\n",
    "\n",
    "for ip in ADDRESSES:\n",
    "    addr = ipaddress.ip_address(ip)\n",
    "    print(f\"{addr !r}\")\n",
    "    print('ip version', addr.version)\n",
    "    print('is private', addr.is_private)\n",
    "    print('packed from', binascii.hexlify(addr.packed))\n",
    "    print('integer', int(addr))"
   ]
  },
  {
   "cell_type": "code",
   "execution_count": 2,
   "metadata": {},
   "outputs": [
    {
     "name": "stdout",
     "output_type": "stream",
     "text": [
      "IPv4Network('10.9.0.0/24')\n",
      "is private True\n",
      "broadcast 10.9.0.255\n",
      "compressed 10.9.0.0/24\n",
      "with netmask 10.9.0.0/255.255.255.0\n",
      "with hostmask 10.9.0.0/0.0.0.255\n",
      "num addr 256\n",
      "IPv6Network('fdfd:87b5:b475:5e3e::/64')\n",
      "is private True\n",
      "broadcast fdfd:87b5:b475:5e3e:ffff:ffff:ffff:ffff\n",
      "compressed fdfd:87b5:b475:5e3e::/64\n",
      "with netmask fdfd:87b5:b475:5e3e::/ffff:ffff:ffff:ffff::\n",
      "with hostmask fdfd:87b5:b475:5e3e::/::ffff:ffff:ffff:ffff\n",
      "num addr 18446744073709551616\n"
     ]
    }
   ],
   "source": [
    "NETWORKS = [\n",
    "    '10.9.0.0/24',\n",
    "    'fdfd:87b5:b475:5e3e::/64',\n",
    "]\n",
    "\n",
    "for n in NETWORKS:\n",
    "    net = ipaddress.ip_network(n)\n",
    "    print(f\"{net !r}\")\n",
    "    print('is private', net.is_private)\n",
    "    print('broadcast', net.broadcast_address)\n",
    "    print('compressed', net.compressed)\n",
    "    print('with netmask', net.with_netmask)\n",
    "    print('with hostmask', net.with_hostmask)\n",
    "    print('num addr', net.num_addresses)"
   ]
  },
  {
   "cell_type": "code",
   "execution_count": 3,
   "metadata": {},
   "outputs": [
    {
     "name": "stdout",
     "output_type": "stream",
     "text": [
      "IPv4Network('10.9.0.0/24')\n",
      "10.9.0.0\n",
      "10.9.0.1\n",
      "10.9.0.2\n",
      "IPv6Network('fdfd:87b5:b475:5e3e::/64')\n",
      "fdfd:87b5:b475:5e3e::\n",
      "fdfd:87b5:b475:5e3e::1\n",
      "fdfd:87b5:b475:5e3e::2\n"
     ]
    }
   ],
   "source": [
    "for n in NETWORKS:\n",
    "    net = ipaddress.ip_network(n)\n",
    "    print(f\"{net !r}\")\n",
    "    for i, ip in zip(range(3), net):\n",
    "        print(ip)\n",
    "        "
   ]
  },
  {
   "cell_type": "code",
   "execution_count": 5,
   "metadata": {},
   "outputs": [
    {
     "name": "stdout",
     "output_type": "stream",
     "text": [
      "IPv4Network('10.9.0.0/24')\n",
      "10.9.0.1\n",
      "10.9.0.2\n",
      "10.9.0.3\n",
      "IPv6Network('fdfd:87b5:b475:5e3e::/64')\n",
      "fdfd:87b5:b475:5e3e::1\n",
      "fdfd:87b5:b475:5e3e::2\n",
      "fdfd:87b5:b475:5e3e::3\n"
     ]
    }
   ],
   "source": [
    "for n in NETWORKS:\n",
    "    net = ipaddress.ip_network(n)\n",
    "    print(f\"{net !r}\")\n",
    "    for i, ip in zip(range(3), net.hosts()):  # 并不包括整个网络迭代时生成的第一个值\n",
    "        print(ip)"
   ]
  },
  {
   "cell_type": "code",
   "execution_count": 6,
   "metadata": {},
   "outputs": [
    {
     "name": "stdout",
     "output_type": "stream",
     "text": [
      "10.9.0.6 is in 10.9.0.0/24\n",
      "10.7.0.31 is not a known network\n",
      "fdfd:87b5:b475:5e3e:b1bc:e121:a8eb:14aa is in fdfd:87b5:b475:5e3e::/64\n",
      "fe80::3840:c439:b25e:63b0 is not a known network\n"
     ]
    }
   ],
   "source": [
    "NETWORKS = [\n",
    "    ipaddress.ip_network('10.9.0.0/24'),\n",
    "    ipaddress.ip_network('fdfd:87b5:b475:5e3e::/64'),\n",
    "]\n",
    "\n",
    "ADDRESSES = [\n",
    "    ipaddress.ip_address('10.9.0.6'),\n",
    "    ipaddress.ip_address('10.7.0.31'),\n",
    "    ipaddress.ip_address(\n",
    "        'fdfd:87b5:b475:5e3e:b1bc:e121:a8eb:14aa'\n",
    "    ),\n",
    "    ipaddress.ip_address('fe80::3840:c439:b25e:63b0'),\n",
    "]\n",
    "\n",
    "for ip in ADDRESSES:\n",
    "    for net in NETWORKS:\n",
    "        if ip in net:\n",
    "            print(f'{ip} is in {net}')\n",
    "            break\n",
    "    else:\n",
    "        print(f'{ip} is not a known network')"
   ]
  },
  {
   "cell_type": "markdown",
   "metadata": {},
   "source": [
    "in 是用网络掩码去测试地址，所以它比扩展完整的网络地址的列表更有效率。"
   ]
  },
  {
   "cell_type": "code",
   "execution_count": 7,
   "metadata": {},
   "outputs": [
    {
     "name": "stdout",
     "output_type": "stream",
     "text": [
      "IPv4Interface('10.9.0.6/24')\n",
      "network 10.9.0.0/24\n",
      "ip 10.9.0.6\n",
      "ip with prefixlen 10.9.0.6/24\n",
      "netmask 255.255.255.0\n",
      "hostmask 0.0.0.255\n",
      "IPv6Interface('fdfd:87b5:b475:5e3e:b1bc:e121:a8eb:14aa/64')\n",
      "network fdfd:87b5:b475:5e3e::/64\n",
      "ip fdfd:87b5:b475:5e3e:b1bc:e121:a8eb:14aa\n",
      "ip with prefixlen fdfd:87b5:b475:5e3e:b1bc:e121:a8eb:14aa/64\n",
      "netmask ffff:ffff:ffff:ffff::\n",
      "hostmask ::ffff:ffff:ffff:ffff\n"
     ]
    }
   ],
   "source": [
    "ADDRESSES = [\n",
    "    '10.9.0.6/24',\n",
    "    'fdfd:87b5:b475:5e3e:b1bc:e121:a8eb:14aa/64',\n",
    "]\n",
    "\n",
    "for ip in ADDRESSES:\n",
    "    iface = ipaddress.ip_interface(ip)\n",
    "    print(f\"{iface !r}\")\n",
    "    print('network', iface.network)\n",
    "    print('ip', iface.ip)\n",
    "    print('ip with prefixlen', iface.with_prefixlen)\n",
    "    print('netmask', iface.netmask)\n",
    "    print('hostmask', iface.hostmask)"
   ]
  },
  {
   "cell_type": "markdown",
   "metadata": {},
   "source": [
    "一个网络接口表示网络上一个特定的地址，它可以由一个主机地址和一个网络前缀或者网络掩码表示。接口对象包含访问完整网络和特定地址的属性，同时还提供了几种不同的方式表示接口和网络掩码。"
   ]
  },
  {
   "cell_type": "code",
   "execution_count": null,
   "metadata": {},
   "outputs": [],
   "source": []
  }
 ],
 "metadata": {
  "kernelspec": {
   "display_name": "Python 3",
   "language": "python",
   "name": "python3"
  },
  "language_info": {
   "codemirror_mode": {
    "name": "ipython",
    "version": 3
   },
   "file_extension": ".py",
   "mimetype": "text/x-python",
   "name": "python",
   "nbconvert_exporter": "python",
   "pygments_lexer": "ipython3",
   "version": "3.6.6"
  }
 },
 "nbformat": 4,
 "nbformat_minor": 2
}
