{
 "cells": [
  {
   "cell_type": "markdown",
   "metadata": {},
   "source": [
    "Sockets have two primary properties controlling the way they send data: the address family controls the OSI network layer protocol used and the socket type controls the transport layer protocol.  \n",
    "Python supports three address families. The most common, AF_INET, is used for IPv4 Internet addressing. AF_INET6 is used for IPv6 Internet addressing.AF_UNIX is the address family for Unix Domain Sockets (UDS), an inter-process communication protocol available on POSIX-compliant systems.   \n",
    "The socket type is usually either SOCK_DGRAM for message-oriented datagram transport or SOCK_STREAM for stream-oriented transport. Datagram sockets are most often associated with UDP, the user datagram protocol. They provide unreliable delivery of individual messages. Stream-oriented sockets are associated with TCP, transmission control protocol. They provide byte streams between the client and server, ensuring message delivery or failure notification through timeout management, retransmission, and other features.\n",
    "\n",
    "## Addressing, Protocol Families and Socket Types"
   ]
  },
  {
   "cell_type": "code",
   "execution_count": 1,
   "metadata": {},
   "outputs": [
    {
     "name": "stdout",
     "output_type": "stream",
     "text": [
      "hejl-All-Series\n"
     ]
    }
   ],
   "source": [
    "import socket\n",
    "\n",
    "print(socket.gethostname())"
   ]
  },
  {
   "cell_type": "code",
   "execution_count": 4,
   "metadata": {},
   "outputs": [
    {
     "name": "stdout",
     "output_type": "stream",
     "text": [
      "hejl-All-Series: 127.0.1.1\n",
      "pymotw.com: 66.33.211.242\n",
      "www.python.org: 151.101.72.223\n",
      "[Errno -2] Name or service not known\n"
     ]
    }
   ],
   "source": [
    "HOSTS = [\n",
    "    'hejl-All-Series',\n",
    "    'pymotw.com',\n",
    "    'www.python.org',\n",
    "    'nosuchname',\n",
    "]\n",
    "\n",
    "for host in HOSTS:\n",
    "    try:\n",
    "        print(f\"{host}: {socket.gethostbyname(host)}\")\n",
    "    except socket.error as msg:\n",
    "        print(msg)"
   ]
  },
  {
   "cell_type": "code",
   "execution_count": 5,
   "metadata": {},
   "outputs": [
    {
     "name": "stdout",
     "output_type": "stream",
     "text": [
      "hejl-All-Series:\n",
      "hejl-All-Series\n",
      "[]\n",
      "['127.0.1.1']\n",
      "\n",
      "pymotw.com:\n",
      "pymotw.com\n",
      "[]\n",
      "['66.33.211.242']\n",
      "\n",
      "www.python.org:\n",
      "dualstack.python.map.fastly.net\n",
      "['www.python.org']\n",
      "['151.101.108.223']\n",
      "\n",
      "[Errno -2] Name or service not known\n"
     ]
    }
   ],
   "source": [
    "for host in HOSTS:\n",
    "    try:\n",
    "        name, aliases, addresses = socket.gethostbyname_ex(host)\n",
    "        print(f\"{host}:\")\n",
    "        print(f\"{name}\")\n",
    "        print(f\"{aliases}\")\n",
    "        print(f\"{addresses}\")\n",
    "        print()\n",
    "    except socket.error as msg:\n",
    "        print(msg)"
   ]
  },
  {
   "cell_type": "code",
   "execution_count": 6,
   "metadata": {},
   "outputs": [
    {
     "name": "stdout",
     "output_type": "stream",
     "text": [
      "hejl-All-Series: hejl-All-Series\n",
      "pymotw.com: apache2-zoo.george-washington.dreamhost.com\n",
      "www.python.org: www.python.org\n",
      "nosuchname: nosuchname\n"
     ]
    }
   ],
   "source": [
    "for host in HOSTS:\n",
    "    try:\n",
    "        print(f\"{host}: {socket.getfqdn(host)}\")\n",
    "    except socket.error as msg:\n",
    "        print(msg)"
   ]
  },
  {
   "cell_type": "code",
   "execution_count": 7,
   "metadata": {},
   "outputs": [
    {
     "name": "stdout",
     "output_type": "stream",
     "text": [
      "apache2-zoo.george-washington.dreamhost.com\n",
      "[]\n",
      "['66.33.211.242']\n"
     ]
    }
   ],
   "source": [
    "hostname, aliases, addresses = socket.gethostbyaddr('66.33.211.242')\n",
    "print(hostname)\n",
    "print(aliases)\n",
    "print(addresses)"
   ]
  },
  {
   "cell_type": "code",
   "execution_count": 9,
   "metadata": {},
   "outputs": [
    {
     "name": "stdout",
     "output_type": "stream",
     "text": [
      "http : 80\n",
      "https : 443\n",
      "ftp : 21\n",
      "gopher : 70\n",
      "smtp : 25\n",
      "imap : 143\n",
      "imaps : 993\n",
      "pop3 : 110\n",
      "pop3s : 995\n"
     ]
    }
   ],
   "source": [
    "from urllib.parse import urlparse\n",
    "URLS = [\n",
    "    'http://www.python.org',\n",
    "    'https://www.mybank.com',\n",
    "    'ftp://prep.ai.mit.edu',\n",
    "    'gopher://gopher.micro.umn.edu',\n",
    "    'smtp://mail.example.com',\n",
    "    'imap://mail.example.com',\n",
    "    'imaps://mail.example.com',\n",
    "    'pop3://pop.example.com',\n",
    "    'pop3s://pop.example.com',\n",
    "]\n",
    "\n",
    "for url in URLS:\n",
    "    parsed_url = urlparse(url)\n",
    "    port = socket.getservbyname(parsed_url.scheme)\n",
    "    print(f'{parsed_url.scheme} : {port}')"
   ]
  },
  {
   "cell_type": "code",
   "execution_count": 10,
   "metadata": {},
   "outputs": [
    {
     "name": "stdout",
     "output_type": "stream",
     "text": [
      "http://example.com/\n",
      "https://example.com/\n",
      "ftp://example.com/\n",
      "gopher://example.com/\n",
      "smtp://example.com/\n",
      "imap2://example.com/\n",
      "imaps://example.com/\n",
      "pop3://example.com/\n",
      "pop3s://example.com/\n"
     ]
    }
   ],
   "source": [
    "for port in [80, 443, 21, 70, 25, 143, 993, 110, 995]:\n",
    "    url = '{}://example.com/'.format(socket.getservbyport(port))\n",
    "    print(url)"
   ]
  },
  {
   "cell_type": "code",
   "execution_count": 12,
   "metadata": {},
   "outputs": [],
   "source": [
    "def get_constants(prefix):\n",
    "    return {getattr(socket,n) : n for n in dir(socket) if n.startswith(prefix)}\n",
    "\n",
    "families = get_constants('AF_')\n",
    "types = get_constants('SOCK_')\n",
    "protocols = get_constants('IPPROTO_')"
   ]
  },
  {
   "cell_type": "code",
   "execution_count": 16,
   "metadata": {},
   "outputs": [
    {
     "data": {
      "text/plain": [
       "[(<AddressFamily.AF_INET: 2>,\n",
       "  <SocketKind.SOCK_STREAM: 1>,\n",
       "  6,\n",
       "  '',\n",
       "  ('151.101.72.223', 443)),\n",
       " (<AddressFamily.AF_INET: 2>,\n",
       "  <SocketKind.SOCK_DGRAM: 2>,\n",
       "  17,\n",
       "  '',\n",
       "  ('151.101.72.223', 443)),\n",
       " (<AddressFamily.AF_INET: 2>,\n",
       "  <SocketKind.SOCK_RAW: 3>,\n",
       "  0,\n",
       "  '',\n",
       "  ('151.101.72.223', 443)),\n",
       " (<AddressFamily.AF_INET6: 10>,\n",
       "  <SocketKind.SOCK_STREAM: 1>,\n",
       "  6,\n",
       "  '',\n",
       "  ('2a04:4e42:36::223', 443, 0, 0)),\n",
       " (<AddressFamily.AF_INET6: 10>,\n",
       "  <SocketKind.SOCK_DGRAM: 2>,\n",
       "  17,\n",
       "  '',\n",
       "  ('2a04:4e42:36::223', 443, 0, 0)),\n",
       " (<AddressFamily.AF_INET6: 10>,\n",
       "  <SocketKind.SOCK_RAW: 3>,\n",
       "  0,\n",
       "  '',\n",
       "  ('2a04:4e42:36::223', 443, 0, 0))]"
      ]
     },
     "execution_count": 16,
     "metadata": {},
     "output_type": "execute_result"
    }
   ],
   "source": [
    "socket.getaddrinfo('www.python.org', 443)"
   ]
  },
  {
   "cell_type": "code",
   "execution_count": 18,
   "metadata": {},
   "outputs": [
    {
     "name": "stdout",
     "output_type": "stream",
     "text": [
      "Family: AF_INET\n",
      "Socketype: SOCK_STREAM\n",
      "Proto: IPPROTO_TCP\n",
      "Canonname: \n",
      "Sockaddr: ('151.101.72.223', 80)\n",
      "\n",
      "Family: AF_INET\n",
      "Socketype: SOCK_DGRAM\n",
      "Proto: IPPROTO_UDP\n",
      "Canonname: \n",
      "Sockaddr: ('151.101.72.223', 80)\n",
      "\n",
      "Family: AF_INET\n",
      "Socketype: SOCK_RAW\n",
      "Proto: IPPROTO_IP\n",
      "Canonname: \n",
      "Sockaddr: ('151.101.72.223', 80)\n",
      "\n",
      "Family: AF_INET6\n",
      "Socketype: SOCK_STREAM\n",
      "Proto: IPPROTO_TCP\n",
      "Canonname: \n",
      "Sockaddr: ('2a04:4e42:36::223', 80, 0, 0)\n",
      "\n",
      "Family: AF_INET6\n",
      "Socketype: SOCK_DGRAM\n",
      "Proto: IPPROTO_UDP\n",
      "Canonname: \n",
      "Sockaddr: ('2a04:4e42:36::223', 80, 0, 0)\n",
      "\n",
      "Family: AF_INET6\n",
      "Socketype: SOCK_RAW\n",
      "Proto: IPPROTO_IP\n",
      "Canonname: \n",
      "Sockaddr: ('2a04:4e42:36::223', 80, 0, 0)\n",
      "\n"
     ]
    }
   ],
   "source": [
    "for res in socket.getaddrinfo('www.python.org', 80):\n",
    "    family, socketype, proto, canonname, sockaddr = res\n",
    "    print('Family:', families[family])\n",
    "    print('Socketype:', types[socketype])\n",
    "    print('Proto:', protocols[proto])\n",
    "    print('Canonname:', canonname)\n",
    "    print('Sockaddr:', sockaddr)\n",
    "    print()"
   ]
  },
  {
   "cell_type": "code",
   "execution_count": 20,
   "metadata": {},
   "outputs": [
    {
     "name": "stdout",
     "output_type": "stream",
     "text": [
      "Origin: 192.168.1.1\n",
      "Packed: b'c0a80101'\n",
      "Packed: b'\\xc0\\xa8\\x01\\x01'\n",
      "Unpacked: 192.168.1.1\n",
      "Origin: 127.0.0.1\n",
      "Packed: b'7f000001'\n",
      "Packed: b'\\x7f\\x00\\x00\\x01'\n",
      "Unpacked: 127.0.0.1\n"
     ]
    }
   ],
   "source": [
    "import binascii\n",
    "\n",
    "for str_addr in ['192.168.1.1', '127.0.0.1']:\n",
    "    packed = socket.inet_aton(str_addr)\n",
    "    print('Origin:', str_addr)\n",
    "    print('Packed:', binascii.hexlify(packed))\n",
    "    print('Packed:', packed)\n",
    "    print('Unpacked:', socket.inet_ntoa(packed))"
   ]
  },
  {
   "cell_type": "markdown",
   "metadata": {},
   "source": [
    "## Communication Between Parent and Child Processes"
   ]
  },
  {
   "cell_type": "code",
   "execution_count": 3,
   "metadata": {},
   "outputs": [
    {
     "name": "stdout",
     "output_type": "stream",
     "text": [
      "In child, waiting for message\n",
      "message from parent b'ping'\n",
      "In parent, sending message\n",
      "response from child: b'pong'\n"
     ]
    }
   ],
   "source": [
    "import socket\n",
    "import os\n",
    "\n",
    "parent, child = socket.socketpair()\n",
    "\n",
    "pid = os.fork()\n",
    "if pid:\n",
    "    print('In parent, sending message')\n",
    "    child.close()\n",
    "    parent.sendall(b'ping')\n",
    "    response = parent.recv(1024)\n",
    "    print('response from child:', response)\n",
    "    parent.close()\n",
    "else:\n",
    "    print('In child, waiting for message')\n",
    "    parent.close()\n",
    "    message = child.recv(1024)\n",
    "    print('message from parent', message)\n",
    "    child.sendall(b'pong')\n",
    "    child.close()\n"
   ]
  },
  {
   "cell_type": "code",
   "execution_count": null,
   "metadata": {},
   "outputs": [],
   "source": []
  },
  {
   "cell_type": "code",
   "execution_count": null,
   "metadata": {},
   "outputs": [],
   "source": []
  }
 ],
 "metadata": {
  "kernelspec": {
   "display_name": "Python 3",
   "language": "python",
   "name": "python3"
  },
  "language_info": {
   "codemirror_mode": {
    "name": "ipython",
    "version": 3
   },
   "file_extension": ".py",
   "mimetype": "text/x-python",
   "name": "python",
   "nbconvert_exporter": "python",
   "pygments_lexer": "ipython3",
   "version": "3.6.6"
  }
 },
 "nbformat": 4,
 "nbformat_minor": 2
}
