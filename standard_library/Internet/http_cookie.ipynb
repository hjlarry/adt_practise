{
 "cells": [
  {
   "cell_type": "code",
   "execution_count": 1,
   "metadata": {},
   "outputs": [
    {
     "name": "stdout",
     "output_type": "stream",
     "text": [
      "Set-Cookie: mycookie=cookie_value\n"
     ]
    }
   ],
   "source": [
    "from http import cookies\n",
    "\n",
    "c = cookies.SimpleCookie()\n",
    "c['mycookie'] = 'cookie_value'\n",
    "print(c)"
   ]
  },
  {
   "cell_type": "markdown",
   "metadata": {},
   "source": [
    "事实上， RFC 中所有关于 cookies 的属性都可以通过用来表示 cookie 值的 Morsel 对象管理。"
   ]
  },
  {
   "cell_type": "code",
   "execution_count": 4,
   "metadata": {},
   "outputs": [],
   "source": [
    "import datetime\n",
    "\n",
    "def show_cookie(c):\n",
    "    print(c)\n",
    "    for key, morsel in c.items():\n",
    "        print()\n",
    "        print('key=', morsel.key)\n",
    "        print('value=', morsel.value)\n",
    "        print('coded_value=', morsel.coded_value)\n",
    "        for name in morsel.keys():\n",
    "            if morsel[name]:\n",
    "                print(f'{name}={morsel[name]}')\n",
    "                "
   ]
  },
  {
   "cell_type": "code",
   "execution_count": 5,
   "metadata": {},
   "outputs": [
    {
     "name": "stdout",
     "output_type": "stream",
     "text": [
      "Set-Cookie: encoded_value_cookie=\"\\\"cookie\\054value\\073\\\"\"; Comment=has escaped punction\r\n",
      "Set-Cookie: mycookie=cookie_value\r\n",
      "Set-Cookie: restricted_cookie=cookie_value; Domain=PyMOTW; Path=/sub/path; Secure\n",
      "\n",
      "key= mycookie\n",
      "value= cookie_value\n",
      "coded_value= cookie_value\n",
      "\n",
      "key= encoded_value_cookie\n",
      "value= \"cookie,value;\"\n",
      "coded_value= \"\\\"cookie\\054value\\073\\\"\"\n",
      "comment=has escaped punction\n",
      "\n",
      "key= restricted_cookie\n",
      "value= cookie_value\n",
      "coded_value= cookie_value\n",
      "path=/sub/path\n",
      "domain=PyMOTW\n",
      "secure=True\n"
     ]
    }
   ],
   "source": [
    "# A cookie with a value that has to be encoded to fit into the header\n",
    "c['encoded_value_cookie'] = '\"cookie,value;\"'\n",
    "c['encoded_value_cookie']['comment'] = 'has escaped punction'\n",
    "\n",
    "# A cookie that only applies to part of a site\n",
    "c['restricted_cookie'] = 'cookie_value'\n",
    "c['restricted_cookie']['path'] = '/sub/path'\n",
    "c['restricted_cookie']['domain'] = 'PyMOTW'\n",
    "c['restricted_cookie']['secure'] = True\n",
    "\n",
    "show_cookie(c)"
   ]
  },
  {
   "cell_type": "code",
   "execution_count": 6,
   "metadata": {},
   "outputs": [
    {
     "name": "stdout",
     "output_type": "stream",
     "text": [
      "Set-Cookie: encoded_value_cookie=\"\\\"cookie\\054value\\073\\\"\"; Comment=has escaped punction\r\n",
      "Set-Cookie: expires_at_time=cookie_value; expires=Sat, 14 Feb 2009 19:30:14\r\n",
      "Set-Cookie: mycookie=cookie_value\r\n",
      "Set-Cookie: restricted_cookie=cookie_value; Domain=PyMOTW; Path=/sub/path; Secure\r\n",
      "Set-Cookie: with_max_age=\"expires in 5 minutes\"; Max-Age=300\n",
      "\n",
      "key= mycookie\n",
      "value= cookie_value\n",
      "coded_value= cookie_value\n",
      "\n",
      "key= encoded_value_cookie\n",
      "value= \"cookie,value;\"\n",
      "coded_value= \"\\\"cookie\\054value\\073\\\"\"\n",
      "comment=has escaped punction\n",
      "\n",
      "key= restricted_cookie\n",
      "value= cookie_value\n",
      "coded_value= cookie_value\n",
      "path=/sub/path\n",
      "domain=PyMOTW\n",
      "secure=True\n",
      "\n",
      "key= with_max_age\n",
      "value= expires in 5 minutes\n",
      "coded_value= \"expires in 5 minutes\"\n",
      "max-age=300\n",
      "\n",
      "key= expires_at_time\n",
      "value= cookie_value\n",
      "coded_value= cookie_value\n",
      "expires=Sat, 14 Feb 2009 19:30:14\n"
     ]
    }
   ],
   "source": [
    "# A cookie that expires in 5 minutes\n",
    "c['with_max_age'] = 'expires in 5 minutes'\n",
    "c['with_max_age']['max-age'] = 300  # seconds\n",
    "\n",
    "# A cookie that expires at a specific time\n",
    "c['expires_at_time'] = 'cookie_value'\n",
    "time_to_live = datetime.timedelta(hours=1)\n",
    "expires = (datetime.datetime(2009, 2, 14, 18, 30, 14) +\n",
    "           time_to_live)\n",
    "\n",
    "# Date format: Wdy, DD-Mon-YY HH:MM:SS GMT\n",
    "expires_at_time = expires.strftime('%a, %d %b %Y %H:%M:%S')\n",
    "c['expires_at_time']['expires'] = expires_at_time\n",
    "\n",
    "show_cookie(c)"
   ]
  },
  {
   "cell_type": "markdown",
   "metadata": {},
   "source": [
    "一旦 Set-Cookie 头被客户端接收，这些 cookies 将在后续的请求中使用一个 Cookie 头回传给服务器。一个输入 Cookie 头字符串可能包含多个以分号 (;) 隔开的 cookie 值。"
   ]
  },
  {
   "cell_type": "code",
   "execution_count": 7,
   "metadata": {},
   "outputs": [
    {
     "name": "stdout",
     "output_type": "stream",
     "text": [
      "Set-Cookie: integer=5\r\n",
      "Set-Cookie: with_quotes=\"He said, \\\"Hello, World!\\\"\"\n",
      "Set-Cookie: integer=5\r\n",
      "Set-Cookie: with_quotes=\"He said, \\\"Hello, World!\\\"\"\n"
     ]
    }
   ],
   "source": [
    "HTTP_COOKIE = '; '.join([\n",
    "    r'integer=5',\n",
    "    r'with_quotes=\"He said, \\\"Hello, World!\\\"\"',\n",
    "])\n",
    "\n",
    "c = cookies.SimpleCookie(HTTP_COOKIE)\n",
    "print(c)\n",
    "\n",
    "c = cookies.SimpleCookie()\n",
    "c.load(HTTP_COOKIE)\n",
    "print(c)"
   ]
  },
  {
   "cell_type": "code",
   "execution_count": 8,
   "metadata": {},
   "outputs": [
    {
     "name": "stdout",
     "output_type": "stream",
     "text": [
      "\n",
      "        <script type=\"text/javascript\">\n",
      "        <!-- begin hiding\n",
      "        document.cookie = \"integer=5\";\n",
      "        // end hiding -->\n",
      "        </script>\n",
      "        \n",
      "        <script type=\"text/javascript\">\n",
      "        <!-- begin hiding\n",
      "        document.cookie = \"with_quotes=\\\"He said, \\\\\"Hello, World!\\\\\"\\\"\";\n",
      "        // end hiding -->\n",
      "        </script>\n",
      "        \n"
     ]
    }
   ],
   "source": [
    "js_text = c.js_output()\n",
    "print(js_text)"
   ]
  },
  {
   "cell_type": "code",
   "execution_count": null,
   "metadata": {},
   "outputs": [],
   "source": []
  }
 ],
 "metadata": {
  "kernelspec": {
   "display_name": "Python 3",
   "language": "python",
   "name": "python3"
  },
  "language_info": {
   "codemirror_mode": {
    "name": "ipython",
    "version": 3
   },
   "file_extension": ".py",
   "mimetype": "text/x-python",
   "name": "python",
   "nbconvert_exporter": "python",
   "pygments_lexer": "ipython3",
   "version": "3.6.5"
  }
 },
 "nbformat": 4,
 "nbformat_minor": 2
}
