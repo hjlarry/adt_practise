{
 "cells": [
  {
   "cell_type": "code",
   "execution_count": 1,
   "metadata": {},
   "outputs": [],
   "source": [
    "import json\n",
    "data = [{'a': 'A', 'b': (2, 4), 'c': 3.0}]"
   ]
  },
  {
   "cell_type": "code",
   "execution_count": 2,
   "metadata": {},
   "outputs": [
    {
     "name": "stdout",
     "output_type": "stream",
     "text": [
      "[{'a': 'A', 'b': (2, 4), 'c': 3.0}]\n",
      "[{\"a\": \"A\", \"b\": [2, 4], \"c\": 3.0}]\n"
     ]
    }
   ],
   "source": [
    "print(repr(data))\n",
    "print(json.dumps(data))"
   ]
  },
  {
   "cell_type": "code",
   "execution_count": 3,
   "metadata": {},
   "outputs": [
    {
     "name": "stdout",
     "output_type": "stream",
     "text": [
      "(2, 4)\n",
      "[2, 4]\n"
     ]
    }
   ],
   "source": [
    "decoded = json.loads(json.dumps(data))\n",
    "print(data[0]['b'])\n",
    "print(decoded[0]['b'])"
   ]
  },
  {
   "cell_type": "code",
   "execution_count": 4,
   "metadata": {},
   "outputs": [
    {
     "name": "stdout",
     "output_type": "stream",
     "text": [
      "[{\"a\": \"A\", \"c\": 3.0, \"b\": [2, 4]}]\n",
      "[{\"a\": \"A\", \"b\": [2, 4], \"c\": 3.0}]\n",
      "False\n"
     ]
    }
   ],
   "source": [
    "data = [{'a': 'A', 'c': 3.0,'b': (2, 4), }]\n",
    "unsorted = json.dumps(data)\n",
    "first_sort = json.dumps(data, sort_keys=True)\n",
    "print(unsorted)\n",
    "print(first_sort)\n",
    "print(unsorted == first_sort)"
   ]
  },
  {
   "cell_type": "code",
   "execution_count": 5,
   "metadata": {},
   "outputs": [
    {
     "name": "stdout",
     "output_type": "stream",
     "text": [
      "[\n",
      "  {\n",
      "    \"a\": \"A\",\n",
      "    \"b\": [\n",
      "      2,\n",
      "      4\n",
      "    ],\n",
      "    \"c\": 3.0\n",
      "  }\n",
      "]\n"
     ]
    }
   ],
   "source": [
    "print(json.dumps(data, sort_keys=True, indent=2))"
   ]
  },
  {
   "cell_type": "code",
   "execution_count": 7,
   "metadata": {},
   "outputs": [
    {
     "name": "stdout",
     "output_type": "stream",
     "text": [
      "[{\"a\"@\"A\"!\"c\"@3.0!\"b\"@[2!4]}]\n"
     ]
    }
   ],
   "source": [
    "print(json.dumps(data, separators=('!','@')))"
   ]
  },
  {
   "cell_type": "code",
   "execution_count": 8,
   "metadata": {},
   "outputs": [
    {
     "name": "stdout",
     "output_type": "stream",
     "text": [
      "repr(data)             : 35\n",
      "dumps(data)            : 35\n",
      "dumps(data, indent=2)  : 73\n",
      "dumps(data, separators): 29\n"
     ]
    }
   ],
   "source": [
    "print('repr(data)             :', len(repr(data)))\n",
    "\n",
    "plain_dump = json.dumps(data)\n",
    "print('dumps(data)            :', len(plain_dump))\n",
    "\n",
    "small_indent = json.dumps(data, indent=2)\n",
    "print('dumps(data, indent=2)  :', len(small_indent))\n",
    "\n",
    "with_separators = json.dumps(data, separators=(',', ':'))\n",
    "print('dumps(data, separators):', len(with_separators))"
   ]
  },
  {
   "cell_type": "code",
   "execution_count": 9,
   "metadata": {},
   "outputs": [
    {
     "name": "stdout",
     "output_type": "stream",
     "text": [
      "First attempt\n",
      "ERROR: keys must be a string\n",
      "\n",
      "Second attempt\n",
      "[{\"a\": \"A\", \"b\": [2, 4], \"c\": 3.0}]\n"
     ]
    }
   ],
   "source": [
    "data = [{'a': 'A', 'b': (2, 4), 'c': 3.0, ('d',): 'D tuple'}]\n",
    "\n",
    "print('First attempt')\n",
    "try:\n",
    "    print(json.dumps(data))\n",
    "except TypeError as err:\n",
    "    print('ERROR:', err)\n",
    "\n",
    "print()\n",
    "print('Second attempt')\n",
    "print(json.dumps(data, skipkeys=True))"
   ]
  },
  {
   "cell_type": "markdown",
   "metadata": {},
   "source": [
    "目前为止所有的例子都是用的 Python 的内置类型，json 原生就支持它们。不过有时我们也想编码一些自定义类，这里我们有两种方式来实现它。"
   ]
  },
  {
   "cell_type": "code",
   "execution_count": 10,
   "metadata": {},
   "outputs": [
    {
     "name": "stdout",
     "output_type": "stream",
     "text": [
      "Object of type 'MyObj' is not JSON serializable\n"
     ]
    }
   ],
   "source": [
    "class MyObj:\n",
    "    def __init__(self, s):\n",
    "        self.s = s\n",
    "        \n",
    "    def __repr__(self):\n",
    "        return f'<MyObj({self.s})>'\n",
    "    \n",
    "obj = MyObj('hahhaa sth')\n",
    "try:\n",
    "    print(json.dumps(obj))\n",
    "except TypeError as err:\n",
    "    print(err)"
   ]
  },
  {
   "cell_type": "code",
   "execution_count": 11,
   "metadata": {},
   "outputs": [
    {
     "name": "stdout",
     "output_type": "stream",
     "text": [
      "default: <MyObj(hahhaa sth)>\n",
      "{\"__class__\": \"MyObj\", \"s\": \"hahhaa sth\"}\n"
     ]
    }
   ],
   "source": [
    "# 方式一编码\n",
    "def convert_to_builtin_type(obj):\n",
    "    print('default:' ,obj)\n",
    "    d = {\n",
    "        '__class__': obj.__class__.__name__\n",
    "    }\n",
    "    d.update(obj.__dict__)\n",
    "    return d\n",
    "\n",
    "print(json.dumps(obj, default=convert_to_builtin_type))"
   ]
  },
  {
   "cell_type": "code",
   "execution_count": 20,
   "metadata": {},
   "outputs": [
    {
     "name": "stdout",
     "output_type": "stream",
     "text": [
      "<class '__main__.MyObj'>\n",
      "[<MyObj(instance value goes here)>]\n"
     ]
    }
   ],
   "source": [
    "# 方式一解码\n",
    "def dict_to_object(d):\n",
    "    if '__class__' in d:\n",
    "        class_name = d.pop('__class__')\n",
    "        class_ = globals()[class_name]\n",
    "        print(class_)\n",
    "        args = {key: value for key,value in d.items()}\n",
    "        inst = class_(**args)\n",
    "    else:\n",
    "        inst = d\n",
    "    return inst\n",
    "        \n",
    "encoded_object = '''\n",
    "    [{\"s\": \"instance value goes here\",\n",
    "      \"__class__\": \"MyObj\"}]\n",
    "    '''\n",
    "\n",
    "myobj_instance = json.loads(\n",
    "    encoded_object,\n",
    "    object_hook=dict_to_object,\n",
    ")\n",
    "print(myobj_instance)"
   ]
  },
  {
   "cell_type": "code",
   "execution_count": 22,
   "metadata": {},
   "outputs": [
    {
     "name": "stdout",
     "output_type": "stream",
     "text": [
      "[\n",
      "{\n",
      "\"a\"\n",
      ": \n",
      "\"A\"\n",
      ", \n",
      "\"b\"\n",
      ": \n",
      "[2\n",
      ", 4\n",
      "]\n",
      ", \n",
      "\"c\"\n",
      ": \n",
      "3.0\n",
      "}\n",
      "]\n"
     ]
    }
   ],
   "source": [
    "encoder = json.JSONEncoder()\n",
    "data = [{'a': 'A', 'b': (2, 4), 'c': 3.0}]\n",
    "for p in encoder.iterencode(data):\n",
    "    print(p)"
   ]
  },
  {
   "cell_type": "code",
   "execution_count": 24,
   "metadata": {},
   "outputs": [
    {
     "name": "stdout",
     "output_type": "stream",
     "text": [
      "{\"__class__\": \"MyObj\", \"s\": \"hahhaa sth\"}\n"
     ]
    }
   ],
   "source": [
    "# 方式二编码\n",
    "class MyEncoder(json.JSONEncoder):\n",
    "    def default(self, obj):\n",
    "        d = {\n",
    "            '__class__': obj.__class__.__name__\n",
    "        }\n",
    "        d.update(obj.__dict__)\n",
    "        return d\n",
    "print(MyEncoder().encode(obj))"
   ]
  },
  {
   "cell_type": "code",
   "execution_count": 25,
   "metadata": {},
   "outputs": [
    {
     "name": "stdout",
     "output_type": "stream",
     "text": [
      "<class '__main__.MyObj'>\n",
      "[<MyObj(instance value goes here)>]\n"
     ]
    }
   ],
   "source": [
    "# 方式二解码\n",
    "class MyDecoder(json.JSONDecoder):\n",
    "    def __init__(self):\n",
    "        super().__init__(object_hook=self.dict_to_object)\n",
    "        \n",
    "    def dict_to_object(self, d):\n",
    "        if '__class__' in d:\n",
    "            class_name = d.pop('__class__')\n",
    "            class_ = globals()[class_name]\n",
    "            print(class_)\n",
    "            args = {key: value for key,value in d.items()}\n",
    "            inst = class_(**args)\n",
    "        else:\n",
    "            inst = d\n",
    "        return inst\n",
    "    \n",
    "myobj_instance = MyDecoder().decode(encoded_object)\n",
    "print(myobj_instance)"
   ]
  },
  {
   "cell_type": "markdown",
   "metadata": {},
   "source": [
    "之前所有的例子都假设所编码后的整个数据都可以一次性写入内存。对于巨大的数据来说，写入到类文件对象中更加好一些。 load() 和 dump() 函数则可以将数据写入到一个类文件对象中以读取或写入"
   ]
  },
  {
   "cell_type": "code",
   "execution_count": 26,
   "metadata": {},
   "outputs": [
    {
     "name": "stdout",
     "output_type": "stream",
     "text": [
      "[{\"a\": \"A\", \"b\": [2, 4], \"c\": 3.0}]\n"
     ]
    }
   ],
   "source": [
    "import io\n",
    "f = io.StringIO()\n",
    "json.dump(data, f)\n",
    "print(f.getvalue())"
   ]
  },
  {
   "cell_type": "code",
   "execution_count": 29,
   "metadata": {},
   "outputs": [
    {
     "name": "stdout",
     "output_type": "stream",
     "text": [
      "<class '_io.StringIO'>\n"
     ]
    }
   ],
   "source": [
    "print(type(f))"
   ]
  },
  {
   "cell_type": "code",
   "execution_count": 30,
   "metadata": {},
   "outputs": [
    {
     "ename": "JSONDecodeError",
     "evalue": "Expecting value: line 1 column 1 (char 0)",
     "output_type": "error",
     "traceback": [
      "\u001b[0;31m---------------------------------------------------------------------------\u001b[0m",
      "\u001b[0;31mJSONDecodeError\u001b[0m                           Traceback (most recent call last)",
      "\u001b[0;32m<ipython-input-30-2768ca17dda6>\u001b[0m in \u001b[0;36m<module>\u001b[0;34m()\u001b[0m\n\u001b[0;32m----> 1\u001b[0;31m \u001b[0mjson\u001b[0m\u001b[0;34m.\u001b[0m\u001b[0mload\u001b[0m\u001b[0;34m(\u001b[0m\u001b[0mf\u001b[0m\u001b[0;34m)\u001b[0m\u001b[0;34m\u001b[0m\u001b[0m\n\u001b[0m",
      "\u001b[0;32m/usr/local/Cellar/python/3.6.5_1/Frameworks/Python.framework/Versions/3.6/lib/python3.6/json/__init__.py\u001b[0m in \u001b[0;36mload\u001b[0;34m(fp, cls, object_hook, parse_float, parse_int, parse_constant, object_pairs_hook, **kw)\u001b[0m\n\u001b[1;32m    297\u001b[0m         \u001b[0mcls\u001b[0m\u001b[0;34m=\u001b[0m\u001b[0mcls\u001b[0m\u001b[0;34m,\u001b[0m \u001b[0mobject_hook\u001b[0m\u001b[0;34m=\u001b[0m\u001b[0mobject_hook\u001b[0m\u001b[0;34m,\u001b[0m\u001b[0;34m\u001b[0m\u001b[0m\n\u001b[1;32m    298\u001b[0m         \u001b[0mparse_float\u001b[0m\u001b[0;34m=\u001b[0m\u001b[0mparse_float\u001b[0m\u001b[0;34m,\u001b[0m \u001b[0mparse_int\u001b[0m\u001b[0;34m=\u001b[0m\u001b[0mparse_int\u001b[0m\u001b[0;34m,\u001b[0m\u001b[0;34m\u001b[0m\u001b[0m\n\u001b[0;32m--> 299\u001b[0;31m         parse_constant=parse_constant, object_pairs_hook=object_pairs_hook, **kw)\n\u001b[0m\u001b[1;32m    300\u001b[0m \u001b[0;34m\u001b[0m\u001b[0m\n\u001b[1;32m    301\u001b[0m \u001b[0;34m\u001b[0m\u001b[0m\n",
      "\u001b[0;32m/usr/local/Cellar/python/3.6.5_1/Frameworks/Python.framework/Versions/3.6/lib/python3.6/json/__init__.py\u001b[0m in \u001b[0;36mloads\u001b[0;34m(s, encoding, cls, object_hook, parse_float, parse_int, parse_constant, object_pairs_hook, **kw)\u001b[0m\n\u001b[1;32m    352\u001b[0m             \u001b[0mparse_int\u001b[0m \u001b[0;32mis\u001b[0m \u001b[0;32mNone\u001b[0m \u001b[0;32mand\u001b[0m \u001b[0mparse_float\u001b[0m \u001b[0;32mis\u001b[0m \u001b[0;32mNone\u001b[0m \u001b[0;32mand\u001b[0m\u001b[0;34m\u001b[0m\u001b[0m\n\u001b[1;32m    353\u001b[0m             parse_constant is None and object_pairs_hook is None and not kw):\n\u001b[0;32m--> 354\u001b[0;31m         \u001b[0;32mreturn\u001b[0m \u001b[0m_default_decoder\u001b[0m\u001b[0;34m.\u001b[0m\u001b[0mdecode\u001b[0m\u001b[0;34m(\u001b[0m\u001b[0ms\u001b[0m\u001b[0;34m)\u001b[0m\u001b[0;34m\u001b[0m\u001b[0m\n\u001b[0m\u001b[1;32m    355\u001b[0m     \u001b[0;32mif\u001b[0m \u001b[0mcls\u001b[0m \u001b[0;32mis\u001b[0m \u001b[0;32mNone\u001b[0m\u001b[0;34m:\u001b[0m\u001b[0;34m\u001b[0m\u001b[0m\n\u001b[1;32m    356\u001b[0m         \u001b[0mcls\u001b[0m \u001b[0;34m=\u001b[0m \u001b[0mJSONDecoder\u001b[0m\u001b[0;34m\u001b[0m\u001b[0m\n",
      "\u001b[0;32m/usr/local/Cellar/python/3.6.5_1/Frameworks/Python.framework/Versions/3.6/lib/python3.6/json/decoder.py\u001b[0m in \u001b[0;36mdecode\u001b[0;34m(self, s, _w)\u001b[0m\n\u001b[1;32m    337\u001b[0m \u001b[0;34m\u001b[0m\u001b[0m\n\u001b[1;32m    338\u001b[0m         \"\"\"\n\u001b[0;32m--> 339\u001b[0;31m         \u001b[0mobj\u001b[0m\u001b[0;34m,\u001b[0m \u001b[0mend\u001b[0m \u001b[0;34m=\u001b[0m \u001b[0mself\u001b[0m\u001b[0;34m.\u001b[0m\u001b[0mraw_decode\u001b[0m\u001b[0;34m(\u001b[0m\u001b[0ms\u001b[0m\u001b[0;34m,\u001b[0m \u001b[0midx\u001b[0m\u001b[0;34m=\u001b[0m\u001b[0m_w\u001b[0m\u001b[0;34m(\u001b[0m\u001b[0ms\u001b[0m\u001b[0;34m,\u001b[0m \u001b[0;36m0\u001b[0m\u001b[0;34m)\u001b[0m\u001b[0;34m.\u001b[0m\u001b[0mend\u001b[0m\u001b[0;34m(\u001b[0m\u001b[0;34m)\u001b[0m\u001b[0;34m)\u001b[0m\u001b[0;34m\u001b[0m\u001b[0m\n\u001b[0m\u001b[1;32m    340\u001b[0m         \u001b[0mend\u001b[0m \u001b[0;34m=\u001b[0m \u001b[0m_w\u001b[0m\u001b[0;34m(\u001b[0m\u001b[0ms\u001b[0m\u001b[0;34m,\u001b[0m \u001b[0mend\u001b[0m\u001b[0;34m)\u001b[0m\u001b[0;34m.\u001b[0m\u001b[0mend\u001b[0m\u001b[0;34m(\u001b[0m\u001b[0;34m)\u001b[0m\u001b[0;34m\u001b[0m\u001b[0m\n\u001b[1;32m    341\u001b[0m         \u001b[0;32mif\u001b[0m \u001b[0mend\u001b[0m \u001b[0;34m!=\u001b[0m \u001b[0mlen\u001b[0m\u001b[0;34m(\u001b[0m\u001b[0ms\u001b[0m\u001b[0;34m)\u001b[0m\u001b[0;34m:\u001b[0m\u001b[0;34m\u001b[0m\u001b[0m\n",
      "\u001b[0;32m/usr/local/Cellar/python/3.6.5_1/Frameworks/Python.framework/Versions/3.6/lib/python3.6/json/decoder.py\u001b[0m in \u001b[0;36mraw_decode\u001b[0;34m(self, s, idx)\u001b[0m\n\u001b[1;32m    355\u001b[0m             \u001b[0mobj\u001b[0m\u001b[0;34m,\u001b[0m \u001b[0mend\u001b[0m \u001b[0;34m=\u001b[0m \u001b[0mself\u001b[0m\u001b[0;34m.\u001b[0m\u001b[0mscan_once\u001b[0m\u001b[0;34m(\u001b[0m\u001b[0ms\u001b[0m\u001b[0;34m,\u001b[0m \u001b[0midx\u001b[0m\u001b[0;34m)\u001b[0m\u001b[0;34m\u001b[0m\u001b[0m\n\u001b[1;32m    356\u001b[0m         \u001b[0;32mexcept\u001b[0m \u001b[0mStopIteration\u001b[0m \u001b[0;32mas\u001b[0m \u001b[0merr\u001b[0m\u001b[0;34m:\u001b[0m\u001b[0;34m\u001b[0m\u001b[0m\n\u001b[0;32m--> 357\u001b[0;31m             \u001b[0;32mraise\u001b[0m \u001b[0mJSONDecodeError\u001b[0m\u001b[0;34m(\u001b[0m\u001b[0;34m\"Expecting value\"\u001b[0m\u001b[0;34m,\u001b[0m \u001b[0ms\u001b[0m\u001b[0;34m,\u001b[0m \u001b[0merr\u001b[0m\u001b[0;34m.\u001b[0m\u001b[0mvalue\u001b[0m\u001b[0;34m)\u001b[0m \u001b[0;32mfrom\u001b[0m \u001b[0;32mNone\u001b[0m\u001b[0;34m\u001b[0m\u001b[0m\n\u001b[0m\u001b[1;32m    358\u001b[0m         \u001b[0;32mreturn\u001b[0m \u001b[0mobj\u001b[0m\u001b[0;34m,\u001b[0m \u001b[0mend\u001b[0m\u001b[0;34m\u001b[0m\u001b[0m\n",
      "\u001b[0;31mJSONDecodeError\u001b[0m: Expecting value: line 1 column 1 (char 0)"
     ]
    }
   ],
   "source": [
    "json.load(f)"
   ]
  },
  {
   "cell_type": "code",
   "execution_count": 31,
   "metadata": {},
   "outputs": [
    {
     "name": "stdout",
     "output_type": "stream",
     "text": [
      "[{'a': 'A', 'c': 3.0, 'b': [2, 4]}]\n"
     ]
    }
   ],
   "source": [
    "f = io.StringIO('[{\"a\": \"A\", \"c\": 3.0, \"b\": [2, 4]}]')\n",
    "print(json.load(f))"
   ]
  },
  {
   "cell_type": "markdown",
   "metadata": {},
   "source": [
    "json.tool 模块实现了一个命令行程序来格式化 JSON 数据使其在命令行下更易阅读\n",
    "\n",
    "```\n",
    "$ python3 -m json.tool --sort-keys example.json\n",
    "\n",
    "[\n",
    "    {\n",
    "        \"a\": \"A\",\n",
    "        \"b\": [\n",
    "            2,\n",
    "            4\n",
    "        ],\n",
    "        \"c\": 3.0\n",
    "    }\n",
    "]\n",
    "```"
   ]
  },
  {
   "cell_type": "code",
   "execution_count": null,
   "metadata": {},
   "outputs": [],
   "source": []
  }
 ],
 "metadata": {
  "kernelspec": {
   "display_name": "Python 3",
   "language": "python",
   "name": "python3"
  },
  "language_info": {
   "codemirror_mode": {
    "name": "ipython",
    "version": 3
   },
   "file_extension": ".py",
   "mimetype": "text/x-python",
   "name": "python",
   "nbconvert_exporter": "python",
   "pygments_lexer": "ipython3",
   "version": "3.6.5"
  }
 },
 "nbformat": 4,
 "nbformat_minor": 2
}
