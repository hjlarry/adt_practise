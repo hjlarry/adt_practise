{
 "cells": [
  {
   "cell_type": "markdown",
   "metadata": {},
   "source": [
    "The socketserver module is a framework for creating network servers. It defines classes for handling synchronous network requests (the server request handler blocks until the request is completed) over TCP, UDP, Unix streams, and Unix datagrams. It also provides mix-in classes for easily converting servers to use a separate thread or process for each request."
   ]
  },
  {
   "cell_type": "code",
   "execution_count": 8,
   "metadata": {},
   "outputs": [],
   "source": [
    "import logging\n",
    "import sys\n",
    "import socketserver\n",
    "\n",
    "logging.basicConfig(level=logging.DEBUG, format='%(name)s : %(message)s')\n",
    "\n",
    "class EchoRequestHandler(socketserver.BaseRequestHandler):\n",
    "    def __init__(self, request, client_address, server):\n",
    "        self.logger = logging.getLogger('EchoRequestHandler')\n",
    "        self.logger.debug('__init__')\n",
    "        super().__init__(request, client_address, server)\n",
    "    def setup(self):\n",
    "        self.logger.debug('setup')\n",
    "        super().setup()\n",
    "    def handle(self):\n",
    "        self.logger.debug('handle')\n",
    "        data = self.request.recv(1024)\n",
    "        self.logger.debug('receive --> %s', data)\n",
    "        self.request.send(data)\n",
    "    def finish(self):\n",
    "        self.logger.debug('finish')\n",
    "        return super().finish()"
   ]
  },
  {
   "cell_type": "code",
   "execution_count": 11,
   "metadata": {},
   "outputs": [],
   "source": [
    "class EchoServer(socketserver.TCPServer):\n",
    "    def __init__(self, server_address, handler_class=EchoRequestHandler):\n",
    "        self.logger = logging.getLogger('EchoServer')\n",
    "        self.logger.debug('__init__')\n",
    "        super().__init__(server_address, handler_class)\n",
    "    def server_activate(self):\n",
    "        self.logger.debug('server_activate')\n",
    "        super().server_activate()\n",
    "    def serve_forever(self, poll_interval=0.5):\n",
    "        self.logger.debug('server_forever, waiting for request')\n",
    "        self.logger.info('Handing requests, press <ctrl-c> to quit')\n",
    "        super().serve_forever(poll_interval)\n",
    "    def handle_request(self):\n",
    "        self.logger.debug('handle_request')\n",
    "        return super().handle_request()\n",
    "    def verify_request(self, request, client_address):\n",
    "        self.logger.debug(f'verify_request({request} {client_address})')\n",
    "        return super().verify_request(request, client_address)\n",
    "    def process_request(self, request, client_address):\n",
    "        self.logger.debug(f'process_request({request} {client_address})')\n",
    "        return super().process_request(request, client_address)\n",
    "    def server_close(self):\n",
    "        self.logger.debug('server_close')\n",
    "        return super().server_close()\n",
    "    def finish_request(self, request, client_address):\n",
    "        self.logger.debug(f'finish_request({request} {client_address})')\n",
    "        return super().finish_request(request, client_address)\n",
    "    def close_request(self, request_address):\n",
    "        self.logger.debug(f'close_request({request_address})')\n",
    "        return super().close_request(request_address)\n",
    "    def shutdown(self):\n",
    "        self.logger.debug('shutdown')\n",
    "        return super().shutdown()"
   ]
  },
  {
   "cell_type": "code",
   "execution_count": 12,
   "metadata": {},
   "outputs": [
    {
     "name": "stderr",
     "output_type": "stream",
     "text": [
      "EchoServer : __init__\n",
      "EchoServer : server_activate\n",
      "EchoServer : server_forever, waiting for request\n",
      "client : Server on 127.0.0.1 53867\n",
      "EchoServer : Handing requests, press <ctrl-c> to quit\n",
      "client : creating socket\n",
      "EchoServer : verify_request(<socket.socket fd=66, family=AddressFamily.AF_INET, type=SocketKind.SOCK_STREAM, proto=0, laddr=('127.0.0.1', 53867), raddr=('127.0.0.1', 40308)> ('127.0.0.1', 40308))\n",
      "client : sending data : b'hello world '\n",
      "EchoServer : process_request(<socket.socket fd=66, family=AddressFamily.AF_INET, type=SocketKind.SOCK_STREAM, proto=0, laddr=('127.0.0.1', 53867), raddr=('127.0.0.1', 40308)> ('127.0.0.1', 40308))\n",
      "EchoServer : finish_request(<socket.socket fd=66, family=AddressFamily.AF_INET, type=SocketKind.SOCK_STREAM, proto=0, laddr=('127.0.0.1', 53867), raddr=('127.0.0.1', 40308)> ('127.0.0.1', 40308))\n",
      "EchoRequestHandler : __init__\n",
      "EchoRequestHandler : setup\n",
      "EchoRequestHandler : handle\n",
      "EchoRequestHandler : receive --> b'hello world '\n",
      "client : response from server: b'hello world '\n",
      "EchoRequestHandler : finish\n",
      "EchoServer : shutdown\n",
      "EchoServer : close_request(<socket.socket fd=66, family=AddressFamily.AF_INET, type=SocketKind.SOCK_STREAM, proto=0, laddr=('127.0.0.1', 53867), raddr=('127.0.0.1', 40308)>)\n"
     ]
    }
   ],
   "source": [
    "import threading\n",
    "import socket\n",
    "\n",
    "address = ('localhost', 0) # let the kernel assign a port\n",
    "server = EchoServer(address, EchoRequestHandler)\n",
    "ip, port = server.server_address\n",
    "\n",
    "# start the server in a thread\n",
    "t = threading.Thread(target=server.serve_forever)\n",
    "t.setDaemon(True)\n",
    "t.start() \n",
    "\n",
    "logger = logging.getLogger('client')\n",
    "logger.info(f'Server on {ip} {port}')\n",
    "logger.debug('creating socket')\n",
    "s = socket.socket(socket.AF_INET, socket.SOCK_STREAM)\n",
    "s.connect((ip, port))\n",
    "\n",
    "# sending data\n",
    "message = 'hello world '.encode()\n",
    "logger.debug('sending data : %r', message)\n",
    "len_sent = s.send(message)\n",
    "\n",
    "# receive res\n",
    "response = s.recv(len_sent)\n",
    "logger.debug('response from server: %r', response)\n",
    "\n",
    "server.shutdown()\n",
    "s.close()\n",
    "server.socket.close()"
   ]
  },
  {
   "cell_type": "code",
   "execution_count": 18,
   "metadata": {},
   "outputs": [],
   "source": [
    "class ThreadedEchoRequestHandler(socketserver.BaseRequestHandler):\n",
    "    def handle(self):\n",
    "        # echo the back to the client\n",
    "        data = self.request.recv(1024)\n",
    "        cur_thread = threading.currentThread()\n",
    "        res = b'%s:%s' % (cur_thread.getName().encode(), data)\n",
    "        self.request.send(res)\n",
    "        \n",
    "class ThreadedEchoServer(socketserver.ThreadingMixIn, socketserver.TCPServer):\n",
    "    pass\n"
   ]
  },
  {
   "cell_type": "code",
   "execution_count": 19,
   "metadata": {},
   "outputs": [
    {
     "name": "stdout",
     "output_type": "stream",
     "text": [
      "server runing on  Thread-15\n",
      "sending data :  b'hello world '\n",
      "response from server:  b'Thread-16:hello world '\n"
     ]
    }
   ],
   "source": [
    "address = ('localhost', 0) # let the kernel assign a port\n",
    "server = ThreadedEchoServer(address, ThreadedEchoRequestHandler)\n",
    "ip, port = server.server_address\n",
    "\n",
    "# start the server in a thread\n",
    "t = threading.Thread(target=server.serve_forever)\n",
    "t.setDaemon(True)\n",
    "t.start()\n",
    "print('server runing on ', t.getName())\n",
    "\n",
    "\n",
    "s = socket.socket(socket.AF_INET, socket.SOCK_STREAM)\n",
    "s.connect((ip, port))\n",
    "\n",
    "# sending data\n",
    "message = 'hello world '.encode()\n",
    "print('sending data : ', message)\n",
    "len_sent = s.send(message)\n",
    "\n",
    "# receive res\n",
    "response = s.recv(1024)\n",
    "print('response from server: ', response)\n",
    "\n",
    "server.shutdown()\n",
    "s.close()\n",
    "server.socket.close()"
   ]
  },
  {
   "cell_type": "code",
   "execution_count": 20,
   "metadata": {},
   "outputs": [],
   "source": [
    "import os\n",
    "class ForkingEchoRequestHandler(socketserver.BaseRequestHandler):\n",
    "    def handle(self):\n",
    "        # echo the back to the client\n",
    "        data = self.request.recv(1024)\n",
    "        cur_pid = os.getpid()\n",
    "        res = b'%d:%s' % (cur_pid, data)\n",
    "        self.request.send(res)\n",
    "        \n",
    "class ForkingEchoServer(socketserver.ForkingMixIn, socketserver.TCPServer):\n",
    "    pass"
   ]
  },
  {
   "cell_type": "code",
   "execution_count": 21,
   "metadata": {},
   "outputs": [
    {
     "name": "stdout",
     "output_type": "stream",
     "text": [
      "server runing on  2805\n",
      "sending data :  b'hello world '\n",
      "response from server:  b'4043:hello world '\n"
     ]
    }
   ],
   "source": [
    "address = ('localhost', 0) # let the kernel assign a port\n",
    "server = ForkingEchoServer(address, ForkingEchoRequestHandler)\n",
    "ip, port = server.server_address\n",
    "\n",
    "# start the server in a thread\n",
    "t = threading.Thread(target=server.serve_forever)\n",
    "t.setDaemon(True)\n",
    "t.start()\n",
    "print('server runing on ', os.getpid())\n",
    "\n",
    "\n",
    "s = socket.socket(socket.AF_INET, socket.SOCK_STREAM)\n",
    "s.connect((ip, port))\n",
    "\n",
    "# sending data\n",
    "message = 'hello world '.encode()\n",
    "print('sending data : ', message)\n",
    "len_sent = s.send(message)\n",
    "\n",
    "# receive res\n",
    "response = s.recv(1024)\n",
    "print('response from server: ', response)\n",
    "\n",
    "server.shutdown()\n",
    "s.close()\n",
    "server.socket.close()"
   ]
  },
  {
   "cell_type": "code",
   "execution_count": null,
   "metadata": {},
   "outputs": [],
   "source": []
  }
 ],
 "metadata": {
  "kernelspec": {
   "display_name": "Python 3",
   "language": "python",
   "name": "python3"
  },
  "language_info": {
   "codemirror_mode": {
    "name": "ipython",
    "version": 3
   },
   "file_extension": ".py",
   "mimetype": "text/x-python",
   "name": "python",
   "nbconvert_exporter": "python",
   "pygments_lexer": "ipython3",
   "version": "3.6.6"
  }
 },
 "nbformat": 4,
 "nbformat_minor": 2
}
