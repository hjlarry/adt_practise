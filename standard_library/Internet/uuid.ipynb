{
 "cells": [
  {
   "cell_type": "code",
   "execution_count": 2,
   "metadata": {},
   "outputs": [
    {
     "name": "stdout",
     "output_type": "stream",
     "text": [
      "0x38c9863e3a14\n"
     ]
    }
   ],
   "source": [
    "import uuid\n",
    "\n",
    "# getnode会获取当前系统的MAC地址\n",
    "print(hex(uuid.getnode()))"
   ]
  },
  {
   "cell_type": "code",
   "execution_count": 6,
   "metadata": {},
   "outputs": [
    {
     "name": "stdout",
     "output_type": "stream",
     "text": [
      "320f86d8-d1dc-11e8-a154-38c9863e3a14\n",
      "<class 'uuid.UUID'>\n",
      "b'2\\x0f\\x86\\xd8\\xd1\\xdc\\x11\\xe8\\xa1T8\\xc9\\x86>:\\x14'\n",
      "320f86d8d1dc11e8a15438c9863e3a14\n",
      "66542019263242223769028190238962235924\n",
      "urn:uuid:320f86d8-d1dc-11e8-a154-38c9863e3a14\n",
      "specified in RFC 4122\n",
      "1\n",
      "(839878360, 53724, 4584, 161, 84, 62438191806996)\n",
      "839878360\n",
      "53724\n",
      "4584\n",
      "161\n",
      "84\n",
      "62438191806996\n",
      "137590532297688792\n",
      "8532\n"
     ]
    }
   ],
   "source": [
    "u = uuid.uuid1()\n",
    "print(u)\n",
    "print(type(u))\n",
    "print(repr(u.bytes))\n",
    "print(u.hex)\n",
    "print(u.int)\n",
    "print(u.urn)\n",
    "print(u.variant)\n",
    "print(u.version)\n",
    "print(u.fields)\n",
    "print(u.time_low)\n",
    "print(u.time_mid)\n",
    "print(u.time_hi_version)\n",
    "print(u.clock_seq_hi_variant)\n",
    "print(u.clock_seq_low)\n",
    "print(u.node)\n",
    "print(u.time)\n",
    "print(u.clock_seq)"
   ]
  },
  {
   "cell_type": "code",
   "execution_count": 9,
   "metadata": {},
   "outputs": [
    {
     "name": "stdout",
     "output_type": "stream",
     "text": [
      "www.baidu.com\n",
      "MD5: 21aa3105-dfd8-3bca-ab6b-64ea70ff0847\n",
      "SHA-1: 41b0ac12-a668-57f8-9471-4bc149b12778\n",
      "blog.baidu.com\n",
      "MD5: 91bd34b5-7e61-3f19-b8c3-75c41a85d5bd\n",
      "SHA-1: 1d5a055b-0f9d-59bf-a2e3-36fe1abc3ff6\n"
     ]
    }
   ],
   "source": [
    "hostnames = ['www.baidu.com', 'blog.baidu.com']\n",
    "for name in hostnames:\n",
    "    print(name)\n",
    "    print('MD5:', uuid.uuid3(uuid.NAMESPACE_DNS, name))\n",
    "    print('SHA-1:', uuid.uuid5(uuid.NAMESPACE_DNS, name))"
   ]
  },
  {
   "cell_type": "code",
   "execution_count": 10,
   "metadata": {},
   "outputs": [
    {
     "data": {
      "text/plain": [
       "UUID('a341e35d-ebfe-45cb-b028-5e763d5b3d75')"
      ]
     },
     "execution_count": 10,
     "metadata": {},
     "output_type": "execute_result"
    }
   ],
   "source": [
    "uuid.uuid4()"
   ]
  },
  {
   "cell_type": "markdown",
   "metadata": {},
   "source": [
    "uuid1()为主机生成一个由它的 MAC 地址标明的 UUID ，由于含有时间组成部分，每一次调用 uuid1() 都返回一个新的值。  \n",
    "UUID 版本3和5声明使用基于加密哈希值（MD5 或者 SHA-1）将名称空间的特定种子值与名称组合在一起。  \n",
    "在 UUID 作为被用作哈希键的情况下，一个更具有区别性随机序列值才能够更加容易避免哈希碰撞。可使用 uuid4() 生成。"
   ]
  },
  {
   "cell_type": "code",
   "execution_count": 11,
   "metadata": {},
   "outputs": [
    {
     "name": "stdout",
     "output_type": "stream",
     "text": [
      "input_values\n",
      "  urn:uuid:f2f84497-b3bf-493a-bba9-7c68e6def80b\n",
      "  {417a5ebb-01f7-4ed5-aeac-3d56cd5037b0}\n",
      "  2115773a-5bf1-11dd-ab48-001ec200d9e0\n",
      "\n",
      "converted to uuids\n",
      "  f2f84497-b3bf-493a-bba9-7c68e6def80b\n",
      "  417a5ebb-01f7-4ed5-aeac-3d56cd5037b0\n",
      "  2115773a-5bf1-11dd-ab48-001ec200d9e0\n",
      "\n",
      "sorted\n",
      "  2115773a-5bf1-11dd-ab48-001ec200d9e0\n",
      "  417a5ebb-01f7-4ed5-aeac-3d56cd5037b0\n",
      "  f2f84497-b3bf-493a-bba9-7c68e6def80b\n",
      "\n"
     ]
    }
   ],
   "source": [
    "def show(msg, l):\n",
    "    print(msg)\n",
    "    for v in l:\n",
    "        print(' ', v)\n",
    "    print()\n",
    "\n",
    "input_values = [\n",
    "    'urn:uuid:f2f84497-b3bf-493a-bba9-7c68e6def80b',\n",
    "    '{417a5ebb-01f7-4ed5-aeac-3d56cd5037b0}',\n",
    "    '2115773a-5bf1-11dd-ab48-001ec200d9e0',\n",
    "]\n",
    "\n",
    "show('input_values', input_values)\n",
    "\n",
    "uuids = [uuid.UUID(s) for s in input_values]\n",
    "show('converted to uuids', uuids)\n",
    "\n",
    "uuids.sort()\n",
    "show('sorted', uuids)"
   ]
  },
  {
   "cell_type": "code",
   "execution_count": null,
   "metadata": {},
   "outputs": [],
   "source": []
  }
 ],
 "metadata": {
  "kernelspec": {
   "display_name": "Python 3",
   "language": "python",
   "name": "python3"
  },
  "language_info": {
   "codemirror_mode": {
    "name": "ipython",
    "version": 3
   },
   "file_extension": ".py",
   "mimetype": "text/x-python",
   "name": "python",
   "nbconvert_exporter": "python",
   "pygments_lexer": "ipython3",
   "version": "3.6.5"
  }
 },
 "nbformat": 4,
 "nbformat_minor": 2
}
