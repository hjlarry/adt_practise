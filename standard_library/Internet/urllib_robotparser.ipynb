{
 "cells": [
  {
   "cell_type": "code",
   "execution_count": 3,
   "metadata": {},
   "outputs": [],
   "source": [
    "from urllib import parse\n",
    "from urllib import robotparser\n",
    "\n",
    "URL_BASE = 'http://pymotw.com'\n",
    "AGENT_NAME = 'PyMOTW'\n",
    "parser = robotparser.RobotFileParser()\n",
    "parser.set_url(parse.urljoin(URL_BASE, 'robots.txt'))\n",
    "parser.read()"
   ]
  },
  {
   "cell_type": "code",
   "execution_count": 7,
   "metadata": {},
   "outputs": [
    {
     "name": "stdout",
     "output_type": "stream",
     "text": [
      "True\n",
      "True\n",
      "False\n",
      "False\n",
      "True\n",
      "True\n",
      "False\n",
      "False\n"
     ]
    }
   ],
   "source": [
    "print(parser.can_fetch(AGENT_NAME, '/'))\n",
    "print(parser.can_fetch(AGENT_NAME, '/PyMOTW'))\n",
    "print(parser.can_fetch(AGENT_NAME, '/admin/'))\n",
    "print(parser.can_fetch(AGENT_NAME, '/downloads/sjjdsf.zip'))\n",
    "print(parser.can_fetch(AGENT_NAME, 'http://pymotw.com/'))\n",
    "print(parser.can_fetch(AGENT_NAME, 'http://pymotw.com/PyMOTW'))\n",
    "print(parser.can_fetch(AGENT_NAME, 'http://pymotw.com/admin/'))\n",
    "print(parser.can_fetch(AGENT_NAME, 'http://pymotw.com/downloads/sjjdsf.zip'))"
   ]
  },
  {
   "cell_type": "code",
   "execution_count": null,
   "metadata": {},
   "outputs": [],
   "source": []
  }
 ],
 "metadata": {
  "kernelspec": {
   "display_name": "Python 3",
   "language": "python",
   "name": "python3"
  },
  "language_info": {
   "codemirror_mode": {
    "name": "ipython",
    "version": 3
   },
   "file_extension": ".py",
   "mimetype": "text/x-python",
   "name": "python",
   "nbconvert_exporter": "python",
   "pygments_lexer": "ipython3",
   "version": "3.6.4"
  }
 },
 "nbformat": 4,
 "nbformat_minor": 2
}
