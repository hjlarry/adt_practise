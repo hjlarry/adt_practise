{
 "cells": [
  {
   "cell_type": "code",
   "execution_count": 2,
   "metadata": {},
   "outputs": [
    {
     "name": "stdout",
     "output_type": "stream",
     "text": [
      "before encode length: 1822\n",
      "expected 2 padding bytes\n",
      "after encode length: 2432\n",
      "b'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'\n"
     ]
    }
   ],
   "source": [
    "import base64\n",
    "import textwrap\n",
    "\n",
    "with open('urllib_robotparser.ipynb','r' ,encoding='utf-8') as f:\n",
    "    raw = f.read()\n",
    "    \n",
    "byte_string = raw.encode('utf-8')\n",
    "encoded = base64.b64encode(byte_string)\n",
    "num_init = len(byte_string)\n",
    "\n",
    "# 填充字节不超过两个\n",
    "padding = 3 - num_init % 3\n",
    "\n",
    "print(\"before encode length:\", num_init)\n",
    "print(f\"expected {padding} padding bytes\")\n",
    "print(\"after encode length:\", len(encoded))\n",
    "\n",
    "print(encoded)"
   ]
  },
  {
   "cell_type": "code",
   "execution_count": 3,
   "metadata": {},
   "outputs": [
    {
     "name": "stdout",
     "output_type": "stream",
     "text": [
      "b'This is the data, in the clear.'\n"
     ]
    }
   ],
   "source": [
    "encoded_data = b'VGhpcyBpcyB0aGUgZGF0YSwgaW4gdGhlIGNsZWFyLg=='\n",
    "\n",
    "decoded = base64.b64decode(encoded_data)\n",
    "print(decoded)"
   ]
  },
  {
   "cell_type": "code",
   "execution_count": null,
   "metadata": {},
   "outputs": [],
   "source": []
  }
 ],
 "metadata": {
  "kernelspec": {
   "display_name": "Python 3",
   "language": "python",
   "name": "python3"
  },
  "language_info": {
   "codemirror_mode": {
    "name": "ipython",
    "version": 3
   },
   "file_extension": ".py",
   "mimetype": "text/x-python",
   "name": "python",
   "nbconvert_exporter": "python",
   "pygments_lexer": "ipython3",
   "version": "3.6.4"
  }
 },
 "nbformat": 4,
 "nbformat_minor": 2
}
