{
 "cells": [
  {
   "cell_type": "markdown",
   "metadata": {},
   "source": [
    "base64 ， base32 ， base16 和 base85 编码将 8 位的单字节转换成 ASCII 范围内可打印的字符值，来兼容那些只支持 ASCII 编码数据的系统，代价是使用更多的位来表示数据"
   ]
  },
  {
   "cell_type": "code",
   "execution_count": 1,
   "metadata": {},
   "outputs": [
    {
     "name": "stdout",
     "output_type": "stream",
     "text": [
      "before encode length: 1822\n",
      "expected 2 padding bytes\n",
      "after encode length: 2432\n",
      "b'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'\n"
     ]
    }
   ],
   "source": [
    "import base64\n",
    "import textwrap\n",
    "\n",
    "with open('urllib_robotparser.ipynb','r' ,encoding='utf-8') as f:\n",
    "    raw = f.read()\n",
    "    \n",
    "byte_string = raw.encode('utf-8')\n",
    "encoded = base64.b64encode(byte_string)\n",
    "num_init = len(byte_string)\n",
    "\n",
    "# 填充字节不超过两个\n",
    "padding = 3 - num_init % 3\n",
    "\n",
    "print(\"before encode length:\", num_init)\n",
    "print(f\"expected {padding} padding bytes\")\n",
    "print(\"after encode length:\", len(encoded))\n",
    "\n",
    "print(encoded)"
   ]
  },
  {
   "cell_type": "code",
   "execution_count": 3,
   "metadata": {},
   "outputs": [
    {
     "name": "stdout",
     "output_type": "stream",
     "text": [
      "b'This is the data, in the clear.'\n"
     ]
    }
   ],
   "source": [
    "encoded_data = b'VGhpcyBpcyB0aGUgZGF0YSwgaW4gdGhlIGNsZWFyLg=='\n",
    "\n",
    "decoded = base64.b64decode(encoded_data)\n",
    "print(decoded)"
   ]
  },
  {
   "cell_type": "markdown",
   "metadata": {},
   "source": [
    "由于默认的 base64 字母表包含 + 和 / 这两个字符，而它们在 URLs 中也会被用到，因此有必要采用另一种编码方式来替换这些字符。"
   ]
  },
  {
   "cell_type": "code",
   "execution_count": 2,
   "metadata": {},
   "outputs": [],
   "source": [
    "encodes_with_pluses = b'\\xfb\\xef'\n",
    "encodes_with_slashes = b'\\xff\\xff'"
   ]
  },
  {
   "cell_type": "code",
   "execution_count": 3,
   "metadata": {},
   "outputs": [
    {
     "name": "stdout",
     "output_type": "stream",
     "text": [
      "b'++8='\n",
      "b'--8='\n"
     ]
    }
   ],
   "source": [
    "print(base64.standard_b64encode(encodes_with_pluses))\n",
    "print(base64.urlsafe_b64encode(encodes_with_pluses))"
   ]
  },
  {
   "cell_type": "code",
   "execution_count": 4,
   "metadata": {},
   "outputs": [
    {
     "name": "stdout",
     "output_type": "stream",
     "text": [
      "b'//8='\n",
      "b'__8='\n"
     ]
    }
   ],
   "source": [
    "print(base64.standard_b64encode(encodes_with_slashes))\n",
    "print(base64.urlsafe_b64encode(encodes_with_slashes))"
   ]
  },
  {
   "cell_type": "code",
   "execution_count": 8,
   "metadata": {},
   "outputs": [
    {
     "name": "stdout",
     "output_type": "stream",
     "text": [
      "b'KRUGS4ZANFZSA5DIMUQGIYLUMEWCA2LOEB2GQZJAMNWGKYLSFY======'\n",
      "b'This is the data, in the clear.'\n",
      "56\n"
     ]
    }
   ],
   "source": [
    "ori_data = b'This is the data, in the clear.'\n",
    "encoded = base64.b32encode(ori_data)\n",
    "decoded = base64.b32decode(encoded)\n",
    "print(encoded)\n",
    "print(decoded)\n",
    "print(len(encoded))"
   ]
  },
  {
   "cell_type": "code",
   "execution_count": 9,
   "metadata": {},
   "outputs": [
    {
     "name": "stdout",
     "output_type": "stream",
     "text": [
      "b'546869732069732074686520646174612C20696E2074686520636C6561722E'\n",
      "b'This is the data, in the clear.'\n",
      "62\n"
     ]
    }
   ],
   "source": [
    "encoded = base64.b16encode(ori_data)\n",
    "decoded = base64.b16decode(encoded)\n",
    "print(encoded)\n",
    "print(decoded)\n",
    "print(len(encoded))"
   ]
  },
  {
   "cell_type": "code",
   "execution_count": 10,
   "metadata": {},
   "outputs": [
    {
     "name": "stdout",
     "output_type": "stream",
     "text": [
      "b'RA^~)AZc?TbZBKDWMOn+EFfuaAarPDAY*K0VR9}'\n",
      "b'This is the data, in the clear.'\n",
      "39\n"
     ]
    }
   ],
   "source": [
    "encoded = base64.b85encode(ori_data)\n",
    "decoded = base64.b85decode(encoded)\n",
    "print(encoded)\n",
    "print(decoded)\n",
    "print(len(encoded))"
   ]
  },
  {
   "cell_type": "code",
   "execution_count": null,
   "metadata": {},
   "outputs": [],
   "source": []
  }
 ],
 "metadata": {
  "kernelspec": {
   "display_name": "Python 3",
   "language": "python",
   "name": "python3"
  },
  "language_info": {
   "codemirror_mode": {
    "name": "ipython",
    "version": 3
   },
   "file_extension": ".py",
   "mimetype": "text/x-python",
   "name": "python",
   "nbconvert_exporter": "python",
   "pygments_lexer": "ipython3",
   "version": "3.6.5"
  }
 },
 "nbformat": 4,
 "nbformat_minor": 2
}
