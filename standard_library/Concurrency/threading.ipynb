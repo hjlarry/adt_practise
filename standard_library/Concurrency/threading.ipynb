{
 "cells": [
  {
   "cell_type": "markdown",
   "metadata": {},
   "source": [
    "使用线程允许一个程序在同一个进程空间中并发运行多个操作。"
   ]
  },
  {
   "cell_type": "code",
   "execution_count": 8,
   "metadata": {},
   "outputs": [
    {
     "name": "stdout",
     "output_type": "stream",
     "text": [
      "Worker 0\n",
      "Thread-39\n",
      "Worker 1\n",
      "Worker 2Thread-40Worker 3\n",
      "Thread-41\n",
      "\n",
      "\n",
      "Thread-42\n",
      "Worker 4\n",
      "Thread-43\n"
     ]
    }
   ],
   "source": [
    "import threading\n",
    "\n",
    "def worker(num):\n",
    "    \"\"\"thread worker function\"\"\"\n",
    "    print(f'Worker {num}')\n",
    "    print(threading.current_thread().getName())\n",
    "\n",
    "threads = []\n",
    "for i in range(5):\n",
    "    t = threading.Thread(target=worker, args=(i,))\n",
    "    threads.append(t)\n",
    "    t.start()"
   ]
  },
  {
   "cell_type": "code",
   "execution_count": 9,
   "metadata": {},
   "outputs": [
    {
     "name": "stderr",
     "output_type": "stream",
     "text": [
      "[DEBUG] (Thread-44 ) Starting\n",
      "[DEBUG] (Thread-45 ) Starting\n",
      "[DEBUG] (Thread-44 ) Exit\n",
      "[DEBUG] (Thread-45 ) Exit\n"
     ]
    }
   ],
   "source": [
    "import logging\n",
    "import time\n",
    "# logging 模块支持在日志信息中写入线程的名字，你可以用格式化代码 %(threadName)s 来得到它。\n",
    "def worker():\n",
    "    logging.debug('Starting')\n",
    "    time.sleep(0.2)\n",
    "    logging.debug('Exit')\n",
    "    \n",
    "def service():\n",
    "    logging.debug('Starting')\n",
    "    time.sleep(0.5)\n",
    "    logging.debug('Exit')\n",
    "    \n",
    "t1 = threading.Thread(target=worker)\n",
    "t2 = threading.Thread(target=service)\n",
    "logging.basicConfig(level=logging.DEBUG, format=\"[%(levelname)s] (%(threadName)-10s) %(message)s\")\n",
    "\n",
    "t1.start()\n",
    "t2.start()"
   ]
  },
  {
   "cell_type": "markdown",
   "metadata": {},
   "source": [
    "## 守护线程"
   ]
  },
  {
   "cell_type": "code",
   "execution_count": 15,
   "metadata": {},
   "outputs": [
    {
     "name": "stderr",
     "output_type": "stream",
     "text": [
      "[DEBUG] (daemon    ) Daemon Starting\n",
      "[DEBUG] (non-daemon) Starting\n",
      "[DEBUG] (non-daemon) Exit\n",
      "[DEBUG] (daemon    ) Daemon Exit\n"
     ]
    }
   ],
   "source": [
    "def daemon():\n",
    "    logging.debug('Daemon Starting')\n",
    "    time.sleep(0.2)\n",
    "    logging.debug('Daemon Exit')\n",
    "    \n",
    "def non_daemon():\n",
    "    logging.debug('Starting')\n",
    "    logging.debug('Exit')\n",
    "    \n",
    "t1 = threading.Thread(target=daemon, daemon=True, name='daemon')\n",
    "t2 = threading.Thread(target=non_daemon, name='non-daemon')\n",
    "logging.basicConfig(level=logging.DEBUG, format=\"[%(levelname)s] (%(threadName)-10s) %(message)s\")\n",
    "\n",
    "t1.start()\n",
    "t2.start()"
   ]
  },
  {
   "cell_type": "markdown",
   "metadata": {},
   "source": [
    "```\n",
    "➜  practise git:(master) ✗ /usr/local/opt/python3/bin/python3.6 /Users/hejl/local/practise/standard_library/test.py\n",
    "[DEBUG] (daemon    ) Daemon Starting\n",
    "[DEBUG] (non-daemon) Starting\n",
    "[DEBUG] (non-daemon) Exit\n",
    "```"
   ]
  },
  {
   "cell_type": "markdown",
   "metadata": {},
   "source": [
    "t1.join()则会使守护线程持续执行下去，join参数timeout设置后，若超时线程并未结束，则join会返回，不会继续等待。\n",
    "## 枚举所有线程"
   ]
  },
  {
   "cell_type": "code",
   "execution_count": 19,
   "metadata": {},
   "outputs": [
    {
     "name": "stderr",
     "output_type": "stream",
     "text": [
      "[DEBUG] (Thread-64 ) Daemon Starting sleep 0.30\n",
      "[DEBUG] (Thread-65 ) Daemon Starting sleep 0.20\n",
      "[DEBUG] (Thread-66 ) Daemon Starting sleep 0.30\n",
      "[DEBUG] (MainThread) Thread-2 joining\n"
     ]
    },
    {
     "name": "stdout",
     "output_type": "stream",
     "text": [
      "[<_MainThread(MainThread, started 4670985664)>, <Thread(Thread-2, started daemon 123145391505408)>, <Heartbeat(Thread-3, started daemon 123145396760576)>, <HistorySavingThread(IPythonHistorySavingThread, started 123145403088896)>, <ParentPollerUnix(Thread-1, started daemon 123145408344064)>, <Thread(Thread-64, started daemon 123145413599232)>, <Thread(Thread-65, started daemon 123145418854400)>, <Thread(Thread-66, started daemon 123145424109568)>]\n"
     ]
    },
    {
     "name": "stderr",
     "output_type": "stream",
     "text": [
      "[DEBUG] (Thread-65 ) Daemon Exit\n",
      "[DEBUG] (Thread-64 ) Daemon Exit\n",
      "[DEBUG] (Thread-66 ) Daemon Exit\n"
     ]
    },
    {
     "ename": "KeyboardInterrupt",
     "evalue": "",
     "output_type": "error",
     "traceback": [
      "\u001b[0;31m---------------------------------------------------------------------------\u001b[0m",
      "\u001b[0;31mKeyboardInterrupt\u001b[0m                         Traceback (most recent call last)",
      "\u001b[0;32m<ipython-input-19-2d4028a169b1>\u001b[0m in \u001b[0;36m<module>\u001b[0;34m()\u001b[0m\n\u001b[1;32m     19\u001b[0m         \u001b[0;32mcontinue\u001b[0m\u001b[0;34m\u001b[0m\u001b[0m\n\u001b[1;32m     20\u001b[0m     \u001b[0mlogging\u001b[0m\u001b[0;34m.\u001b[0m\u001b[0mdebug\u001b[0m\u001b[0;34m(\u001b[0m\u001b[0;34m'%s joining'\u001b[0m \u001b[0;34m,\u001b[0m \u001b[0mt\u001b[0m\u001b[0;34m.\u001b[0m\u001b[0mgetName\u001b[0m\u001b[0;34m(\u001b[0m\u001b[0;34m)\u001b[0m\u001b[0;34m)\u001b[0m\u001b[0;34m\u001b[0m\u001b[0m\n\u001b[0;32m---> 21\u001b[0;31m     \u001b[0mt\u001b[0m\u001b[0;34m.\u001b[0m\u001b[0mjoin\u001b[0m\u001b[0;34m(\u001b[0m\u001b[0;34m)\u001b[0m\u001b[0;34m\u001b[0m\u001b[0m\n\u001b[0m",
      "\u001b[0;32m/usr/local/Cellar/python3/3.6.4_1/Frameworks/Python.framework/Versions/3.6/lib/python3.6/threading.py\u001b[0m in \u001b[0;36mjoin\u001b[0;34m(self, timeout)\u001b[0m\n\u001b[1;32m   1054\u001b[0m \u001b[0;34m\u001b[0m\u001b[0m\n\u001b[1;32m   1055\u001b[0m         \u001b[0;32mif\u001b[0m \u001b[0mtimeout\u001b[0m \u001b[0;32mis\u001b[0m \u001b[0;32mNone\u001b[0m\u001b[0;34m:\u001b[0m\u001b[0;34m\u001b[0m\u001b[0m\n\u001b[0;32m-> 1056\u001b[0;31m             \u001b[0mself\u001b[0m\u001b[0;34m.\u001b[0m\u001b[0m_wait_for_tstate_lock\u001b[0m\u001b[0;34m(\u001b[0m\u001b[0;34m)\u001b[0m\u001b[0;34m\u001b[0m\u001b[0m\n\u001b[0m\u001b[1;32m   1057\u001b[0m         \u001b[0;32melse\u001b[0m\u001b[0;34m:\u001b[0m\u001b[0;34m\u001b[0m\u001b[0m\n\u001b[1;32m   1058\u001b[0m             \u001b[0;31m# the behavior of a negative timeout isn't documented, but\u001b[0m\u001b[0;34m\u001b[0m\u001b[0;34m\u001b[0m\u001b[0m\n",
      "\u001b[0;32m/usr/local/Cellar/python3/3.6.4_1/Frameworks/Python.framework/Versions/3.6/lib/python3.6/threading.py\u001b[0m in \u001b[0;36m_wait_for_tstate_lock\u001b[0;34m(self, block, timeout)\u001b[0m\n\u001b[1;32m   1070\u001b[0m         \u001b[0;32mif\u001b[0m \u001b[0mlock\u001b[0m \u001b[0;32mis\u001b[0m \u001b[0;32mNone\u001b[0m\u001b[0;34m:\u001b[0m  \u001b[0;31m# already determined that the C code is done\u001b[0m\u001b[0;34m\u001b[0m\u001b[0m\n\u001b[1;32m   1071\u001b[0m             \u001b[0;32massert\u001b[0m \u001b[0mself\u001b[0m\u001b[0;34m.\u001b[0m\u001b[0m_is_stopped\u001b[0m\u001b[0;34m\u001b[0m\u001b[0m\n\u001b[0;32m-> 1072\u001b[0;31m         \u001b[0;32melif\u001b[0m \u001b[0mlock\u001b[0m\u001b[0;34m.\u001b[0m\u001b[0macquire\u001b[0m\u001b[0;34m(\u001b[0m\u001b[0mblock\u001b[0m\u001b[0;34m,\u001b[0m \u001b[0mtimeout\u001b[0m\u001b[0;34m)\u001b[0m\u001b[0;34m:\u001b[0m\u001b[0;34m\u001b[0m\u001b[0m\n\u001b[0m\u001b[1;32m   1073\u001b[0m             \u001b[0mlock\u001b[0m\u001b[0;34m.\u001b[0m\u001b[0mrelease\u001b[0m\u001b[0;34m(\u001b[0m\u001b[0;34m)\u001b[0m\u001b[0;34m\u001b[0m\u001b[0m\n\u001b[1;32m   1074\u001b[0m             \u001b[0mself\u001b[0m\u001b[0;34m.\u001b[0m\u001b[0m_stop\u001b[0m\u001b[0;34m(\u001b[0m\u001b[0;34m)\u001b[0m\u001b[0;34m\u001b[0m\u001b[0m\n",
      "\u001b[0;31mKeyboardInterrupt\u001b[0m: "
     ]
    }
   ],
   "source": [
    "import random\n",
    "\n",
    "def worker():\n",
    "    pause = random.randint(1,5)/10\n",
    "    logging.debug('Daemon Starting sleep %0.2f', pause)\n",
    "    time.sleep(pause)\n",
    "    logging.debug('Daemon Exit')\n",
    "    \n",
    "logging.basicConfig(level=logging.DEBUG, format=\"[%(levelname)s] (%(threadName)-10s) %(message)s\")\n",
    "for i in range(3):\n",
    "    t = threading.Thread(target=worker, daemon=True)\n",
    "    t.start()\n",
    "    \n",
    "main_thread = threading.main_thread()\n",
    "\n",
    "print(threading.enumerate())\n",
    "for t in threading.enumerate():\n",
    "    if t is main_thread:\n",
    "        continue\n",
    "    logging.debug('%s joining' , t.getName())\n",
    "    t.join()"
   ]
  },
  {
   "cell_type": "code",
   "execution_count": null,
   "metadata": {},
   "outputs": [],
   "source": []
  }
 ],
 "metadata": {
  "kernelspec": {
   "display_name": "Python 3",
   "language": "python",
   "name": "python3"
  },
  "language_info": {
   "codemirror_mode": {
    "name": "ipython",
    "version": 3
   },
   "file_extension": ".py",
   "mimetype": "text/x-python",
   "name": "python",
   "nbconvert_exporter": "python",
   "pygments_lexer": "ipython3",
   "version": "3.6.4"
  }
 },
 "nbformat": 4,
 "nbformat_minor": 2
}
