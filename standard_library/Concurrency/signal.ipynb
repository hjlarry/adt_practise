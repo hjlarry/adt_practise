{
 "cells": [
  {
   "cell_type": "markdown",
   "metadata": {},
   "source": [
    "信号是一种操作系统的功能，它提供了一种通知事件程序并使其异步处理的方法。\n",
    "## 接收信号"
   ]
  },
  {
   "cell_type": "code",
   "execution_count": 4,
   "metadata": {},
   "outputs": [
    {
     "name": "stdout",
     "output_type": "stream",
     "text": [
      "My pid is  3277\n",
      "wating...\n",
      "wating...\n",
      "Received: 31\n",
      "wating...\n",
      "Received: 31\n",
      "wating...\n"
     ]
    },
    {
     "ename": "KeyboardInterrupt",
     "evalue": "",
     "output_type": "error",
     "traceback": [
      "\u001b[0;31m---------------------------------------------------------------------------\u001b[0m",
      "\u001b[0;31mKeyboardInterrupt\u001b[0m                         Traceback (most recent call last)",
      "\u001b[0;32m<ipython-input-4-dd9bf823dff2>\u001b[0m in \u001b[0;36m<module>\u001b[0;34m()\u001b[0m\n\u001b[1;32m     12\u001b[0m \u001b[0;32mwhile\u001b[0m \u001b[0;32mTrue\u001b[0m\u001b[0;34m:\u001b[0m\u001b[0;34m\u001b[0m\u001b[0m\n\u001b[1;32m     13\u001b[0m     \u001b[0mprint\u001b[0m\u001b[0;34m(\u001b[0m\u001b[0;34m'wating...'\u001b[0m\u001b[0;34m)\u001b[0m\u001b[0;34m\u001b[0m\u001b[0m\n\u001b[0;32m---> 14\u001b[0;31m     \u001b[0mtime\u001b[0m\u001b[0;34m.\u001b[0m\u001b[0msleep\u001b[0m\u001b[0;34m(\u001b[0m\u001b[0;36m3\u001b[0m\u001b[0;34m)\u001b[0m\u001b[0;34m\u001b[0m\u001b[0m\n\u001b[0m",
      "\u001b[0;31mKeyboardInterrupt\u001b[0m: "
     ]
    }
   ],
   "source": [
    "import signal\n",
    "import os\n",
    "import time\n",
    "\n",
    "def receive_signal(signum, stack):\n",
    "    print('Received:', signum)\n",
    "    \n",
    "signal.signal(signal.SIGUSR1, receive_signal)\n",
    "signal.signal(signal.SIGUSR2, receive_signal)\n",
    "\n",
    "print('My pid is ', os.getpid())\n",
    "while True:\n",
    "    print('wating...')\n",
    "    time.sleep(3)"
   ]
  },
  {
   "cell_type": "markdown",
   "metadata": {},
   "source": [
    "在另一个窗口中运行\n",
    "```\n",
    "$ kill -USR1 $pid\n",
    "$ kill -USR2 $pid\n",
    "$ kill -INT $pid\n",
    "```\n",
    "\n",
    "## 检索注册的信号处理器"
   ]
  },
  {
   "cell_type": "code",
   "execution_count": 5,
   "metadata": {},
   "outputs": [
    {
     "name": "stdout",
     "output_type": "stream",
     "text": [
      "SIGHUP     ( 1) : SIG_DFL\n",
      "SIGINT     ( 2) : <built-in function default_int_handler>\n",
      "SIGQUIT    ( 3) : SIG_DFL\n",
      "SIGILL     ( 4) : SIG_DFL\n",
      "SIGTRAP    ( 5) : SIG_DFL\n",
      "SIGIOT     ( 6) : SIG_DFL\n",
      "SIGEMT     ( 7) : SIG_DFL\n",
      "SIGFPE     ( 8) : SIG_DFL\n",
      "SIGKILL    ( 9) : None\n",
      "SIGBUS     (10) : SIG_DFL\n",
      "SIGSEGV    (11) : SIG_DFL\n",
      "SIGSYS     (12) : SIG_DFL\n",
      "SIGPIPE    (13) : SIG_IGN\n",
      "SIGALRM    (14) : <function alarm_received at 0x10a4f3b70>\n",
      "SIGTERM    (15) : SIG_DFL\n",
      "SIGURG     (16) : SIG_DFL\n",
      "SIGSTOP    (17) : None\n",
      "SIGTSTP    (18) : SIG_DFL\n",
      "SIGCONT    (19) : SIG_DFL\n",
      "SIGCHLD    (20) : SIG_DFL\n",
      "SIGTTIN    (21) : SIG_DFL\n",
      "SIGTTOU    (22) : SIG_DFL\n",
      "SIGIO      (23) : SIG_DFL\n",
      "SIGXCPU    (24) : SIG_DFL\n",
      "SIGXFSZ    (25) : SIG_IGN\n",
      "SIGVTALRM  (26) : SIG_DFL\n",
      "SIGPROF    (27) : SIG_DFL\n",
      "SIGWINCH   (28) : SIG_DFL\n",
      "SIGINFO    (29) : SIG_DFL\n",
      "SIGUSR1    (30) : <function receive_signal at 0x10a4f3c80>\n",
      "SIGUSR2    (31) : <function receive_signal at 0x10a4f3c80>\n"
     ]
    }
   ],
   "source": [
    "def alarm_received(n, stack):\n",
    "    return\n",
    "signal.signal(signal.SIGALRM, alarm_received)\n",
    "signals_to_names = {getattr(signal, n): n for n in dir(signal) if n.startswith('SIG') and '_' not in n}\n",
    "for s, name in sorted(signals_to_names.items()):\n",
    "    handler = signal.getsignal(s)\n",
    "    if handler is signal.SIG_DFL:\n",
    "        handler = 'SIG_DFL'\n",
    "    elif handler is signal.SIG_IGN:\n",
    "        handler = 'SIG_IGN'\n",
    "    print(f\"{name:<10} ({s:2d}) :\", handler)"
   ]
  },
  {
   "cell_type": "markdown",
   "metadata": {},
   "source": [
    "使用 getsignal() 函数可以查看某个信号注册了哪个信号处理器。传入信号编号作为参数，返回值是注册的信号处理器，或者特殊值 SIG_IGN （如果信号被忽略），SIG_DFL（默认信号处理行为），或者 None （如果存在的信号处理器是从 C 注册的）。\n",
    "\n",
    "发送信号的函数是os.kill()。\n",
    "\n",
    "## 警报\n",
    "警报是一种特殊的信号，程序要求操作系统在一段时间之后再去通知它。"
   ]
  },
  {
   "cell_type": "code",
   "execution_count": 21,
   "metadata": {},
   "outputs": [
    {
     "name": "stdout",
     "output_type": "stream",
     "text": [
      "Before: Wed Sep 26 11:07:15 2018\n",
      "14\n",
      "Alarm : Wed Sep 26 11:07:18 2018\n",
      "After: Wed Sep 26 11:07:21 2018\n"
     ]
    }
   ],
   "source": [
    "import time\n",
    "def receive_alarm(signum, stack):\n",
    "    print(signum)\n",
    "    time.sleep(1)\n",
    "    print('Alarm :', time.ctime())\n",
    "\n",
    "signal.signal(signal.SIGALRM, receive_alarm)\n",
    "signal.alarm(2)\n",
    "print('Before:', time.ctime())\n",
    "time.sleep(6)  # 调用过程中信号进入执行\n",
    "print('After:', time.ctime())"
   ]
  },
  {
   "cell_type": "markdown",
   "metadata": {},
   "source": [
    "## 忽略信号"
   ]
  },
  {
   "cell_type": "code",
   "execution_count": 11,
   "metadata": {},
   "outputs": [
    {
     "name": "stdout",
     "output_type": "stream",
     "text": [
      "My PID: 3277\n"
     ]
    },
    {
     "ename": "SystemExit",
     "evalue": "Exiting",
     "output_type": "error",
     "traceback": [
      "An exception has occurred, use %tb to see the full traceback.\n",
      "\u001b[0;31mSystemExit\u001b[0m\u001b[0;31m:\u001b[0m Exiting\n"
     ]
    },
    {
     "name": "stderr",
     "output_type": "stream",
     "text": [
      "/usr/local/lib/python3.6/site-packages/IPython/core/interactiveshell.py:2918: UserWarning: To exit: use 'exit', 'quit', or Ctrl-D.\n",
      "  warn(\"To exit: use 'exit', 'quit', or Ctrl-D.\", stacklevel=1)\n"
     ]
    }
   ],
   "source": [
    "def do_exit(sig, stack):\n",
    "    raise SystemExit('Exiting')\n",
    "    \n",
    "signal.signal(signal.SIGINT, signal.SIG_IGN)\n",
    "signal.signal(signal.SIGUSR1, do_exit)\n",
    "\n",
    "print('My PID:', os.getpid())\n",
    "signal.pause()"
   ]
  },
  {
   "cell_type": "markdown",
   "metadata": {},
   "source": [
    "正常的 SIGINT （通过 Ctrl-C 由shell 发送给 程序的信号）会引发 KeyboardInterrupt。 这个例子中忽略了 SIGINT 然而当接收到信号 SIGUSR1 时会引起 SystemExit"
   ]
  },
  {
   "cell_type": "markdown",
   "metadata": {},
   "source": [
    "## 信号和线程\n",
    "信号和线程通常不会很好结合在一起，因为只有进程的主线程才会接受信号。下列的例子设置了一个信号处理方法，在一个线程中等待信号到达，然后从另一个线程中发送信号。"
   ]
  },
  {
   "cell_type": "code",
   "execution_count": 22,
   "metadata": {},
   "outputs": [
    {
     "name": "stdout",
     "output_type": "stream",
     "text": [
      "Wait for signal in  receiver\n",
      "Sending signal in  sender\n",
      "Receive signal 30 in MainThread\n",
      "Waiting for  receiver\n",
      "14\n",
      "Alarm : Wed Sep 26 11:13:53 2018\n"
     ]
    },
    {
     "ename": "KeyboardInterrupt",
     "evalue": "",
     "output_type": "error",
     "traceback": [
      "\u001b[0;31m---------------------------------------------------------------------------\u001b[0m",
      "\u001b[0;31mKeyboardInterrupt\u001b[0m                         Traceback (most recent call last)",
      "\u001b[0;32m<ipython-input-22-502dfd903448>\u001b[0m in \u001b[0;36m<module>\u001b[0;34m()\u001b[0m\n\u001b[1;32m     27\u001b[0m \u001b[0mprint\u001b[0m\u001b[0;34m(\u001b[0m\u001b[0;34m'Waiting for '\u001b[0m\u001b[0;34m,\u001b[0m \u001b[0mreceiver\u001b[0m\u001b[0;34m.\u001b[0m\u001b[0mname\u001b[0m\u001b[0;34m)\u001b[0m\u001b[0;34m\u001b[0m\u001b[0m\n\u001b[1;32m     28\u001b[0m \u001b[0msignal\u001b[0m\u001b[0;34m.\u001b[0m\u001b[0malarm\u001b[0m\u001b[0;34m(\u001b[0m\u001b[0;36m2\u001b[0m\u001b[0;34m)\u001b[0m\u001b[0;34m\u001b[0m\u001b[0m\n\u001b[0;32m---> 29\u001b[0;31m \u001b[0mreceiver\u001b[0m\u001b[0;34m.\u001b[0m\u001b[0mjoin\u001b[0m\u001b[0;34m(\u001b[0m\u001b[0;34m)\u001b[0m\u001b[0;34m\u001b[0m\u001b[0m\n\u001b[0m",
      "\u001b[0;32m/usr/local/Cellar/python3/3.6.4_1/Frameworks/Python.framework/Versions/3.6/lib/python3.6/threading.py\u001b[0m in \u001b[0;36mjoin\u001b[0;34m(self, timeout)\u001b[0m\n\u001b[1;32m   1054\u001b[0m \u001b[0;34m\u001b[0m\u001b[0m\n\u001b[1;32m   1055\u001b[0m         \u001b[0;32mif\u001b[0m \u001b[0mtimeout\u001b[0m \u001b[0;32mis\u001b[0m \u001b[0;32mNone\u001b[0m\u001b[0;34m:\u001b[0m\u001b[0;34m\u001b[0m\u001b[0m\n\u001b[0;32m-> 1056\u001b[0;31m             \u001b[0mself\u001b[0m\u001b[0;34m.\u001b[0m\u001b[0m_wait_for_tstate_lock\u001b[0m\u001b[0;34m(\u001b[0m\u001b[0;34m)\u001b[0m\u001b[0;34m\u001b[0m\u001b[0m\n\u001b[0m\u001b[1;32m   1057\u001b[0m         \u001b[0;32melse\u001b[0m\u001b[0;34m:\u001b[0m\u001b[0;34m\u001b[0m\u001b[0m\n\u001b[1;32m   1058\u001b[0m             \u001b[0;31m# the behavior of a negative timeout isn't documented, but\u001b[0m\u001b[0;34m\u001b[0m\u001b[0;34m\u001b[0m\u001b[0m\n",
      "\u001b[0;32m/usr/local/Cellar/python3/3.6.4_1/Frameworks/Python.framework/Versions/3.6/lib/python3.6/threading.py\u001b[0m in \u001b[0;36m_wait_for_tstate_lock\u001b[0;34m(self, block, timeout)\u001b[0m\n\u001b[1;32m   1070\u001b[0m         \u001b[0;32mif\u001b[0m \u001b[0mlock\u001b[0m \u001b[0;32mis\u001b[0m \u001b[0;32mNone\u001b[0m\u001b[0;34m:\u001b[0m  \u001b[0;31m# already determined that the C code is done\u001b[0m\u001b[0;34m\u001b[0m\u001b[0m\n\u001b[1;32m   1071\u001b[0m             \u001b[0;32massert\u001b[0m \u001b[0mself\u001b[0m\u001b[0;34m.\u001b[0m\u001b[0m_is_stopped\u001b[0m\u001b[0;34m\u001b[0m\u001b[0m\n\u001b[0;32m-> 1072\u001b[0;31m         \u001b[0;32melif\u001b[0m \u001b[0mlock\u001b[0m\u001b[0;34m.\u001b[0m\u001b[0macquire\u001b[0m\u001b[0;34m(\u001b[0m\u001b[0mblock\u001b[0m\u001b[0;34m,\u001b[0m \u001b[0mtimeout\u001b[0m\u001b[0;34m)\u001b[0m\u001b[0;34m:\u001b[0m\u001b[0;34m\u001b[0m\u001b[0m\n\u001b[0m\u001b[1;32m   1073\u001b[0m             \u001b[0mlock\u001b[0m\u001b[0;34m.\u001b[0m\u001b[0mrelease\u001b[0m\u001b[0;34m(\u001b[0m\u001b[0;34m)\u001b[0m\u001b[0;34m\u001b[0m\u001b[0m\n\u001b[1;32m   1074\u001b[0m             \u001b[0mself\u001b[0m\u001b[0;34m.\u001b[0m\u001b[0m_stop\u001b[0m\u001b[0;34m(\u001b[0m\u001b[0;34m)\u001b[0m\u001b[0;34m\u001b[0m\u001b[0m\n",
      "\u001b[0;31mKeyboardInterrupt\u001b[0m: "
     ]
    }
   ],
   "source": [
    "import threading\n",
    "\n",
    "def signal_handler(num, stack):\n",
    "    print(f'Receive signal {num} in {threading.currentThread().name}')\n",
    "    \n",
    "signal.signal(signal.SIGUSR1, signal_handler)\n",
    "\n",
    "def wait_for_signal():\n",
    "    print('Wait for signal in ', threading.currentThread().name)\n",
    "    signal.pause()\n",
    "    print('Done waiting')\n",
    "    \n",
    "# 启动一个不会接收信号的线程\n",
    "receiver = threading.Thread(target=wait_for_signal, name='receiver')\n",
    "receiver.start()\n",
    "time.sleep(0.1)\n",
    "\n",
    "def send_signal():\n",
    "    print('Sending signal in ', threading.currentThread().name)\n",
    "    os.kill(os.getpid(), signal.SIGUSR1)\n",
    "    \n",
    "sender = threading.Thread(target=send_signal, name='sender')\n",
    "sender.start()\n",
    "sender.join()\n",
    "\n",
    "# 等待线程看到信号（不会发生）\n",
    "print('Waiting for ', receiver.name)\n",
    "signal.alarm(2)\n",
    "receiver.join()"
   ]
  },
  {
   "cell_type": "markdown",
   "metadata": {},
   "source": [
    "信号处理程序都在主线程中注册，因为这是 Python 的 signal 模块实现的要求，无论底层平台是否支持线程和信号混合开发。尽管接收线程调用了 signal.pause()，但是它不会接收到信号。脚本结束位置的 signal.alarm(2) 阻止了无限循环，否则接收者线程永远不会退出。"
   ]
  },
  {
   "cell_type": "code",
   "execution_count": 23,
   "metadata": {},
   "outputs": [
    {
     "name": "stdout",
     "output_type": "stream",
     "text": [
      "Wed Sep 26 13:47:20 2018 Seting alarm in  alarm_thread\n",
      "Wed Sep 26 13:47:20 2018 Sleep in  alarm_thread\n",
      "Wed Sep 26 13:47:20 2018 Wait for   alarm_thread\n",
      "Wed Sep 26 13:47:21 2018 Alarm in  MainThread\n",
      "Wed Sep 26 13:47:23 2018 Done with sleep  alarm_thread\n",
      "Wed Sep 26 13:47:23 2018 Exiting normally  \n"
     ]
    }
   ],
   "source": [
    "def signal_handler(num, stack):\n",
    "    print(time.ctime(), 'Alarm in ',threading.currentThread().name)\n",
    "\n",
    "signal.signal(signal.SIGALRM, signal_handler)\n",
    "\n",
    "def use_alarm():\n",
    "    t_name = threading.currentThread().name\n",
    "    print(time.ctime(), 'Seting alarm in ', t_name)\n",
    "    signal.alarm(1)\n",
    "    print(time.ctime(), 'Sleep in ', t_name)\n",
    "    time.sleep(3)\n",
    "    print(time.ctime(), 'Done with sleep ', t_name)\n",
    "    \n",
    "alarm_thread = threading.Thread(target=use_alarm, name='alarm_thread')\n",
    "alarm_thread.start()\n",
    "time.sleep(0.1)\n",
    "\n",
    "print(time.ctime(), 'Wait for  ',alarm_thread.name)\n",
    "alarm_thread.join()\n",
    "print(time.ctime(), 'Exiting normally  ')"
   ]
  },
  {
   "cell_type": "code",
   "execution_count": null,
   "metadata": {},
   "outputs": [],
   "source": []
  }
 ],
 "metadata": {
  "kernelspec": {
   "display_name": "Python 3",
   "language": "python",
   "name": "python3"
  },
  "language_info": {
   "codemirror_mode": {
    "name": "ipython",
    "version": 3
   },
   "file_extension": ".py",
   "mimetype": "text/x-python",
   "name": "python",
   "nbconvert_exporter": "python",
   "pygments_lexer": "ipython3",
   "version": "3.6.4"
  }
 },
 "nbformat": 4,
 "nbformat_minor": 2
}
