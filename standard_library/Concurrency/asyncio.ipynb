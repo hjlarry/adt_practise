{
 "cells": [
  {
   "cell_type": "markdown",
   "metadata": {},
   "source": [
    "## Starting a Coroutine"
   ]
  },
  {
   "cell_type": "code",
   "execution_count": 2,
   "metadata": {},
   "outputs": [
    {
     "name": "stdout",
     "output_type": "stream",
     "text": [
      "in coroutine\n"
     ]
    }
   ],
   "source": [
    "import asyncio\n",
    "\n",
    "async def coroutine():\n",
    "    print('in coroutine')\n",
    "    \n",
    "event_loop = asyncio.get_event_loop()\n",
    "try:\n",
    "    event_loop.run_until_complete(coroutine())\n",
    "finally:\n",
    "    event_loop.close()"
   ]
  },
  {
   "cell_type": "markdown",
   "metadata": {},
   "source": [
    "## Returning Values from Coroutines"
   ]
  },
  {
   "cell_type": "code",
   "execution_count": 3,
   "metadata": {},
   "outputs": [
    {
     "name": "stdout",
     "output_type": "stream",
     "text": [
      "in coroutine\n",
      "1234\n"
     ]
    }
   ],
   "source": [
    "import asyncio\n",
    "async def coroutine():\n",
    "    print('in coroutine')\n",
    "    return 1234\n",
    "event_loop = asyncio.get_event_loop()\n",
    "try:\n",
    "    result = event_loop.run_until_complete(coroutine())\n",
    "    print(result)\n",
    "finally:\n",
    "    event_loop.close()"
   ]
  },
  {
   "cell_type": "markdown",
   "metadata": {},
   "source": [
    "## Chaining Coroutines"
   ]
  },
  {
   "cell_type": "code",
   "execution_count": 1,
   "metadata": {},
   "outputs": [
    {
     "name": "stdout",
     "output_type": "stream",
     "text": [
      "('hahha', 'hahharecived')\n"
     ]
    }
   ],
   "source": [
    "import asyncio\n",
    "async def outter():\n",
    "    result1 = await phase1()\n",
    "    result2 = await phase2(result1)\n",
    "    return result1, result2\n",
    "    \n",
    "async def phase1():\n",
    "    return 'hahha'\n",
    "\n",
    "async def phase2(arg):\n",
    "    return arg+'recived'\n",
    "\n",
    "event_loop = asyncio.get_event_loop()\n",
    "try:\n",
    "    result = event_loop.run_until_complete(outter())\n",
    "    print(result)\n",
    "finally:\n",
    "    event_loop.close()"
   ]
  },
  {
   "cell_type": "markdown",
   "metadata": {},
   "source": [
    "## Scheduling a Callback “Soon”"
   ]
  },
  {
   "cell_type": "code",
   "execution_count": 1,
   "metadata": {},
   "outputs": [
    {
     "name": "stdout",
     "output_type": "stream",
     "text": [
      "registering callbacks\n",
      "callback with 1 and default\n",
      "callback with 2 and not_default\n"
     ]
    }
   ],
   "source": [
    "import asyncio\n",
    "import functools\n",
    "def callback(arg, *, kwargs='default'):\n",
    "    print(f\"callback with {arg} and {kwargs}\")\n",
    "    \n",
    "async def main(loop):\n",
    "    print('registering callbacks')\n",
    "    loop.call_soon(callback, 1)\n",
    "    wrapped = functools.partial(callback, kwargs='not_default')\n",
    "    loop.call_soon(wrapped, 2)\n",
    "    await asyncio.sleep(1)\n",
    "    \n",
    "event_loop = asyncio.get_event_loop()\n",
    "try:\n",
    "    event_loop.run_until_complete(main(event_loop))\n",
    "finally:\n",
    "    event_loop.close()"
   ]
  },
  {
   "cell_type": "markdown",
   "metadata": {},
   "source": [
    "## Scheduling a Callback with a Delay"
   ]
  },
  {
   "cell_type": "code",
   "execution_count": 1,
   "metadata": {},
   "outputs": [
    {
     "name": "stdout",
     "output_type": "stream",
     "text": [
      "registering callbacks\n",
      "callback with 3 \n",
      "callback with 2 \n",
      "callback with 1 \n"
     ]
    }
   ],
   "source": [
    "import asyncio\n",
    "def callback(n):\n",
    "    print(f\"callback with {n} \")\n",
    "    \n",
    "async def main(loop):\n",
    "    print('registering callbacks')\n",
    "    loop.call_later(0.2,callback, 1)\n",
    "    loop.call_later(0.1,callback, 2)\n",
    "    loop.call_soon(callback, 3)\n",
    "    await asyncio.sleep(1)\n",
    "    \n",
    "event_loop = asyncio.get_event_loop()\n",
    "try:\n",
    "    event_loop.run_until_complete(main(event_loop))\n",
    "finally:\n",
    "    event_loop.close()"
   ]
  },
  {
   "cell_type": "markdown",
   "metadata": {},
   "source": [
    "## Scheduling a Callback for a Specific Time"
   ]
  },
  {
   "cell_type": "code",
   "execution_count": 1,
   "metadata": {},
   "outputs": [
    {
     "name": "stdout",
     "output_type": "stream",
     "text": [
      "clock time  1538278157.53533\n",
      "loop time  149226.490097989\n",
      "callback with 3 at 149226.490335996 \n",
      "callback with 2 at 149226.592940694 \n",
      "callback with 1 at 149226.693366884 \n"
     ]
    }
   ],
   "source": [
    "import asyncio\n",
    "import time\n",
    "def callback(n, loop):\n",
    "    print(f\"callback with {n} at {loop.time()} \")\n",
    "    \n",
    "async def main(loop):\n",
    "    now = loop.time()\n",
    "    print('clock time ', time.time())\n",
    "    print('loop time ', now)\n",
    "    loop.call_at(0.2+now,callback, 1, loop)\n",
    "    loop.call_at(0.1+now,callback, 2, loop)\n",
    "    loop.call_soon(callback, 3, loop)\n",
    "    await asyncio.sleep(1)\n",
    "    \n",
    "event_loop = asyncio.get_event_loop()\n",
    "try:\n",
    "    event_loop.run_until_complete(main(event_loop))\n",
    "finally:\n",
    "    event_loop.close()"
   ]
  },
  {
   "cell_type": "markdown",
   "metadata": {},
   "source": [
    "## Waiting for a Future"
   ]
  },
  {
   "cell_type": "code",
   "execution_count": 1,
   "metadata": {},
   "outputs": [
    {
     "name": "stdout",
     "output_type": "stream",
     "text": [
      "scheduling mark_done\n",
      "setting future result for 'the result111'\n",
      "return result the result111\n",
      "final result  the result111\n"
     ]
    }
   ],
   "source": [
    "import asyncio\n",
    "\n",
    "def mark_done(future, result):\n",
    "    print(f\"setting future result for {result!r}\")\n",
    "    future.set_result(result)\n",
    "    \n",
    "event_loop = asyncio.get_event_loop()\n",
    "try:\n",
    "    all_done = asyncio.Future()\n",
    "    print('scheduling mark_done')\n",
    "    event_loop.call_soon(mark_done, all_done, 'the result111')\n",
    "    result = event_loop.run_until_complete(all_done)\n",
    "    print('return result',result)\n",
    "finally:\n",
    "    event_loop.close()\n",
    "print('final result ',all_done.result())"
   ]
  },
  {
   "cell_type": "code",
   "execution_count": 1,
   "metadata": {},
   "outputs": [
    {
     "name": "stdout",
     "output_type": "stream",
     "text": [
      "scheduling mark_done\n",
      "setting future result for 'the result222'\n",
      "return result the result222\n"
     ]
    }
   ],
   "source": [
    "# future with await\n",
    "import asyncio\n",
    "\n",
    "def mark_done(future, result):\n",
    "    print(f\"setting future result for {result!r}\")\n",
    "    future.set_result(result)\n",
    "    \n",
    "async def main(loop):\n",
    "    all_done = asyncio.Future()\n",
    "    print('scheduling mark_done')\n",
    "    loop.call_soon(mark_done, all_done, 'the result222')\n",
    "    result =  await all_done\n",
    "    print('return result',result)\n",
    "    \n",
    "event_loop = asyncio.get_event_loop()\n",
    "try:\n",
    "    event_loop.run_until_complete(main(event_loop))\n",
    "finally:\n",
    "    event_loop.close()"
   ]
  },
  {
   "cell_type": "markdown",
   "metadata": {},
   "source": [
    "## Future Callbacks"
   ]
  },
  {
   "cell_type": "code",
   "execution_count": 1,
   "metadata": {},
   "outputs": [
    {
     "name": "stdout",
     "output_type": "stream",
     "text": [
      "1: future done: sdasdsa\n",
      "3: future done: sdasdsa\n"
     ]
    }
   ],
   "source": [
    "import asyncio\n",
    "import functools\n",
    "\n",
    "def callback(future, n):\n",
    "    print(f\"{n}: future done: {future.result()}\")\n",
    "    \n",
    "async def reg_callbacks(all_done):\n",
    "    all_done.add_done_callback(functools.partial(callback, n=1))\n",
    "    all_done.add_done_callback(functools.partial(callback, n=3))\n",
    "    \n",
    "async def main(all_done):\n",
    "    await reg_callbacks(all_done)\n",
    "    all_done.set_result('sdasdsa')\n",
    "    \n",
    "event_loop = asyncio.get_event_loop()\n",
    "try:\n",
    "    all_done = asyncio.Future()\n",
    "    event_loop.run_until_complete(main(all_done))\n",
    "finally:\n",
    "    event_loop.close()"
   ]
  },
  {
   "cell_type": "markdown",
   "metadata": {},
   "source": [
    "## Starting a Task"
   ]
  },
  {
   "cell_type": "code",
   "execution_count": 1,
   "metadata": {},
   "outputs": [
    {
     "name": "stdout",
     "output_type": "stream",
     "text": [
      "create task\n",
      "exe task\n",
      "task_result\n"
     ]
    }
   ],
   "source": [
    "import asyncio\n",
    "    \n",
    "async def task_func():\n",
    "    print('exe task')\n",
    "    return 'task_result'\n",
    "    \n",
    "async def main(loop):\n",
    "    print('create task')\n",
    "    task = loop.create_task(task_func())\n",
    "    return_value = await task\n",
    "    print(return_value)\n",
    "    \n",
    "event_loop = asyncio.get_event_loop()\n",
    "try:\n",
    "    event_loop.run_until_complete(main(event_loop))\n",
    "finally:\n",
    "    event_loop.close()"
   ]
  },
  {
   "cell_type": "markdown",
   "metadata": {},
   "source": [
    "## Canceling a Task"
   ]
  },
  {
   "cell_type": "code",
   "execution_count": 1,
   "metadata": {},
   "outputs": [
    {
     "name": "stdout",
     "output_type": "stream",
     "text": [
      "create task\n",
      "canceled task\n"
     ]
    }
   ],
   "source": [
    "import asyncio\n",
    "    \n",
    "async def task_func():\n",
    "    print('exe task')\n",
    "    return 'task_result'\n",
    "    \n",
    "async def main(loop):\n",
    "    print('create task')\n",
    "    task = loop.create_task(task_func())\n",
    "    task.cancel()\n",
    "    try:\n",
    "        await task\n",
    "    except asyncio.CancelledError:\n",
    "        print('canceled task')\n",
    "    else:\n",
    "        print(task.result())\n",
    "    \n",
    "event_loop = asyncio.get_event_loop()\n",
    "try:\n",
    "    event_loop.run_until_complete(main(event_loop))\n",
    "finally:\n",
    "    event_loop.close()"
   ]
  },
  {
   "cell_type": "code",
   "execution_count": 1,
   "metadata": {},
   "outputs": [
    {
     "name": "stdout",
     "output_type": "stream",
     "text": [
      "create task\n",
      "in task func, sleeping\n",
      "in task_cancel\n",
      "task_cancel 2\n",
      "task_func cancelled 3\n",
      "main also cancel 4\n"
     ]
    }
   ],
   "source": [
    "import asyncio\n",
    "    \n",
    "async def task_func():\n",
    "    print('in task func, sleeping')\n",
    "    try:\n",
    "        await asyncio.sleep(1)\n",
    "    except asyncio.CancelledError:\n",
    "        print('task_func cancelled',3)\n",
    "        raise\n",
    "    return 'task_result'\n",
    "\n",
    "def task_cancel(t):\n",
    "    print('in task_cancel')\n",
    "    t.cancel()\n",
    "    print('task_cancel',2)\n",
    "    \n",
    "async def main(loop):\n",
    "    print('create task')\n",
    "    task = loop.create_task(task_func())\n",
    "    loop.call_soon(task_cancel, task)\n",
    "    try:\n",
    "        await task\n",
    "    except asyncio.CancelledError:\n",
    "        print('main also cancel',4)\n",
    "    else:\n",
    "        print(task.result())\n",
    "    \n",
    "event_loop = asyncio.get_event_loop()\n",
    "try:\n",
    "    event_loop.run_until_complete(main(event_loop))\n",
    "finally:\n",
    "    event_loop.close()"
   ]
  },
  {
   "cell_type": "markdown",
   "metadata": {},
   "source": [
    "## Creating Tasks from Coroutines"
   ]
  },
  {
   "cell_type": "code",
   "execution_count": 1,
   "metadata": {},
   "outputs": [
    {
     "name": "stdout",
     "output_type": "stream",
     "text": [
      "1\n",
      "2\n",
      "3\n",
      "4\n",
      "inner <Task pending coro=<wrapped() running at <ipython-input-1-e0a7a67b0c22>:3>>\n",
      "5\n",
      "task return  result-wrapped\n",
      "6\n"
     ]
    }
   ],
   "source": [
    "import asyncio\n",
    "\n",
    "async def wrapped():\n",
    "    print(5)\n",
    "    return 'result-wrapped'\n",
    "\n",
    "async def inner(task):\n",
    "    print(4)\n",
    "    print('inner', task)\n",
    "    result = await task\n",
    "    print('task return ', result)\n",
    "    \n",
    "async def starter():\n",
    "    print(2)\n",
    "    task = asyncio.ensure_future(wrapped())\n",
    "    print(3)\n",
    "    await inner(task)\n",
    "    print(6)\n",
    "    \n",
    "\n",
    "event_loop = asyncio.get_event_loop()\n",
    "try:\n",
    "    print(1)\n",
    "    event_loop.run_until_complete(starter())\n",
    "finally:\n",
    "    event_loop.close()"
   ]
  },
  {
   "cell_type": "markdown",
   "metadata": {},
   "source": [
    "## Waiting for Multiple Coroutines"
   ]
  },
  {
   "cell_type": "code",
   "execution_count": 1,
   "metadata": {},
   "outputs": [
    {
     "name": "stdout",
     "output_type": "stream",
     "text": [
      "1\n",
      "main start\n",
      "wait phases complete\n",
      "in phase 0\n",
      "in phase 2\n",
      "in phase 1\n",
      "done with phase 0\n",
      "done with phase 1\n",
      "done with phase 2\n",
      "['phase result 2', 'phase result 0', 'phase result 1'] 1\n"
     ]
    }
   ],
   "source": [
    "import asyncio\n",
    "\n",
    "async def phase(i):\n",
    "    print('in phase', i)\n",
    "    await asyncio.sleep(0.1*i)\n",
    "    print('done with phase', i)\n",
    "    return f\"phase result {i}\"\n",
    "\n",
    "async def main(num):\n",
    "    print('main start')\n",
    "    phases = [phase(i) for i in range(num)]\n",
    "    print('wait phases complete')\n",
    "    completed, pending = await asyncio.wait(phases)\n",
    "    results = [t.result() for t in completed]\n",
    "    print(results,1)\n",
    "    \n",
    "event_loop = asyncio.get_event_loop()\n",
    "try:\n",
    "    print(1)\n",
    "    event_loop.run_until_complete(main(3))\n",
    "finally:\n",
    "    event_loop.close()"
   ]
  },
  {
   "cell_type": "code",
   "execution_count": 1,
   "metadata": {},
   "outputs": [
    {
     "name": "stdout",
     "output_type": "stream",
     "text": [
      "1\n",
      "main start\n",
      "wait phases complete\n",
      "in phase 0\n",
      "in phase 2\n",
      "in phase 1\n",
      "done with phase 0\n",
      "1 completed, 2 pending\n",
      "to cancel tasks\n",
      "exiting main\n",
      "phase cancel 1\n",
      "phase cancel 2\n"
     ]
    }
   ],
   "source": [
    "# wait timeout\n",
    "import asyncio\n",
    "\n",
    "async def phase(i):\n",
    "    print('in phase', i)\n",
    "    try:\n",
    "        await asyncio.sleep(0.1*i)\n",
    "    except asyncio.CancelledError:\n",
    "        print('phase cancel', i)\n",
    "        raise\n",
    "    else:\n",
    "        print('done with phase', i)\n",
    "        return f\"phase result {i}\"\n",
    "\n",
    "async def main(num):\n",
    "    print('main start')\n",
    "    phases = [phase(i) for i in range(num)]\n",
    "    print('wait phases complete')\n",
    "    completed, pending = await asyncio.wait(phases, timeout=0.1)\n",
    "    print(f'{len(completed)} completed, {len(pending)} pending')\n",
    "    if pending:\n",
    "        print('to cancel tasks')\n",
    "        for t in pending:\n",
    "            t.cancel()\n",
    "    print('exiting main')\n",
    "    \n",
    "event_loop = asyncio.get_event_loop()\n",
    "try:\n",
    "    print(1)\n",
    "    event_loop.run_until_complete(main(3))\n",
    "finally:\n",
    "    event_loop.close()"
   ]
  },
  {
   "cell_type": "markdown",
   "metadata": {},
   "source": [
    "## Gathering Results from Coroutines"
   ]
  },
  {
   "cell_type": "code",
   "execution_count": 1,
   "metadata": {},
   "outputs": [
    {
     "name": "stdout",
     "output_type": "stream",
     "text": [
      "in phase2\n",
      "in phase1\n",
      "done with phase2\n",
      "done with phase1\n",
      "['phase result 1', 'phase result 2']\n"
     ]
    }
   ],
   "source": [
    "import asyncio\n",
    "\n",
    "async def phase1():\n",
    "    print('in phase1')\n",
    "    await asyncio.sleep(3)\n",
    "    print('done with phase1')\n",
    "    return f\"phase result 1\"\n",
    "\n",
    "async def phase2():\n",
    "    print('in phase2')\n",
    "    await asyncio.sleep(1)\n",
    "    print('done with phase2')\n",
    "    return f\"phase result 2\"\n",
    "\n",
    "async def main():\n",
    "    result = await asyncio.gather(phase1(), phase2())\n",
    "    print(result)\n",
    "    \n",
    "event_loop = asyncio.get_event_loop()\n",
    "try:\n",
    "    event_loop.run_until_complete(main())\n",
    "finally:\n",
    "    event_loop.close()"
   ]
  },
  {
   "cell_type": "markdown",
   "metadata": {},
   "source": [
    "## Handling Background Operations as They Finish"
   ]
  },
  {
   "cell_type": "code",
   "execution_count": 1,
   "metadata": {},
   "outputs": [
    {
     "name": "stdout",
     "output_type": "stream",
     "text": [
      "main start\n",
      "wait phases complete\n",
      "in phase 1\n",
      "in phase 0\n",
      "in phase 2\n",
      "done with phase 2\n",
      "received  phase result 2\n",
      "done with phase 1\n",
      "received  phase result 1\n",
      "done with phase 0\n",
      "received  phase result 0\n",
      "['phase result 2', 'phase result 1', 'phase result 0'] 1\n"
     ]
    }
   ],
   "source": [
    "import asyncio\n",
    "\n",
    "async def phase(i):\n",
    "    print('in phase', i)\n",
    "    await asyncio.sleep((1-0.1*i))\n",
    "    print('done with phase', i)\n",
    "    return f\"phase result {i}\"\n",
    "\n",
    "async def main(num):\n",
    "    print('main start')\n",
    "    phases = [phase(i) for i in range(num)]\n",
    "    print('wait phases complete')\n",
    "    results = []\n",
    "    for next_to_complete in asyncio.as_completed(phases):\n",
    "        answer = await next_to_complete\n",
    "        print(\"received \", answer)\n",
    "        results.append(answer)\n",
    "    print(results,1)\n",
    "    return results\n",
    "    \n",
    "event_loop = asyncio.get_event_loop()\n",
    "try:\n",
    "    event_loop.run_until_complete(main(3))\n",
    "finally:\n",
    "    event_loop.close()"
   ]
  },
  {
   "cell_type": "markdown",
   "metadata": {},
   "source": [
    "## Locks"
   ]
  },
  {
   "cell_type": "code",
   "execution_count": 1,
   "metadata": {},
   "outputs": [
    {
     "name": "stdout",
     "output_type": "stream",
     "text": [
      "lock acquired True\n",
      "coro1 wait the lock\n",
      "coro2 wait the lock\n",
      "callback release the lock\n",
      "coro1 acquire lock\n",
      "coro1 release lock\n",
      "coro2 acquire lock\n",
      "coro2 release lock\n"
     ]
    }
   ],
   "source": [
    "import asyncio\n",
    "import functools\n",
    "\n",
    "def unlock(lock):\n",
    "    print(\"callback release the lock\")\n",
    "    lock.release()\n",
    "    \n",
    "async def coro1(lock):\n",
    "    print('coro1 wait the lock')\n",
    "    with await lock:\n",
    "        print('coro1 acquire lock')\n",
    "    print('coro1 release lock')\n",
    "    \n",
    "async def coro2(lock):\n",
    "    print('coro2 wait the lock')\n",
    "    await lock\n",
    "    try:\n",
    "        print('coro2 acquire lock')\n",
    "    finally:\n",
    "        print('coro2 release lock')\n",
    "        lock.release()\n",
    "        \n",
    "async def main(loop):\n",
    "    lock = asyncio.Lock()\n",
    "    await lock.acquire()\n",
    "    print('lock acquired', lock.locked())\n",
    "    \n",
    "    # schedule a callback to unlock the lock\n",
    "    loop.call_later(2, functools.partial(unlock, lock))\n",
    "    \n",
    "    await asyncio.wait([coro1(lock), coro2(lock)])\n",
    "    \n",
    "event_loop = asyncio.get_event_loop()\n",
    "try:\n",
    "    event_loop.run_until_complete(main(event_loop))\n",
    "finally:\n",
    "    event_loop.close()"
   ]
  },
  {
   "cell_type": "markdown",
   "metadata": {},
   "source": [
    "## Events"
   ]
  },
  {
   "cell_type": "code",
   "execution_count": 1,
   "metadata": {},
   "outputs": [
    {
     "name": "stdout",
     "output_type": "stream",
     "text": [
      "event state a False\n",
      "coro1 wait the event\n",
      "coro2 wait the event\n",
      "set event in callback \n",
      "coro1 triggled\n",
      "coro2 triggled\n",
      "event state b True\n"
     ]
    }
   ],
   "source": [
    "import asyncio\n",
    "import functools\n",
    "\n",
    "def set_event(event):\n",
    "    print(\"set event in callback \")\n",
    "    event.set()\n",
    "    \n",
    "async def coro1(event):\n",
    "    print('coro1 wait the event')\n",
    "    await event.wait()\n",
    "    print('coro1 triggled')\n",
    "    \n",
    "async def coro2(event):\n",
    "    print('coro2 wait the event')\n",
    "    await event.wait()\n",
    "    print('coro2 triggled')\n",
    "        \n",
    "async def main(loop):\n",
    "    event = asyncio.Event()\n",
    "    print('event state a', event.is_set())\n",
    "    \n",
    "    loop.call_later(2, functools.partial(set_event, event))\n",
    "    \n",
    "    await asyncio.wait([coro1(event), coro2(event)])\n",
    "    print('event state b', event.is_set())\n",
    "    \n",
    "event_loop = asyncio.get_event_loop()\n",
    "try:\n",
    "    event_loop.run_until_complete(main(event_loop))\n",
    "finally:\n",
    "    event_loop.close()"
   ]
  },
  {
   "cell_type": "markdown",
   "metadata": {},
   "source": [
    "## Conditions"
   ]
  },
  {
   "cell_type": "code",
   "execution_count": 1,
   "metadata": {},
   "outputs": [
    {
     "name": "stdout",
     "output_type": "stream",
     "text": [
      "Starting manipulate\n",
      "consumer 2 is waiting\n",
      "consumer 1 is waiting\n",
      "consumer 3 is waiting\n",
      "consumer 4 is waiting\n",
      "consumer 0 is waiting\n",
      "notifying 1 consumers\n",
      "consumer 2 trigger\n",
      "consumer 2 end\n",
      "notifying 2 consumers\n",
      "consumer 1 trigger\n",
      "consumer 1 end\n",
      "consumer 3 trigger\n",
      "consumer 3 end\n",
      "notifying remain consumers\n",
      "consumer 4 trigger\n",
      "consumer 4 end\n",
      "consumer 0 trigger\n",
      "consumer 0 end\n"
     ]
    }
   ],
   "source": [
    "import asyncio\n",
    "\n",
    "async def consumer(condition, n):\n",
    "    with await condition:\n",
    "        print(f'consumer {n} is waiting')\n",
    "        await condition.wait()\n",
    "        print(f'consumer {n} trigger')\n",
    "    print(f'consumer {n} end')\n",
    "    \n",
    "async def manipulate_condition(condition):\n",
    "    print('Starting manipulate')\n",
    "    \n",
    "    # wait for consumer start\n",
    "    await asyncio.sleep(0.1)\n",
    "    \n",
    "    for i in range(1,3):\n",
    "        with await condition:\n",
    "            print(f'notifying {i} consumers')\n",
    "            condition.notify(n=i)\n",
    "        await asyncio.sleep(2)\n",
    "    with await condition:\n",
    "        print('notifying remain consumers')\n",
    "        condition.notify_all()\n",
    "        \n",
    "async def main(loop):\n",
    "    condition = asyncio.Condition()\n",
    "    consumers = [consumer(condition, i) for i in range(5)]\n",
    "    loop.create_task(manipulate_condition(condition))\n",
    "    await asyncio.wait(consumers)\n",
    "    \n",
    "event_loop = asyncio.get_event_loop()\n",
    "try:\n",
    "    event_loop.run_until_complete(main(event_loop))\n",
    "finally:\n",
    "    event_loop.close()"
   ]
  },
  {
   "cell_type": "markdown",
   "metadata": {},
   "source": [
    "## Queues"
   ]
  },
  {
   "cell_type": "code",
   "execution_count": 1,
   "metadata": {},
   "outputs": [
    {
     "name": "stdout",
     "output_type": "stream",
     "text": [
      "consumer 0 starting\n",
      "consumer 0 wait for item\n",
      "consumer 1 starting\n",
      "consumer 1 wait for item\n",
      "producer starting\n",
      "producer add task 0 to queue\n",
      "producer add task 1 to queue\n",
      "consumer 0 get 0\n",
      "consumer 1 get 1\n",
      "producer add task 2 to queue\n",
      "producer add task 3 to queue\n",
      "consumer 0 wait for item\n",
      "consumer 0 get 2\n",
      "producer add task 4 to queue\n",
      "consumer 1 wait for item\n",
      "consumer 1 get 3\n",
      "producer add task 5 to queue\n",
      "producer add stop signal to queue\n",
      "consumer 0 wait for item\n",
      "consumer 0 get 4\n",
      "consumer 1 wait for item\n",
      "consumer 1 get 5\n",
      "producer wait for queue to empty\n",
      "consumer 0 wait for item\n",
      "consumer 0 get None\n",
      "consumer 0 end\n",
      "consumer 1 wait for item\n",
      "consumer 1 get None\n",
      "consumer 1 end\n",
      "producer ending\n"
     ]
    }
   ],
   "source": [
    "import asyncio\n",
    "\n",
    "async def consumer(n, q):\n",
    "    print(f\"consumer {n} starting\")\n",
    "    while True:\n",
    "        print(f\"consumer {n} wait for item\")\n",
    "        item = await q.get()\n",
    "        print(f\"consumer {n} get {item}\")\n",
    "        if item is None:\n",
    "            # None is the signal to stop.\n",
    "            q.task_done()\n",
    "            break\n",
    "        else:\n",
    "            await asyncio.sleep(0.01*item)\n",
    "            q.task_done()\n",
    "    print(f\"consumer {n} end\")\n",
    "    \n",
    "async def producer(q, num_workers):\n",
    "    print(\"producer starting\")\n",
    "    # Add some numbers to the queue to simulate jobs\n",
    "    for i in range(num_workers *3):\n",
    "        await q.put(i)\n",
    "        print(f\"producer add task {i} to queue\")\n",
    "    \n",
    "    print(\"producer add stop signal to queue\")\n",
    "    for i in range(num_workers):\n",
    "        await q.put(None)\n",
    "    print(\"producer wait for queue to empty\")  \n",
    "    await q.join()\n",
    "    print(\"producer ending\")\n",
    "    \n",
    "async def main(loop, num_consumers):\n",
    "    q = asyncio.Queue(maxsize=num_consumers)\n",
    "    consumers = [loop.create_task(consumer(i, q)) for i in range(num_consumers)]\n",
    "    prod = loop.create_task(producer(q, num_consumers))\n",
    "    await asyncio.wait(consumers + [prod])\n",
    "    \n",
    "event_loop = asyncio.get_event_loop()\n",
    "try:\n",
    "    event_loop.run_until_complete(main(event_loop, 2))\n",
    "finally:\n",
    "    event_loop.close()"
   ]
  },
  {
   "cell_type": "code",
   "execution_count": null,
   "metadata": {},
   "outputs": [],
   "source": []
  }
 ],
 "metadata": {
  "kernelspec": {
   "display_name": "Python 3",
   "language": "python",
   "name": "python3"
  },
  "language_info": {
   "codemirror_mode": {
    "name": "ipython",
    "version": 3
   },
   "file_extension": ".py",
   "mimetype": "text/x-python",
   "name": "python",
   "nbconvert_exporter": "python",
   "pygments_lexer": "ipython3",
   "version": "3.6.5"
  }
 },
 "nbformat": 4,
 "nbformat_minor": 2
}
