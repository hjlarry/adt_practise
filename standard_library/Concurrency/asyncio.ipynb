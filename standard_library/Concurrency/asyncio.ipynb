{
 "cells": [
  {
   "cell_type": "markdown",
   "metadata": {},
   "source": [
    "## Starting a Coroutine"
   ]
  },
  {
   "cell_type": "code",
   "execution_count": 2,
   "metadata": {},
   "outputs": [
    {
     "name": "stdout",
     "output_type": "stream",
     "text": [
      "in coroutine\n"
     ]
    }
   ],
   "source": [
    "import asyncio\n",
    "\n",
    "async def coroutine():\n",
    "    print('in coroutine')\n",
    "    \n",
    "event_loop = asyncio.get_event_loop()\n",
    "try:\n",
    "    event_loop.run_until_complete(coroutine())\n",
    "finally:\n",
    "    event_loop.close()"
   ]
  },
  {
   "cell_type": "markdown",
   "metadata": {},
   "source": [
    "## Returning Values from Coroutines"
   ]
  },
  {
   "cell_type": "code",
   "execution_count": 3,
   "metadata": {},
   "outputs": [
    {
     "name": "stdout",
     "output_type": "stream",
     "text": [
      "in coroutine\n",
      "1234\n"
     ]
    }
   ],
   "source": [
    "import asyncio\n",
    "async def coroutine():\n",
    "    print('in coroutine')\n",
    "    return 1234\n",
    "event_loop = asyncio.get_event_loop()\n",
    "try:\n",
    "    result = event_loop.run_until_complete(coroutine())\n",
    "    print(result)\n",
    "finally:\n",
    "    event_loop.close()"
   ]
  },
  {
   "cell_type": "markdown",
   "metadata": {},
   "source": [
    "## Chaining Coroutines¶"
   ]
  },
  {
   "cell_type": "code",
   "execution_count": 1,
   "metadata": {},
   "outputs": [
    {
     "name": "stdout",
     "output_type": "stream",
     "text": [
      "('hahha', 'hahharecived')\n"
     ]
    }
   ],
   "source": [
    "import asyncio\n",
    "async def outter():\n",
    "    result1 = await phase1()\n",
    "    result2 = await phase2(result1)\n",
    "    return result1, result2\n",
    "    \n",
    "async def phase1():\n",
    "    return 'hahha'\n",
    "\n",
    "async def phase2(arg):\n",
    "    return arg+'recived'\n",
    "\n",
    "event_loop = asyncio.get_event_loop()\n",
    "try:\n",
    "    result = event_loop.run_until_complete(outter())\n",
    "    print(result)\n",
    "finally:\n",
    "    event_loop.close()"
   ]
  },
  {
   "cell_type": "code",
   "execution_count": null,
   "metadata": {},
   "outputs": [],
   "source": []
  }
 ],
 "metadata": {
  "kernelspec": {
   "display_name": "Python 3",
   "language": "python",
   "name": "python3"
  },
  "language_info": {
   "codemirror_mode": {
    "name": "ipython",
    "version": 3
   },
   "file_extension": ".py",
   "mimetype": "text/x-python",
   "name": "python",
   "nbconvert_exporter": "python",
   "pygments_lexer": "ipython3",
   "version": "3.6.5"
  }
 },
 "nbformat": 4,
 "nbformat_minor": 2
}
