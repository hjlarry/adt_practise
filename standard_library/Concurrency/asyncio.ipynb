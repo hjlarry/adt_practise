{
 "cells": [
  {
   "cell_type": "markdown",
   "metadata": {},
   "source": [
    "## Starting a Coroutine"
   ]
  },
  {
   "cell_type": "code",
   "execution_count": 2,
   "metadata": {},
   "outputs": [
    {
     "name": "stdout",
     "output_type": "stream",
     "text": [
      "in coroutine\n"
     ]
    }
   ],
   "source": [
    "import asyncio\n",
    "\n",
    "async def coroutine():\n",
    "    print('in coroutine')\n",
    "    \n",
    "event_loop = asyncio.get_event_loop()\n",
    "try:\n",
    "    event_loop.run_until_complete(coroutine())\n",
    "finally:\n",
    "    event_loop.close()"
   ]
  },
  {
   "cell_type": "markdown",
   "metadata": {},
   "source": [
    "## Returning Values from Coroutines"
   ]
  },
  {
   "cell_type": "code",
   "execution_count": 3,
   "metadata": {},
   "outputs": [
    {
     "name": "stdout",
     "output_type": "stream",
     "text": [
      "in coroutine\n",
      "1234\n"
     ]
    }
   ],
   "source": [
    "import asyncio\n",
    "async def coroutine():\n",
    "    print('in coroutine')\n",
    "    return 1234\n",
    "event_loop = asyncio.get_event_loop()\n",
    "try:\n",
    "    result = event_loop.run_until_complete(coroutine())\n",
    "    print(result)\n",
    "finally:\n",
    "    event_loop.close()"
   ]
  },
  {
   "cell_type": "markdown",
   "metadata": {},
   "source": [
    "## Chaining Coroutines"
   ]
  },
  {
   "cell_type": "code",
   "execution_count": 1,
   "metadata": {},
   "outputs": [
    {
     "name": "stdout",
     "output_type": "stream",
     "text": [
      "('hahha', 'hahharecived')\n"
     ]
    }
   ],
   "source": [
    "import asyncio\n",
    "async def outter():\n",
    "    result1 = await phase1()\n",
    "    result2 = await phase2(result1)\n",
    "    return result1, result2\n",
    "    \n",
    "async def phase1():\n",
    "    return 'hahha'\n",
    "\n",
    "async def phase2(arg):\n",
    "    return arg+'recived'\n",
    "\n",
    "event_loop = asyncio.get_event_loop()\n",
    "try:\n",
    "    result = event_loop.run_until_complete(outter())\n",
    "    print(result)\n",
    "finally:\n",
    "    event_loop.close()"
   ]
  },
  {
   "cell_type": "markdown",
   "metadata": {},
   "source": [
    "## Scheduling a Callback “Soon”"
   ]
  },
  {
   "cell_type": "code",
   "execution_count": 1,
   "metadata": {},
   "outputs": [
    {
     "name": "stdout",
     "output_type": "stream",
     "text": [
      "registering callbacks\n",
      "callback with 1 and default\n",
      "callback with 2 and not_default\n"
     ]
    }
   ],
   "source": [
    "import asyncio\n",
    "import functools\n",
    "def callback(arg, *, kwargs='default'):\n",
    "    print(f\"callback with {arg} and {kwargs}\")\n",
    "    \n",
    "async def main(loop):\n",
    "    print('registering callbacks')\n",
    "    loop.call_soon(callback, 1)\n",
    "    wrapped = functools.partial(callback, kwargs='not_default')\n",
    "    loop.call_soon(wrapped, 2)\n",
    "    await asyncio.sleep(1)\n",
    "    \n",
    "event_loop = asyncio.get_event_loop()\n",
    "try:\n",
    "    event_loop.run_until_complete(main(event_loop))\n",
    "finally:\n",
    "    event_loop.close()"
   ]
  },
  {
   "cell_type": "markdown",
   "metadata": {},
   "source": [
    "## Scheduling a Callback with a Delay"
   ]
  },
  {
   "cell_type": "code",
   "execution_count": 1,
   "metadata": {},
   "outputs": [
    {
     "name": "stdout",
     "output_type": "stream",
     "text": [
      "registering callbacks\n",
      "callback with 3 \n",
      "callback with 2 \n",
      "callback with 1 \n"
     ]
    }
   ],
   "source": [
    "import asyncio\n",
    "def callback(n):\n",
    "    print(f\"callback with {n} \")\n",
    "    \n",
    "async def main(loop):\n",
    "    print('registering callbacks')\n",
    "    loop.call_later(0.2,callback, 1)\n",
    "    loop.call_later(0.1,callback, 2)\n",
    "    loop.call_soon(callback, 3)\n",
    "    await asyncio.sleep(1)\n",
    "    \n",
    "event_loop = asyncio.get_event_loop()\n",
    "try:\n",
    "    event_loop.run_until_complete(main(event_loop))\n",
    "finally:\n",
    "    event_loop.close()"
   ]
  },
  {
   "cell_type": "markdown",
   "metadata": {},
   "source": [
    "## Scheduling a Callback for a Specific Time"
   ]
  },
  {
   "cell_type": "code",
   "execution_count": 1,
   "metadata": {},
   "outputs": [
    {
     "name": "stdout",
     "output_type": "stream",
     "text": [
      "clock time  1538278157.53533\n",
      "loop time  149226.490097989\n",
      "callback with 3 at 149226.490335996 \n",
      "callback with 2 at 149226.592940694 \n",
      "callback with 1 at 149226.693366884 \n"
     ]
    }
   ],
   "source": [
    "import asyncio\n",
    "import time\n",
    "def callback(n, loop):\n",
    "    print(f\"callback with {n} at {loop.time()} \")\n",
    "    \n",
    "async def main(loop):\n",
    "    now = loop.time()\n",
    "    print('clock time ', time.time())\n",
    "    print('loop time ', now)\n",
    "    loop.call_at(0.2+now,callback, 1, loop)\n",
    "    loop.call_at(0.1+now,callback, 2, loop)\n",
    "    loop.call_soon(callback, 3, loop)\n",
    "    await asyncio.sleep(1)\n",
    "    \n",
    "event_loop = asyncio.get_event_loop()\n",
    "try:\n",
    "    event_loop.run_until_complete(main(event_loop))\n",
    "finally:\n",
    "    event_loop.close()"
   ]
  },
  {
   "cell_type": "markdown",
   "metadata": {},
   "source": [
    "## Waiting for a Future"
   ]
  },
  {
   "cell_type": "code",
   "execution_count": 1,
   "metadata": {},
   "outputs": [
    {
     "name": "stdout",
     "output_type": "stream",
     "text": [
      "scheduling mark_done\n",
      "setting future result for 'the result111'\n",
      "return result the result111\n",
      "final result  the result111\n"
     ]
    }
   ],
   "source": [
    "import asyncio\n",
    "\n",
    "def mark_done(future, result):\n",
    "    print(f\"setting future result for {result!r}\")\n",
    "    future.set_result(result)\n",
    "    \n",
    "event_loop = asyncio.get_event_loop()\n",
    "try:\n",
    "    all_done = asyncio.Future()\n",
    "    print('scheduling mark_done')\n",
    "    event_loop.call_soon(mark_done, all_done, 'the result111')\n",
    "    result = event_loop.run_until_complete(all_done)\n",
    "    print('return result',result)\n",
    "finally:\n",
    "    event_loop.close()\n",
    "print('final result ',all_done.result())"
   ]
  },
  {
   "cell_type": "code",
   "execution_count": 1,
   "metadata": {},
   "outputs": [
    {
     "name": "stdout",
     "output_type": "stream",
     "text": [
      "scheduling mark_done\n",
      "setting future result for 'the result222'\n",
      "return result the result222\n"
     ]
    }
   ],
   "source": [
    "# future with await\n",
    "import asyncio\n",
    "\n",
    "def mark_done(future, result):\n",
    "    print(f\"setting future result for {result!r}\")\n",
    "    future.set_result(result)\n",
    "    \n",
    "async def main(loop):\n",
    "    all_done = asyncio.Future()\n",
    "    print('scheduling mark_done')\n",
    "    loop.call_soon(mark_done, all_done, 'the result222')\n",
    "    result =  await all_done\n",
    "    print('return result',result)\n",
    "    \n",
    "event_loop = asyncio.get_event_loop()\n",
    "try:\n",
    "    event_loop.run_until_complete(main(event_loop))\n",
    "finally:\n",
    "    event_loop.close()"
   ]
  },
  {
   "cell_type": "markdown",
   "metadata": {},
   "source": [
    "## Future Callbacks"
   ]
  },
  {
   "cell_type": "code",
   "execution_count": null,
   "metadata": {},
   "outputs": [],
   "source": [
    "import asyncio\n",
    "import functools\n",
    "\n",
    "def callback(future, n):\n",
    "    print(f\"{n}: future done: {future.result()}\")\n",
    "    \n",
    "async def reg_callbacks(all_done):\n",
    "    all_done.add_done_callback(functools.partial(callback, n=1))\n",
    "    all_done.add_done_callback(functools.partial(callback, n=3))\n",
    "    \n",
    "async def main(all_done):\n",
    "    await reg_callbacks(all_done)\n",
    "    all_done.set_result('sdasdsa')\n",
    "    \n",
    "event_loop = asyncio.get_event_loop()\n",
    "try:\n",
    "    all_done = asyncio.Future()\n",
    "    event_loop.run_until_complete(main(all_done))\n",
    "finally:\n",
    "    event_loop.close()"
   ]
  }
 ],
 "metadata": {
  "kernelspec": {
   "display_name": "Python 3",
   "language": "python",
   "name": "python3"
  },
  "language_info": {
   "codemirror_mode": {
    "name": "ipython",
    "version": 3
   },
   "file_extension": ".py",
   "mimetype": "text/x-python",
   "name": "python",
   "nbconvert_exporter": "python",
   "pygments_lexer": "ipython3",
   "version": "3.6.5"
  }
 },
 "nbformat": 4,
 "nbformat_minor": 2
}
