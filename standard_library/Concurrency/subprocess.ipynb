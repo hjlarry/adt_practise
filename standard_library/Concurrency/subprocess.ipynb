{
 "cells": [
  {
   "cell_type": "markdown",
   "metadata": {},
   "source": [
    "subprocess 模块提供了了三个 API 处理进程:\n",
    "- Python 3.5 中添加的 run() 函数，是一个运行进程的 API，也可以收集其输出\n",
    "- call()，check_call() 以及 check_output() 是从 Python2 继承的较早的高级 API。在已存的程序中，它们仍然被广泛支持和使用\n",
    "- 类 Popen 是一个低级 API，用于构建其他的 API 以及用于更复杂的进程交互。Popen 构造函数接受参数设置新进程，以便父进程可以通过管道与它通信。\n",
    "\n",
    "## 运行外部命令"
   ]
  },
  {
   "cell_type": "code",
   "execution_count": 2,
   "metadata": {},
   "outputs": [
    {
     "name": "stdout",
     "output_type": "stream",
     "text": [
      "return code: 0\n"
     ]
    }
   ],
   "source": [
    "import subprocess\n",
    "\n",
    "completed = subprocess.run(['ls', '-l'])  # 如果在python下是能输出结果的，但在jupyter中只能按下例打印stdout\n",
    "print('return code:',completed.returncode)"
   ]
  },
  {
   "cell_type": "code",
   "execution_count": 13,
   "metadata": {},
   "outputs": [
    {
     "name": "stdout",
     "output_type": "stream",
     "text": [
      "returncode: 0\n",
      "b'/Users/hejl\\n'\n"
     ]
    }
   ],
   "source": [
    "completed = subprocess.run('echo $HOME',stdout=subprocess.PIPE, shell=True)\n",
    "# 设置 shell 参数为 True 会导致 subprocess 创建一个新的中间 shell 进程运行命令。默认的行为是直接运行命令\n",
    "print('returncode:', completed.returncode)\n",
    "print(completed.stdout)"
   ]
  },
  {
   "cell_type": "code",
   "execution_count": 11,
   "metadata": {},
   "outputs": [
    {
     "name": "stdout",
     "output_type": "stream",
     "text": [
      "ERROR: Command '['false']' returned non-zero exit status 1.\n"
     ]
    }
   ],
   "source": [
    "try:\n",
    "    subprocess.run(['false',], check=True)\n",
    "except subprocess.CalledProcessError as err:\n",
    "    print('ERROR:', err)"
   ]
  },
  {
   "cell_type": "code",
   "execution_count": 3,
   "metadata": {},
   "outputs": [],
   "source": [
    "try:\n",
    "    subprocess.run(['false',])\n",
    "except subprocess.CalledProcessError as err:\n",
    "    print('ERROR:', err)"
   ]
  },
  {
   "cell_type": "code",
   "execution_count": 6,
   "metadata": {},
   "outputs": [
    {
     "name": "stdout",
     "output_type": "stream",
     "text": [
      "returncode: 1\n",
      "Have 10 bytes in stdout: 'to stdout\\n'\n",
      "Have 10 bytes in stderr: 'to stderr\\n'\n"
     ]
    }
   ],
   "source": [
    "try:\n",
    "    completed = subprocess.run(\n",
    "        'echo to stdout; echo to stderr 1>&2; exit 1',\n",
    "        shell=True,\n",
    "        stdout=subprocess.PIPE,\n",
    "        stderr=subprocess.PIPE,\n",
    "    )\n",
    "except subprocess.CalledProcessError as err:\n",
    "    print('ERROR:', err)\n",
    "else:\n",
    "    print('returncode:', completed.returncode)\n",
    "    print('Have {} bytes in stdout: {!r}'.format(\n",
    "        len(completed.stdout),\n",
    "        completed.stdout.decode('utf-8'))\n",
    "    )\n",
    "    print('Have {} bytes in stderr: {!r}'.format(\n",
    "        len(completed.stderr),\n",
    "        completed.stderr.decode('utf-8'))\n",
    "    )"
   ]
  },
  {
   "cell_type": "markdown",
   "metadata": {},
   "source": [
    "某些情况下，输出不应该被展示和捕获，使用 DEVNULL 抑制输出流。"
   ]
  },
  {
   "cell_type": "code",
   "execution_count": 7,
   "metadata": {},
   "outputs": [
    {
     "name": "stdout",
     "output_type": "stream",
     "text": [
      "returncode: 1\n",
      "stdout is None\n",
      "stderr is None\n"
     ]
    }
   ],
   "source": [
    "try:\n",
    "    completed = subprocess.run(\n",
    "        'echo to stdout; echo to stderr 1>&2; exit 1',\n",
    "        shell=True,\n",
    "        stdout=subprocess.DEVNULL,\n",
    "        stderr=subprocess.DEVNULL,\n",
    "    )\n",
    "except subprocess.CalledProcessError as err:\n",
    "    print('ERROR:', err)\n",
    "else:\n",
    "    print('returncode:', completed.returncode)\n",
    "    print('stdout is {!r}'.format(completed.stdout))\n",
    "    print('stderr is {!r}'.format(completed.stderr))"
   ]
  },
  {
   "cell_type": "markdown",
   "metadata": {},
   "source": [
    "## 使用管道\n",
    "与进程单向通信"
   ]
  },
  {
   "cell_type": "code",
   "execution_count": 11,
   "metadata": {},
   "outputs": [
    {
     "name": "stdout",
     "output_type": "stream",
     "text": [
      "read:\n",
      "(b'to stdout\\n', None)\n",
      "to stdout\n",
      "\n"
     ]
    }
   ],
   "source": [
    "print('read:')\n",
    "proc = subprocess.Popen(['echo', 'to stdout'], stdout=subprocess.PIPE)\n",
    "value = proc.communicate()\n",
    "print(value)\n",
    "stdout_value = value[0].decode('utf-8')\n",
    "print(stdout_value)\n"
   ]
  },
  {
   "cell_type": "code",
   "execution_count": 15,
   "metadata": {},
   "outputs": [
    {
     "name": "stdout",
     "output_type": "stream",
     "text": [
      "write:\n"
     ]
    },
    {
     "data": {
      "text/plain": [
       "(None, None)"
      ]
     },
     "execution_count": 15,
     "metadata": {},
     "output_type": "execute_result"
    }
   ],
   "source": [
    "print('write:')\n",
    "proc = subprocess.Popen(['cat', '-'], stdin=subprocess.PIPE)\n",
    "proc.communicate('stdin:sth'.encode('utf-8'))"
   ]
  },
  {
   "cell_type": "markdown",
   "metadata": {},
   "source": [
    "与进程双向通信"
   ]
  },
  {
   "cell_type": "code",
   "execution_count": 19,
   "metadata": {},
   "outputs": [
    {
     "name": "stdout",
     "output_type": "stream",
     "text": [
      "popen2:\n",
      "b'through stdin to stdout'\n",
      "b'to stderr\\n'\n"
     ]
    }
   ],
   "source": [
    "print('popen2:')\n",
    "proc = subprocess.Popen('cat -; echo \"to stderr\" 1>&2',shell=True, stdin=subprocess.PIPE, stdout=subprocess.PIPE, stderr=subprocess.PIPE)\n",
    "msg = 'through stdin to stdout'.encode('utf-8')\n",
    "stdout_value, stderr_value = proc.communicate(msg)\n",
    "print(stdout_value)\n",
    "print(stderr_value)"
   ]
  },
  {
   "cell_type": "code",
   "execution_count": 20,
   "metadata": {},
   "outputs": [
    {
     "name": "stdout",
     "output_type": "stream",
     "text": [
      "popen3:\n",
      "b'through stdin to stdoutto stderr\\n'\n",
      "None\n"
     ]
    }
   ],
   "source": [
    "print('popen3:')\n",
    "proc = subprocess.Popen('cat -; echo \"to stderr\" 1>&2',shell=True, stdin=subprocess.PIPE, stdout=subprocess.PIPE, stderr=subprocess.STDOUT)\n",
    "msg = 'through stdin to stdout'.encode('utf-8')\n",
    "stdout_value, stderr_value = proc.communicate(msg)\n",
    "print(stdout_value)\n",
    "print(stderr_value)"
   ]
  },
  {
   "cell_type": "markdown",
   "metadata": {},
   "source": [
    "连接管道"
   ]
  },
  {
   "cell_type": "code",
   "execution_count": 25,
   "metadata": {},
   "outputs": [
    {
     "name": "stdout",
     "output_type": "stream",
     "text": [
      "b'    \"def receive_signal(signum\\n'\n",
      "b'      \"SIGINT     ( 2) : <buil\\n'\n",
      "b'    \"def alarm_received(n, sta\\n'\n",
      "b'    \"def receive_alarm(signum,\\n'\n",
      "b'    \"def do_exit(sig, stack):\\\\\\n'\n",
      "b'    \"def signal_handler(num, s\\n'\n",
      "b'    \"def wait_for_signal():\\\\n\"\\n'\n",
      "b'    \"def send_signal():\\\\n\",\\n'\n",
      "b'    \"def signal_handler(num, s\\n'\n",
      "b'    \"def use_alarm():\\\\n\",\\n'\n"
     ]
    }
   ],
   "source": [
    "cat = subprocess.Popen(['cat', 'signal.ipynb'], stdout=subprocess.PIPE)\n",
    "grep = subprocess.Popen(['grep', 'def'],stdin=cat.stdout, stdout=subprocess.PIPE)\n",
    "cut = subprocess.Popen(['cut', '-b', '-30'],stdin=grep.stdout, stdout=subprocess.PIPE)\n",
    "for line in cut.stdout:\n",
    "    print(line)"
   ]
  },
  {
   "cell_type": "markdown",
   "metadata": {},
   "source": [
    "相当于:  \n",
    "```\n",
    "$ cat signal.ipynb | grep \"def\" | cut -b -30\n",
    "```"
   ]
  },
  {
   "cell_type": "markdown",
   "metadata": {},
   "source": [
    "同另一个命令交互  \n",
    "脚本 repeater.py 被用作下一个例子的子进程。它从 stdin 读取并且写入到 stdout ，一次一行，直到再没有输入。当开始和停止的时候，它也往 stderr 写入了一条消息，展示子进程的声明周期。"
   ]
  },
  {
   "cell_type": "code",
   "execution_count": 32,
   "metadata": {},
   "outputs": [
    {
     "name": "stdout",
     "output_type": "stream",
     "text": [
      "one line at a time:\n",
      "0 \n",
      "\n",
      "1 \n",
      "\n",
      "2 \n",
      "\n",
      "3 \n",
      "\n",
      "4 \n",
      "\n",
      "\n",
      "\n",
      "All line at a time:\n",
      "0 \n",
      "1 \n",
      "2 \n",
      "3 \n",
      "4 \n",
      "\n"
     ]
    }
   ],
   "source": [
    "import io\n",
    "\n",
    "print('one line at a time:')\n",
    "proc = subprocess.Popen('python3 repeater.py',shell=True, stdin=subprocess.PIPE, stdout=subprocess.PIPE)\n",
    "stdin = io.TextIOWrapper(proc.stdin, encoding='utf-8', line_buffering=True)\n",
    "stdout = io.TextIOWrapper(proc.stdout, encoding='utf-8',)\n",
    "for i in range(5):\n",
    "    line = f'{i} \\n'\n",
    "    stdin.write(line)\n",
    "    output=stdout.readline()\n",
    "    print(output)\n",
    "    \n",
    "remainder = proc.communicate()[0].decode('utf-8')\n",
    "print(remainder)\n",
    "\n",
    "print()\n",
    "print('All line at a time:')\n",
    "proc = subprocess.Popen('python3 repeater.py',shell=True, stdin=subprocess.PIPE, stdout=subprocess.PIPE)\n",
    "stdin = io.TextIOWrapper(proc.stdin, encoding='utf-8')\n",
    "stdout = io.TextIOWrapper(proc.stdout, encoding='utf-8',)\n",
    "for i in range(5):\n",
    "    line = f'{i} \\n'\n",
    "    stdin.write(line)\n",
    "stdin.flush()\n",
    "    \n",
    "remainder = proc.communicate()[0].decode('utf-8')\n",
    "print(remainder)"
   ]
  },
  {
   "cell_type": "markdown",
   "metadata": {},
   "source": [
    "## 进程间的信号"
   ]
  },
  {
   "cell_type": "markdown",
   "metadata": {},
   "source": [
    "signal_parent.py & signal_child.py\n",
    "\n",
    "subprocess_signal_parent_shell.py  & subprocess_signal_setpgrp.py"
   ]
  },
  {
   "cell_type": "code",
   "execution_count": null,
   "metadata": {},
   "outputs": [],
   "source": []
  }
 ],
 "metadata": {
  "kernelspec": {
   "display_name": "Python 3",
   "language": "python",
   "name": "python3"
  },
  "language_info": {
   "codemirror_mode": {
    "name": "ipython",
    "version": 3
   },
   "file_extension": ".py",
   "mimetype": "text/x-python",
   "name": "python",
   "nbconvert_exporter": "python",
   "pygments_lexer": "ipython3",
   "version": "3.6.5"
  }
 },
 "nbformat": 4,
 "nbformat_minor": 2
}
