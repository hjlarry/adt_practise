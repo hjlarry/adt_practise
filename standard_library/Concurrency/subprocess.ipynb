{
 "cells": [
  {
   "cell_type": "markdown",
   "metadata": {},
   "source": [
    "subprocess 模块提供了了三个 API 处理进程:\n",
    "- Python 3.5 中添加的 run() 函数，是一个运行进程的 API，也可以收集其输出\n",
    "- call()，check_call() 以及 check_output() 是从 Python2 继承的较早的高级 API。在已存的程序中，它们仍然被广泛支持和使用\n",
    "- 类 Popen 是一个低级 API，用于构建其他的 API 以及用于更复杂的进程交互。Popen 构造函数接受参数设置新进程，以便父进程可以通过管道与它通信。\n",
    "\n",
    "## 运行外部命令"
   ]
  },
  {
   "cell_type": "code",
   "execution_count": 6,
   "metadata": {},
   "outputs": [
    {
     "name": "stdout",
     "output_type": "stream",
     "text": [
      "return code: 0\n"
     ]
    }
   ],
   "source": [
    "import subprocess\n",
    "\n",
    "completed = subprocess.run(['ls', '-l'])  # 如果在python下是能输出结果的，但在jupyter中只能按下例打印stdout\n",
    "print('return code:',completed.returncode)"
   ]
  },
  {
   "cell_type": "code",
   "execution_count": 13,
   "metadata": {},
   "outputs": [
    {
     "name": "stdout",
     "output_type": "stream",
     "text": [
      "returncode: 0\n",
      "b'/Users/hejl\\n'\n"
     ]
    }
   ],
   "source": [
    "completed = subprocess.run('echo $HOME',stdout=subprocess.PIPE, shell=True)\n",
    "# 设置 shell 参数为 True 会导致 subprocess 创建一个新的中间 shell 进程运行命令。默认的行为是直接运行命令\n",
    "print('returncode:', completed.returncode)\n",
    "print(completed.stdout)"
   ]
  },
  {
   "cell_type": "code",
   "execution_count": 11,
   "metadata": {},
   "outputs": [
    {
     "name": "stdout",
     "output_type": "stream",
     "text": [
      "ERROR: Command '['false']' returned non-zero exit status 1.\n"
     ]
    }
   ],
   "source": [
    "try:\n",
    "    subprocess.run(['false',], check=True)\n",
    "except subprocess.CalledProcessError as err:\n",
    "    print('ERROR:', err)"
   ]
  },
  {
   "cell_type": "code",
   "execution_count": 12,
   "metadata": {},
   "outputs": [],
   "source": [
    "try:\n",
    "    subprocess.run(['false',])\n",
    "except subprocess.CalledProcessError as err:\n",
    "    print('ERROR:', err)"
   ]
  },
  {
   "cell_type": "code",
   "execution_count": null,
   "metadata": {},
   "outputs": [],
   "source": []
  }
 ],
 "metadata": {
  "kernelspec": {
   "display_name": "Python 3",
   "language": "python",
   "name": "python3"
  },
  "language_info": {
   "codemirror_mode": {
    "name": "ipython",
    "version": 3
   },
   "file_extension": ".py",
   "mimetype": "text/x-python",
   "name": "python",
   "nbconvert_exporter": "python",
   "pygments_lexer": "ipython3",
   "version": "3.6.5"
  }
 },
 "nbformat": 4,
 "nbformat_minor": 2
}
