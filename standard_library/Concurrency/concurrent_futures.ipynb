{
 "cells": [
  {
   "cell_type": "markdown",
   "metadata": {},
   "source": [
    "## Using map() with a Basic Thread Pool"
   ]
  },
  {
   "cell_type": "code",
   "execution_count": 3,
   "metadata": {},
   "outputs": [
    {
     "name": "stdout",
     "output_type": "stream",
     "text": [
      "main:starting\n",
      "ThreadPoolExecutor-1_0 sleeping 5\n",
      "ThreadPoolExecutor-1_1 sleeping 4\n",
      "main:unprocessed results <generator object Executor.map.<locals>.result_iterator at 0x1121db9e8>\n",
      "main:waiting for real results\n",
      "ThreadPoolExecutor-1_1 done with 4\n",
      "ThreadPoolExecutor-1_1 sleeping 3\n",
      "ThreadPoolExecutor-1_0 done with 5\n",
      "ThreadPoolExecutor-1_0 sleeping 2\n",
      "ThreadPoolExecutor-1_0 done with 2\n",
      "ThreadPoolExecutor-1_0 sleeping 1\n",
      "ThreadPoolExecutor-1_1 done with 3\n",
      "ThreadPoolExecutor-1_0 done with 1\n",
      "main:real results [0.5, 0.4, 0.3, 0.2, 0.1]\n"
     ]
    }
   ],
   "source": [
    "from concurrent import futures\n",
    "import threading\n",
    "import time\n",
    "\n",
    "def task(n):\n",
    "    print(f\"{threading.current_thread().name} sleeping {n}\")\n",
    "    time.sleep(n)\n",
    "    print(f\"{threading.current_thread().name} done with {n}\")\n",
    "    return n/10\n",
    "\n",
    "ex = futures.ThreadPoolExecutor(max_workers=2)\n",
    "print(\"main:starting\")\n",
    "results = ex.map(task, range(5,0,-1))\n",
    "print(\"main:unprocessed results\", results)\n",
    "print(\"main:waiting for real results\")\n",
    "real_res = list(results)\n",
    "print(\"main:real results\", real_res)"
   ]
  },
  {
   "cell_type": "markdown",
   "metadata": {},
   "source": [
    "## Scheduling Individual Tasks"
   ]
  },
  {
   "cell_type": "code",
   "execution_count": 4,
   "metadata": {},
   "outputs": [
    {
     "name": "stdout",
     "output_type": "stream",
     "text": [
      "main:starting\n",
      "ThreadPoolExecutor-2_0 sleeping 5\n",
      "main:future: <Future at 0x11218c048 state=running>\n",
      "main:waiting for real results\n",
      "ThreadPoolExecutor-2_0 done with 5\n",
      "main:real results 0.5\n",
      "main:future after results <Future at 0x11218c048 state=finished returned float>\n"
     ]
    }
   ],
   "source": [
    "ex = futures.ThreadPoolExecutor(max_workers=2)\n",
    "print(\"main:starting\")\n",
    "f = ex.submit(task, 5)\n",
    "print(\"main:future:\", f)\n",
    "print(\"main:waiting for real results\")\n",
    "real_res = f.result()\n",
    "print(\"main:real results\", real_res)\n",
    "print(\"main:future after results\", f)"
   ]
  },
  {
   "cell_type": "markdown",
   "metadata": {},
   "source": [
    "## Waiting for Tasks in Any Order"
   ]
  },
  {
   "cell_type": "code",
   "execution_count": 5,
   "metadata": {},
   "outputs": [
    {
     "name": "stdout",
     "output_type": "stream",
     "text": [
      "main results : (5, 0.5)\n",
      "main results : (1, 0.1)\n",
      "main results : (3, 0.3)\n",
      "main results : (4, 0.4)\n",
      "main results : (2, 0.2)\n"
     ]
    }
   ],
   "source": [
    "import random\n",
    "def task(n):\n",
    "    time.sleep(random.random())\n",
    "    return (n, n/10)\n",
    "    \n",
    "ex = futures.ThreadPoolExecutor(max_workers=5)\n",
    "\n",
    "wait_for = [ex.submit(task, i) for i in range(5,0,-1)]\n",
    "for f in futures.as_completed(wait_for):\n",
    "    print('main results :', f.result())"
   ]
  },
  {
   "cell_type": "markdown",
   "metadata": {},
   "source": [
    "## Future callbacks"
   ]
  },
  {
   "cell_type": "code",
   "execution_count": 8,
   "metadata": {},
   "outputs": [
    {
     "name": "stdout",
     "output_type": "stream",
     "text": [
      "main starting\n",
      "5: sleeping \n",
      "5: done \n",
      "5: value returned:125\n"
     ]
    }
   ],
   "source": [
    "def task(n):\n",
    "    print(f\"{n}: sleeping \")\n",
    "    time.sleep(0.5)\n",
    "    print(f\"{n}: done \")\n",
    "    return n**3\n",
    "\n",
    "def done(fn):\n",
    "    if fn.cancelled():\n",
    "        print(f\"{fn.arg}: cancelled\")\n",
    "    elif fn.done():\n",
    "        error = fn.exception()\n",
    "        if error:\n",
    "            print(f\"{fn.arg}: error returned:{error}\")\n",
    "        else:\n",
    "            result = fn.result()\n",
    "            print(f\"{fn.arg}: value returned:{result}\")\n",
    "ex = futures.ThreadPoolExecutor(max_workers=2)\n",
    "print('main starting')\n",
    "f = ex.submit(task, 5)\n",
    "f.arg = 5\n",
    "f.add_done_callback(done)\n",
    "result = f.result()"
   ]
  },
  {
   "cell_type": "markdown",
   "metadata": {},
   "source": [
    "## Cancelling Tasks"
   ]
  },
  {
   "cell_type": "code",
   "execution_count": 10,
   "metadata": {},
   "outputs": [
    {
     "name": "stdout",
     "output_type": "stream",
     "text": [
      "main starting\n",
      "main submiting  10\n",
      "10: sleeping \n",
      "main submiting  9\n",
      "9: sleeping main submiting  8\n",
      "\n",
      "8: sleeping \n",
      "main submiting  7\n",
      "7: sleeping \n",
      "main submiting  6\n",
      "main submiting  5\n",
      "main submiting  4\n",
      "main submiting  3\n",
      "main submiting  2\n",
      "main submiting  1\n",
      "<arg1>: cancelled\n",
      "<arg2>: cancelled\n",
      "<arg3>: cancelled\n",
      "<arg4>: cancelled\n",
      "<arg5>: cancelled\n",
      "<arg6>: cancelled\n",
      "main did not cancel  7\n",
      "main did not cancel  8\n",
      "main did not cancel  9\n",
      "main did not cancel  10\n",
      "10: done \n",
      "<arg10>: value returned:1000\n",
      "8: done 9: done \n",
      "<arg9>: value returned:729\n",
      "\n",
      "<arg8>: value returned:512\n",
      "7: done \n",
      "<arg7>: value returned:343\n"
     ]
    }
   ],
   "source": [
    "ex = futures.ThreadPoolExecutor(max_workers=4)\n",
    "print('main starting')\n",
    "tasks = []\n",
    "for i in range(10, 0, -1):\n",
    "    print('main submiting ', i)\n",
    "    f = ex.submit(task, i)\n",
    "    f.arg = f\"<arg{i}>\"\n",
    "    f.add_done_callback(done)\n",
    "    tasks.append((i, f))\n",
    "    \n",
    "for i, t in reversed(tasks):\n",
    "    if not t.cancel():\n",
    "        print('main did not cancel ', i)\n",
    "ex.shutdown()"
   ]
  },
  {
   "cell_type": "markdown",
   "metadata": {},
   "source": [
    "## Exceptions in Tasks"
   ]
  },
  {
   "cell_type": "code",
   "execution_count": 11,
   "metadata": {},
   "outputs": [
    {
     "name": "stdout",
     "output_type": "stream",
     "text": [
      "main starting\n",
      "5 starting\n",
      "main error  the value 5 is not good\n",
      "main saw error when accessing result  the value 5 is not good\n"
     ]
    }
   ],
   "source": [
    "def task(n):\n",
    "    print(f'{n} starting')\n",
    "    raise ValueError(f'the value {n} is not good')\n",
    "    \n",
    "ex = futures.ThreadPoolExecutor(max_workers=2)\n",
    "print('main starting')\n",
    "f = ex.submit(task, 5)\n",
    "error = f.exception()\n",
    "print('main error ', error)\n",
    "try:\n",
    "    result = f.result()\n",
    "except ValueError as e:\n",
    "    print('main saw error when accessing result ', e)"
   ]
  },
  {
   "cell_type": "markdown",
   "metadata": {},
   "source": [
    "## Context Manager"
   ]
  },
  {
   "cell_type": "code",
   "execution_count": 12,
   "metadata": {},
   "outputs": [
    {
     "name": "stdout",
     "output_type": "stream",
     "text": [
      "main starting\n",
      "1\n",
      "2\n",
      "3\n",
      "main done\n"
     ]
    }
   ],
   "source": [
    "def task(n):\n",
    "    print(n)\n",
    "    \n",
    "with futures.ThreadPoolExecutor(max_workers=2) as ex:\n",
    "    print('main starting')\n",
    "    ex.submit(task, 1)\n",
    "    ex.submit(task, 2)\n",
    "    ex.submit(task, 3)\n",
    "print('main done')"
   ]
  },
  {
   "cell_type": "markdown",
   "metadata": {},
   "source": [
    "## Process Pools"
   ]
  },
  {
   "cell_type": "code",
   "execution_count": 13,
   "metadata": {},
   "outputs": [
    {
     "name": "stdout",
     "output_type": "stream",
     "text": [
      "ran task5 in 33242\n",
      "ran task4 in 33243\n",
      "ran task3 in 33242\n",
      "ran task2 in 33242\n",
      "ran task1 in 33242\n"
     ]
    }
   ],
   "source": [
    "import os\n",
    "\n",
    "def task(n):\n",
    "    return (n, os.getpid())\n",
    "\n",
    "ex = futures.ProcessPoolExecutor(max_workers=2)\n",
    "results = ex.map(task , range(5,0,-1))\n",
    "for n, pid in results:\n",
    "    print(f'ran task{n} in {pid}')"
   ]
  },
  {
   "cell_type": "code",
   "execution_count": 14,
   "metadata": {},
   "outputs": [
    {
     "name": "stdout",
     "output_type": "stream",
     "text": [
      "getting the pid for one worker\n",
      "killing process  33352\n",
      "submiting another task\n",
      "could not start new tasks  A process in the process pool was terminated abruptly while the future was running or pending.\n"
     ]
    }
   ],
   "source": [
    "import signal\n",
    "\n",
    "with futures.ProcessPoolExecutor(max_workers=2) as ex:\n",
    "    print('getting the pid for one worker')\n",
    "    f1 = ex.submit(os.getpid)\n",
    "    pid1 = f1.result()\n",
    "    \n",
    "    print('killing process ', pid1)\n",
    "    os.kill(pid1, signal.SIGHUP)\n",
    "    \n",
    "    print('submiting another task')\n",
    "    f2 = ex.submit(os.getpid)\n",
    "    try:\n",
    "        pid2 = f2.result()\n",
    "    except futures.process.BrokenProcessPool as e:\n",
    "        print('could not start new tasks ', e)"
   ]
  },
  {
   "cell_type": "code",
   "execution_count": null,
   "metadata": {},
   "outputs": [],
   "source": []
  }
 ],
 "metadata": {
  "kernelspec": {
   "display_name": "Python 3",
   "language": "python",
   "name": "python3"
  },
  "language_info": {
   "codemirror_mode": {
    "name": "ipython",
    "version": 3
   },
   "file_extension": ".py",
   "mimetype": "text/x-python",
   "name": "python",
   "nbconvert_exporter": "python",
   "pygments_lexer": "ipython3",
   "version": "3.6.5"
  }
 },
 "nbformat": 4,
 "nbformat_minor": 2
}
