{
 "cells": [
  {
   "cell_type": "markdown",
   "metadata": {},
   "source": [
    "在某些情况下，multiprocessing 是 threading 的一个替代者，用于编写需要利用多个 CPU 来规避由于 Python 的全局解释器锁带来的计算瓶颈问题的场合。"
   ]
  },
  {
   "cell_type": "code",
   "execution_count": 2,
   "metadata": {},
   "outputs": [
    {
     "name": "stdout",
     "output_type": "stream",
     "text": [
      "BEFORE: <Process(Process-3, initial)> False\n",
      "DURING: <Process(Process-3, started)> True\n",
      "TERMINATED: <Process(Process-3, started)> True\n",
      "JOINED: <Process(Process-3, stopped[SIGTERM])> False\n"
     ]
    }
   ],
   "source": [
    "import multiprocessing\n",
    "import time\n",
    "\n",
    "\n",
    "def slow_worker():\n",
    "    print('Starting worker')\n",
    "    time.sleep(0.1)\n",
    "    print('Finished worker')\n",
    "\n",
    "\n",
    "\n",
    "p = multiprocessing.Process(target=slow_worker)\n",
    "print('BEFORE:', p, p.is_alive())\n",
    "\n",
    "p.start()\n",
    "print('DURING:', p, p.is_alive())\n",
    "\n",
    "p.terminate()  # 终止进程，及其子进程\n",
    "print('TERMINATED:', p, p.is_alive())\n",
    "\n",
    "p.join()\n",
    "print('JOINED:', p, p.is_alive())"
   ]
  },
  {
   "cell_type": "code",
   "execution_count": 5,
   "metadata": {},
   "outputs": [
    {
     "name": "stdout",
     "output_type": "stream",
     "text": [
      "Starting process for  exit_error\n",
      "Starting process for  exit_ok\n",
      "Starting process for  return_value\n",
      "Starting process for  raises\n",
      "Starting process for  terminated\n"
     ]
    },
    {
     "name": "stderr",
     "output_type": "stream",
     "text": [
      "Process raises:\n",
      "Traceback (most recent call last):\n",
      "  File \"/usr/local/Cellar/python/3.6.5_1/Frameworks/Python.framework/Versions/3.6/lib/python3.6/multiprocessing/process.py\", line 258, in _bootstrap\n",
      "    self.run()\n",
      "  File \"/usr/local/Cellar/python/3.6.5_1/Frameworks/Python.framework/Versions/3.6/lib/python3.6/multiprocessing/process.py\", line 93, in run\n",
      "    self._target(*self._args, **self._kwargs)\n",
      "  File \"<ipython-input-5-a4b3dc014785>\", line 13, in raises\n",
      "    raise RuntimeError('There was an error')\n",
      "RuntimeError: There was an error\n"
     ]
    },
    {
     "name": "stdout",
     "output_type": "stream",
     "text": [
      "     exit_error exitcode=1\n",
      "        exit_ok exitcode=0\n",
      "   return_value exitcode=0\n",
      "         raises exitcode=1\n",
      "     terminated exitcode=-15\n"
     ]
    }
   ],
   "source": [
    "import sys\n",
    "\n",
    "def exit_error():\n",
    "    sys.exit(1)\n",
    "    \n",
    "def exit_ok():\n",
    "    return \n",
    "\n",
    "def return_value():\n",
    "    return 1\n",
    "\n",
    "def raises():\n",
    "    raise RuntimeError('There was an error')\n",
    "    \n",
    "def terminated():\n",
    "    time.sleep(3)\n",
    "    \n",
    "jobs = []\n",
    "funcs = [exit_error, exit_ok, return_value, raises, terminated]\n",
    "for f in funcs:\n",
    "    print('Starting process for ', f.__name__)\n",
    "    j = multiprocessing.Process(target=f, name=f.__name__)\n",
    "    jobs.append(j)\n",
    "    j.start()\n",
    "    \n",
    "jobs[-1].terminate()\n",
    "for j in jobs:\n",
    "    j.join()\n",
    "    print(f\"{j.name:>15} exitcode={j.exitcode}\")"
   ]
  },
  {
   "cell_type": "code",
   "execution_count": 6,
   "metadata": {},
   "outputs": [
    {
     "name": "stderr",
     "output_type": "stream",
     "text": [
      "[INFO/Process-19] child process calling self.run()\n"
     ]
    },
    {
     "name": "stdout",
     "output_type": "stream",
     "text": [
      "doing some work\n"
     ]
    },
    {
     "name": "stderr",
     "output_type": "stream",
     "text": [
      "[INFO/Process-19] process shutting down\n",
      "[DEBUG/Process-19] running all \"atexit\" finalizers with priority >= 0\n",
      "[DEBUG/Process-19] running the remaining \"atexit\" finalizers\n",
      "[INFO/Process-19] process exiting with exitcode 0\n"
     ]
    }
   ],
   "source": [
    "import logging\n",
    "def worker():\n",
    "    print('doing some work')\n",
    "    sys.stdout.flush()\n",
    "    \n",
    "multiprocessing.log_to_stderr(logging.DEBUG)\n",
    "p = multiprocessing.Process(target=worker)\n",
    "p.start()\n",
    "p.join()"
   ]
  },
  {
   "cell_type": "code",
   "execution_count": null,
   "metadata": {},
   "outputs": [],
   "source": []
  }
 ],
 "metadata": {
  "kernelspec": {
   "display_name": "Python 3",
   "language": "python",
   "name": "python3"
  },
  "language_info": {
   "codemirror_mode": {
    "name": "ipython",
    "version": 3
   },
   "file_extension": ".py",
   "mimetype": "text/x-python",
   "name": "python",
   "nbconvert_exporter": "python",
   "pygments_lexer": "ipython3",
   "version": "3.6.5"
  }
 },
 "nbformat": 4,
 "nbformat_minor": 2
}
