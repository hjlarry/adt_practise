{
 "cells": [
  {
   "cell_type": "markdown",
   "metadata": {},
   "source": [
    "使用线程允许一个程序在同一个进程空间中并发运行多个操作。"
   ]
  },
  {
   "cell_type": "code",
   "execution_count": 1,
   "metadata": {},
   "outputs": [
    {
     "name": "stdout",
     "output_type": "stream",
     "text": [
      "Worker 0\n",
      "Thread-4\n",
      "Worker 1\n",
      "Thread-5\n",
      "Worker 2\n",
      "Thread-6\n",
      "Worker 3\n",
      "Thread-7\n",
      "Worker 4\n",
      "Thread-8\n"
     ]
    }
   ],
   "source": [
    "import threading\n",
    "\n",
    "def worker(num):\n",
    "    \"\"\"thread worker function\"\"\"\n",
    "    print(f'Worker {num}')\n",
    "    print(threading.current_thread().getName())\n",
    "\n",
    "threads = []\n",
    "for i in range(5):\n",
    "    t = threading.Thread(target=worker, args=(i,))\n",
    "    threads.append(t)\n",
    "    t.start()"
   ]
  },
  {
   "cell_type": "code",
   "execution_count": 2,
   "metadata": {},
   "outputs": [
    {
     "name": "stderr",
     "output_type": "stream",
     "text": [
      "[DEBUG] (Thread-9  ) Starting\n",
      "[DEBUG] (Thread-10 ) Starting\n",
      "[DEBUG] (Thread-9  ) Exit\n",
      "[DEBUG] (Thread-10 ) Exit\n"
     ]
    }
   ],
   "source": [
    "import logging\n",
    "import time\n",
    "# logging 模块支持在日志信息中写入线程的名字，你可以用格式化代码 %(threadName)s 来得到它。\n",
    "def worker():\n",
    "    logging.debug('Starting')\n",
    "    time.sleep(0.2)\n",
    "    logging.debug('Exit')\n",
    "    \n",
    "def service():\n",
    "    logging.debug('Starting')\n",
    "    time.sleep(0.5)\n",
    "    logging.debug('Exit')\n",
    "    \n",
    "t1 = threading.Thread(target=worker)\n",
    "t2 = threading.Thread(target=service)\n",
    "logging.basicConfig(level=logging.DEBUG, format=\"[%(levelname)s] (%(threadName)-10s) %(message)s\")\n",
    "\n",
    "t1.start()\n",
    "t2.start()"
   ]
  },
  {
   "cell_type": "markdown",
   "metadata": {},
   "source": [
    "## 守护线程"
   ]
  },
  {
   "cell_type": "code",
   "execution_count": 15,
   "metadata": {},
   "outputs": [
    {
     "name": "stderr",
     "output_type": "stream",
     "text": [
      "[DEBUG] (daemon    ) Daemon Starting\n",
      "[DEBUG] (non-daemon) Starting\n",
      "[DEBUG] (non-daemon) Exit\n",
      "[DEBUG] (daemon    ) Daemon Exit\n"
     ]
    }
   ],
   "source": [
    "def daemon():\n",
    "    logging.debug('Daemon Starting')\n",
    "    time.sleep(0.2)\n",
    "    logging.debug('Daemon Exit')\n",
    "    \n",
    "def non_daemon():\n",
    "    logging.debug('Starting')\n",
    "    logging.debug('Exit')\n",
    "    \n",
    "t1 = threading.Thread(target=daemon, daemon=True, name='daemon')\n",
    "t2 = threading.Thread(target=non_daemon, name='non-daemon')\n",
    "logging.basicConfig(level=logging.DEBUG, format=\"[%(levelname)s] (%(threadName)-10s) %(message)s\")\n",
    "\n",
    "t1.start()\n",
    "t2.start()"
   ]
  },
  {
   "cell_type": "markdown",
   "metadata": {},
   "source": [
    "```\n",
    "➜  practise git:(master) ✗ /usr/local/opt/python3/bin/python3.6 /Users/hejl/local/practise/standard_library/test.py\n",
    "[DEBUG] (daemon    ) Daemon Starting\n",
    "[DEBUG] (non-daemon) Starting\n",
    "[DEBUG] (non-daemon) Exit\n",
    "```"
   ]
  },
  {
   "cell_type": "markdown",
   "metadata": {},
   "source": [
    "t1.join()则会使守护线程持续执行下去，join参数timeout设置后，若超时线程并未结束，则join会返回，不会继续等待。\n",
    "## 枚举所有线程"
   ]
  },
  {
   "cell_type": "code",
   "execution_count": 19,
   "metadata": {},
   "outputs": [
    {
     "name": "stderr",
     "output_type": "stream",
     "text": [
      "[DEBUG] (Thread-64 ) Daemon Starting sleep 0.30\n",
      "[DEBUG] (Thread-65 ) Daemon Starting sleep 0.20\n",
      "[DEBUG] (Thread-66 ) Daemon Starting sleep 0.30\n",
      "[DEBUG] (MainThread) Thread-2 joining\n"
     ]
    },
    {
     "name": "stdout",
     "output_type": "stream",
     "text": [
      "[<_MainThread(MainThread, started 4670985664)>, <Thread(Thread-2, started daemon 123145391505408)>, <Heartbeat(Thread-3, started daemon 123145396760576)>, <HistorySavingThread(IPythonHistorySavingThread, started 123145403088896)>, <ParentPollerUnix(Thread-1, started daemon 123145408344064)>, <Thread(Thread-64, started daemon 123145413599232)>, <Thread(Thread-65, started daemon 123145418854400)>, <Thread(Thread-66, started daemon 123145424109568)>]\n"
     ]
    },
    {
     "name": "stderr",
     "output_type": "stream",
     "text": [
      "[DEBUG] (Thread-65 ) Daemon Exit\n",
      "[DEBUG] (Thread-64 ) Daemon Exit\n",
      "[DEBUG] (Thread-66 ) Daemon Exit\n"
     ]
    },
    {
     "ename": "KeyboardInterrupt",
     "evalue": "",
     "output_type": "error",
     "traceback": [
      "\u001b[0;31m---------------------------------------------------------------------------\u001b[0m",
      "\u001b[0;31mKeyboardInterrupt\u001b[0m                         Traceback (most recent call last)",
      "\u001b[0;32m<ipython-input-19-2d4028a169b1>\u001b[0m in \u001b[0;36m<module>\u001b[0;34m()\u001b[0m\n\u001b[1;32m     19\u001b[0m         \u001b[0;32mcontinue\u001b[0m\u001b[0;34m\u001b[0m\u001b[0m\n\u001b[1;32m     20\u001b[0m     \u001b[0mlogging\u001b[0m\u001b[0;34m.\u001b[0m\u001b[0mdebug\u001b[0m\u001b[0;34m(\u001b[0m\u001b[0;34m'%s joining'\u001b[0m \u001b[0;34m,\u001b[0m \u001b[0mt\u001b[0m\u001b[0;34m.\u001b[0m\u001b[0mgetName\u001b[0m\u001b[0;34m(\u001b[0m\u001b[0;34m)\u001b[0m\u001b[0;34m)\u001b[0m\u001b[0;34m\u001b[0m\u001b[0m\n\u001b[0;32m---> 21\u001b[0;31m     \u001b[0mt\u001b[0m\u001b[0;34m.\u001b[0m\u001b[0mjoin\u001b[0m\u001b[0;34m(\u001b[0m\u001b[0;34m)\u001b[0m\u001b[0;34m\u001b[0m\u001b[0m\n\u001b[0m",
      "\u001b[0;32m/usr/local/Cellar/python3/3.6.4_1/Frameworks/Python.framework/Versions/3.6/lib/python3.6/threading.py\u001b[0m in \u001b[0;36mjoin\u001b[0;34m(self, timeout)\u001b[0m\n\u001b[1;32m   1054\u001b[0m \u001b[0;34m\u001b[0m\u001b[0m\n\u001b[1;32m   1055\u001b[0m         \u001b[0;32mif\u001b[0m \u001b[0mtimeout\u001b[0m \u001b[0;32mis\u001b[0m \u001b[0;32mNone\u001b[0m\u001b[0;34m:\u001b[0m\u001b[0;34m\u001b[0m\u001b[0m\n\u001b[0;32m-> 1056\u001b[0;31m             \u001b[0mself\u001b[0m\u001b[0;34m.\u001b[0m\u001b[0m_wait_for_tstate_lock\u001b[0m\u001b[0;34m(\u001b[0m\u001b[0;34m)\u001b[0m\u001b[0;34m\u001b[0m\u001b[0m\n\u001b[0m\u001b[1;32m   1057\u001b[0m         \u001b[0;32melse\u001b[0m\u001b[0;34m:\u001b[0m\u001b[0;34m\u001b[0m\u001b[0m\n\u001b[1;32m   1058\u001b[0m             \u001b[0;31m# the behavior of a negative timeout isn't documented, but\u001b[0m\u001b[0;34m\u001b[0m\u001b[0;34m\u001b[0m\u001b[0m\n",
      "\u001b[0;32m/usr/local/Cellar/python3/3.6.4_1/Frameworks/Python.framework/Versions/3.6/lib/python3.6/threading.py\u001b[0m in \u001b[0;36m_wait_for_tstate_lock\u001b[0;34m(self, block, timeout)\u001b[0m\n\u001b[1;32m   1070\u001b[0m         \u001b[0;32mif\u001b[0m \u001b[0mlock\u001b[0m \u001b[0;32mis\u001b[0m \u001b[0;32mNone\u001b[0m\u001b[0;34m:\u001b[0m  \u001b[0;31m# already determined that the C code is done\u001b[0m\u001b[0;34m\u001b[0m\u001b[0m\n\u001b[1;32m   1071\u001b[0m             \u001b[0;32massert\u001b[0m \u001b[0mself\u001b[0m\u001b[0;34m.\u001b[0m\u001b[0m_is_stopped\u001b[0m\u001b[0;34m\u001b[0m\u001b[0m\n\u001b[0;32m-> 1072\u001b[0;31m         \u001b[0;32melif\u001b[0m \u001b[0mlock\u001b[0m\u001b[0;34m.\u001b[0m\u001b[0macquire\u001b[0m\u001b[0;34m(\u001b[0m\u001b[0mblock\u001b[0m\u001b[0;34m,\u001b[0m \u001b[0mtimeout\u001b[0m\u001b[0;34m)\u001b[0m\u001b[0;34m:\u001b[0m\u001b[0;34m\u001b[0m\u001b[0m\n\u001b[0m\u001b[1;32m   1073\u001b[0m             \u001b[0mlock\u001b[0m\u001b[0;34m.\u001b[0m\u001b[0mrelease\u001b[0m\u001b[0;34m(\u001b[0m\u001b[0;34m)\u001b[0m\u001b[0;34m\u001b[0m\u001b[0m\n\u001b[1;32m   1074\u001b[0m             \u001b[0mself\u001b[0m\u001b[0;34m.\u001b[0m\u001b[0m_stop\u001b[0m\u001b[0;34m(\u001b[0m\u001b[0;34m)\u001b[0m\u001b[0;34m\u001b[0m\u001b[0m\n",
      "\u001b[0;31mKeyboardInterrupt\u001b[0m: "
     ]
    }
   ],
   "source": [
    "import random\n",
    "\n",
    "def worker():\n",
    "    pause = random.randint(1,5)/10\n",
    "    logging.debug('Daemon Starting sleep %0.2f', pause)\n",
    "    time.sleep(pause)\n",
    "    logging.debug('Daemon Exit')\n",
    "    \n",
    "logging.basicConfig(level=logging.DEBUG, format=\"[%(levelname)s] (%(threadName)-10s) %(message)s\")\n",
    "for i in range(3):\n",
    "    t = threading.Thread(target=worker, daemon=True)\n",
    "    t.start()\n",
    "    \n",
    "main_thread = threading.main_thread()\n",
    "\n",
    "print(threading.enumerate())\n",
    "for t in threading.enumerate():\n",
    "    if t is main_thread:\n",
    "        continue\n",
    "    logging.debug('%s joining' , t.getName())\n",
    "    t.join()"
   ]
  },
  {
   "cell_type": "markdown",
   "metadata": {},
   "source": [
    "## 继承thread"
   ]
  },
  {
   "cell_type": "code",
   "execution_count": 24,
   "metadata": {},
   "outputs": [
    {
     "name": "stderr",
     "output_type": "stream",
     "text": [
      "[DEBUG] (Thread-87 ) this running\n",
      "[DEBUG] (Thread-88 ) this running\n",
      "[DEBUG] (Thread-87 ) ('dss', 'asa')\n",
      "[DEBUG] (Thread-89 ) this running\n",
      "[DEBUG] (Thread-90 ) this running\n",
      "[DEBUG] (Thread-90 ) ('dss', 'asa')\n",
      "[DEBUG] (Thread-91 ) this running\n",
      "[DEBUG] (Thread-91 ) ('dss', 'asa')\n",
      "[DEBUG] (Thread-88 ) ('dss', 'asa')\n",
      "[DEBUG] (Thread-89 ) ('dss', 'asa')\n"
     ]
    }
   ],
   "source": [
    "class MyThread(threading.Thread):\n",
    "    def run(self):   # 重写run方法，没有运行target\n",
    "        logging.debug('this running')\n",
    "        logging.debug(self._args)\n",
    "for i in range(5):\n",
    "    t = MyThread(target=worker, args=('dss','asa'))\n",
    "    t.start()"
   ]
  },
  {
   "cell_type": "markdown",
   "metadata": {},
   "source": [
    "Timer 提供了一个继承 Thread 的例子，也包含在 threading 模块中。Timer 在延迟一段时间后启动工作，他可以在延迟的这段时间内任何时间点取消。"
   ]
  },
  {
   "cell_type": "code",
   "execution_count": 27,
   "metadata": {},
   "outputs": [
    {
     "name": "stderr",
     "output_type": "stream",
     "text": [
      "[DEBUG] (MainThread) starting timers\n",
      "[DEBUG] (MainThread) waiting before canceling t2\n",
      "[DEBUG] (MainThread) canceling t2\n",
      "[DEBUG] (MainThread) done\n",
      "[DEBUG] (t1        ) worker running\n"
     ]
    }
   ],
   "source": [
    "def delayed():\n",
    "    logging.debug('worker running')\n",
    "    \n",
    "t1 = threading.Timer(0.3, delayed)\n",
    "t2 = threading.Timer(0.3, delayed)\n",
    "t1.setName('t1')\n",
    "t2.setName('t2')\n",
    "logging.debug('starting timers')\n",
    "t1.start()\n",
    "t2.start()\n",
    "\n",
    "logging.debug('waiting before canceling %s', t2.getName())\n",
    "time.sleep(0.2)\n",
    "logging.debug('canceling %s', t2.getName())\n",
    "t2.cancel()  # 在delay参数内可以取消执行\n",
    "logging.debug('done')"
   ]
  },
  {
   "cell_type": "markdown",
   "metadata": {},
   "source": [
    "## 线程同步"
   ]
  },
  {
   "cell_type": "code",
   "execution_count": 8,
   "metadata": {},
   "outputs": [],
   "source": [
    "def wait_for_event(e):\n",
    "    logging.debug('wait_for_event starting')\n",
    "    event_is_set = e.wait()  \n",
    "    logging.debug('event set: %s', event_is_set)\n",
    "    \n",
    "def wait_for_event_timeout(e, t):\n",
    "    while not e.is_set():\n",
    "        logging.debug('wait_for_event_timeout starting')\n",
    "        event_is_set = e.wait(t)\n",
    "        logging.debug('event set: %s', event_is_set)\n",
    "        if event_is_set:\n",
    "            logging.debug('processing event')\n",
    "        else:\n",
    "            logging.debug('doing other work')"
   ]
  },
  {
   "cell_type": "code",
   "execution_count": 9,
   "metadata": {},
   "outputs": [
    {
     "name": "stderr",
     "output_type": "stream",
     "text": [
      "[DEBUG] (block     ) wait_for_event starting\n",
      "[DEBUG] (nonblock  ) wait_for_event_timeout starting\n",
      "[DEBUG] (MainThread) Waiting before calling event.set()\n",
      "[DEBUG] (MainThread) Event is set\n",
      "[DEBUG] (block     ) event set: True\n",
      "[DEBUG] (nonblock  ) event set: True\n",
      "[DEBUG] (nonblock  ) processing event\n"
     ]
    }
   ],
   "source": [
    "e = threading.Event()\n",
    "t1 = threading.Thread(name='block', target=wait_for_event, args=(e,))\n",
    "t2 = threading.Thread(name='nonblock', target=wait_for_event_timeout, args=(e,2))\n",
    "t1.start()\n",
    "t2.start()\n",
    "logging.debug('Waiting before calling event.set()')\n",
    "time.sleep(0.3)\n",
    "e.set()\n",
    "logging.debug('Event is set')"
   ]
  },
  {
   "cell_type": "markdown",
   "metadata": {},
   "source": [
    "wait() 方法可以接收一个参数，表示事件等待的超时时间"
   ]
  },
  {
   "cell_type": "code",
   "execution_count": 14,
   "metadata": {},
   "outputs": [
    {
     "name": "stderr",
     "output_type": "stream",
     "text": [
      "[DEBUG] (0         ) Sleeping 0.72\n",
      "[DEBUG] (1         ) Sleeping 0.05\n",
      "[DEBUG] (MainThread) Waiting for work threads\n",
      "[DEBUG] (1         ) Waiting for lock\n",
      "[DEBUG] (1         ) Lock acquired\n",
      "[DEBUG] (1         ) Sleeping 0.38\n",
      "[DEBUG] (1         ) Waiting for lock\n",
      "[DEBUG] (1         ) Lock acquired\n",
      "[DEBUG] (1         ) Done\n",
      "[DEBUG] (0         ) Waiting for lock\n",
      "[DEBUG] (0         ) Lock acquired\n",
      "[DEBUG] (0         ) Sleeping 0.06\n",
      "[DEBUG] (0         ) Waiting for lock\n",
      "[DEBUG] (0         ) Lock acquired\n",
      "[DEBUG] (0         ) Done\n",
      "[DEBUG] (MainThread) Count value 4\n"
     ]
    }
   ],
   "source": [
    "import random\n",
    "class Counter:\n",
    "    def __init__(self, start=0):\n",
    "        self.lock = threading.Lock()\n",
    "        self.value = start\n",
    "    def increment(self):\n",
    "        logging.debug('Waiting for lock')\n",
    "        self.lock.acquire()\n",
    "        try:\n",
    "            logging.debug('Lock acquired')\n",
    "            self.value = self.value + 1    # 获取锁后对值操作，保证多个线程同时修改其内部状态不会出问题\n",
    "        finally:\n",
    "            self.lock.release()\n",
    "            \n",
    "def worker(c):\n",
    "    for i in range(2):\n",
    "        pause = random.random()\n",
    "        logging.debug('Sleeping %0.02f', pause)\n",
    "        time.sleep(pause)\n",
    "        c.increment()\n",
    "    logging.debug('Done')\n",
    "    \n",
    "counter = Counter()\n",
    "for i in range(2):\n",
    "    t = threading.Thread(target=worker, args=(counter, ), name=str(i))\n",
    "    t.start()\n",
    "    \n",
    "logging.debug('Waiting for work threads')\n",
    "for t in threading.enumerate():\n",
    "    if t.getName() == str(0) or t.getName() == str(1):\n",
    "        t.join()\n",
    "logging.debug('Count value %d', counter.value)"
   ]
  },
  {
   "cell_type": "code",
   "execution_count": 16,
   "metadata": {},
   "outputs": [
    {
     "name": "stderr",
     "output_type": "stream",
     "text": [
      "[DEBUG] (lock_holder) Starting\n",
      "[DEBUG] (worker    ) work starting\n",
      "[DEBUG] (lock_holder) Holding\n",
      "[DEBUG] (lock_holder) Not holding\n",
      "[DEBUG] (worker    ) Trying lock acquire\n",
      "[DEBUG] (worker    ) Iteration 1: Not Acquired\n",
      "[DEBUG] (lock_holder) Holding\n",
      "[DEBUG] (lock_holder) Not holding\n",
      "[DEBUG] (worker    ) Trying lock acquire\n",
      "[DEBUG] (worker    ) Iteration 2: Acquired\n",
      "[DEBUG] (lock_holder) Holding\n",
      "[DEBUG] (worker    ) Trying lock acquire\n",
      "[DEBUG] (worker    ) Iteration 3: Not Acquired\n",
      "[DEBUG] (lock_holder) Not holding\n",
      "[DEBUG] (worker    ) Trying lock acquire\n",
      "[DEBUG] (worker    ) Iteration 4: Not Acquired\n",
      "[DEBUG] (lock_holder) Holding\n",
      "[DEBUG] (lock_holder) Not holding\n",
      "[DEBUG] (worker    ) Trying lock acquire\n",
      "[DEBUG] (worker    ) Iteration 5: Acquired\n",
      "[DEBUG] (lock_holder) Holding\n",
      "[DEBUG] (worker    ) Trying lock acquire\n",
      "[DEBUG] (worker    ) Iteration 6: Not Acquired\n",
      "[DEBUG] (lock_holder) Not holding\n",
      "[DEBUG] (worker    ) Trying lock acquire\n",
      "[DEBUG] (worker    ) Iteration 7: Not Acquired\n",
      "[DEBUG] (lock_holder) Holding\n",
      "[DEBUG] (lock_holder) Not holding\n",
      "[DEBUG] (worker    ) Trying lock acquire\n",
      "[DEBUG] (worker    ) Iteration 8: Acquired\n",
      "[DEBUG] (worker    ) Done after 8 acquires\n",
      "[DEBUG] (lock_holder) Holding\n",
      "[DEBUG] (lock_holder) Not holding\n",
      "[DEBUG] (lock_holder) Holding\n",
      "[DEBUG] (lock_holder) Not holding\n",
      "[DEBUG] (lock_holder) Holding\n",
      "[DEBUG] (lock_holder) Not holding\n",
      "[DEBUG] (lock_holder) Holding\n",
      "[DEBUG] (lock_holder) Not holding\n",
      "[DEBUG] (lock_holder) Holding\n",
      "[DEBUG] (lock_holder) Not holding\n",
      "[DEBUG] (lock_holder) Holding\n",
      "[DEBUG] (lock_holder) Not holding\n",
      "[DEBUG] (lock_holder) Holding\n",
      "[DEBUG] (lock_holder) Not holding\n",
      "[DEBUG] (lock_holder) Holding\n",
      "[DEBUG] (lock_holder) Not holding\n",
      "[DEBUG] (lock_holder) Holding\n",
      "[DEBUG] (lock_holder) Not holding\n",
      "[DEBUG] (lock_holder) Holding\n",
      "[DEBUG] (lock_holder) Not holding\n",
      "[DEBUG] (lock_holder) Holding\n"
     ]
    }
   ],
   "source": [
    "def lock_holder(lock):\n",
    "    logging.debug('Starting')\n",
    "    while True:\n",
    "        lock.acquire()\n",
    "        try:\n",
    "            logging.debug('Holding')\n",
    "            time.sleep(1)\n",
    "        finally:\n",
    "            logging.debug('Not holding')\n",
    "            lock.release()\n",
    "        time.sleep(0.5)\n",
    "\n",
    "def worker(lock):\n",
    "    logging.debug('work starting')\n",
    "    num_tries = 0\n",
    "    num_acquires = 0\n",
    "    while num_acquires < 3:\n",
    "        time.sleep(0.5)\n",
    "        logging.debug('Trying lock acquire')\n",
    "        have_it = lock.acquire(0) # 从当前线程中得知锁是否被其他线程占用可以向 acquire() 传递 False 来立即得知。\n",
    "        try:\n",
    "            num_tries += 1\n",
    "            if have_it:\n",
    "                logging.debug('Iteration %d: Acquired', num_tries)\n",
    "                num_acquires += 1\n",
    "            else:\n",
    "                logging.debug('Iteration %d: Not Acquired', num_tries)\n",
    "        finally:\n",
    "            if have_it:\n",
    "                lock.release()\n",
    "    logging.debug('Done after %d acquires', num_tries)\n",
    "    \n",
    "lock = threading.Lock()\n",
    "t1 = threading.Thread(target=lock_holder, name='lock_holder', args=(lock,), daemon=True)\n",
    "t2 = threading.Thread(target=worker, name='worker', args=(lock,))          \n",
    "t1.start()\n",
    "t2.start()"
   ]
  },
  {
   "cell_type": "markdown",
   "metadata": {},
   "source": [
    "为了获取三次锁而尝试了8次。"
   ]
  },
  {
   "cell_type": "code",
   "execution_count": 1,
   "metadata": {},
   "outputs": [
    {
     "name": "stdout",
     "output_type": "stream",
     "text": [
      "first try, True\n",
      "second try, False\n",
      "first try, True\n",
      "second try, True\n",
      "third try, True\n"
     ]
    }
   ],
   "source": [
    "import threading\n",
    "lock = threading.Lock()\n",
    "print('first try,', lock.acquire())\n",
    "print('second try,', lock.acquire(0))\n",
    "\n",
    "rlock = threading.RLock()\n",
    "print('first try,', rlock.acquire())\n",
    "print('second try,', rlock.acquire(0))\n",
    "print('third try,', rlock.acquire(0))\n",
    "# acquire() 两次，release() 也要两次"
   ]
  },
  {
   "cell_type": "code",
   "execution_count": 2,
   "metadata": {},
   "outputs": [
    {
     "name": "stderr",
     "output_type": "stream",
     "text": [
      "(Thread-4  ) lock acquired via with\n",
      "(Thread-5  ) lock acquired via try\n"
     ]
    }
   ],
   "source": [
    "import logging\n",
    "logging.basicConfig(\n",
    "    level=logging.DEBUG,\n",
    "    format='(%(threadName)-10s) %(message)s',\n",
    ")\n",
    "# worker_with() 和 worker_no_with() 所实现的功能一模一样的。\n",
    "def worker_with(lock):\n",
    "    with lock:\n",
    "        logging.debug('lock acquired via with')\n",
    "def worker_no_with(lock):\n",
    "    lock.acquire()\n",
    "    try:\n",
    "        logging.debug('lock acquired via try')\n",
    "    finally:\n",
    "        lock.release()\n",
    "lock = threading.Lock()\n",
    "w = threading.Thread(target=worker_with, args=(lock,))\n",
    "nw = threading.Thread(target=worker_no_with, args=(lock,))\n",
    "\n",
    "w.start()\n",
    "nw.start()"
   ]
  },
  {
   "cell_type": "code",
   "execution_count": 9,
   "metadata": {},
   "outputs": [
    {
     "name": "stderr",
     "output_type": "stream",
     "text": [
      "(c1        ) Starting consumer\n",
      "(c2        ) Starting consumer\n",
      "(p         ) Starting producer\n",
      "(p         ) making resource available1\n",
      "(c1        ) Resource is available to consumer\n",
      "(c2        ) Resource is available to consumer\n"
     ]
    }
   ],
   "source": [
    "import time\n",
    "def consumer(cond):\n",
    "    logging.debug('Starting consumer')\n",
    "    with cond:\n",
    "        cond.wait()\n",
    "        logging.debug('Resource is available to consumer')\n",
    "def producer(cond):\n",
    "    logging.debug('Starting producer')\n",
    "    with cond:\n",
    "        \n",
    "        cond.notifyAll()\n",
    "        logging.debug('making resource available1')\n",
    "        \n",
    "logging.basicConfig(\n",
    "    level=logging.DEBUG,\n",
    "    format='%(asctime)s (%(threadName)-2s) %(message)s',\n",
    ")\n",
    "condition = threading.Condition()\n",
    "c1 = threading.Thread(target=consumer, args=(condition, ), name='c1')\n",
    "c2 = threading.Thread(target=consumer, args=(condition, ), name='c2')\n",
    "p = threading.Thread(target=producer, args=(condition, ), name='p')\n",
    "c1.start()\n",
    "time.sleep(2)\n",
    "c2.start()\n",
    "time.sleep(2)\n",
    "p.start()"
   ]
  },
  {
   "cell_type": "markdown",
   "metadata": {},
   "source": [
    "除了使用 Events，另一种同步线程的方法是使用 Condition 对象。 Condition 使用了 Lock，所以它会绑定共享的资源，也就会让多个线程等待资源更新完成。\n",
    "\n",
    "屏障」（Barrier）是另一种线程同步的机制。每个 Barrier 会建立起一个控制点，所有处在其中的线程都会被阻塞，直到所有的线程都到达这个控制点。它会让所有的线程单独启动，然后在它们全都准备好执行下一步前先阻塞住。"
   ]
  },
  {
   "cell_type": "code",
   "execution_count": 12,
   "metadata": {},
   "outputs": [
    {
     "name": "stdout",
     "output_type": "stream",
     "text": [
      "worker-0 starting\n",
      "worker-0 wait for barrier with 0 others\n",
      "worker-1 starting\n",
      "worker-1 wait for barrier with 1 others\n",
      "worker-2 starting\n",
      "worker-2 wait for barrier with 2 others\n",
      "worker-2 after barrier  2\n",
      "worker-0 after barrier  0\n",
      "worker-1 after barrier  1\n"
     ]
    }
   ],
   "source": [
    "def worker(barrier):\n",
    "    print(threading.current_thread().name, f\"wait for barrier with {barrier.n_waiting} others\")\n",
    "    worker_id = barrier.wait()\n",
    "    print(f\"{threading.current_thread().name} after barrier  {worker_id}\")\n",
    "\n",
    "NUM_T = 3\n",
    "barrier = threading.Barrier(NUM_T)\n",
    "threads = [threading.Thread(name=f'worker-{i}', target=worker, args=(barrier,)) for i in range(NUM_T)]\n",
    "for t in threads:\n",
    "    print(t.name, 'starting')\n",
    "    t.start()\n",
    "    time.sleep(0.1)\n",
    "\n",
    "for t in threads:\n",
    "    t.join()"
   ]
  },
  {
   "cell_type": "code",
   "execution_count": 14,
   "metadata": {},
   "outputs": [
    {
     "name": "stdout",
     "output_type": "stream",
     "text": [
      "worker-0 starting\n",
      "worker-0 wait for barrier with 0 others\n",
      "worker-1 starting\n",
      "worker-1 wait for barrier with 1 others\n",
      "worker-2 starting\n",
      "worker-2 wait for barrier with 2 others\n",
      "worker-0 abortingworker-1 aborting\n",
      "worker-2 aborting\n",
      "\n"
     ]
    }
   ],
   "source": [
    "def worker(barrier):\n",
    "    print(threading.current_thread().name, f\"wait for barrier with {barrier.n_waiting} others\")\n",
    "    try:\n",
    "        worker_id = barrier.wait()\n",
    "    except threading.BrokenBarrierError:\n",
    "        print(f'{threading.current_thread().name} aborting')\n",
    "    else:\n",
    "        print(f\"{threading.current_thread().name} after barrier  {worker_id}\")\n",
    "\n",
    "NUM_T = 3\n",
    "barrier = threading.Barrier(NUM_T + 1)\n",
    "threads = [threading.Thread(name=f'worker-{i}', target=worker, args=(barrier,)) for i in range(NUM_T)]\n",
    "for t in threads:\n",
    "    print(t.name, 'starting')\n",
    "    t.start()\n",
    "    time.sleep(0.1)\n",
    "barrier.abort()\n",
    "for t in threads:\n",
    "    t.join()"
   ]
  },
  {
   "cell_type": "markdown",
   "metadata": {},
   "source": [
    "Barrier 的 abort() 方法会导致所有等待中的线程接收到一个 BrokenBarrierError。 我们可以使用此方法来告知那些被阻塞住的线程该结束了。这次我们将 Barrier 设置成比实际开始的线程多一个，这样所有的线程就会被阻塞住，我们调用 abort() 就可以引起 BrokenBarrierError 了。"
   ]
  },
  {
   "cell_type": "code",
   "execution_count": 16,
   "metadata": {},
   "outputs": [
    {
     "name": "stderr",
     "output_type": "stream",
     "text": [
      "(0         ) Wait for join the pool\n",
      "(1         ) Wait for join the pool\n",
      "(2         ) Wait for join the pool\n",
      "(0         ) Running ['0']\n",
      "(3         ) Wait for join the pool\n",
      "(1         ) Running ['0', '1']\n",
      "(0         ) Running ['1']\n",
      "(2         ) Running ['1', '2']\n",
      "(1         ) Running ['2']\n",
      "(3         ) Running ['2', '3']\n",
      "(2         ) Running ['3']\n",
      "(3         ) Running []\n"
     ]
    }
   ],
   "source": [
    "class ActivePool:\n",
    "    def __init__(self):\n",
    "        self.active = []\n",
    "        self.lock = threading.Lock()\n",
    "    def make_active(self, name):\n",
    "        with self.lock:\n",
    "            self.active.append(name)\n",
    "            logging.debug(f\"Running {self.active}\")\n",
    "    def make_inactive(self, name):\n",
    "        with self.lock:\n",
    "            self.active.remove(name)\n",
    "            logging.debug(f\"Running {self.active}\")\n",
    "            \n",
    "def worker(s, pool):\n",
    "    logging.debug('Wait for join the pool')\n",
    "    with s:\n",
    "        name = threading.current_thread().getName()\n",
    "        pool.make_active(name)\n",
    "        time.sleep(1)\n",
    "        pool.make_inactive(name)\n",
    "        \n",
    "pool = ActivePool()\n",
    "s = threading.Semaphore(2)\n",
    "\n",
    "for i in range(4):\n",
    "    t = threading.Thread(target=worker, name=str(i), args=(s, pool))\n",
    "    t.start()\n",
    "        "
   ]
  },
  {
   "cell_type": "markdown",
   "metadata": {},
   "source": [
    "有时我们需要允许多个工作函数在同一时间访问同一个资源，但我们也要限制可访问的总数。  \n",
    "ActivePool 类只是用来追踪给定时刻下哪些线程在工作的。如果是实际情况中，资源池一般还要分配连接或者其他值给新的活动线程，并且当线程结束后回收这些值。\n",
    "\n",
    "## thread local"
   ]
  },
  {
   "cell_type": "code",
   "execution_count": 18,
   "metadata": {},
   "outputs": [
    {
     "name": "stderr",
     "output_type": "stream",
     "text": [
      "(MainThread) Not value yet\n",
      "(MainThread) value=1000\n",
      "(Thread-8  ) Not value yet\n",
      "(Thread-9  ) Not value yet\n",
      "(Thread-8  ) value=10\n",
      "(Thread-9  ) value=25\n"
     ]
    }
   ],
   "source": [
    "import random\n",
    "def show_value(data):\n",
    "    try:\n",
    "        val=data.value\n",
    "    except AttributeError:\n",
    "        logging.debug('Not value yet')\n",
    "    else:\n",
    "        logging.debug('value=%s', val)\n",
    "        \n",
    "def worker(data):\n",
    "    show_value(data)\n",
    "    data.value = random.randint(1,100)\n",
    "    show_value(data)\n",
    "    \n",
    "local_data = threading.local()\n",
    "show_value(local_data)\n",
    "local_data.value = 1000\n",
    "show_value(local_data)\n",
    "\n",
    "for i in range(2):\n",
    "    t = threading.Thread(target=worker, args=(local_data,))\n",
    "    t.start()"
   ]
  },
  {
   "cell_type": "markdown",
   "metadata": {},
   "source": [
    "local() 类可以在每个线程中创建一个用于隐藏值的对象容器。 local_data.value 在当前的线程设置任何值前，对于当前线程来说它都什么都没有。"
   ]
  },
  {
   "cell_type": "code",
   "execution_count": 19,
   "metadata": {},
   "outputs": [
    {
     "name": "stderr",
     "output_type": "stream",
     "text": [
      "(MainThread) Initializing <__main__.MyLocal object at 0x107e93d68>\n",
      "(MainThread) value=1000\n",
      "(Thread-10 ) Initializing <__main__.MyLocal object at 0x107e93d68>\n",
      "(Thread-11 ) Initializing <__main__.MyLocal object at 0x107e93d68>\n",
      "(Thread-10 ) value=1000\n",
      "(Thread-11 ) value=1000\n",
      "(Thread-10 ) value=44\n",
      "(Thread-11 ) value=12\n"
     ]
    }
   ],
   "source": [
    "class MyLocal(threading.local):\n",
    "    def __init__(self, value):\n",
    "        super().__init__()\n",
    "        logging.debug('Initializing %r', self)\n",
    "        self.value = value\n",
    "        \n",
    "    \n",
    "local_data = MyLocal(1000)\n",
    "show_value(local_data)\n",
    "\n",
    "for i in range(2):\n",
    "    t = threading.Thread(target=worker, args=(local_data,))\n",
    "    t.start()"
   ]
  },
  {
   "cell_type": "code",
   "execution_count": null,
   "metadata": {},
   "outputs": [],
   "source": []
  }
 ],
 "metadata": {
  "kernelspec": {
   "display_name": "Python 3",
   "language": "python",
   "name": "python3"
  },
  "language_info": {
   "codemirror_mode": {
    "name": "ipython",
    "version": 3
   },
   "file_extension": ".py",
   "mimetype": "text/x-python",
   "name": "python",
   "nbconvert_exporter": "python",
   "pygments_lexer": "ipython3",
   "version": "3.6.5"
  }
 },
 "nbformat": 4,
 "nbformat_minor": 2
}
