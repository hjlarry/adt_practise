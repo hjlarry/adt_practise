{
 "cells": [
  {
   "cell_type": "code",
   "execution_count": 2,
   "metadata": {},
   "outputs": [
    {
     "name": "stdout",
     "output_type": "stream",
     "text": [
      "                User time (ru_utime  ) = 0.406485\n",
      "              System time (ru_stime  ) = 0.040246\n",
      "   Max. Resident Set Size (ru_maxrss ) = 48224\n",
      "       Shared Memory Size (ru_ixrss  ) = 0\n",
      "     Unshared Memory Size (ru_idrss  ) = 0\n",
      "               Stack Size (ru_isrss  ) = 0\n",
      "             Block inputs (ru_inblock) = 0\n",
      "            Block outputs (ru_oublock) = 128\n"
     ]
    }
   ],
   "source": [
    "import resource\n",
    "import time\n",
    "\n",
    "RESOURCES = [\n",
    "    ('ru_utime', 'User time'),\n",
    "    ('ru_stime', 'System time'),\n",
    "    ('ru_maxrss', 'Max. Resident Set Size'),\n",
    "    ('ru_ixrss', 'Shared Memory Size'),\n",
    "    ('ru_idrss', 'Unshared Memory Size'),\n",
    "    ('ru_isrss', 'Stack Size'),\n",
    "    ('ru_inblock', 'Block inputs'),\n",
    "    ('ru_oublock', 'Block outputs'),\n",
    "]\n",
    "# 使用 getrusage() 来探测当前进程和/或其子进程使用的资源。 返回值是一个数据结构，包含基于系统当前状态的多个资源指标。\n",
    "usage = resource.getrusage(resource.RUSAGE_SELF)\n",
    "\n",
    "for name, desc in RESOURCES:\n",
    "    print(f\"{desc :>25} ({name:<10}) = {getattr(usage, name)}\")"
   ]
  },
  {
   "cell_type": "code",
   "execution_count": 3,
   "metadata": {},
   "outputs": [
    {
     "name": "stdout",
     "output_type": "stream",
     "text": [
      "core file size          0/-1\n",
      "CPU time                -1/-1\n",
      "file size               -1/-1\n",
      "heap size               -1/-1\n",
      "stack size              8388608/-1\n",
      "resident set size       -1/-1\n",
      "number of processes     31405/31405\n",
      "number of open files    1024/4096\n",
      "lockable memory address 16777216/16777216\n"
     ]
    }
   ],
   "source": [
    "LIMITS = [\n",
    "    ('RLIMIT_CORE', 'core file size'),\n",
    "    ('RLIMIT_CPU', 'CPU time'),\n",
    "    ('RLIMIT_FSIZE', 'file size'),\n",
    "    ('RLIMIT_DATA', 'heap size'),\n",
    "    ('RLIMIT_STACK', 'stack size'),\n",
    "    ('RLIMIT_RSS', 'resident set size'),\n",
    "    ('RLIMIT_NPROC', 'number of processes'),\n",
    "    ('RLIMIT_NOFILE', 'number of open files'),\n",
    "    ('RLIMIT_MEMLOCK', 'lockable memory address'),\n",
    "]\n",
    "\n",
    "for name, desc in LIMITS:\n",
    "    limit_num = getattr(resource, name)\n",
    "    # 每个限制的返回值是一个元组，其中包含当前配置强加的 软 限制和操作系统强加的 硬 限制。\n",
    "    soft, hard = resource.getrlimit(limit_num)\n",
    "    print(f\"{desc:<23} {soft}/{hard}\")"
   ]
  },
  {
   "cell_type": "code",
   "execution_count": 8,
   "metadata": {},
   "outputs": [
    {
     "name": "stdout",
     "output_type": "stream",
     "text": [
      "soft limit starts as 1024\n",
      "soft limit sets to 100\n",
      "4096\n"
     ]
    }
   ],
   "source": [
    "soft, hard = resource.getrlimit(resource.RLIMIT_NOFILE)\n",
    "print(\"soft limit starts as\", soft)\n",
    "\n",
    "resource.setrlimit(resource.RLIMIT_NOFILE, (100, hard))\n",
    "\n",
    "soft, hard = resource.getrlimit(resource.RLIMIT_NOFILE)\n",
    "print(\"soft limit sets to\", soft)\n",
    "print(hard)"
   ]
  },
  {
   "cell_type": "code",
   "execution_count": 1,
   "metadata": {},
   "outputs": [
    {
     "name": "stdout",
     "output_type": "stream",
     "text": [
      "soft limit starts as -1\n",
      "soft limit sets to 1\n",
      "-1\n",
      "starting: Sat Oct 27 11:04:36 2018\n",
      "expired Sat Oct 27 11:04:37 2018\n"
     ]
    },
    {
     "ename": "SystemExit",
     "evalue": "(time ran out)",
     "output_type": "error",
     "traceback": [
      "An exception has occurred, use %tb to see the full traceback.\n",
      "\u001b[0;31mSystemExit\u001b[0m\u001b[0;31m:\u001b[0m (time ran out)\n"
     ]
    },
    {
     "name": "stderr",
     "output_type": "stream",
     "text": [
      "/home/hejl/.local/lib/python3.6/site-packages/IPython/core/interactiveshell.py:3273: UserWarning: To exit: use 'exit', 'quit', or Ctrl-D.\n",
      "  warn(\"To exit: use 'exit', 'quit', or Ctrl-D.\", stacklevel=1)\n"
     ]
    }
   ],
   "source": [
    "import sys\n",
    "import signal\n",
    "import time\n",
    "import resource\n",
    "\n",
    "# 设置一个信号处理程序，以便在我们用完时通知我们\n",
    "def time_expired(n, stack):\n",
    "    print('expired', time.ctime())\n",
    "    raise SystemExit('(time ran out)')\n",
    "    \n",
    "signal.signal(signal.SIGXCPU, time_expired)\n",
    "\n",
    "soft, hard = resource.getrlimit(resource.RLIMIT_CPU)\n",
    "print(\"soft limit starts as\", soft)\n",
    "\n",
    "# 调整CPU时间限制\n",
    "resource.setrlimit(resource.RLIMIT_CPU, (1, hard))\n",
    "\n",
    "soft, hard = resource.getrlimit(resource.RLIMIT_CPU)\n",
    "print(\"soft limit sets to\", soft)\n",
    "print(hard)\n",
    "\n",
    "\n",
    "print('starting:', time.ctime())\n",
    "\n",
    "# 消耗CPU时间\n",
    "for i in range(200000):\n",
    "    for i in range(200000):\n",
    "        v = i*i\n",
    "\n",
    "# 永远也运行不到这里\n",
    "print('Exiting:', time.ctime())        "
   ]
  },
  {
   "cell_type": "code",
   "execution_count": null,
   "metadata": {},
   "outputs": [],
   "source": []
  }
 ],
 "metadata": {
  "kernelspec": {
   "display_name": "Python 3",
   "language": "python",
   "name": "python3"
  },
  "language_info": {
   "codemirror_mode": {
    "name": "ipython",
    "version": 3
   },
   "file_extension": ".py",
   "mimetype": "text/x-python",
   "name": "python",
   "nbconvert_exporter": "python",
   "pygments_lexer": "ipython3",
   "version": "3.6.6"
  }
 },
 "nbformat": 4,
 "nbformat_minor": 2
}
