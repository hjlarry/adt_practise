{
 "cells": [
  {
   "cell_type": "code",
   "execution_count": 3,
   "metadata": {},
   "outputs": [
    {
     "name": "stdout",
     "output_type": "stream",
     "text": [
      "link nodes Graph(one).next=Graph(two)\n",
      "link nodes Graph(two).next=Graph(three)\n",
      "link nodes Graph(three).next=Graph(one)\n",
      "{'name': 'three', 'next': Graph(one)}\n",
      "<class '__main__.Graph'>\n"
     ]
    }
   ],
   "source": [
    "import gc\n",
    "import pprint\n",
    "\n",
    "class Graph:\n",
    "    def __init__(self, name):\n",
    "        self.name = name\n",
    "        self.next = None\n",
    "        \n",
    "    def set_next(self, next):\n",
    "        print(f'link nodes {self}.next={next}')\n",
    "        self.next = next\n",
    "        \n",
    "    def __repr__(self):\n",
    "        return f\"{self.__class__.__name__}({self.name})\"\n",
    "    \n",
    "one = Graph('one')\n",
    "two = Graph('two')\n",
    "three = Graph('three')\n",
    "one.set_next(two)\n",
    "two.set_next(three)\n",
    "three.set_next(one)\n",
    "\n",
    "for r in gc.get_referents(three):\n",
    "    pprint.pprint(r)"
   ]
  },
  {
   "cell_type": "code",
   "execution_count": 4,
   "metadata": {},
   "outputs": [
    {
     "data": {
      "text/plain": [
       "[{'name': 'three', 'next': Graph(one)}, __main__.Graph]"
      ]
     },
     "execution_count": 4,
     "metadata": {},
     "output_type": "execute_result"
    }
   ],
   "source": [
    "gc.get_referents(three)  # get_referents() 函数可以根据输入的参数显示对象的 引用目标"
   ]
  },
  {
   "cell_type": "code",
   "execution_count": 5,
   "metadata": {},
   "outputs": [
    {
     "name": "stdout",
     "output_type": "stream",
     "text": [
      "examining Graph(three)\n",
      "examining {'name': 'three', 'next': Graph(one)}\n",
      "examining Graph(one)\n",
      "examining {'name': 'one', 'next': Graph(two)}\n",
      "examining Graph(two)\n",
      "examining {'name': 'two', 'next': Graph(three)}\n",
      "found a circle to  Graph(three)\n",
      " 0: Graph(three)\n",
      " 1: {'name': 'three', 'next': Graph(one)}\n",
      " 2: Graph(one)\n",
      " 3: {'name': 'one', 'next': Graph(two)}\n",
      " 4: Graph(two)\n",
      " 5: {'name': 'two', 'next': Graph(three)}\n"
     ]
    }
   ],
   "source": [
    "import queue\n",
    "\n",
    "seen = set()\n",
    "to_process = queue.Queue()\n",
    "\n",
    "to_process.put(([], three))\n",
    "\n",
    "while not to_process.empty():\n",
    "    chain, next = to_process.get()\n",
    "    chain = chain[:]\n",
    "    chain.append(next)\n",
    "    print('examining', repr(next))\n",
    "    seen.add(id(next))\n",
    "    for r in gc.get_referents(next):\n",
    "        if isinstance(r, str) or isinstance(r, type):\n",
    "            pass\n",
    "        elif id(r) in seen:\n",
    "            print('found a circle to ', r)\n",
    "            for i, link in enumerate(chain):\n",
    "                print(f\" {i}:\", end=' ')\n",
    "                pprint.pprint(link)\n",
    "        else:\n",
    "            to_process.put((chain, r))"
   ]
  },
  {
   "cell_type": "code",
   "execution_count": 6,
   "metadata": {},
   "outputs": [
    {
     "name": "stdout",
     "output_type": "stream",
     "text": [
      "\n",
      "Collecting 0\n",
      "unreachable objs:  55\n",
      "Remaining Garbage:\n",
      "[]\n",
      "\n",
      "Collecting 1\n",
      "unreachable objs:  0\n",
      "Remaining Garbage:\n",
      "[]\n"
     ]
    }
   ],
   "source": [
    "# 从模块的命名空间中删除这些节点的引用\n",
    "one = two = three = None\n",
    "\n",
    "for i in range(2):\n",
    "    print(f'\\nCollecting {i}')\n",
    "    n = gc.collect()\n",
    "    print('unreachable objs: ',n)\n",
    "    print('Remaining Garbage:')\n",
    "    pprint.pprint(gc.garbage)"
   ]
  },
  {
   "cell_type": "code",
   "execution_count": 2,
   "metadata": {},
   "outputs": [
    {
     "name": "stdout",
     "output_type": "stream",
     "text": [
      "Graph(one).__del__()\n",
      "Graph(two).__del__()\n",
      "Graph(three).__del__()\n",
      "link nodes Graph(one).next=Graph(two)\n",
      "link nodes Graph(two).next=Graph(three)\n",
      "link nodes Graph(three).next=Graph(one)\n",
      "Collecting...\n",
      "unreachable objs:  9\n",
      "Remaining Garbage:\n",
      "[]\n",
      "\n",
      "clearing referrers:\n",
      "looking for reference to  Graph(one)\n",
      "looking for reference to  {'name': 'three', 'next': Graph(one)}\n",
      "found referrer: Graph(three)\n",
      "link nodes Graph(three).next=None\n",
      "looking for reference to  Graph(two)\n",
      "looking for reference to  {'name': 'one', 'next': Graph(two)}\n",
      "found referrer: Graph(one)\n",
      "link nodes Graph(one).next=None\n",
      "looking for reference to  Graph(three)\n",
      "looking for reference to  {'name': 'two', 'next': Graph(three)}\n",
      "found referrer: Graph(two)\n",
      "link nodes Graph(two).next=None\n",
      "\n",
      "clearing gc.garbage:\n",
      "Collecting...\n",
      "unreachable objs:  0\n",
      "Remaining Garbage:\n",
      "[]\n"
     ]
    }
   ],
   "source": [
    "import gc\n",
    "import pprint\n",
    "\n",
    "class Graph:\n",
    "    def __init__(self, name):\n",
    "        self.name = name\n",
    "        self.next = None\n",
    "        \n",
    "    def set_next(self, next):\n",
    "        print(f'link nodes {self}.next={next}')\n",
    "        self.next = next\n",
    "        \n",
    "    def __repr__(self):\n",
    "        return f\"{self.__class__.__name__}({self.name})\"\n",
    "    \n",
    "    def __del__(self):\n",
    "        # 在jupyter中未被调用，但在gc_get_referrers.py中是可以的\n",
    "        print(f\"{self}.__del__()\")\n",
    "    \n",
    "one = Graph('one')\n",
    "two = Graph('two')\n",
    "three = Graph('three')\n",
    "one.set_next(two)\n",
    "two.set_next(three)\n",
    "three.set_next(one)\n",
    "\n",
    "print('Collecting...')\n",
    "n = gc.collect()\n",
    "print('unreachable objs: ',n)\n",
    "print('Remaining Garbage:')\n",
    "pprint.pprint(gc.garbage)\n",
    "\n",
    "# 定义我们要从本模块的本地变量，全局变量和垃圾回收器自己的记录中忽略一些引用\n",
    "REFERERS_TO_IGNORE = [locals(), globals(), gc.garbage]\n",
    "\n",
    "def find_referring_graphs(obj):\n",
    "    print('looking for reference to ',obj)\n",
    "    referers = (r for r in gc.get_referrers(obj) if r not in REFERERS_TO_IGNORE)\n",
    "    for ref in referers:\n",
    "        if isinstance(ref, Graph):\n",
    "            yield ref\n",
    "        elif isinstance(ref, dict):\n",
    "            for parent in find_referring_graphs(ref):\n",
    "                yield parent\n",
    "                \n",
    "print()\n",
    "print('clearing referrers:')\n",
    "for obj in [one, two, three]:\n",
    "    for ref in find_referring_graphs(obj):\n",
    "        print('found referrer:', ref)\n",
    "        ref.set_next(None)\n",
    "        del ref\n",
    "    del obj\n",
    "\n",
    "print()\n",
    "print('clearing gc.garbage:')\n",
    "del gc.garbage[:]\n",
    "\n",
    "print('Collecting...')\n",
    "n = gc.collect()\n",
    "print('unreachable objs: ',n)\n",
    "print('Remaining Garbage:')\n",
    "pprint.pprint(gc.garbage)"
   ]
  },
  {
   "cell_type": "code",
   "execution_count": null,
   "metadata": {},
   "outputs": [],
   "source": []
  }
 ],
 "metadata": {
  "kernelspec": {
   "display_name": "Python 3",
   "language": "python",
   "name": "python3"
  },
  "language_info": {
   "codemirror_mode": {
    "name": "ipython",
    "version": 3
   },
   "file_extension": ".py",
   "mimetype": "text/x-python",
   "name": "python",
   "nbconvert_exporter": "python",
   "pygments_lexer": "ipython3",
   "version": "3.6.6"
  }
 },
 "nbformat": 4,
 "nbformat_minor": 2
}
