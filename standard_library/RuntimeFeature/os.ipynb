{
 "cells": [
  {
   "cell_type": "code",
   "execution_count": 1,
   "metadata": {},
   "outputs": [
    {
     "name": "stdout",
     "output_type": "stream",
     "text": [
      "['.gitkeeper', '.ipynb_checkpoints', 'os.ipynb']\n"
     ]
    }
   ],
   "source": [
    "import os\n",
    "\n",
    "print(sorted(os.listdir('.')))"
   ]
  },
  {
   "cell_type": "code",
   "execution_count": 7,
   "metadata": {},
   "outputs": [
    {
     "name": "stdout",
     "output_type": "stream",
     "text": [
      "/tmp\n",
      "['systemd-private-3d1c98679ff2484b8d233f3cf6d15c6b-systemd-resolved.service-y5oldG', '.X11-unix', '.XIM-unix', 'systemd-private-3d1c98679ff2484b8d233f3cf6d15c6b-systemd-timesyncd.service-D3CrRT', 'systemd-private-3d1c98679ff2484b8d233f3cf6d15c6b-rtkit-daemon.service-Hs25bB', '.com.google.Chrome.xp3vve', 'systemd-private-3d1c98679ff2484b8d233f3cf6d15c6b-bolt.service-ZZElYM', 'Temp-f3d620e8-6f36-435d-9639-17b0ba0a25b4', '.Test-unix', '.ICE-unix', 'systemd-private-3d1c98679ff2484b8d233f3cf6d15c6b-fwupd.service-OMsosT', 'systemd-private-3d1c98679ff2484b8d233f3cf6d15c6b-colord.service-T2MWe4', '.font-unix', 'ssh-l04iMwQFuUEB']\n",
      "['config-err-qqake4']\n",
      "/tmp/.X11-unix\n",
      "[]\n",
      "['X0', 'X1']\n",
      "/tmp/.XIM-unix\n",
      "[]\n",
      "[]\n",
      "/tmp/.com.google.Chrome.xp3vve\n",
      "[]\n",
      "['SingletonCookie', 'SingletonSocket']\n",
      "/tmp/Temp-f3d620e8-6f36-435d-9639-17b0ba0a25b4\n",
      "[]\n",
      "[]\n",
      "/tmp/.Test-unix\n",
      "[]\n",
      "[]\n",
      "/tmp/.ICE-unix\n",
      "[]\n",
      "['1031', '2146']\n",
      "/tmp/.font-unix\n",
      "[]\n",
      "[]\n",
      "/tmp/ssh-l04iMwQFuUEB\n",
      "[]\n",
      "['agent.2146']\n"
     ]
    }
   ],
   "source": [
    "for dir_name, sub_dirs, files in os.walk('/tmp'):\n",
    "    print(dir_name)\n",
    "    print(sub_dirs)\n",
    "    print(files)"
   ]
  },
  {
   "cell_type": "code",
   "execution_count": 8,
   "metadata": {},
   "outputs": [
    {
     "name": "stdout",
     "output_type": "stream",
     "text": [
      ".gitkeeper file\n",
      ".ipynb_checkpoints dir\n",
      "os.ipynb file\n"
     ]
    }
   ],
   "source": [
    "for entry in os.scandir('.'):\n",
    "    if entry.is_dir():\n",
    "        typ = 'dir'\n",
    "    elif entry.is_file():\n",
    "        typ = 'file'\n",
    "    elif entry.is_symlink():\n",
    "        typ = 'link'\n",
    "    else:\n",
    "        typ = 'unknown'\n",
    "    print('{name} {typ}'.format(\n",
    "        name=entry.name,\n",
    "        typ=typ,\n",
    "    ))"
   ]
  },
  {
   "cell_type": "code",
   "execution_count": 9,
   "metadata": {},
   "outputs": [],
   "source": [
    "stat_info = os.stat('.gitkeeper')"
   ]
  },
  {
   "cell_type": "code",
   "execution_count": 10,
   "metadata": {},
   "outputs": [
    {
     "data": {
      "text/plain": [
       "0"
      ]
     },
     "execution_count": 10,
     "metadata": {},
     "output_type": "execute_result"
    }
   ],
   "source": [
    "stat_info.st_size"
   ]
  },
  {
   "cell_type": "code",
   "execution_count": 12,
   "metadata": {},
   "outputs": [
    {
     "data": {
      "text/plain": [
       "'0o100644'"
      ]
     },
     "execution_count": 12,
     "metadata": {},
     "output_type": "execute_result"
    }
   ],
   "source": [
    "oct(stat_info.st_mode)"
   ]
  },
  {
   "cell_type": "code",
   "execution_count": 13,
   "metadata": {},
   "outputs": [
    {
     "data": {
      "text/plain": [
       "1538411536.5826325"
      ]
     },
     "execution_count": 13,
     "metadata": {},
     "output_type": "execute_result"
    }
   ],
   "source": [
    "stat_info.st_ctime"
   ]
  },
  {
   "cell_type": "code",
   "execution_count": 14,
   "metadata": {},
   "outputs": [
    {
     "name": "stdout",
     "output_type": "stream",
     "text": [
      "Adding execute permission\n"
     ]
    }
   ],
   "source": [
    "import stat\n",
    "\n",
    "filename = 'os_stat_chmod_example.txt'\n",
    "if os.path.exists(filename):\n",
    "    os.unlink(filename)\n",
    "with open(filename, 'wt') as f:\n",
    "    f.write('contents')\n",
    "\n",
    "# 使用 stat 函数判断文件当前的权限\n",
    "existing_permissions = stat.S_IMODE(os.stat(filename).st_mode)\n",
    "\n",
    "if not os.access(filename, os.X_OK):\n",
    "    print('Adding execute permission')\n",
    "    new_permissions = existing_permissions | stat.S_IXUSR\n",
    "else:\n",
    "    print('Removing execute permission')\n",
    "    # 使用 xor 异或清除用户的执行权限\n",
    "    new_permissions = existing_permissions ^ stat.S_IXUSR\n",
    "\n",
    "os.chmod(filename, new_permissions)"
   ]
  },
  {
   "cell_type": "code",
   "execution_count": 15,
   "metadata": {},
   "outputs": [
    {
     "name": "stdout",
     "output_type": "stream",
     "text": [
      "Exists: True\n",
      "Readable: True\n",
      "Writable: True\n",
      "Executable: False\n"
     ]
    }
   ],
   "source": [
    "print('Exists:', os.access('.gitkeeper', os.F_OK))\n",
    "print('Readable:', os.access('.gitkeeper', os.R_OK))\n",
    "print('Writable:', os.access('.gitkeeper', os.W_OK))\n",
    "print('Executable:', os.access('.gitkeeper', os.X_OK))"
   ]
  },
  {
   "cell_type": "code",
   "execution_count": 17,
   "metadata": {},
   "outputs": [
    {
     "name": "stdout",
     "output_type": "stream",
     "text": [
      "Before Change:\n",
      "User (actual/effective): 1000 / 1000\n",
      "Group (actual/effective): 1000 / 1000\n",
      "Actual Groups: [4, 24, 27, 30, 46, 116, 126, 1000] \n",
      "\n",
      "Error: could not change effective group\n",
      "Error: could not change effective user\n"
     ]
    }
   ],
   "source": [
    "TEST_GID = 502\n",
    "TEST_UID = 502\n",
    "\n",
    "def show_user_info():\n",
    "    print(f\"User (actual/effective): {os.getuid()} / {os.geteuid()}\")\n",
    "    print(f\"Group (actual/effective): {os.getgid()} / {os.getegid()}\")\n",
    "    print(f\"Actual Groups: {os.getgroups()} \")\n",
    "    \n",
    "print('Before Change:')\n",
    "show_user_info()\n",
    "print()\n",
    "\n",
    "try:\n",
    "    os.setegid(TEST_GID) # 使用sudo运行时则可以更改\n",
    "except OSError:  \n",
    "    print('Error: could not change effective group')\n",
    "else:\n",
    "    print('Change group:')\n",
    "    show_user_info()\n",
    "    print()\n",
    "    \n",
    "try:\n",
    "    os.seteuid(TEST_UID)\n",
    "except OSError:\n",
    "    print('Error: could not change effective user')\n",
    "else:\n",
    "    print('Change user:')\n",
    "    show_user_info()"
   ]
  },
  {
   "cell_type": "code",
   "execution_count": 18,
   "metadata": {},
   "outputs": [
    {
     "name": "stdout",
     "output_type": "stream",
     "text": [
      "this value\n"
     ]
    }
   ],
   "source": [
    "os.environ['TESTVAR'] = 'this value'\n",
    "print(os.environ.get('TESTVAR'))"
   ]
  },
  {
   "cell_type": "code",
   "execution_count": 23,
   "metadata": {},
   "outputs": [
    {
     "name": "stdout",
     "output_type": "stream",
     "text": [
      "Starting /home/hejl/practise/standard_library/RuntimeFeature\n",
      "Move to  ..\n",
      "Current /home/hejl/practise/standard_library\n",
      "Move back /home/hejl/practise/standard_library/RuntimeFeature\n"
     ]
    }
   ],
   "source": [
    "start = os.getcwd()\n",
    "print('Starting', start)\n",
    "print('Move to ', os.pardir)\n",
    "os.chdir(os.pardir)\n",
    "print('Current', os.getcwd())\n",
    "os.chdir(start)\n",
    "print('Move back', os.getcwd())"
   ]
  },
  {
   "cell_type": "code",
   "execution_count": 24,
   "metadata": {},
   "outputs": [
    {
     "data": {
      "text/plain": [
       "0"
      ]
     },
     "execution_count": 24,
     "metadata": {},
     "output_type": "execute_result"
    }
   ],
   "source": [
    "os.system('pwd')  # run in shell to see correct result"
   ]
  },
  {
   "cell_type": "code",
   "execution_count": 25,
   "metadata": {},
   "outputs": [
    {
     "data": {
      "text/plain": [
       "0"
      ]
     },
     "execution_count": 25,
     "metadata": {},
     "output_type": "execute_result"
    }
   ],
   "source": [
    "os.system('echo $TMPDIR')"
   ]
  },
  {
   "cell_type": "code",
   "execution_count": 26,
   "metadata": {},
   "outputs": [
    {
     "name": "stdout",
     "output_type": "stream",
     "text": [
      "child process in 9728\n",
      "parent process\n",
      "ERROR! Session/line number was not unique in database. History logging moved to new session 16\n"
     ]
    }
   ],
   "source": [
    "pid = os.fork()\n",
    "if pid:\n",
    "    print('child process in', pid)\n",
    "else:\n",
    "    print('parent process')"
   ]
  },
  {
   "cell_type": "code",
   "execution_count": 27,
   "metadata": {},
   "outputs": [
    {
     "name": "stdout",
     "output_type": "stream",
     "text": [
      "CHILD: Setting up signal handler\n",
      "CHILD: Pausing to wait for signal\n",
      "Forking\n",
      "Parent: pausing before sending signal\n",
      "Parent signaling  9778\n",
      "receive usr1 in process 9778\n",
      "ERROR! Session/line number was not unique in database. History logging moved to new session 15\n"
     ]
    }
   ],
   "source": [
    "import signal\n",
    "import time\n",
    "\n",
    "def signal_usr1(signum, frame):\n",
    "    pid = os.getpid()\n",
    "    print('receive usr1 in process', pid)\n",
    "    \n",
    "print('Forking')\n",
    "child_pid = os.fork()\n",
    "if child_pid:\n",
    "    print('Parent: pausing before sending signal')\n",
    "    time.sleep(1)\n",
    "    print('Parent signaling ', child_pid)\n",
    "    os.kill(child_pid, signal.SIGUSR1)\n",
    "else:\n",
    "    print('CHILD: Setting up signal handler')\n",
    "    signal.signal(signal.SIGUSR1, signal_usr1)\n",
    "    print('CHILD: Pausing to wait for signal')\n",
    "    time.sleep(5)"
   ]
  },
  {
   "cell_type": "markdown",
   "metadata": {},
   "source": [
    "许多计算密集型程序利用多进程来解决Python和全局解释器锁的线程限制。 当启动多个进程来运行单独的任务时，主进程需要等待其中一个或多个进程完成才能启动新的任务，避免服务器过载。 使用 wait() 及其相关函数，有几种不同的方法。\n",
    "\n",
    "如果不关心哪个子进程会先退出，使用 wait() 。只要有子进程退出，它就会立即返回。"
   ]
  },
  {
   "cell_type": "code",
   "execution_count": 28,
   "metadata": {},
   "outputs": [
    {
     "name": "stdout",
     "output_type": "stream",
     "text": [
      "Worker 0 starting\n",
      "Parent 7334 : Forking 0\n",
      "Parent 7334 : Forking 1\n",
      "Worker 1 starting\n",
      "Parent 7334 : Forking 0\n",
      "Parent 7334 : Forking 1\n",
      "Parent waiting for  0\n",
      "Worker 0 finish\n"
     ]
    },
    {
     "ename": "SystemExit",
     "evalue": "0",
     "output_type": "error",
     "traceback": [
      "An exception has occurred, use %tb to see the full traceback.\n",
      "\u001b[0;31mSystemExit\u001b[0m\u001b[0;31m:\u001b[0m 0\n"
     ]
    },
    {
     "name": "stderr",
     "output_type": "stream",
     "text": [
      "/home/hejl/.local/lib/python3.6/site-packages/IPython/core/interactiveshell.py:3273: UserWarning: To exit: use 'exit', 'quit', or Ctrl-D.\n",
      "  warn(\"To exit: use 'exit', 'quit', or Ctrl-D.\", stacklevel=1)\n"
     ]
    },
    {
     "name": "stdout",
     "output_type": "stream",
     "text": [
      "Worker 1 finish\n"
     ]
    },
    {
     "ename": "SystemExit",
     "evalue": "1",
     "output_type": "error",
     "traceback": [
      "An exception has occurred, use %tb to see the full traceback.\n",
      "\u001b[0;31mSystemExit\u001b[0m\u001b[0;31m:\u001b[0m 1\n"
     ]
    },
    {
     "name": "stderr",
     "output_type": "stream",
     "text": [
      "/home/hejl/.local/lib/python3.6/site-packages/IPython/core/interactiveshell.py:3273: UserWarning: To exit: use 'exit', 'quit', or Ctrl-D.\n",
      "  warn(\"To exit: use 'exit', 'quit', or Ctrl-D.\", stacklevel=1)\n"
     ]
    },
    {
     "name": "stdout",
     "output_type": "stream",
     "text": [
      "ERROR! Session/line number was not unique in database. History logging moved to new session 14\n"
     ]
    },
    {
     "ename": "KeyboardInterrupt",
     "evalue": "",
     "output_type": "error",
     "traceback": [
      "\u001b[0;31m---------------------------------------------------------------------------\u001b[0m",
      "\u001b[0;31mKeyboardInterrupt\u001b[0m                         Traceback (most recent call last)",
      "\u001b[0;32m<ipython-input-28-f295ffa5e025>\u001b[0m in \u001b[0;36m<module>\u001b[0;34m\u001b[0m\n\u001b[1;32m     12\u001b[0m \u001b[0;32mfor\u001b[0m \u001b[0mi\u001b[0m \u001b[0;32min\u001b[0m \u001b[0mrange\u001b[0m\u001b[0;34m(\u001b[0m\u001b[0;36m2\u001b[0m\u001b[0;34m)\u001b[0m\u001b[0;34m:\u001b[0m\u001b[0;34m\u001b[0m\u001b[0m\n\u001b[1;32m     13\u001b[0m     \u001b[0mprint\u001b[0m\u001b[0;34m(\u001b[0m\u001b[0;34m'Parent waiting for '\u001b[0m\u001b[0;34m,\u001b[0m \u001b[0mi\u001b[0m\u001b[0;34m)\u001b[0m\u001b[0;34m\u001b[0m\u001b[0m\n\u001b[0;32m---> 14\u001b[0;31m     \u001b[0mdone\u001b[0m \u001b[0;34m=\u001b[0m \u001b[0mos\u001b[0m\u001b[0;34m.\u001b[0m\u001b[0mwait\u001b[0m\u001b[0;34m(\u001b[0m\u001b[0;34m)\u001b[0m\u001b[0;34m\u001b[0m\u001b[0m\n\u001b[0m\u001b[1;32m     15\u001b[0m     \u001b[0mprint\u001b[0m\u001b[0;34m(\u001b[0m\u001b[0;34m'Parent child done '\u001b[0m\u001b[0;34m,\u001b[0m \u001b[0mdone\u001b[0m\u001b[0;34m)\u001b[0m\u001b[0;34m\u001b[0m\u001b[0m\n\u001b[1;32m     16\u001b[0m \u001b[0;34m\u001b[0m\u001b[0m\n",
      "\u001b[0;31mKeyboardInterrupt\u001b[0m: "
     ]
    }
   ],
   "source": [
    "import sys\n",
    "\n",
    "for i in range(2):\n",
    "    print(f\"Parent {os.getpid()} : Forking {i}\")\n",
    "    worker_pid = os.fork()\n",
    "    if not worker_pid:\n",
    "        print(f\"Worker {i} starting\")\n",
    "        time.sleep(2+i)\n",
    "        print(f\"Worker {i} finish\")\n",
    "        sys.exit(i)\n",
    "\n",
    "for i in range(2):\n",
    "    print('Parent waiting for ', i)\n",
    "    done = os.wait()\n",
    "    print('Parent child done ', done)\n",
    "        "
   ]
  },
  {
   "cell_type": "code",
   "execution_count": 29,
   "metadata": {},
   "outputs": [
    {
     "name": "stdout",
     "output_type": "stream",
     "text": [
      "Worker 1 starting\n",
      "Worker 0 starting\n",
      "Parent 7334 : Forking 0\n",
      "Parent 7334 : Forking 1\n",
      "Parent waiting for pid 10418\n",
      "Worker 0 finish\n"
     ]
    },
    {
     "ename": "SystemExit",
     "evalue": "0",
     "output_type": "error",
     "traceback": [
      "An exception has occurred, use %tb to see the full traceback.\n",
      "\u001b[0;31mSystemExit\u001b[0m\u001b[0;31m:\u001b[0m 0\n"
     ]
    },
    {
     "name": "stderr",
     "output_type": "stream",
     "text": [
      "/home/hejl/.local/lib/python3.6/site-packages/IPython/core/interactiveshell.py:3273: UserWarning: To exit: use 'exit', 'quit', or Ctrl-D.\n",
      "  warn(\"To exit: use 'exit', 'quit', or Ctrl-D.\", stacklevel=1)\n"
     ]
    },
    {
     "name": "stdout",
     "output_type": "stream",
     "text": [
      "Worker 1 finish\n"
     ]
    },
    {
     "ename": "SystemExit",
     "evalue": "1",
     "output_type": "error",
     "traceback": [
      "An exception has occurred, use %tb to see the full traceback.\n",
      "\u001b[0;31mSystemExit\u001b[0m\u001b[0;31m:\u001b[0m 1\n"
     ]
    },
    {
     "name": "stderr",
     "output_type": "stream",
     "text": [
      "/home/hejl/.local/lib/python3.6/site-packages/IPython/core/interactiveshell.py:3273: UserWarning: To exit: use 'exit', 'quit', or Ctrl-D.\n",
      "  warn(\"To exit: use 'exit', 'quit', or Ctrl-D.\", stacklevel=1)\n"
     ]
    },
    {
     "ename": "KeyboardInterrupt",
     "evalue": "",
     "output_type": "error",
     "traceback": [
      "\u001b[0;31m---------------------------------------------------------------------------\u001b[0m",
      "\u001b[0;31mKeyboardInterrupt\u001b[0m                         Traceback (most recent call last)",
      "\u001b[0;32m<ipython-input-29-ebc85e27c1ab>\u001b[0m in \u001b[0;36m<module>\u001b[0;34m\u001b[0m\n\u001b[1;32m     12\u001b[0m \u001b[0;32mfor\u001b[0m \u001b[0mpid\u001b[0m \u001b[0;32min\u001b[0m \u001b[0mworkers\u001b[0m\u001b[0;34m:\u001b[0m\u001b[0;34m\u001b[0m\u001b[0m\n\u001b[1;32m     13\u001b[0m     \u001b[0mprint\u001b[0m\u001b[0;34m(\u001b[0m\u001b[0;34m'Parent waiting for pid'\u001b[0m\u001b[0;34m,\u001b[0m \u001b[0mpid\u001b[0m\u001b[0;34m)\u001b[0m\u001b[0;34m\u001b[0m\u001b[0m\n\u001b[0;32m---> 14\u001b[0;31m     \u001b[0mdone\u001b[0m \u001b[0;34m=\u001b[0m \u001b[0mos\u001b[0m\u001b[0;34m.\u001b[0m\u001b[0mwaitpid\u001b[0m\u001b[0;34m(\u001b[0m\u001b[0mpid\u001b[0m\u001b[0;34m,\u001b[0m\u001b[0;36m0\u001b[0m\u001b[0;34m)\u001b[0m\u001b[0;34m\u001b[0m\u001b[0m\n\u001b[0m\u001b[1;32m     15\u001b[0m     \u001b[0mprint\u001b[0m\u001b[0;34m(\u001b[0m\u001b[0;34m'Parent child done '\u001b[0m\u001b[0;34m,\u001b[0m \u001b[0mdone\u001b[0m\u001b[0;34m)\u001b[0m\u001b[0;34m\u001b[0m\u001b[0m\n",
      "\u001b[0;31mKeyboardInterrupt\u001b[0m: "
     ]
    }
   ],
   "source": [
    "workers = []\n",
    "for i in range(2):\n",
    "    print(f\"Parent {os.getpid()} : Forking {i}\")\n",
    "    worker_pid = os.fork()\n",
    "    if not worker_pid:\n",
    "        print(f\"Worker {i} starting\")\n",
    "        time.sleep(2+i)\n",
    "        print(f\"Worker {i} finish\")\n",
    "        sys.exit(i)\n",
    "    workers.append(worker_pid)\n",
    "\n",
    "for pid in workers:\n",
    "    print('Parent waiting for pid', pid)\n",
    "    done = os.waitpid(pid,0)\n",
    "    print('Parent child done ', done)"
   ]
  },
  {
   "cell_type": "code",
   "execution_count": 32,
   "metadata": {},
   "outputs": [
    {
     "name": "stdout",
     "output_type": "stream",
     "text": [
      " 2 ENOENT : No such file or directory\n",
      " 4 EINTR  : Interrupted system call\n",
      "16 EBUSY  : Device or resource busy\n"
     ]
    }
   ],
   "source": [
    "import errno\n",
    "for num in [errno.ENOENT, errno.EINTR, errno.EBUSY]:\n",
    "    name = errno.errorcode[num]\n",
    "    print(f\"{num :>2} {name:<6} : {os.strerror(num)}\")\n"
   ]
  },
  {
   "cell_type": "markdown",
   "metadata": {},
   "source": [
    "操作系统定义和 errno 管理的错误码能被 strerror() 转为消息字符串。"
   ]
  },
  {
   "cell_type": "code",
   "execution_count": null,
   "metadata": {},
   "outputs": [],
   "source": []
  }
 ],
 "metadata": {
  "kernelspec": {
   "display_name": "Python 3",
   "language": "python",
   "name": "python3"
  },
  "language_info": {
   "codemirror_mode": {
    "name": "ipython",
    "version": 3
   },
   "file_extension": ".py",
   "mimetype": "text/x-python",
   "name": "python",
   "nbconvert_exporter": "python",
   "pygments_lexer": "ipython3",
   "version": "3.6.6"
  }
 },
 "nbformat": 4,
 "nbformat_minor": 2
}
