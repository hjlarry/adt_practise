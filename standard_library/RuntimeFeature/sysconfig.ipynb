{
 "cells": [
  {
   "cell_type": "code",
   "execution_count": 2,
   "metadata": {},
   "outputs": [
    {
     "name": "stdout",
     "output_type": "stream",
     "text": [
      "found 654 config settings\n"
     ]
    }
   ],
   "source": [
    "import sysconfig\n",
    "\n",
    "config_values = sysconfig.get_config_vars()\n",
    "print(f'found {len(config_values)} config settings')"
   ]
  },
  {
   "cell_type": "code",
   "execution_count": 3,
   "metadata": {},
   "outputs": [
    {
     "name": "stdout",
     "output_type": "stream",
     "text": [
      "installation prefixes:\n",
      "prefix= /usr/local/opt/python/Frameworks/Python.framework/Versions/3.6\n",
      "exec_prefix= /usr/local/opt/python/Frameworks/Python.framework/Versions/3.6\n"
     ]
    }
   ],
   "source": [
    "print('installation prefixes:')\n",
    "print('prefix=',config_values['prefix'])\n",
    "print('exec_prefix=',config_values['exec_prefix'])"
   ]
  },
  {
   "cell_type": "code",
   "execution_count": 4,
   "metadata": {},
   "outputs": [
    {
     "name": "stdout",
     "output_type": "stream",
     "text": [
      "version info:\n",
      "3.6.5\n",
      "3.6\n",
      "36\n"
     ]
    }
   ],
   "source": [
    "print('version info:')\n",
    "print(config_values['py_version'])\n",
    "print(config_values['py_version_short'])\n",
    "print(config_values['py_version_nodot'])"
   ]
  },
  {
   "cell_type": "code",
   "execution_count": 5,
   "metadata": {},
   "outputs": [
    {
     "name": "stdout",
     "output_type": "stream",
     "text": [
      "base directories:\n",
      "/usr/local/Cellar/python/3.6.5_1/Frameworks/Python.framework/Versions/3.6\n",
      "/usr/local/Cellar/python/3.6.5_1/Frameworks/Python.framework/Versions/3.6\n",
      "/Users/hejl/Library/Python/3.6\n",
      "/usr/local/Cellar/python/3.6.5_1/Frameworks/Python.framework/Versions/3.6/lib/python3.6/config-3.6m-darwin\n"
     ]
    }
   ],
   "source": [
    "print('base directories:')\n",
    "print(config_values['base'])\n",
    "print(config_values['platbase'])\n",
    "print(config_values['userbase'])\n",
    "print(config_values['srcdir'])"
   ]
  },
  {
   "cell_type": "code",
   "execution_count": 7,
   "metadata": {},
   "outputs": [
    {
     "name": "stdout",
     "output_type": "stream",
     "text": [
      "compiler and linker flags:\n",
      "\n",
      "-Wno-unused-result -Wsign-compare -Wunreachable-code -fno-common -dynamic\n",
      "0\n"
     ]
    }
   ],
   "source": [
    "print('compiler and linker flags:')\n",
    "print(config_values['LDFLAGS'])\n",
    "print(config_values['BASECFLAGS'])\n",
    "print(config_values['Py_ENABLE_SHARED'])"
   ]
  },
  {
   "cell_type": "code",
   "execution_count": 8,
   "metadata": {},
   "outputs": [
    {
     "name": "stdout",
     "output_type": "stream",
     "text": [
      "/usr/local/Cellar/python/3.6.5_1/Frameworks/Python.framework/Versions/3.6\n",
      "/usr/local/Cellar/python/3.6.5_1/Frameworks/Python.framework/Versions/3.6\n",
      "/Users/hejl/Library/Python/3.6\n"
     ]
    }
   ],
   "source": [
    "bases = sysconfig.get_config_vars('base', 'platbase', 'userbase')\n",
    "for b in bases:\n",
    "    print(b)"
   ]
  },
  {
   "cell_type": "code",
   "execution_count": 9,
   "metadata": {},
   "outputs": [
    {
     "data": {
      "text/plain": [
       "'/Users/hejl/Library/Python/3.6'"
      ]
     },
     "execution_count": 9,
     "metadata": {},
     "output_type": "execute_result"
    }
   ],
   "source": [
    "sysconfig.get_config_var('userbase')"
   ]
  },
  {
   "cell_type": "code",
   "execution_count": 10,
   "metadata": {},
   "outputs": [
    {
     "name": "stdout",
     "output_type": "stream",
     "text": [
      "nt\n",
      "nt_user\n",
      "osx_framework_user\n",
      "posix_home\n",
      "posix_prefix\n",
      "posix_user\n"
     ]
    }
   ],
   "source": [
    "for name in sysconfig.get_scheme_names():\n",
    "    print(name)"
   ]
  },
  {
   "cell_type": "code",
   "execution_count": 11,
   "metadata": {},
   "outputs": [
    {
     "name": "stdout",
     "output_type": "stream",
     "text": [
      "stdlib\n",
      "platstdlib\n",
      "purelib\n",
      "platlib\n",
      "include\n",
      "scripts\n",
      "data\n"
     ]
    }
   ],
   "source": [
    "for name in sysconfig.get_path_names():\n",
    "    print(name)"
   ]
  },
  {
   "cell_type": "code",
   "execution_count": 13,
   "metadata": {},
   "outputs": [
    {
     "name": "stdout",
     "output_type": "stream",
     "text": [
      "posix_prefix\n",
      "prefix= /usr/local/Cellar/python/3.6.5_1/Frameworks/Python.framework/Versions/3.6\n",
      "data : /usr/local/Cellar/python/3.6.5_1/Frameworks/Python.framework/Versions/3.6\n",
      "include : /usr/local/Cellar/python/3.6.5_1/Frameworks/Python.framework/Versions/3.6/include/python3.6m\n",
      "platinclude : /usr/local/Cellar/python/3.6.5_1/Frameworks/Python.framework/Versions/3.6/include/python3.6m\n",
      "platlib : /usr/local/Cellar/python/3.6.5_1/Frameworks/Python.framework/Versions/3.6/lib/python3.6/site-packages\n",
      "platstdlib : /usr/local/Cellar/python/3.6.5_1/Frameworks/Python.framework/Versions/3.6/lib/python3.6\n",
      "purelib : /usr/local/Cellar/python/3.6.5_1/Frameworks/Python.framework/Versions/3.6/lib/python3.6/site-packages\n",
      "scripts : /usr/local/Cellar/python/3.6.5_1/Frameworks/Python.framework/Versions/3.6/bin\n",
      "stdlib : /usr/local/Cellar/python/3.6.5_1/Frameworks/Python.framework/Versions/3.6/lib/python3.6\n",
      "\n",
      "posix_user\n",
      "prefix= /Users/hejl/Library/Python/3.6\n",
      "data : /Users/hejl/Library/Python/3.6\n",
      "include : /Users/hejl/Library/Python/3.6/include/python3.6\n",
      "platlib : /Users/hejl/Library/Python/3.6/lib/python3.6/site-packages\n",
      "platstdlib : /Users/hejl/Library/Python/3.6/lib/python3.6\n",
      "purelib : /Users/hejl/Library/Python/3.6/lib/python3.6/site-packages\n",
      "scripts : /Users/hejl/Library/Python/3.6/bin\n",
      "stdlib : /Users/hejl/Library/Python/3.6/lib/python3.6\n",
      "\n"
     ]
    }
   ],
   "source": [
    "import os\n",
    "\n",
    "for scheme in ['posix_prefix', 'posix_user']:\n",
    "    print(scheme)\n",
    "    paths = sysconfig.get_paths(scheme=scheme)\n",
    "    prefix = os.path.commonprefix(list(paths.values()))\n",
    "    print('prefix=',prefix)\n",
    "    for name, path in sorted(paths.items()):\n",
    "        print(f'{name} : {path}')\n",
    "    print()"
   ]
  },
  {
   "cell_type": "code",
   "execution_count": 14,
   "metadata": {},
   "outputs": [
    {
     "name": "stdout",
     "output_type": "stream",
     "text": [
      "posix_prefix\n",
      "purelib= /usr/local/Cellar/python/3.6.5_1/Frameworks/Python.framework/Versions/3.6/lib/python3.6/site-packages\n",
      "\n",
      "posix_user\n",
      "purelib= /Users/hejl/Library/Python/3.6/lib/python3.6/site-packages\n",
      "\n"
     ]
    }
   ],
   "source": [
    "for scheme in ['posix_prefix', 'posix_user']:\n",
    "    print(scheme)\n",
    "    print('purelib=',sysconfig.get_path(name='purelib', scheme=scheme))\n",
    "    print()"
   ]
  },
  {
   "cell_type": "code",
   "execution_count": 15,
   "metadata": {},
   "outputs": [
    {
     "data": {
      "text/plain": [
       "'macosx-10.13-x86_64'"
      ]
     },
     "execution_count": 15,
     "metadata": {},
     "output_type": "execute_result"
    }
   ],
   "source": [
    "sysconfig.get_platform()"
   ]
  },
  {
   "cell_type": "code",
   "execution_count": 16,
   "metadata": {},
   "outputs": [
    {
     "data": {
      "text/plain": [
       "'3.6'"
      ]
     },
     "execution_count": 16,
     "metadata": {},
     "output_type": "execute_result"
    }
   ],
   "source": [
    "sysconfig.get_python_version()"
   ]
  },
  {
   "cell_type": "code",
   "execution_count": null,
   "metadata": {},
   "outputs": [],
   "source": []
  }
 ],
 "metadata": {
  "kernelspec": {
   "display_name": "Python 3",
   "language": "python",
   "name": "python3"
  },
  "language_info": {
   "codemirror_mode": {
    "name": "ipython",
    "version": 3
   },
   "file_extension": ".py",
   "mimetype": "text/x-python",
   "name": "python",
   "nbconvert_exporter": "python",
   "pygments_lexer": "ipython3",
   "version": "3.6.5"
  }
 },
 "nbformat": 4,
 "nbformat_minor": 2
}
