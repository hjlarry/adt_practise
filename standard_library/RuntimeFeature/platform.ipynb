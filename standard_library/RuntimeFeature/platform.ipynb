{
 "cells": [
  {
   "cell_type": "code",
   "execution_count": 1,
   "metadata": {},
   "outputs": [
    {
     "name": "stdout",
     "output_type": "stream",
     "text": [
      "3.6.6\n"
     ]
    }
   ],
   "source": [
    "import platform\n",
    "\n",
    "print(platform.python_version())"
   ]
  },
  {
   "cell_type": "code",
   "execution_count": 2,
   "metadata": {},
   "outputs": [
    {
     "name": "stdout",
     "output_type": "stream",
     "text": [
      "('3', '6', '6')\n",
      "GCC 8.0.1 20180414 (experimental) [trunk revision 259383\n",
      "('default', 'Sep 12 2018 18:26:19')\n"
     ]
    }
   ],
   "source": [
    "print(platform.python_version_tuple())\n",
    "print(platform.python_compiler())\n",
    "print(platform.python_build())"
   ]
  },
  {
   "cell_type": "code",
   "execution_count": 3,
   "metadata": {},
   "outputs": [
    {
     "name": "stdout",
     "output_type": "stream",
     "text": [
      "Linux-4.15.0-36-generic-x86_64-with-Ubuntu-18.04-bionic\n",
      "Linux-4.15.0-36-generic-x86_64-with-Ubuntu-18.04-bionic\n",
      "Linux-4.15.0-36-generic-x86_64-with-glibc2.9\n"
     ]
    }
   ],
   "source": [
    "print(platform.platform())\n",
    "print(platform.platform(aliased=True))\n",
    "print(platform.platform(terse=True))"
   ]
  },
  {
   "cell_type": "code",
   "execution_count": 4,
   "metadata": {},
   "outputs": [
    {
     "name": "stdout",
     "output_type": "stream",
     "text": [
      "uname_result(system='Linux', node='hejl-All-Series', release='4.15.0-36-generic', version='#39-Ubuntu SMP Mon Sep 24 16:19:09 UTC 2018', machine='x86_64', processor='x86_64')\n",
      "Linux\n",
      "hejl-All-Series\n",
      "4.15.0-36-generic\n",
      "#39-Ubuntu SMP Mon Sep 24 16:19:09 UTC 2018\n",
      "x86_64\n",
      "x86_64\n"
     ]
    }
   ],
   "source": [
    "print(platform.uname())\n",
    "print(platform.system())\n",
    "print(platform.node()) # 服务器主机名\n",
    "print(platform.release())  # 操作系统版本号\n",
    "print(platform.version())  # 更详细的系统版本\n",
    "print(platform.machine())  # 硬件类型标识符\n",
    "print(platform.processor())  # 处理器真实标识符"
   ]
  },
  {
   "cell_type": "code",
   "execution_count": 5,
   "metadata": {},
   "outputs": [
    {
     "name": "stdout",
     "output_type": "stream",
     "text": [
      "('64bit', 'ELF')\n",
      "('64bit', '')\n"
     ]
    }
   ],
   "source": [
    "print(platform.architecture())\n",
    "print(platform.architecture('/bin/ls'))"
   ]
  },
  {
   "cell_type": "code",
   "execution_count": null,
   "metadata": {},
   "outputs": [],
   "source": []
  }
 ],
 "metadata": {
  "kernelspec": {
   "display_name": "Python 3",
   "language": "python",
   "name": "python3"
  },
  "language_info": {
   "codemirror_mode": {
    "name": "ipython",
    "version": 3
   },
   "file_extension": ".py",
   "mimetype": "text/x-python",
   "name": "python",
   "nbconvert_exporter": "python",
   "pygments_lexer": "ipython3",
   "version": "3.6.6"
  }
 },
 "nbformat": 4,
 "nbformat_minor": 2
}
