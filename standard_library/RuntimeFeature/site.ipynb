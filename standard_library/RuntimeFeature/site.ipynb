{
 "cells": [
  {
   "cell_type": "code",
   "execution_count": 1,
   "metadata": {},
   "outputs": [
    {
     "name": "stdout",
     "output_type": "stream",
     "text": [
      "['/usr/local/Cellar/python3/3.6.4_1/Frameworks/Python.framework/Versions/3.6', '/usr/local/Cellar/python3/3.6.4_1/Frameworks/Python.framework/Versions/3.6']\n"
     ]
    }
   ],
   "source": [
    "import site\n",
    "import sys\n",
    "import os\n",
    "print(site.PREFIXES)"
   ]
  },
  {
   "cell_type": "code",
   "execution_count": 2,
   "metadata": {},
   "outputs": [
    {
     "name": "stdout",
     "output_type": "stream",
     "text": [
      "Path prefixes:\n",
      "   /usr/local/Cellar/python3/3.6.4_1/Frameworks/Python.framework/Versions/3.6\n",
      "   /usr/local/Cellar/python3/3.6.4_1/Frameworks/Python.framework/Versions/3.6\n",
      "\n",
      "/usr/local/Cellar/python3/3.6.4_1/Frameworks/Python.framework/Versions/3.6\n",
      "\n",
      "  lib/python3.6/site-packages\n",
      "   exists : True\n",
      "   in path: False\n",
      "\n",
      "  lib/site-python\n",
      "   exists : False\n",
      "   in path: False\n"
     ]
    }
   ],
   "source": [
    "if 'Windows' in sys.platform:\n",
    "    SUFFIXES = [\n",
    "        '',\n",
    "        'lib/site-packages',\n",
    "    ]\n",
    "else:\n",
    "    SUFFIXES = [\n",
    "        'lib/python{}/site-packages'.format(sys.version[:3]),\n",
    "        'lib/site-python',\n",
    "    ]\n",
    "\n",
    "print('Path prefixes:')\n",
    "for p in site.PREFIXES:\n",
    "    print('  ', p)\n",
    "\n",
    "for prefix in sorted(set(site.PREFIXES)):\n",
    "    print()\n",
    "    print(prefix)\n",
    "    for suffix in SUFFIXES:\n",
    "        print()\n",
    "        print(' ', suffix)\n",
    "        path = os.path.join(prefix, suffix).rstrip(os.sep)\n",
    "        print('   exists :', os.path.exists(path))\n",
    "        print('   in path:', path in sys.path)"
   ]
  },
  {
   "cell_type": "code",
   "execution_count": 3,
   "metadata": {},
   "outputs": [
    {
     "name": "stdout",
     "output_type": "stream",
     "text": [
      "['', '/usr/local/Cellar/python3/3.6.4_1/Frameworks/Python.framework/Versions/3.6/lib/python36.zip', '/usr/local/Cellar/python3/3.6.4_1/Frameworks/Python.framework/Versions/3.6/lib/python3.6', '/usr/local/Cellar/python3/3.6.4_1/Frameworks/Python.framework/Versions/3.6/lib/python3.6/lib-dynload', '/Users/hejl/Library/Python/3.6/lib/python/site-packages', '/usr/local/lib/python3.6/site-packages', '/usr/local/lib/python3.6/site-packages/Show_py_program_description-0.1.0-py3.6.egg', '/usr/local/lib/python3.6/site-packages/IPython/extensions', '/Users/hejl/.ipython']\n"
     ]
    }
   ],
   "source": [
    "print(sys.path)"
   ]
  },
  {
   "cell_type": "code",
   "execution_count": 4,
   "metadata": {},
   "outputs": [
    {
     "name": "stdout",
     "output_type": "stream",
     "text": [
      "Base: /Users/hejl/Library/Python/3.6\n",
      "Site: /Users/hejl/Library/Python/3.6/lib/python/site-packages\n"
     ]
    }
   ],
   "source": [
    "print('Base:', site.USER_BASE)\n",
    "print('Site:', site.USER_SITE)"
   ]
  },
  {
   "cell_type": "code",
   "execution_count": 5,
   "metadata": {},
   "outputs": [
    {
     "name": "stdout",
     "output_type": "stream",
     "text": [
      "Flag   : True\n"
     ]
    }
   ],
   "source": [
    "print('Flag   :', site.ENABLE_USER_SITE)"
   ]
  },
  {
   "cell_type": "code",
   "execution_count": null,
   "metadata": {},
   "outputs": [],
   "source": []
  }
 ],
 "metadata": {
  "kernelspec": {
   "display_name": "Python 3",
   "language": "python",
   "name": "python3"
  },
  "language_info": {
   "codemirror_mode": {
    "name": "ipython",
    "version": 3
   },
   "file_extension": ".py",
   "mimetype": "text/x-python",
   "name": "python",
   "nbconvert_exporter": "python",
   "pygments_lexer": "ipython3",
   "version": "3.6.4"
  }
 },
 "nbformat": 4,
 "nbformat_minor": 2
}
